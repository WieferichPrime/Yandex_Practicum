{
 "cells": [
  {
   "cell_type": "markdown",
   "metadata": {},
   "source": [
    "# Выбор локации для скважины"
   ]
  },
  {
   "cell_type": "markdown",
   "metadata": {},
   "source": [
    "Допустим, вы работаете в добывающей компании «ГлавРосГосНефть». Нужно решить, где бурить новую скважину.\n",
    "\n",
    "Вам предоставлены пробы нефти в трёх регионах: в каждом 10 000 месторождений, где измерили качество нефти и объём её запасов. Постройте модель машинного обучения, которая поможет определить регион, где добыча принесёт наибольшую прибыль. Проанализируйте возможную прибыль и риски техникой *Bootstrap.*\n",
    "\n",
    "Шаги для выбора локации:\n",
    "\n",
    "- В избранном регионе ищут месторождения, для каждого определяют значения признаков;\n",
    "- Строят модель и оценивают объём запасов;\n",
    "- Выбирают месторождения с самым высокими оценками значений. Количество месторождений зависит от бюджета компании и стоимости разработки одной скважины;\n",
    "- Прибыль равна суммарной прибыли отобранных месторождений."
   ]
  },
  {
   "cell_type": "markdown",
   "metadata": {},
   "source": [
    "## Зависимости"
   ]
  },
  {
   "cell_type": "code",
   "execution_count": 232,
   "metadata": {},
   "outputs": [],
   "source": [
    "import pandas as pd\n",
    "import numpy as np\n",
    "import scipy.stats as st\n",
    "from sklearn.linear_model import LinearRegression\n",
    "from sklearn.model_selection import train_test_split\n",
    "from sklearn.preprocessing import StandardScaler\n",
    "from sklearn.metrics import mean_squared_error\n",
    "import matplotlib.pyplot as plt"
   ]
  },
  {
   "cell_type": "markdown",
   "metadata": {},
   "source": [
    "## Функции и константы\n",
    "\n",
    "<a id='func_const'></a>"
   ]
  },
  {
   "cell_type": "code",
   "execution_count": 233,
   "metadata": {},
   "outputs": [],
   "source": [
    "STATE = np.random.RandomState(12345) # используется для генерации различных семплов\n",
    "BARREL_RUB = 450 \n",
    "NUM_OF_OBJECTS = 200 # итоговое количество исследуемых месторождений\n",
    "BUDGET = 1e10"
   ]
  },
  {
   "cell_type": "code",
   "execution_count": 234,
   "metadata": {},
   "outputs": [],
   "source": [
    "def read_data(url:str, info:bool=False):\n",
    "    \"\"\"\n",
    "    Чтение датасета и вывод иноформации о нём\n",
    "    \"\"\"\n",
    "    df = pd.read_csv(url)\n",
    "    if info:\n",
    "        df.info()\n",
    "        df['product'].hist()\n",
    "        plt.xlabel(\"Барели, тыс.\")\n",
    "        display('Корреляция')\n",
    "        display(df.corr())\n",
    "        display('Примеры')\n",
    "        display(df.head())\n",
    "    return df"
   ]
  },
  {
   "cell_type": "code",
   "execution_count": 235,
   "metadata": {},
   "outputs": [],
   "source": [
    "def normalize(df:pd.DataFrame):\n",
    "    scaler = StandardScaler()\n",
    "    scaler.fit(df)\n",
    "    return pd.DataFrame(scaler.transform(df), columns=df.columns)"
   ]
  },
  {
   "cell_type": "code",
   "execution_count": 236,
   "metadata": {},
   "outputs": [],
   "source": [
    "def split_ds(df:pd.DataFrame):\n",
    "    target = df['product']\n",
    "    features = df.drop(columns=['product', 'id'], axis=1)\n",
    "    return train_test_split(features, target, random_state=12345, test_size=0.25)"
   ]
  },
  {
   "cell_type": "code",
   "execution_count": 237,
   "metadata": {},
   "outputs": [],
   "source": [
    "def model_train_pred(features_train,features_valid,target_train,target_valid, print_res:bool = False):\n",
    "    model = LinearRegression()\n",
    "    model.fit(normalize(features_train),target_train)\n",
    "    preds = model.predict(normalize(features_valid))\n",
    "    mean_pred = pd.Series(preds).mean()\n",
    "    preds_target = pd.DataFrame(data={\"pred\": preds, 'target':target_valid})\n",
    "    if print_res:\n",
    "        display(f'Среднее от предсказаний: {mean_pred}')\n",
    "        display(f'RMSE: {mean_squared_error(target_valid, preds) ** 0.5}')\n",
    "    return preds_target, mean_pred"
   ]
  },
  {
   "cell_type": "code",
   "execution_count": 238,
   "metadata": {},
   "outputs": [],
   "source": [
    "def calc_income(amount=0):\n",
    "    try:\n",
    "        return int(sum(amount) * BARREL_RUB * 1e3)\n",
    "    except TypeError:\n",
    "        return int(amount * BARREL_RUB * 1e3)"
   ]
  },
  {
   "cell_type": "code",
   "execution_count": 239,
   "metadata": {},
   "outputs": [],
   "source": [
    "def calc_profit_risks(preds_target:pd.DataFrame, costs):\n",
    "    samples = []\n",
    "    for i in range(1000):\n",
    "        sample = preds_target.sample(n=500, replace=True, random_state=STATE)\n",
    "        sample = sample.sort_values('pred', ascending=False)[:NUM_OF_OBJECTS]\n",
    "        samples.append(calc_income((sample['target'] - costs).sum()))\n",
    "    samples = pd.Series(samples)\n",
    "    samples.hist()\n",
    "    plt.xlabel('Прибыль')\n",
    "    interval = samples.quantile(q=0.025), samples.quantile(q=0.975)\n",
    "    display(f\"Средняя прибыль: {int(sum(samples) / len(samples))} руб.\")\n",
    "    display(f\"Доверительный интервал в 95%: {int(interval[0])} руб., {int(interval[1])} руб.\")\n",
    "    display(f\"Доля отрицательной прибыли: {samples[samples < 0].count() / len(samples)}\")"
   ]
  },
  {
   "cell_type": "markdown",
   "metadata": {},
   "source": [
    "## Загрузка и подготовка данных\n",
    "\n",
    "[read_data](#func_const)\n",
    "\n",
    "[split_ds](#func_const)"
   ]
  },
  {
   "cell_type": "markdown",
   "metadata": {},
   "source": [
    "В фичи не следует включать признак **id**.\n",
    "\n",
    "Обучающая выборка относится к валидационной как 3:1. В валидационную выборку входит 25000 примеров.\n",
    "\n",
    "Целевой признак в первом регионе распределён нормально. Признак f2 коррелирует с целевым.\n",
    "\n",
    "Целевой признак во втором регионе распределён константно в диапазоне от 20 до 120 тыс.б., по краям выбросы. Признак f2 практически линейно зависим от целевого.\n",
    "\n",
    "Целевой признак в третьем регионе распределён нормально. Признак f2 коррелирует с целевым."
   ]
  },
  {
   "cell_type": "markdown",
   "metadata": {},
   "source": [
    "### Регион 1"
   ]
  },
  {
   "cell_type": "code",
   "execution_count": 240,
   "metadata": {
    "scrolled": true
   },
   "outputs": [
    {
     "name": "stdout",
     "output_type": "stream",
     "text": [
      "<class 'pandas.core.frame.DataFrame'>\n",
      "RangeIndex: 100000 entries, 0 to 99999\n",
      "Data columns (total 5 columns):\n",
      " #   Column   Non-Null Count   Dtype  \n",
      "---  ------   --------------   -----  \n",
      " 0   id       100000 non-null  object \n",
      " 1   f0       100000 non-null  float64\n",
      " 2   f1       100000 non-null  float64\n",
      " 3   f2       100000 non-null  float64\n",
      " 4   product  100000 non-null  float64\n",
      "dtypes: float64(4), object(1)\n",
      "memory usage: 3.8+ MB\n"
     ]
    },
    {
     "data": {
      "text/plain": [
       "'Корреляция'"
      ]
     },
     "metadata": {},
     "output_type": "display_data"
    },
    {
     "data": {
      "text/html": [
       "<div>\n",
       "<style scoped>\n",
       "    .dataframe tbody tr th:only-of-type {\n",
       "        vertical-align: middle;\n",
       "    }\n",
       "\n",
       "    .dataframe tbody tr th {\n",
       "        vertical-align: top;\n",
       "    }\n",
       "\n",
       "    .dataframe thead th {\n",
       "        text-align: right;\n",
       "    }\n",
       "</style>\n",
       "<table border=\"1\" class=\"dataframe\">\n",
       "  <thead>\n",
       "    <tr style=\"text-align: right;\">\n",
       "      <th></th>\n",
       "      <th>f0</th>\n",
       "      <th>f1</th>\n",
       "      <th>f2</th>\n",
       "      <th>product</th>\n",
       "    </tr>\n",
       "  </thead>\n",
       "  <tbody>\n",
       "    <tr>\n",
       "      <th>f0</th>\n",
       "      <td>1.000000</td>\n",
       "      <td>-0.440723</td>\n",
       "      <td>-0.003153</td>\n",
       "      <td>0.143536</td>\n",
       "    </tr>\n",
       "    <tr>\n",
       "      <th>f1</th>\n",
       "      <td>-0.440723</td>\n",
       "      <td>1.000000</td>\n",
       "      <td>0.001724</td>\n",
       "      <td>-0.192356</td>\n",
       "    </tr>\n",
       "    <tr>\n",
       "      <th>f2</th>\n",
       "      <td>-0.003153</td>\n",
       "      <td>0.001724</td>\n",
       "      <td>1.000000</td>\n",
       "      <td>0.483663</td>\n",
       "    </tr>\n",
       "    <tr>\n",
       "      <th>product</th>\n",
       "      <td>0.143536</td>\n",
       "      <td>-0.192356</td>\n",
       "      <td>0.483663</td>\n",
       "      <td>1.000000</td>\n",
       "    </tr>\n",
       "  </tbody>\n",
       "</table>\n",
       "</div>"
      ],
      "text/plain": [
       "               f0        f1        f2   product\n",
       "f0       1.000000 -0.440723 -0.003153  0.143536\n",
       "f1      -0.440723  1.000000  0.001724 -0.192356\n",
       "f2      -0.003153  0.001724  1.000000  0.483663\n",
       "product  0.143536 -0.192356  0.483663  1.000000"
      ]
     },
     "metadata": {},
     "output_type": "display_data"
    },
    {
     "data": {
      "text/plain": [
       "'Примеры'"
      ]
     },
     "metadata": {},
     "output_type": "display_data"
    },
    {
     "data": {
      "text/html": [
       "<div>\n",
       "<style scoped>\n",
       "    .dataframe tbody tr th:only-of-type {\n",
       "        vertical-align: middle;\n",
       "    }\n",
       "\n",
       "    .dataframe tbody tr th {\n",
       "        vertical-align: top;\n",
       "    }\n",
       "\n",
       "    .dataframe thead th {\n",
       "        text-align: right;\n",
       "    }\n",
       "</style>\n",
       "<table border=\"1\" class=\"dataframe\">\n",
       "  <thead>\n",
       "    <tr style=\"text-align: right;\">\n",
       "      <th></th>\n",
       "      <th>id</th>\n",
       "      <th>f0</th>\n",
       "      <th>f1</th>\n",
       "      <th>f2</th>\n",
       "      <th>product</th>\n",
       "    </tr>\n",
       "  </thead>\n",
       "  <tbody>\n",
       "    <tr>\n",
       "      <th>0</th>\n",
       "      <td>txEyH</td>\n",
       "      <td>0.705745</td>\n",
       "      <td>-0.497823</td>\n",
       "      <td>1.221170</td>\n",
       "      <td>105.280062</td>\n",
       "    </tr>\n",
       "    <tr>\n",
       "      <th>1</th>\n",
       "      <td>2acmU</td>\n",
       "      <td>1.334711</td>\n",
       "      <td>-0.340164</td>\n",
       "      <td>4.365080</td>\n",
       "      <td>73.037750</td>\n",
       "    </tr>\n",
       "    <tr>\n",
       "      <th>2</th>\n",
       "      <td>409Wp</td>\n",
       "      <td>1.022732</td>\n",
       "      <td>0.151990</td>\n",
       "      <td>1.419926</td>\n",
       "      <td>85.265647</td>\n",
       "    </tr>\n",
       "    <tr>\n",
       "      <th>3</th>\n",
       "      <td>iJLyR</td>\n",
       "      <td>-0.032172</td>\n",
       "      <td>0.139033</td>\n",
       "      <td>2.978566</td>\n",
       "      <td>168.620776</td>\n",
       "    </tr>\n",
       "    <tr>\n",
       "      <th>4</th>\n",
       "      <td>Xdl7t</td>\n",
       "      <td>1.988431</td>\n",
       "      <td>0.155413</td>\n",
       "      <td>4.751769</td>\n",
       "      <td>154.036647</td>\n",
       "    </tr>\n",
       "  </tbody>\n",
       "</table>\n",
       "</div>"
      ],
      "text/plain": [
       "      id        f0        f1        f2     product\n",
       "0  txEyH  0.705745 -0.497823  1.221170  105.280062\n",
       "1  2acmU  1.334711 -0.340164  4.365080   73.037750\n",
       "2  409Wp  1.022732  0.151990  1.419926   85.265647\n",
       "3  iJLyR -0.032172  0.139033  2.978566  168.620776\n",
       "4  Xdl7t  1.988431  0.155413  4.751769  154.036647"
      ]
     },
     "metadata": {},
     "output_type": "display_data"
    },
    {
     "data": {
      "image/png": "[encoded data removed]",
      "text/plain": [
       "<Figure size 432x288 with 1 Axes>"
      ]
     },
     "metadata": {
      "needs_background": "light"
     },
     "output_type": "display_data"
    }
   ],
   "source": [
    "region_0 = read_data('/datasets/geo_data_0.csv', info=True)"
   ]
  },
  {
   "cell_type": "code",
   "execution_count": 241,
   "metadata": {},
   "outputs": [
    {
     "data": {
      "text/plain": [
       "((75000, 3), (25000, 3))"
      ]
     },
     "execution_count": 241,
     "metadata": {},
     "output_type": "execute_result"
    }
   ],
   "source": [
    "features_train_0, features_valid_0, target_train_0, target_valid_0 = split_ds(region_0)\n",
    "features_train_0.shape, features_valid_0.shape"
   ]
  },
  {
   "cell_type": "markdown",
   "metadata": {},
   "source": [
    "### Регион 2"
   ]
  },
  {
   "cell_type": "code",
   "execution_count": 242,
   "metadata": {
    "scrolled": true
   },
   "outputs": [
    {
     "name": "stdout",
     "output_type": "stream",
     "text": [
      "<class 'pandas.core.frame.DataFrame'>\n",
      "RangeIndex: 100000 entries, 0 to 99999\n",
      "Data columns (total 5 columns):\n",
      " #   Column   Non-Null Count   Dtype  \n",
      "---  ------   --------------   -----  \n",
      " 0   id       100000 non-null  object \n",
      " 1   f0       100000 non-null  float64\n",
      " 2   f1       100000 non-null  float64\n",
      " 3   f2       100000 non-null  float64\n",
      " 4   product  100000 non-null  float64\n",
      "dtypes: float64(4), object(1)\n",
      "memory usage: 3.8+ MB\n"
     ]
    },
    {
     "data": {
      "text/plain": [
       "'Корреляция'"
      ]
     },
     "metadata": {},
     "output_type": "display_data"
    },
    {
     "data": {
      "text/html": [
       "<div>\n",
       "<style scoped>\n",
       "    .dataframe tbody tr th:only-of-type {\n",
       "        vertical-align: middle;\n",
       "    }\n",
       "\n",
       "    .dataframe tbody tr th {\n",
       "        vertical-align: top;\n",
       "    }\n",
       "\n",
       "    .dataframe thead th {\n",
       "        text-align: right;\n",
       "    }\n",
       "</style>\n",
       "<table border=\"1\" class=\"dataframe\">\n",
       "  <thead>\n",
       "    <tr style=\"text-align: right;\">\n",
       "      <th></th>\n",
       "      <th>f0</th>\n",
       "      <th>f1</th>\n",
       "      <th>f2</th>\n",
       "      <th>product</th>\n",
       "    </tr>\n",
       "  </thead>\n",
       "  <tbody>\n",
       "    <tr>\n",
       "      <th>f0</th>\n",
       "      <td>1.000000</td>\n",
       "      <td>0.182287</td>\n",
       "      <td>-0.001777</td>\n",
       "      <td>-0.030491</td>\n",
       "    </tr>\n",
       "    <tr>\n",
       "      <th>f1</th>\n",
       "      <td>0.182287</td>\n",
       "      <td>1.000000</td>\n",
       "      <td>-0.002595</td>\n",
       "      <td>-0.010155</td>\n",
       "    </tr>\n",
       "    <tr>\n",
       "      <th>f2</th>\n",
       "      <td>-0.001777</td>\n",
       "      <td>-0.002595</td>\n",
       "      <td>1.000000</td>\n",
       "      <td>0.999397</td>\n",
       "    </tr>\n",
       "    <tr>\n",
       "      <th>product</th>\n",
       "      <td>-0.030491</td>\n",
       "      <td>-0.010155</td>\n",
       "      <td>0.999397</td>\n",
       "      <td>1.000000</td>\n",
       "    </tr>\n",
       "  </tbody>\n",
       "</table>\n",
       "</div>"
      ],
      "text/plain": [
       "               f0        f1        f2   product\n",
       "f0       1.000000  0.182287 -0.001777 -0.030491\n",
       "f1       0.182287  1.000000 -0.002595 -0.010155\n",
       "f2      -0.001777 -0.002595  1.000000  0.999397\n",
       "product -0.030491 -0.010155  0.999397  1.000000"
      ]
     },
     "metadata": {},
     "output_type": "display_data"
    },
    {
     "data": {
      "text/plain": [
       "'Примеры'"
      ]
     },
     "metadata": {},
     "output_type": "display_data"
    },
    {
     "data": {
      "text/html": [
       "<div>\n",
       "<style scoped>\n",
       "    .dataframe tbody tr th:only-of-type {\n",
       "        vertical-align: middle;\n",
       "    }\n",
       "\n",
       "    .dataframe tbody tr th {\n",
       "        vertical-align: top;\n",
       "    }\n",
       "\n",
       "    .dataframe thead th {\n",
       "        text-align: right;\n",
       "    }\n",
       "</style>\n",
       "<table border=\"1\" class=\"dataframe\">\n",
       "  <thead>\n",
       "    <tr style=\"text-align: right;\">\n",
       "      <th></th>\n",
       "      <th>id</th>\n",
       "      <th>f0</th>\n",
       "      <th>f1</th>\n",
       "      <th>f2</th>\n",
       "      <th>product</th>\n",
       "    </tr>\n",
       "  </thead>\n",
       "  <tbody>\n",
       "    <tr>\n",
       "      <th>0</th>\n",
       "      <td>kBEdx</td>\n",
       "      <td>-15.001348</td>\n",
       "      <td>-8.276000</td>\n",
       "      <td>-0.005876</td>\n",
       "      <td>3.179103</td>\n",
       "    </tr>\n",
       "    <tr>\n",
       "      <th>1</th>\n",
       "      <td>62mP7</td>\n",
       "      <td>14.272088</td>\n",
       "      <td>-3.475083</td>\n",
       "      <td>0.999183</td>\n",
       "      <td>26.953261</td>\n",
       "    </tr>\n",
       "    <tr>\n",
       "      <th>2</th>\n",
       "      <td>vyE1P</td>\n",
       "      <td>6.263187</td>\n",
       "      <td>-5.948386</td>\n",
       "      <td>5.001160</td>\n",
       "      <td>134.766305</td>\n",
       "    </tr>\n",
       "    <tr>\n",
       "      <th>3</th>\n",
       "      <td>KcrkZ</td>\n",
       "      <td>-13.081196</td>\n",
       "      <td>-11.506057</td>\n",
       "      <td>4.999415</td>\n",
       "      <td>137.945408</td>\n",
       "    </tr>\n",
       "    <tr>\n",
       "      <th>4</th>\n",
       "      <td>AHL4O</td>\n",
       "      <td>12.702195</td>\n",
       "      <td>-8.147433</td>\n",
       "      <td>5.004363</td>\n",
       "      <td>134.766305</td>\n",
       "    </tr>\n",
       "  </tbody>\n",
       "</table>\n",
       "</div>"
      ],
      "text/plain": [
       "      id         f0         f1        f2     product\n",
       "0  kBEdx -15.001348  -8.276000 -0.005876    3.179103\n",
       "1  62mP7  14.272088  -3.475083  0.999183   26.953261\n",
       "2  vyE1P   6.263187  -5.948386  5.001160  134.766305\n",
       "3  KcrkZ -13.081196 -11.506057  4.999415  137.945408\n",
       "4  AHL4O  12.702195  -8.147433  5.004363  134.766305"
      ]
     },
     "metadata": {},
     "output_type": "display_data"
    },
    {
     "data": {
      "image/png": "[encoded data removed]",
      "text/plain": [
       "<Figure size 432x288 with 1 Axes>"
      ]
     },
     "metadata": {
      "needs_background": "light"
     },
     "output_type": "display_data"
    }
   ],
   "source": [
    "region_1 = read_data('/datasets/geo_data_1.csv', info=True)"
   ]
  },
  {
   "cell_type": "code",
   "execution_count": 243,
   "metadata": {},
   "outputs": [
    {
     "data": {
      "text/plain": [
       "((75000, 3), (25000, 3))"
      ]
     },
     "execution_count": 243,
     "metadata": {},
     "output_type": "execute_result"
    }
   ],
   "source": [
    "features_train_1, features_valid_1, target_train_1, target_valid_1 = split_ds(region_1)\n",
    "features_train_1.shape, features_valid_1.shape"
   ]
  },
  {
   "cell_type": "markdown",
   "metadata": {},
   "source": [
    "### Регион 3"
   ]
  },
  {
   "cell_type": "code",
   "execution_count": 244,
   "metadata": {
    "scrolled": true
   },
   "outputs": [
    {
     "name": "stdout",
     "output_type": "stream",
     "text": [
      "<class 'pandas.core.frame.DataFrame'>\n",
      "RangeIndex: 100000 entries, 0 to 99999\n",
      "Data columns (total 5 columns):\n",
      " #   Column   Non-Null Count   Dtype  \n",
      "---  ------   --------------   -----  \n",
      " 0   id       100000 non-null  object \n",
      " 1   f0       100000 non-null  float64\n",
      " 2   f1       100000 non-null  float64\n",
      " 3   f2       100000 non-null  float64\n",
      " 4   product  100000 non-null  float64\n",
      "dtypes: float64(4), object(1)\n",
      "memory usage: 3.8+ MB\n"
     ]
    },
    {
     "data": {
      "text/plain": [
       "'Корреляция'"
      ]
     },
     "metadata": {},
     "output_type": "display_data"
    },
    {
     "data": {
      "text/html": [
       "<div>\n",
       "<style scoped>\n",
       "    .dataframe tbody tr th:only-of-type {\n",
       "        vertical-align: middle;\n",
       "    }\n",
       "\n",
       "    .dataframe tbody tr th {\n",
       "        vertical-align: top;\n",
       "    }\n",
       "\n",
       "    .dataframe thead th {\n",
       "        text-align: right;\n",
       "    }\n",
       "</style>\n",
       "<table border=\"1\" class=\"dataframe\">\n",
       "  <thead>\n",
       "    <tr style=\"text-align: right;\">\n",
       "      <th></th>\n",
       "      <th>f0</th>\n",
       "      <th>f1</th>\n",
       "      <th>f2</th>\n",
       "      <th>product</th>\n",
       "    </tr>\n",
       "  </thead>\n",
       "  <tbody>\n",
       "    <tr>\n",
       "      <th>f0</th>\n",
       "      <td>1.000000</td>\n",
       "      <td>0.000528</td>\n",
       "      <td>-0.000448</td>\n",
       "      <td>-0.001987</td>\n",
       "    </tr>\n",
       "    <tr>\n",
       "      <th>f1</th>\n",
       "      <td>0.000528</td>\n",
       "      <td>1.000000</td>\n",
       "      <td>0.000779</td>\n",
       "      <td>-0.001012</td>\n",
       "    </tr>\n",
       "    <tr>\n",
       "      <th>f2</th>\n",
       "      <td>-0.000448</td>\n",
       "      <td>0.000779</td>\n",
       "      <td>1.000000</td>\n",
       "      <td>0.445871</td>\n",
       "    </tr>\n",
       "    <tr>\n",
       "      <th>product</th>\n",
       "      <td>-0.001987</td>\n",
       "      <td>-0.001012</td>\n",
       "      <td>0.445871</td>\n",
       "      <td>1.000000</td>\n",
       "    </tr>\n",
       "  </tbody>\n",
       "</table>\n",
       "</div>"
      ],
      "text/plain": [
       "               f0        f1        f2   product\n",
       "f0       1.000000  0.000528 -0.000448 -0.001987\n",
       "f1       0.000528  1.000000  0.000779 -0.001012\n",
       "f2      -0.000448  0.000779  1.000000  0.445871\n",
       "product -0.001987 -0.001012  0.445871  1.000000"
      ]
     },
     "metadata": {},
     "output_type": "display_data"
    },
    {
     "data": {
      "text/plain": [
       "'Примеры'"
      ]
     },
     "metadata": {},
     "output_type": "display_data"
    },
    {
     "data": {
      "text/html": [
       "<div>\n",
       "<style scoped>\n",
       "    .dataframe tbody tr th:only-of-type {\n",
       "        vertical-align: middle;\n",
       "    }\n",
       "\n",
       "    .dataframe tbody tr th {\n",
       "        vertical-align: top;\n",
       "    }\n",
       "\n",
       "    .dataframe thead th {\n",
       "        text-align: right;\n",
       "    }\n",
       "</style>\n",
       "<table border=\"1\" class=\"dataframe\">\n",
       "  <thead>\n",
       "    <tr style=\"text-align: right;\">\n",
       "      <th></th>\n",
       "      <th>id</th>\n",
       "      <th>f0</th>\n",
       "      <th>f1</th>\n",
       "      <th>f2</th>\n",
       "      <th>product</th>\n",
       "    </tr>\n",
       "  </thead>\n",
       "  <tbody>\n",
       "    <tr>\n",
       "      <th>0</th>\n",
       "      <td>fwXo0</td>\n",
       "      <td>-1.146987</td>\n",
       "      <td>0.963328</td>\n",
       "      <td>-0.828965</td>\n",
       "      <td>27.758673</td>\n",
       "    </tr>\n",
       "    <tr>\n",
       "      <th>1</th>\n",
       "      <td>WJtFt</td>\n",
       "      <td>0.262778</td>\n",
       "      <td>0.269839</td>\n",
       "      <td>-2.530187</td>\n",
       "      <td>56.069697</td>\n",
       "    </tr>\n",
       "    <tr>\n",
       "      <th>2</th>\n",
       "      <td>ovLUW</td>\n",
       "      <td>0.194587</td>\n",
       "      <td>0.289035</td>\n",
       "      <td>-5.586433</td>\n",
       "      <td>62.871910</td>\n",
       "    </tr>\n",
       "    <tr>\n",
       "      <th>3</th>\n",
       "      <td>q6cA6</td>\n",
       "      <td>2.236060</td>\n",
       "      <td>-0.553760</td>\n",
       "      <td>0.930038</td>\n",
       "      <td>114.572842</td>\n",
       "    </tr>\n",
       "    <tr>\n",
       "      <th>4</th>\n",
       "      <td>WPMUX</td>\n",
       "      <td>-0.515993</td>\n",
       "      <td>1.716266</td>\n",
       "      <td>5.899011</td>\n",
       "      <td>149.600746</td>\n",
       "    </tr>\n",
       "  </tbody>\n",
       "</table>\n",
       "</div>"
      ],
      "text/plain": [
       "      id        f0        f1        f2     product\n",
       "0  fwXo0 -1.146987  0.963328 -0.828965   27.758673\n",
       "1  WJtFt  0.262778  0.269839 -2.530187   56.069697\n",
       "2  ovLUW  0.194587  0.289035 -5.586433   62.871910\n",
       "3  q6cA6  2.236060 -0.553760  0.930038  114.572842\n",
       "4  WPMUX -0.515993  1.716266  5.899011  149.600746"
      ]
     },
     "metadata": {},
     "output_type": "display_data"
    },
    {
     "data": {
      "image/png": "[encoded data removed]",
      "text/plain": [
       "<Figure size 432x288 with 1 Axes>"
      ]
     },
     "metadata": {
      "needs_background": "light"
     },
     "output_type": "display_data"
    }
   ],
   "source": [
    "region_2 = read_data('/datasets/geo_data_2.csv', info=True)"
   ]
  },
  {
   "cell_type": "code",
   "execution_count": 245,
   "metadata": {},
   "outputs": [
    {
     "data": {
      "text/plain": [
       "((75000, 3), (25000, 3))"
      ]
     },
     "execution_count": 245,
     "metadata": {},
     "output_type": "execute_result"
    }
   ],
   "source": [
    "features_train_2, features_valid_2, target_train_2, target_valid_2 = split_ds(region_2)\n",
    "features_train_2.shape, features_valid_2.shape"
   ]
  },
  {
   "cell_type": "markdown",
   "metadata": {},
   "source": [
    "## Обучение и проверка модели\n",
    "\n",
    "[model_train_pred](#func_const)"
   ]
  },
  {
   "cell_type": "markdown",
   "metadata": {},
   "source": [
    "### Регион 1"
   ]
  },
  {
   "cell_type": "code",
   "execution_count": 246,
   "metadata": {},
   "outputs": [
    {
     "data": {
      "text/plain": [
       "'Среднее от предсказаний: 92.64046775305692'"
      ]
     },
     "metadata": {},
     "output_type": "display_data"
    },
    {
     "data": {
      "text/plain": [
       "'RMSE: 37.58010943632562'"
      ]
     },
     "metadata": {},
     "output_type": "display_data"
    }
   ],
   "source": [
    "preds_target_0, mean_barell_0 = model_train_pred(features_train_0, features_valid_0, target_train_0, target_valid_0, True)"
   ]
  },
  {
   "cell_type": "markdown",
   "metadata": {},
   "source": [
    "### Регион 2"
   ]
  },
  {
   "cell_type": "code",
   "execution_count": 247,
   "metadata": {},
   "outputs": [
    {
     "data": {
      "text/plain": [
       "'Среднее от предсказаний: 68.85895465854666'"
      ]
     },
     "metadata": {},
     "output_type": "display_data"
    },
    {
     "data": {
      "text/plain": [
       "'RMSE: 0.910164709305544'"
      ]
     },
     "metadata": {},
     "output_type": "display_data"
    }
   ],
   "source": [
    "preds_target_1, mean_barell_1 = model_train_pred(features_train_1, features_valid_1, target_train_1, target_valid_1, True)"
   ]
  },
  {
   "cell_type": "markdown",
   "metadata": {},
   "source": [
    "### Регион 3"
   ]
  },
  {
   "cell_type": "code",
   "execution_count": 248,
   "metadata": {},
   "outputs": [
    {
     "data": {
      "text/plain": [
       "'Среднее от предсказаний: 95.03858906371521'"
      ]
     },
     "metadata": {},
     "output_type": "display_data"
    },
    {
     "data": {
      "text/plain": [
       "'RMSE: 40.0303627970992'"
      ]
     },
     "metadata": {},
     "output_type": "display_data"
    }
   ],
   "source": [
    "preds_target_2, mean_barell_2 = model_train_pred(features_train_2, features_valid_2, target_train_2, target_valid_2, True)"
   ]
  },
  {
   "cell_type": "markdown",
   "metadata": {},
   "source": [
    "## Подготовка к расчёту прибыли"
   ]
  },
  {
   "cell_type": "code",
   "execution_count": 249,
   "metadata": {},
   "outputs": [
    {
     "data": {
      "text/plain": [
       "111.11111111111111"
      ]
     },
     "execution_count": 249,
     "metadata": {},
     "output_type": "execute_result"
    }
   ],
   "source": [
    "min_amount = BUDGET / (BARREL_RUB * 1e3 * NUM_OF_OBJECTS)\n",
    "min_amount"
   ]
  },
  {
   "cell_type": "markdown",
   "metadata": {},
   "source": [
    "Необходимый средний объём добычи для окупа - 111112 б."
   ]
  },
  {
   "cell_type": "markdown",
   "metadata": {},
   "source": [
    "### Регион 1"
   ]
  },
  {
   "cell_type": "code",
   "execution_count": 250,
   "metadata": {},
   "outputs": [
    {
     "data": {
      "text/plain": [
       "'Среднее предсказаний добычи составляет 83.4 % от минимального среднего объёма.'"
      ]
     },
     "execution_count": 250,
     "metadata": {},
     "output_type": "execute_result"
    }
   ],
   "source": [
    "f'Среднее предсказаний добычи составляет {round(mean_barell_0 / min_amount * 100, 1)} % от минимального среднего объёма.'"
   ]
  },
  {
   "cell_type": "markdown",
   "metadata": {},
   "source": [
    "### Регион 2"
   ]
  },
  {
   "cell_type": "code",
   "execution_count": 251,
   "metadata": {},
   "outputs": [
    {
     "data": {
      "text/plain": [
       "'Среднее предсказаний добычи составляет 62.0 % от минимального среднего объёма.'"
      ]
     },
     "execution_count": 251,
     "metadata": {},
     "output_type": "execute_result"
    }
   ],
   "source": [
    "f'Среднее предсказаний добычи составляет {round(mean_barell_1 / min_amount * 100,1) } % от минимального среднего объёма.'"
   ]
  },
  {
   "cell_type": "markdown",
   "metadata": {},
   "source": [
    "### Регион 3"
   ]
  },
  {
   "cell_type": "code",
   "execution_count": 252,
   "metadata": {},
   "outputs": [
    {
     "data": {
      "text/plain": [
       "'Среднее предсказаний добычи составляет 85.5 % от минимального среднего объёма.'"
      ]
     },
     "execution_count": 252,
     "metadata": {},
     "output_type": "execute_result"
    }
   ],
   "source": [
    "f'Среднее предсказаний добычи составляет {round(mean_barell_2 / min_amount * 100,1)} % от минимального среднего объёма.'"
   ]
  },
  {
   "cell_type": "markdown",
   "metadata": {},
   "source": [
    "### Промежуточные выводы\n",
    "\n",
    "Максимальное среднее предсказаний добычи в третьем и первом регионах. Более вероятно, что в этих регионах будет наблюдаться относительно высокая средняя прибыль."
   ]
  },
  {
   "cell_type": "markdown",
   "metadata": {},
   "source": [
    "## Расчёт прибыли и рисков \n",
    "\n",
    "\n",
    "[calc_income](#func_const)\n",
    "\n",
    "[calc_profit_risks](#func_const)"
   ]
  },
  {
   "cell_type": "markdown",
   "metadata": {},
   "source": [
    "### Регион 1"
   ]
  },
  {
   "cell_type": "code",
   "execution_count": 253,
   "metadata": {},
   "outputs": [
    {
     "data": {
      "text/plain": [
       "'Средняя прибыль: 395865511 руб.'"
      ]
     },
     "metadata": {},
     "output_type": "display_data"
    },
    {
     "data": {
      "text/plain": [
       "'Доверительный интервал в 95%: -108954224 руб., 909105814 руб.'"
      ]
     },
     "metadata": {},
     "output_type": "display_data"
    },
    {
     "data": {
      "text/plain": [
       "'Доля отрицательной прибыли: 0.07'"
      ]
     },
     "metadata": {},
     "output_type": "display_data"
    },
    {
     "data": {
      "image/png": "[encoded data removed]",
      "text/plain": [
       "<Figure size 432x288 with 1 Axes>"
      ]
     },
     "metadata": {
      "needs_background": "light"
     },
     "output_type": "display_data"
    }
   ],
   "source": [
    "calc_profit_risks(preds_target_0, min_amount)"
   ]
  },
  {
   "cell_type": "markdown",
   "metadata": {},
   "source": [
    "### Регион 2"
   ]
  },
  {
   "cell_type": "code",
   "execution_count": 254,
   "metadata": {},
   "outputs": [
    {
     "data": {
      "text/plain": [
       "'Средняя прибыль: 461157247 руб.'"
      ]
     },
     "metadata": {},
     "output_type": "display_data"
    },
    {
     "data": {
      "text/plain": [
       "'Доверительный интервал в 95%: 78050810 руб., 862952060 руб.'"
      ]
     },
     "metadata": {},
     "output_type": "display_data"
    },
    {
     "data": {
      "text/plain": [
       "'Доля отрицательной прибыли: 0.007'"
      ]
     },
     "metadata": {},
     "output_type": "display_data"
    },
    {
     "data": {
      "image/png": "[encoded data removed]",
      "text/plain": [
       "<Figure size 432x288 with 1 Axes>"
      ]
     },
     "metadata": {
      "needs_background": "light"
     },
     "output_type": "display_data"
    }
   ],
   "source": [
    "calc_profit_risks(preds_target_1, min_amount)"
   ]
  },
  {
   "cell_type": "markdown",
   "metadata": {},
   "source": [
    "### Регион 3"
   ]
  },
  {
   "cell_type": "code",
   "execution_count": 255,
   "metadata": {},
   "outputs": [
    {
     "data": {
      "text/plain": [
       "'Средняя прибыль: 392990469 руб.'"
      ]
     },
     "metadata": {},
     "output_type": "display_data"
    },
    {
     "data": {
      "text/plain": [
       "'Доверительный интервал в 95%: -112227624 руб., 934562913 руб.'"
      ]
     },
     "metadata": {},
     "output_type": "display_data"
    },
    {
     "data": {
      "text/plain": [
       "'Доля отрицательной прибыли: 0.065'"
      ]
     },
     "metadata": {},
     "output_type": "display_data"
    },
    {
     "data": {
      "image/png": "[encoded data removed]",
      "text/plain": [
       "<Figure size 432x288 with 1 Axes>"
      ]
     },
     "metadata": {
      "needs_background": "light"
     },
     "output_type": "display_data"
    }
   ],
   "source": [
    "calc_profit_risks(preds_target_2, min_amount)"
   ]
  },
  {
   "cell_type": "markdown",
   "metadata": {},
   "source": [
    "## Итоги\n",
    "\n",
    "Значение риска меньше 2.5% достигается только во втором регионе, также в нём максимальная средняя прибыль.\n",
    "\n",
    "Вывод - скважину нужно бурить во втором регионе."
   ]
  },
  {
   "cell_type": "code",
   "execution_count": null,
   "metadata": {},
   "outputs": [],
   "source": []
  }
 ],
 "metadata": {
  "ExecuteTimeLog": [
   {
    "duration": 402,
    "start_time": "2023-03-31T08:17:33.560Z"
   },
   {
    "duration": 584,
    "start_time": "2023-03-31T08:21:15.154Z"
   },
   {
    "duration": 738,
    "start_time": "2023-03-31T08:26:34.199Z"
   },
   {
    "duration": 8,
    "start_time": "2023-03-31T08:26:55.289Z"
   },
   {
    "duration": 42,
    "start_time": "2023-03-31T08:27:10.726Z"
   },
   {
    "duration": 5,
    "start_time": "2023-03-31T08:28:23.296Z"
   },
   {
    "duration": 3,
    "start_time": "2023-03-31T08:29:35.958Z"
   },
   {
    "duration": 31,
    "start_time": "2023-03-31T08:31:01.452Z"
   },
   {
    "duration": 3,
    "start_time": "2023-03-31T08:38:50.586Z"
   },
   {
    "duration": 12,
    "start_time": "2023-03-31T08:41:13.733Z"
   },
   {
    "duration": 7,
    "start_time": "2023-03-31T08:41:17.993Z"
   },
   {
    "duration": 9,
    "start_time": "2023-03-31T08:41:19.792Z"
   },
   {
    "duration": 169,
    "start_time": "2023-03-31T08:41:37.721Z"
   },
   {
    "duration": 30,
    "start_time": "2023-03-31T08:41:41.898Z"
   },
   {
    "duration": 33,
    "start_time": "2023-03-31T08:44:04.321Z"
   },
   {
    "duration": 924,
    "start_time": "2023-03-31T08:45:28.124Z"
   },
   {
    "duration": 150,
    "start_time": "2023-03-31T08:45:38.953Z"
   },
   {
    "duration": 159,
    "start_time": "2023-03-31T08:46:03.672Z"
   },
   {
    "duration": 164,
    "start_time": "2023-03-31T08:46:13.895Z"
   },
   {
    "duration": 30,
    "start_time": "2023-03-31T08:46:56.054Z"
   },
   {
    "duration": 6,
    "start_time": "2023-03-31T08:47:54.485Z"
   },
   {
    "duration": 35,
    "start_time": "2023-03-31T08:48:04.634Z"
   },
   {
    "duration": 9,
    "start_time": "2023-03-31T09:13:37.636Z"
   },
   {
    "duration": 11,
    "start_time": "2023-03-31T09:13:44.913Z"
   },
   {
    "duration": 15,
    "start_time": "2023-03-31T09:14:29.837Z"
   },
   {
    "duration": 190,
    "start_time": "2023-03-31T09:16:14.355Z"
   },
   {
    "duration": 114,
    "start_time": "2023-03-31T09:18:10.431Z"
   },
   {
    "duration": 10,
    "start_time": "2023-03-31T09:18:21.587Z"
   },
   {
    "duration": 3,
    "start_time": "2023-03-31T09:20:11.958Z"
   },
   {
    "duration": 79,
    "start_time": "2023-03-31T09:20:21.969Z"
   },
   {
    "duration": 14,
    "start_time": "2023-03-31T09:20:32.218Z"
   },
   {
    "duration": 33,
    "start_time": "2023-03-31T09:20:41.526Z"
   },
   {
    "duration": 18,
    "start_time": "2023-03-31T09:20:44.855Z"
   },
   {
    "duration": 187,
    "start_time": "2023-03-31T09:23:14.059Z"
   },
   {
    "duration": 9,
    "start_time": "2023-03-31T09:26:04.005Z"
   },
   {
    "duration": 15,
    "start_time": "2023-03-31T09:26:23.608Z"
   },
   {
    "duration": 15,
    "start_time": "2023-03-31T09:26:43.179Z"
   },
   {
    "duration": 2,
    "start_time": "2023-03-31T09:28:34.246Z"
   },
   {
    "duration": 10,
    "start_time": "2023-03-31T09:29:54.966Z"
   },
   {
    "duration": 26,
    "start_time": "2023-03-31T09:30:01.155Z"
   },
   {
    "duration": 22,
    "start_time": "2023-03-31T09:30:06.058Z"
   },
   {
    "duration": 87,
    "start_time": "2023-03-31T09:34:23.663Z"
   },
   {
    "duration": 23,
    "start_time": "2023-03-31T09:44:12.230Z"
   },
   {
    "duration": 135,
    "start_time": "2023-03-31T09:47:46.710Z"
   },
   {
    "duration": 52,
    "start_time": "2023-03-31T09:49:38.859Z"
   },
   {
    "duration": 54,
    "start_time": "2023-03-31T09:49:53.557Z"
   },
   {
    "duration": 105,
    "start_time": "2023-03-31T09:50:01.837Z"
   },
   {
    "duration": 49,
    "start_time": "2023-03-31T09:50:17.103Z"
   },
   {
    "duration": 14,
    "start_time": "2023-03-31T09:50:39.808Z"
   },
   {
    "duration": 16,
    "start_time": "2023-03-31T09:51:25.191Z"
   },
   {
    "duration": 24,
    "start_time": "2023-03-31T09:51:51.079Z"
   },
   {
    "duration": 59,
    "start_time": "2023-03-31T09:54:28.941Z"
   },
   {
    "duration": 28,
    "start_time": "2023-03-31T09:54:33.314Z"
   },
   {
    "duration": 17,
    "start_time": "2023-03-31T09:54:42.666Z"
   },
   {
    "duration": 3,
    "start_time": "2023-03-31T10:11:31.155Z"
   },
   {
    "duration": 6,
    "start_time": "2023-03-31T10:13:01.610Z"
   },
   {
    "duration": 104,
    "start_time": "2023-03-31T10:15:43.335Z"
   },
   {
    "duration": 8,
    "start_time": "2023-03-31T10:18:12.080Z"
   },
   {
    "duration": 17,
    "start_time": "2023-03-31T10:20:17.177Z"
   },
   {
    "duration": 4,
    "start_time": "2023-03-31T10:20:55.155Z"
   },
   {
    "duration": 3,
    "start_time": "2023-03-31T10:22:13.091Z"
   },
   {
    "duration": 28,
    "start_time": "2023-03-31T10:23:05.756Z"
   },
   {
    "duration": 101,
    "start_time": "2023-03-31T10:26:32.138Z"
   },
   {
    "duration": 3,
    "start_time": "2023-03-31T10:26:38.680Z"
   },
   {
    "duration": 4,
    "start_time": "2023-03-31T10:26:41.477Z"
   },
   {
    "duration": 8,
    "start_time": "2023-03-31T10:32:50.124Z"
   },
   {
    "duration": 115,
    "start_time": "2023-03-31T10:32:53.032Z"
   },
   {
    "duration": 6,
    "start_time": "2023-03-31T10:32:56.726Z"
   },
   {
    "duration": 4,
    "start_time": "2023-03-31T10:34:33.855Z"
   },
   {
    "duration": 4,
    "start_time": "2023-03-31T10:34:47.118Z"
   },
   {
    "duration": 6,
    "start_time": "2023-03-31T10:35:27.080Z"
   },
   {
    "duration": 4,
    "start_time": "2023-03-31T10:35:38.187Z"
   },
   {
    "duration": 17,
    "start_time": "2023-03-31T10:36:17.175Z"
   },
   {
    "duration": 37,
    "start_time": "2023-03-31T10:44:07.639Z"
   },
   {
    "duration": 16,
    "start_time": "2023-04-01T08:07:49.313Z"
   },
   {
    "duration": 42,
    "start_time": "2023-04-01T08:10:44.367Z"
   },
   {
    "duration": 1161,
    "start_time": "2023-04-01T08:10:49.695Z"
   },
   {
    "duration": 451,
    "start_time": "2023-04-01T08:10:50.858Z"
   },
   {
    "duration": 4,
    "start_time": "2023-04-01T08:10:51.310Z"
   },
   {
    "duration": 44,
    "start_time": "2023-04-01T08:10:51.315Z"
   },
   {
    "duration": 70,
    "start_time": "2023-04-01T08:10:51.360Z"
   },
   {
    "duration": 7,
    "start_time": "2023-04-01T08:10:51.433Z"
   },
   {
    "duration": 197,
    "start_time": "2023-04-01T08:10:51.442Z"
   },
   {
    "duration": 4,
    "start_time": "2023-04-01T08:47:45.345Z"
   },
   {
    "duration": 17,
    "start_time": "2023-04-01T08:54:53.135Z"
   },
   {
    "duration": 16,
    "start_time": "2023-04-01T08:55:17.062Z"
   },
   {
    "duration": 16,
    "start_time": "2023-04-01T08:55:41.006Z"
   },
   {
    "duration": 16,
    "start_time": "2023-04-01T08:57:01.637Z"
   },
   {
    "duration": 65,
    "start_time": "2023-04-01T08:57:33.394Z"
   },
   {
    "duration": 9,
    "start_time": "2023-04-01T08:57:41.389Z"
   },
   {
    "duration": 9,
    "start_time": "2023-04-01T09:03:52.700Z"
   },
   {
    "duration": 2,
    "start_time": "2023-04-01T09:03:56.323Z"
   },
   {
    "duration": 3,
    "start_time": "2023-04-01T09:04:25.370Z"
   },
   {
    "duration": 16,
    "start_time": "2023-04-01T09:04:56.784Z"
   },
   {
    "duration": 13,
    "start_time": "2023-04-01T09:05:07.345Z"
   },
   {
    "duration": 15,
    "start_time": "2023-04-01T09:05:23.389Z"
   },
   {
    "duration": 11,
    "start_time": "2023-04-01T09:05:30.374Z"
   },
   {
    "duration": 12,
    "start_time": "2023-04-01T09:11:02.499Z"
   },
   {
    "duration": 10,
    "start_time": "2023-04-01T09:14:37.415Z"
   },
   {
    "duration": 10,
    "start_time": "2023-04-01T09:14:51.748Z"
   },
   {
    "duration": 226,
    "start_time": "2023-04-01T09:15:07.513Z"
   },
   {
    "duration": 158,
    "start_time": "2023-04-01T09:15:29.659Z"
   },
   {
    "duration": 168,
    "start_time": "2023-04-01T09:19:56.094Z"
   },
   {
    "duration": 152,
    "start_time": "2023-04-01T09:21:15.365Z"
   },
   {
    "duration": 11,
    "start_time": "2023-04-01T09:21:33.526Z"
   },
   {
    "duration": 194,
    "start_time": "2023-04-01T09:21:41.564Z"
   },
   {
    "duration": 3,
    "start_time": "2023-04-01T09:22:41.155Z"
   },
   {
    "duration": 186,
    "start_time": "2023-04-01T09:22:41.162Z"
   },
   {
    "duration": 3,
    "start_time": "2023-04-01T09:22:41.350Z"
   },
   {
    "duration": 22,
    "start_time": "2023-04-01T09:22:41.355Z"
   },
   {
    "duration": 10,
    "start_time": "2023-04-01T09:22:41.379Z"
   },
   {
    "duration": 13,
    "start_time": "2023-04-01T09:22:41.390Z"
   },
   {
    "duration": 8,
    "start_time": "2023-04-01T09:22:41.418Z"
   },
   {
    "duration": 182,
    "start_time": "2023-04-01T09:22:41.428Z"
   },
   {
    "duration": 831,
    "start_time": "2023-04-01T09:26:38.729Z"
   },
   {
    "duration": 12,
    "start_time": "2023-04-01T09:28:13.026Z"
   },
   {
    "duration": 13,
    "start_time": "2023-04-01T09:28:55.538Z"
   },
   {
    "duration": 11,
    "start_time": "2023-04-01T09:29:17.760Z"
   },
   {
    "duration": 3,
    "start_time": "2023-04-01T09:35:41.642Z"
   },
   {
    "duration": 294,
    "start_time": "2023-04-01T09:38:50.770Z"
   },
   {
    "duration": 299,
    "start_time": "2023-04-01T09:39:16.762Z"
   },
   {
    "duration": 323,
    "start_time": "2023-04-01T09:39:24.607Z"
   },
   {
    "duration": 315,
    "start_time": "2023-04-01T09:39:31.417Z"
   },
   {
    "duration": 16,
    "start_time": "2023-04-01T09:53:08.678Z"
   },
   {
    "duration": 12,
    "start_time": "2023-04-01T09:53:17.584Z"
   },
   {
    "duration": 37,
    "start_time": "2023-04-01T09:59:48.289Z"
   },
   {
    "duration": 19,
    "start_time": "2023-04-01T10:00:18.216Z"
   },
   {
    "duration": 19,
    "start_time": "2023-04-01T10:00:48.097Z"
   },
   {
    "duration": 19,
    "start_time": "2023-04-01T10:01:57.790Z"
   },
   {
    "duration": 1304,
    "start_time": "2023-04-01T10:02:22.891Z"
   },
   {
    "duration": 100,
    "start_time": "2023-04-01T10:02:42.018Z"
   },
   {
    "duration": 1509,
    "start_time": "2023-04-01T10:03:07.382Z"
   },
   {
    "duration": 14,
    "start_time": "2023-04-01T10:03:26.980Z"
   },
   {
    "duration": 853,
    "start_time": "2023-04-01T10:03:38.246Z"
   },
   {
    "duration": 12,
    "start_time": "2023-04-01T10:03:48.800Z"
   },
   {
    "duration": 19,
    "start_time": "2023-04-01T10:03:57.454Z"
   },
   {
    "duration": 13,
    "start_time": "2023-04-01T10:04:03.283Z"
   },
   {
    "duration": 16,
    "start_time": "2023-04-01T10:04:17.773Z"
   },
   {
    "duration": 22,
    "start_time": "2023-04-01T10:04:41.218Z"
   },
   {
    "duration": 21,
    "start_time": "2023-04-01T10:05:43.249Z"
   },
   {
    "duration": 11,
    "start_time": "2023-04-01T10:07:15.699Z"
   },
   {
    "duration": 10,
    "start_time": "2023-04-01T10:07:20.221Z"
   },
   {
    "duration": 10,
    "start_time": "2023-04-01T10:07:47.922Z"
   },
   {
    "duration": 10,
    "start_time": "2023-04-01T10:08:07.838Z"
   },
   {
    "duration": 4,
    "start_time": "2023-04-01T10:09:02.540Z"
   },
   {
    "duration": 484,
    "start_time": "2023-04-01T10:10:10.587Z"
   },
   {
    "duration": 4,
    "start_time": "2023-04-01T10:15:20.205Z"
   },
   {
    "duration": 188,
    "start_time": "2023-04-01T11:13:40.262Z"
   },
   {
    "duration": 5,
    "start_time": "2023-04-01T11:14:09.003Z"
   },
   {
    "duration": 70,
    "start_time": "2023-04-01T11:20:23.704Z"
   },
   {
    "duration": 573,
    "start_time": "2023-04-01T11:20:42.400Z"
   },
   {
    "duration": 4,
    "start_time": "2023-04-01T11:24:50.866Z"
   },
   {
    "duration": 4,
    "start_time": "2023-04-01T11:25:38.790Z"
   },
   {
    "duration": 573,
    "start_time": "2023-04-01T11:28:28.689Z"
   },
   {
    "duration": 446,
    "start_time": "2023-04-01T11:28:53.224Z"
   },
   {
    "duration": 4,
    "start_time": "2023-04-01T11:31:36.672Z"
   },
   {
    "duration": 499,
    "start_time": "2023-04-01T11:34:43.875Z"
   },
   {
    "duration": 6,
    "start_time": "2023-04-01T11:38:30.894Z"
   },
   {
    "duration": 519,
    "start_time": "2023-04-01T11:38:35.590Z"
   },
   {
    "duration": 463,
    "start_time": "2023-04-01T11:38:53.829Z"
   },
   {
    "duration": 500,
    "start_time": "2023-04-01T11:40:50.866Z"
   },
   {
    "duration": 506,
    "start_time": "2023-04-01T11:41:35.662Z"
   },
   {
    "duration": 4,
    "start_time": "2023-04-01T11:43:28.284Z"
   },
   {
    "duration": 502,
    "start_time": "2023-04-01T11:43:41.789Z"
   },
   {
    "duration": 661,
    "start_time": "2023-04-01T11:44:59.632Z"
   },
   {
    "duration": 502,
    "start_time": "2023-04-01T11:45:20.194Z"
   },
   {
    "duration": 512,
    "start_time": "2023-04-01T11:47:05.617Z"
   },
   {
    "duration": 4,
    "start_time": "2023-04-01T11:48:17.468Z"
   },
   {
    "duration": 528,
    "start_time": "2023-04-01T11:48:36.945Z"
   },
   {
    "duration": 601,
    "start_time": "2023-04-01T11:57:33.296Z"
   },
   {
    "duration": 556,
    "start_time": "2023-04-01T11:57:52.443Z"
   },
   {
    "duration": 485,
    "start_time": "2023-04-01T11:58:43.716Z"
   },
   {
    "duration": 560,
    "start_time": "2023-04-01T11:58:51.717Z"
   },
   {
    "duration": 541,
    "start_time": "2023-04-01T11:58:56.821Z"
   },
   {
    "duration": 485,
    "start_time": "2023-04-01T11:59:04.542Z"
   },
   {
    "duration": 482,
    "start_time": "2023-04-01T11:59:15.954Z"
   },
   {
    "duration": 616,
    "start_time": "2023-04-01T11:59:24.034Z"
   },
   {
    "duration": 560,
    "start_time": "2023-04-01T12:00:11.667Z"
   },
   {
    "duration": 497,
    "start_time": "2023-04-01T12:01:49.813Z"
   },
   {
    "duration": 542,
    "start_time": "2023-04-01T12:04:46.013Z"
   },
   {
    "duration": 4,
    "start_time": "2023-04-01T12:09:19.321Z"
   },
   {
    "duration": 167,
    "start_time": "2023-04-01T12:10:23.402Z"
   },
   {
    "duration": 3,
    "start_time": "2023-04-01T12:11:09.989Z"
   },
   {
    "duration": 137,
    "start_time": "2023-04-01T12:11:12.805Z"
   },
   {
    "duration": 187,
    "start_time": "2023-04-01T12:11:24.509Z"
   },
   {
    "duration": 1316,
    "start_time": "2023-04-01T12:14:04.533Z"
   },
   {
    "duration": 180,
    "start_time": "2023-04-01T12:14:50.558Z"
   },
   {
    "duration": 6,
    "start_time": "2023-04-01T12:23:32.292Z"
   },
   {
    "duration": 17,
    "start_time": "2023-04-01T12:23:43.887Z"
   },
   {
    "duration": 7,
    "start_time": "2023-04-01T12:24:05.639Z"
   },
   {
    "duration": 13,
    "start_time": "2023-04-01T12:24:18.326Z"
   },
   {
    "duration": 7,
    "start_time": "2023-04-01T12:30:20.596Z"
   },
   {
    "duration": 9,
    "start_time": "2023-04-01T12:31:06.246Z"
   },
   {
    "duration": 7,
    "start_time": "2023-04-01T12:32:34.508Z"
   },
   {
    "duration": 10,
    "start_time": "2023-04-01T12:33:21.985Z"
   },
   {
    "duration": 14,
    "start_time": "2023-04-01T12:48:35.288Z"
   },
   {
    "duration": 11,
    "start_time": "2023-04-01T12:48:58.158Z"
   },
   {
    "duration": 5,
    "start_time": "2023-04-01T12:49:09.426Z"
   },
   {
    "duration": 4,
    "start_time": "2023-04-01T12:53:04.517Z"
   },
   {
    "duration": 4,
    "start_time": "2023-04-01T12:53:38.241Z"
   },
   {
    "duration": 10,
    "start_time": "2023-04-01T12:58:17.183Z"
   },
   {
    "duration": 5,
    "start_time": "2023-04-01T12:58:27.317Z"
   },
   {
    "duration": 4,
    "start_time": "2023-04-01T12:59:44.962Z"
   },
   {
    "duration": 5,
    "start_time": "2023-04-01T12:59:50.117Z"
   },
   {
    "duration": 11,
    "start_time": "2023-04-01T13:03:51.548Z"
   },
   {
    "duration": 620,
    "start_time": "2023-04-01T13:04:31.490Z"
   },
   {
    "duration": 503,
    "start_time": "2023-04-01T13:04:45.056Z"
   },
   {
    "duration": 10,
    "start_time": "2023-04-01T13:05:16.199Z"
   },
   {
    "duration": 524,
    "start_time": "2023-04-01T13:05:21.856Z"
   },
   {
    "duration": 480,
    "start_time": "2023-04-01T13:05:26.694Z"
   },
   {
    "duration": 512,
    "start_time": "2023-04-01T13:05:37.956Z"
   },
   {
    "duration": 535,
    "start_time": "2023-04-01T13:05:42.791Z"
   },
   {
    "duration": 539,
    "start_time": "2023-04-01T13:05:50.798Z"
   },
   {
    "duration": 582,
    "start_time": "2023-04-01T13:05:56.143Z"
   },
   {
    "duration": 481,
    "start_time": "2023-04-01T13:06:00.295Z"
   },
   {
    "duration": 473,
    "start_time": "2023-04-01T13:06:04.363Z"
   },
   {
    "duration": 497,
    "start_time": "2023-04-01T13:06:16.307Z"
   },
   {
    "duration": 10,
    "start_time": "2023-04-01T13:08:21.469Z"
   },
   {
    "duration": 170,
    "start_time": "2023-04-01T13:08:25.121Z"
   },
   {
    "duration": 11,
    "start_time": "2023-04-01T13:09:10.210Z"
   },
   {
    "duration": 166,
    "start_time": "2023-04-01T13:09:12.095Z"
   },
   {
    "duration": 160,
    "start_time": "2023-04-01T13:16:23.948Z"
   },
   {
    "duration": 13,
    "start_time": "2023-04-01T13:16:57.283Z"
   },
   {
    "duration": 195,
    "start_time": "2023-04-01T13:17:34.965Z"
   },
   {
    "duration": 14,
    "start_time": "2023-04-01T13:18:01.302Z"
   },
   {
    "duration": 68,
    "start_time": "2023-04-01T13:19:56.797Z"
   },
   {
    "duration": 10,
    "start_time": "2023-04-01T13:20:03.936Z"
   },
   {
    "duration": 4,
    "start_time": "2023-04-01T13:20:13.560Z"
   },
   {
    "duration": 11,
    "start_time": "2023-04-01T13:20:34.287Z"
   },
   {
    "duration": 4,
    "start_time": "2023-04-01T13:21:03.545Z"
   },
   {
    "duration": 10,
    "start_time": "2023-04-01T13:22:33.822Z"
   },
   {
    "duration": 5,
    "start_time": "2023-04-01T13:22:41.174Z"
   },
   {
    "duration": 4,
    "start_time": "2023-04-01T13:50:09.992Z"
   },
   {
    "duration": 4,
    "start_time": "2023-04-01T13:50:32.420Z"
   },
   {
    "duration": 5,
    "start_time": "2023-04-01T13:52:02.115Z"
   },
   {
    "duration": 510,
    "start_time": "2023-04-01T13:52:14.894Z"
   },
   {
    "duration": 4,
    "start_time": "2023-04-01T13:52:41.759Z"
   },
   {
    "duration": 527,
    "start_time": "2023-04-01T13:52:49.059Z"
   },
   {
    "duration": 4,
    "start_time": "2023-04-01T13:55:50.532Z"
   },
   {
    "duration": 4,
    "start_time": "2023-04-01T13:56:00.427Z"
   },
   {
    "duration": 636,
    "start_time": "2023-04-01T13:56:10.941Z"
   },
   {
    "duration": 3,
    "start_time": "2023-04-01T13:56:28.712Z"
   },
   {
    "duration": 4,
    "start_time": "2023-04-01T13:56:32.610Z"
   },
   {
    "duration": 12,
    "start_time": "2023-04-01T13:56:32.636Z"
   },
   {
    "duration": 207,
    "start_time": "2023-04-01T13:56:32.650Z"
   },
   {
    "duration": 12,
    "start_time": "2023-04-01T13:56:32.859Z"
   },
   {
    "duration": 161,
    "start_time": "2023-04-01T13:56:32.873Z"
   },
   {
    "duration": 11,
    "start_time": "2023-04-01T13:56:33.035Z"
   },
   {
    "duration": 149,
    "start_time": "2023-04-01T13:56:33.048Z"
   },
   {
    "duration": 25,
    "start_time": "2023-04-01T13:56:33.199Z"
   },
   {
    "duration": 9,
    "start_time": "2023-04-01T13:56:33.225Z"
   },
   {
    "duration": 24,
    "start_time": "2023-04-01T13:56:33.235Z"
   },
   {
    "duration": 15,
    "start_time": "2023-04-01T13:56:33.261Z"
   },
   {
    "duration": 7,
    "start_time": "2023-04-01T13:56:33.277Z"
   },
   {
    "duration": 11,
    "start_time": "2023-04-01T13:56:33.286Z"
   },
   {
    "duration": 4,
    "start_time": "2023-04-01T13:56:33.299Z"
   },
   {
    "duration": 10,
    "start_time": "2023-04-01T13:56:33.304Z"
   },
   {
    "duration": 6,
    "start_time": "2023-04-01T13:56:33.317Z"
   },
   {
    "duration": 16,
    "start_time": "2023-04-01T13:56:33.324Z"
   },
   {
    "duration": 13,
    "start_time": "2023-04-01T13:56:33.341Z"
   },
   {
    "duration": 7,
    "start_time": "2023-04-01T13:56:33.355Z"
   },
   {
    "duration": 437,
    "start_time": "2023-04-01T13:56:33.363Z"
   },
   {
    "duration": 4,
    "start_time": "2023-04-01T13:56:33.802Z"
   },
   {
    "duration": 450,
    "start_time": "2023-04-01T13:56:33.818Z"
   },
   {
    "duration": 5,
    "start_time": "2023-04-01T13:56:34.269Z"
   },
   {
    "duration": 485,
    "start_time": "2023-04-01T13:56:34.275Z"
   },
   {
    "duration": 9,
    "start_time": "2023-04-01T14:03:21.614Z"
   },
   {
    "duration": 11,
    "start_time": "2023-04-01T14:10:38.483Z"
   },
   {
    "duration": 3,
    "start_time": "2023-04-01T14:15:55.066Z"
   },
   {
    "duration": 14,
    "start_time": "2023-04-01T14:15:55.102Z"
   },
   {
    "duration": 179,
    "start_time": "2023-04-01T14:15:55.119Z"
   },
   {
    "duration": 19,
    "start_time": "2023-04-01T14:15:55.300Z"
   },
   {
    "duration": 158,
    "start_time": "2023-04-01T14:15:55.321Z"
   },
   {
    "duration": 12,
    "start_time": "2023-04-01T14:15:55.482Z"
   },
   {
    "duration": 167,
    "start_time": "2023-04-01T14:15:55.496Z"
   },
   {
    "duration": 12,
    "start_time": "2023-04-01T14:15:55.665Z"
   },
   {
    "duration": 12,
    "start_time": "2023-04-01T14:15:55.679Z"
   },
   {
    "duration": 4,
    "start_time": "2023-04-01T14:15:55.717Z"
   },
   {
    "duration": 14,
    "start_time": "2023-04-01T14:15:55.723Z"
   },
   {
    "duration": 4,
    "start_time": "2023-04-01T14:15:55.739Z"
   },
   {
    "duration": 20,
    "start_time": "2023-04-01T14:15:55.744Z"
   },
   {
    "duration": 15,
    "start_time": "2023-04-01T14:15:55.765Z"
   },
   {
    "duration": 8,
    "start_time": "2023-04-01T14:15:55.783Z"
   },
   {
    "duration": 6,
    "start_time": "2023-04-01T14:15:55.793Z"
   },
   {
    "duration": 19,
    "start_time": "2023-04-01T14:15:55.800Z"
   },
   {
    "duration": 12,
    "start_time": "2023-04-01T14:15:55.820Z"
   },
   {
    "duration": 13,
    "start_time": "2023-04-01T14:15:55.833Z"
   },
   {
    "duration": 474,
    "start_time": "2023-04-01T14:15:55.848Z"
   },
   {
    "duration": 5,
    "start_time": "2023-04-01T14:15:56.323Z"
   },
   {
    "duration": 596,
    "start_time": "2023-04-01T14:15:56.329Z"
   },
   {
    "duration": 4,
    "start_time": "2023-04-01T14:15:56.927Z"
   },
   {
    "duration": 499,
    "start_time": "2023-04-01T14:15:56.933Z"
   },
   {
    "duration": 9,
    "start_time": "2023-04-01T14:15:57.434Z"
   },
   {
    "duration": 11,
    "start_time": "2023-04-01T14:28:20.418Z"
   },
   {
    "duration": 379,
    "start_time": "2023-04-01T14:28:26.732Z"
   },
   {
    "duration": 353,
    "start_time": "2023-04-01T14:28:59.328Z"
   },
   {
    "duration": 351,
    "start_time": "2023-04-01T14:29:18.906Z"
   },
   {
    "duration": 4,
    "start_time": "2023-04-01T14:35:36.922Z"
   },
   {
    "duration": 21,
    "start_time": "2023-04-01T14:35:36.949Z"
   },
   {
    "duration": 360,
    "start_time": "2023-04-01T14:35:36.973Z"
   },
   {
    "duration": 13,
    "start_time": "2023-04-01T14:35:37.334Z"
   },
   {
    "duration": 320,
    "start_time": "2023-04-01T14:35:37.349Z"
   },
   {
    "duration": 14,
    "start_time": "2023-04-01T14:35:37.670Z"
   },
   {
    "duration": 326,
    "start_time": "2023-04-01T14:35:37.686Z"
   },
   {
    "duration": 15,
    "start_time": "2023-04-01T14:35:38.017Z"
   },
   {
    "duration": 15,
    "start_time": "2023-04-01T14:35:38.034Z"
   },
   {
    "duration": 6,
    "start_time": "2023-04-01T14:35:38.050Z"
   },
   {
    "duration": 16,
    "start_time": "2023-04-01T14:35:38.058Z"
   },
   {
    "duration": 3,
    "start_time": "2023-04-01T14:35:38.076Z"
   },
   {
    "duration": 21,
    "start_time": "2023-04-01T14:35:38.081Z"
   },
   {
    "duration": 18,
    "start_time": "2023-04-01T14:35:38.118Z"
   },
   {
    "duration": 20,
    "start_time": "2023-04-01T14:35:38.137Z"
   },
   {
    "duration": 9,
    "start_time": "2023-04-01T14:35:38.159Z"
   },
   {
    "duration": 8,
    "start_time": "2023-04-01T14:35:38.169Z"
   },
   {
    "duration": 7,
    "start_time": "2023-04-01T14:35:38.179Z"
   },
   {
    "duration": 6,
    "start_time": "2023-04-01T14:35:38.187Z"
   },
   {
    "duration": 472,
    "start_time": "2023-04-01T14:35:38.194Z"
   },
   {
    "duration": 4,
    "start_time": "2023-04-01T14:35:38.667Z"
   },
   {
    "duration": 509,
    "start_time": "2023-04-01T14:35:38.673Z"
   },
   {
    "duration": 5,
    "start_time": "2023-04-01T14:35:39.183Z"
   },
   {
    "duration": 496,
    "start_time": "2023-04-01T14:35:39.189Z"
   },
   {
    "duration": 9,
    "start_time": "2023-04-01T14:35:39.686Z"
   },
   {
    "duration": 58,
    "start_time": "2023-04-01T17:33:41.722Z"
   },
   {
    "duration": 7326,
    "start_time": "2023-04-01T17:33:44.937Z"
   },
   {
    "duration": 12,
    "start_time": "2023-04-01T17:33:52.265Z"
   },
   {
    "duration": 356,
    "start_time": "2023-04-01T17:33:52.278Z"
   },
   {
    "duration": 15,
    "start_time": "2023-04-01T17:33:52.635Z"
   },
   {
    "duration": 313,
    "start_time": "2023-04-01T17:33:52.652Z"
   },
   {
    "duration": 13,
    "start_time": "2023-04-01T17:33:52.967Z"
   },
   {
    "duration": 315,
    "start_time": "2023-04-01T17:33:52.981Z"
   },
   {
    "duration": 15,
    "start_time": "2023-04-01T17:33:53.297Z"
   },
   {
    "duration": 10,
    "start_time": "2023-04-01T17:33:53.314Z"
   },
   {
    "duration": 11,
    "start_time": "2023-04-01T17:33:53.325Z"
   },
   {
    "duration": 28,
    "start_time": "2023-04-01T17:33:53.337Z"
   },
   {
    "duration": 7,
    "start_time": "2023-04-01T17:33:53.367Z"
   },
   {
    "duration": 17,
    "start_time": "2023-04-01T17:33:53.376Z"
   },
   {
    "duration": 4,
    "start_time": "2023-04-01T17:33:53.404Z"
   },
   {
    "duration": 16,
    "start_time": "2023-04-01T17:33:53.409Z"
   },
   {
    "duration": 11,
    "start_time": "2023-04-01T17:33:53.426Z"
   },
   {
    "duration": 9,
    "start_time": "2023-04-01T17:33:53.438Z"
   },
   {
    "duration": 12,
    "start_time": "2023-04-01T17:33:53.448Z"
   },
   {
    "duration": 5,
    "start_time": "2023-04-01T17:33:53.462Z"
   },
   {
    "duration": 505,
    "start_time": "2023-04-01T17:33:53.469Z"
   },
   {
    "duration": 5,
    "start_time": "2023-04-01T17:33:53.976Z"
   },
   {
    "duration": 497,
    "start_time": "2023-04-01T17:33:53.982Z"
   },
   {
    "duration": 4,
    "start_time": "2023-04-01T17:33:54.481Z"
   },
   {
    "duration": 488,
    "start_time": "2023-04-01T17:33:54.486Z"
   },
   {
    "duration": 10,
    "start_time": "2023-04-01T17:33:54.975Z"
   },
   {
    "duration": 13,
    "start_time": "2023-04-01T17:34:14.059Z"
   },
   {
    "duration": 9,
    "start_time": "2023-04-01T17:34:47.427Z"
   },
   {
    "duration": 78,
    "start_time": "2023-04-01T18:35:39.778Z"
   },
   {
    "duration": 2102,
    "start_time": "2023-04-01T18:40:02.757Z"
   },
   {
    "duration": 3,
    "start_time": "2023-04-01T18:40:04.861Z"
   },
   {
    "duration": 11,
    "start_time": "2023-04-01T18:40:04.866Z"
   },
   {
    "duration": 18,
    "start_time": "2023-04-01T18:40:04.880Z"
   },
   {
    "duration": 18,
    "start_time": "2023-04-01T18:40:04.899Z"
   },
   {
    "duration": 5,
    "start_time": "2023-04-01T18:40:04.919Z"
   },
   {
    "duration": 6,
    "start_time": "2023-04-01T18:40:04.926Z"
   },
   {
    "duration": 5,
    "start_time": "2023-04-01T18:40:04.934Z"
   },
   {
    "duration": 887,
    "start_time": "2023-04-01T18:40:04.941Z"
   },
   {
    "duration": 30,
    "start_time": "2023-04-01T18:40:05.831Z"
   },
   {
    "duration": 420,
    "start_time": "2023-04-01T18:40:05.863Z"
   },
   {
    "duration": 13,
    "start_time": "2023-04-01T18:40:06.285Z"
   },
   {
    "duration": 430,
    "start_time": "2023-04-01T18:40:06.299Z"
   },
   {
    "duration": 23,
    "start_time": "2023-04-01T18:40:06.731Z"
   },
   {
    "duration": 103,
    "start_time": "2023-04-01T18:40:06.762Z"
   },
   {
    "duration": 6,
    "start_time": "2023-04-01T18:40:06.946Z"
   },
   {
    "duration": 182,
    "start_time": "2023-04-01T18:40:06.961Z"
   },
   {
    "duration": 10,
    "start_time": "2023-04-01T18:40:07.148Z"
   },
   {
    "duration": 127,
    "start_time": "2023-04-01T18:40:07.161Z"
   },
   {
    "duration": 4,
    "start_time": "2023-04-01T18:40:07.343Z"
   },
   {
    "duration": 106,
    "start_time": "2023-04-01T18:40:07.349Z"
   },
   {
    "duration": 17,
    "start_time": "2023-04-01T18:40:07.457Z"
   },
   {
    "duration": 28,
    "start_time": "2023-04-01T18:40:07.476Z"
   },
   {
    "duration": 17,
    "start_time": "2023-04-01T18:40:07.506Z"
   },
   {
    "duration": 20,
    "start_time": "2023-04-01T18:40:07.525Z"
   },
   {
    "duration": 124,
    "start_time": "2023-04-01T18:40:07.547Z"
   },
   {
    "duration": 0,
    "start_time": "2023-04-01T18:40:07.673Z"
   },
   {
    "duration": 0,
    "start_time": "2023-04-01T18:40:07.675Z"
   },
   {
    "duration": 0,
    "start_time": "2023-04-01T18:40:07.676Z"
   },
   {
    "duration": 0,
    "start_time": "2023-04-01T18:40:07.678Z"
   },
   {
    "duration": 0,
    "start_time": "2023-04-01T18:40:07.680Z"
   },
   {
    "duration": 3,
    "start_time": "2023-04-01T18:41:19.613Z"
   },
   {
    "duration": 10,
    "start_time": "2023-04-01T18:41:19.618Z"
   },
   {
    "duration": 10,
    "start_time": "2023-04-01T18:41:19.629Z"
   },
   {
    "duration": 38,
    "start_time": "2023-04-01T18:41:19.641Z"
   },
   {
    "duration": 16,
    "start_time": "2023-04-01T18:41:19.681Z"
   },
   {
    "duration": 8,
    "start_time": "2023-04-01T18:41:19.699Z"
   },
   {
    "duration": 6,
    "start_time": "2023-04-01T18:41:19.709Z"
   },
   {
    "duration": 6,
    "start_time": "2023-04-01T18:41:19.717Z"
   },
   {
    "duration": 354,
    "start_time": "2023-04-01T18:41:19.724Z"
   },
   {
    "duration": 13,
    "start_time": "2023-04-01T18:41:20.079Z"
   },
   {
    "duration": 336,
    "start_time": "2023-04-01T18:41:20.094Z"
   },
   {
    "duration": 27,
    "start_time": "2023-04-01T18:41:20.432Z"
   },
   {
    "duration": 407,
    "start_time": "2023-04-01T18:41:20.460Z"
   },
   {
    "duration": 13,
    "start_time": "2023-04-01T18:41:20.869Z"
   },
   {
    "duration": 79,
    "start_time": "2023-04-01T18:41:20.884Z"
   },
   {
    "duration": 80,
    "start_time": "2023-04-01T18:41:20.964Z"
   },
   {
    "duration": 94,
    "start_time": "2023-04-01T18:41:21.046Z"
   },
   {
    "duration": 3,
    "start_time": "2023-04-01T18:41:21.142Z"
   },
   {
    "duration": 130,
    "start_time": "2023-04-01T18:41:21.147Z"
   },
   {
    "duration": 2,
    "start_time": "2023-04-01T18:41:21.279Z"
   },
   {
    "duration": 13,
    "start_time": "2023-04-01T18:41:21.345Z"
   },
   {
    "duration": 82,
    "start_time": "2023-04-01T18:41:21.360Z"
   },
   {
    "duration": 6,
    "start_time": "2023-04-01T18:41:21.444Z"
   },
   {
    "duration": 4,
    "start_time": "2023-04-01T18:41:21.452Z"
   },
   {
    "duration": 10,
    "start_time": "2023-04-01T18:41:21.458Z"
   },
   {
    "duration": 970,
    "start_time": "2023-04-01T18:41:21.471Z"
   },
   {
    "duration": 4,
    "start_time": "2023-04-01T18:41:22.443Z"
   },
   {
    "duration": 881,
    "start_time": "2023-04-01T18:41:22.449Z"
   },
   {
    "duration": 2,
    "start_time": "2023-04-01T18:41:23.333Z"
   },
   {
    "duration": 860,
    "start_time": "2023-04-01T18:41:23.341Z"
   },
   {
    "duration": 13,
    "start_time": "2023-04-01T18:41:24.204Z"
   },
   {
    "duration": 4,
    "start_time": "2023-04-01T18:43:22.225Z"
   },
   {
    "duration": 7,
    "start_time": "2023-04-01T18:43:22.232Z"
   },
   {
    "duration": 8,
    "start_time": "2023-04-01T18:43:22.241Z"
   },
   {
    "duration": 3,
    "start_time": "2023-04-01T18:43:22.258Z"
   },
   {
    "duration": 13,
    "start_time": "2023-04-01T18:43:22.263Z"
   },
   {
    "duration": 11,
    "start_time": "2023-04-01T18:43:22.278Z"
   },
   {
    "duration": 23,
    "start_time": "2023-04-01T18:43:22.290Z"
   },
   {
    "duration": 5,
    "start_time": "2023-04-01T18:43:22.316Z"
   },
   {
    "duration": 362,
    "start_time": "2023-04-01T18:43:22.323Z"
   },
   {
    "duration": 13,
    "start_time": "2023-04-01T18:43:22.686Z"
   },
   {
    "duration": 334,
    "start_time": "2023-04-01T18:43:22.700Z"
   },
   {
    "duration": 19,
    "start_time": "2023-04-01T18:43:23.036Z"
   },
   {
    "duration": 352,
    "start_time": "2023-04-01T18:43:23.059Z"
   },
   {
    "duration": 15,
    "start_time": "2023-04-01T18:43:23.414Z"
   },
   {
    "duration": 100,
    "start_time": "2023-04-01T18:43:23.442Z"
   },
   {
    "duration": 19,
    "start_time": "2023-04-01T18:43:23.546Z"
   },
   {
    "duration": 114,
    "start_time": "2023-04-01T18:43:23.567Z"
   },
   {
    "duration": 58,
    "start_time": "2023-04-01T18:43:23.683Z"
   },
   {
    "duration": 127,
    "start_time": "2023-04-01T18:43:23.744Z"
   },
   {
    "duration": 70,
    "start_time": "2023-04-01T18:43:23.872Z"
   },
   {
    "duration": 5,
    "start_time": "2023-04-01T18:43:23.945Z"
   },
   {
    "duration": 91,
    "start_time": "2023-04-01T18:43:23.951Z"
   },
   {
    "duration": 5,
    "start_time": "2023-04-01T18:43:24.044Z"
   },
   {
    "duration": 13,
    "start_time": "2023-04-01T18:43:24.051Z"
   },
   {
    "duration": 4,
    "start_time": "2023-04-01T18:43:24.066Z"
   },
   {
    "duration": 841,
    "start_time": "2023-04-01T18:43:24.071Z"
   },
   {
    "duration": 3,
    "start_time": "2023-04-01T18:43:24.913Z"
   },
   {
    "duration": 853,
    "start_time": "2023-04-01T18:43:24.917Z"
   },
   {
    "duration": 3,
    "start_time": "2023-04-01T18:43:25.771Z"
   },
   {
    "duration": 858,
    "start_time": "2023-04-01T18:43:25.775Z"
   },
   {
    "duration": 18,
    "start_time": "2023-04-01T18:43:26.635Z"
   },
   {
    "duration": 5,
    "start_time": "2023-04-01T19:01:25.195Z"
   },
   {
    "duration": 12,
    "start_time": "2023-04-01T19:01:25.202Z"
   },
   {
    "duration": 4,
    "start_time": "2023-04-01T19:01:25.217Z"
   },
   {
    "duration": 3,
    "start_time": "2023-04-01T19:01:25.224Z"
   },
   {
    "duration": 6,
    "start_time": "2023-04-01T19:01:25.229Z"
   },
   {
    "duration": 7,
    "start_time": "2023-04-01T19:01:25.237Z"
   },
   {
    "duration": 5,
    "start_time": "2023-04-01T19:01:25.246Z"
   },
   {
    "duration": 6,
    "start_time": "2023-04-01T19:01:25.254Z"
   },
   {
    "duration": 363,
    "start_time": "2023-04-01T19:01:25.262Z"
   },
   {
    "duration": 24,
    "start_time": "2023-04-01T19:01:25.628Z"
   },
   {
    "duration": 429,
    "start_time": "2023-04-01T19:01:25.654Z"
   },
   {
    "duration": 21,
    "start_time": "2023-04-01T19:01:26.085Z"
   },
   {
    "duration": 351,
    "start_time": "2023-04-01T19:01:26.109Z"
   },
   {
    "duration": 15,
    "start_time": "2023-04-01T19:01:26.462Z"
   },
   {
    "duration": 80,
    "start_time": "2023-04-01T19:01:26.479Z"
   },
   {
    "duration": 4,
    "start_time": "2023-04-01T19:01:26.642Z"
   },
   {
    "duration": 192,
    "start_time": "2023-04-01T19:01:26.649Z"
   },
   {
    "duration": 3,
    "start_time": "2023-04-01T19:01:26.843Z"
   },
   {
    "duration": 124,
    "start_time": "2023-04-01T19:01:26.848Z"
   },
   {
    "duration": 68,
    "start_time": "2023-04-01T19:01:26.974Z"
   },
   {
    "duration": 13,
    "start_time": "2023-04-01T19:01:27.044Z"
   },
   {
    "duration": 87,
    "start_time": "2023-04-01T19:01:27.059Z"
   },
   {
    "duration": 5,
    "start_time": "2023-04-01T19:01:27.149Z"
   },
   {
    "duration": 6,
    "start_time": "2023-04-01T19:01:27.155Z"
   },
   {
    "duration": 6,
    "start_time": "2023-04-01T19:01:27.163Z"
   },
   {
    "duration": 931,
    "start_time": "2023-04-01T19:01:27.171Z"
   },
   {
    "duration": 3,
    "start_time": "2023-04-01T19:01:28.106Z"
   },
   {
    "duration": 979,
    "start_time": "2023-04-01T19:01:28.111Z"
   },
   {
    "duration": 8,
    "start_time": "2023-04-01T19:01:29.093Z"
   },
   {
    "duration": 991,
    "start_time": "2023-04-01T19:01:29.103Z"
   },
   {
    "duration": 27,
    "start_time": "2023-04-01T19:01:30.097Z"
   },
   {
    "duration": 6,
    "start_time": "2023-04-01T19:08:16.807Z"
   },
   {
    "duration": 830,
    "start_time": "2023-04-01T19:08:25.522Z"
   },
   {
    "duration": 861,
    "start_time": "2023-04-01T19:08:47.807Z"
   },
   {
    "duration": 6,
    "start_time": "2023-04-01T19:14:51.155Z"
   },
   {
    "duration": 4,
    "start_time": "2023-04-01T19:15:04.395Z"
   },
   {
    "duration": 3,
    "start_time": "2023-04-01T19:15:04.407Z"
   },
   {
    "duration": 14,
    "start_time": "2023-04-01T19:15:04.412Z"
   },
   {
    "duration": 4,
    "start_time": "2023-04-01T19:15:04.428Z"
   },
   {
    "duration": 3,
    "start_time": "2023-04-01T19:15:04.504Z"
   },
   {
    "duration": 24,
    "start_time": "2023-04-01T19:15:04.509Z"
   },
   {
    "duration": 10,
    "start_time": "2023-04-01T19:15:04.534Z"
   },
   {
    "duration": 11,
    "start_time": "2023-04-01T19:15:04.547Z"
   },
   {
    "duration": 340,
    "start_time": "2023-04-01T19:15:04.560Z"
   },
   {
    "duration": 14,
    "start_time": "2023-04-01T19:15:04.901Z"
   },
   {
    "duration": 354,
    "start_time": "2023-04-01T19:15:04.916Z"
   },
   {
    "duration": 16,
    "start_time": "2023-04-01T19:15:05.272Z"
   },
   {
    "duration": 333,
    "start_time": "2023-04-01T19:15:05.290Z"
   },
   {
    "duration": 23,
    "start_time": "2023-04-01T19:15:05.625Z"
   },
   {
    "duration": 94,
    "start_time": "2023-04-01T19:15:05.651Z"
   },
   {
    "duration": 3,
    "start_time": "2023-04-01T19:15:05.747Z"
   },
   {
    "duration": 114,
    "start_time": "2023-04-01T19:15:05.752Z"
   },
   {
    "duration": 73,
    "start_time": "2023-04-01T19:15:05.868Z"
   },
   {
    "duration": 121,
    "start_time": "2023-04-01T19:15:05.944Z"
   },
   {
    "duration": 4,
    "start_time": "2023-04-01T19:15:06.068Z"
   },
   {
    "duration": 9,
    "start_time": "2023-04-01T19:15:06.143Z"
   },
   {
    "duration": 88,
    "start_time": "2023-04-01T19:15:06.156Z"
   },
   {
    "duration": 7,
    "start_time": "2023-04-01T19:15:06.246Z"
   },
   {
    "duration": 5,
    "start_time": "2023-04-01T19:15:06.254Z"
   },
   {
    "duration": 9,
    "start_time": "2023-04-01T19:15:06.261Z"
   },
   {
    "duration": 859,
    "start_time": "2023-04-01T19:15:06.271Z"
   },
   {
    "duration": 2,
    "start_time": "2023-04-01T19:15:07.141Z"
   },
   {
    "duration": 951,
    "start_time": "2023-04-01T19:15:07.145Z"
   },
   {
    "duration": 3,
    "start_time": "2023-04-01T19:15:08.098Z"
   },
   {
    "duration": 952,
    "start_time": "2023-04-01T19:15:08.106Z"
   },
   {
    "duration": 17,
    "start_time": "2023-04-01T19:15:09.060Z"
   },
   {
    "duration": 6,
    "start_time": "2023-04-01T19:15:45.107Z"
   },
   {
    "duration": 4,
    "start_time": "2023-04-01T19:15:54.187Z"
   },
   {
    "duration": 5,
    "start_time": "2023-04-01T19:15:54.194Z"
   },
   {
    "duration": 9,
    "start_time": "2023-04-01T19:15:54.201Z"
   },
   {
    "duration": 5,
    "start_time": "2023-04-01T19:15:54.214Z"
   },
   {
    "duration": 5,
    "start_time": "2023-04-01T19:15:54.221Z"
   },
   {
    "duration": 9,
    "start_time": "2023-04-01T19:15:54.229Z"
   },
   {
    "duration": 7,
    "start_time": "2023-04-01T19:15:54.240Z"
   },
   {
    "duration": 7,
    "start_time": "2023-04-01T19:15:54.249Z"
   },
   {
    "duration": 387,
    "start_time": "2023-04-01T19:15:54.258Z"
   },
   {
    "duration": 17,
    "start_time": "2023-04-01T19:15:54.648Z"
   },
   {
    "duration": 394,
    "start_time": "2023-04-01T19:15:54.667Z"
   },
   {
    "duration": 14,
    "start_time": "2023-04-01T19:15:55.063Z"
   },
   {
    "duration": 388,
    "start_time": "2023-04-01T19:15:55.079Z"
   },
   {
    "duration": 14,
    "start_time": "2023-04-01T19:15:55.469Z"
   },
   {
    "duration": 155,
    "start_time": "2023-04-01T19:15:55.487Z"
   },
   {
    "duration": 2,
    "start_time": "2023-04-01T19:15:55.645Z"
   },
   {
    "duration": 96,
    "start_time": "2023-04-01T19:15:55.649Z"
   },
   {
    "duration": 3,
    "start_time": "2023-04-01T19:15:55.747Z"
   },
   {
    "duration": 117,
    "start_time": "2023-04-01T19:15:55.752Z"
   },
   {
    "duration": 3,
    "start_time": "2023-04-01T19:15:55.872Z"
   },
   {
    "duration": 66,
    "start_time": "2023-04-01T19:15:55.877Z"
   },
   {
    "duration": 9,
    "start_time": "2023-04-01T19:15:55.945Z"
   },
   {
    "duration": 85,
    "start_time": "2023-04-01T19:15:55.956Z"
   },
   {
    "duration": 5,
    "start_time": "2023-04-01T19:15:56.043Z"
   },
   {
    "duration": 12,
    "start_time": "2023-04-01T19:15:56.049Z"
   },
   {
    "duration": 906,
    "start_time": "2023-04-01T19:15:56.064Z"
   },
   {
    "duration": 3,
    "start_time": "2023-04-01T19:15:56.972Z"
   },
   {
    "duration": 896,
    "start_time": "2023-04-01T19:15:56.977Z"
   },
   {
    "duration": 3,
    "start_time": "2023-04-01T19:15:57.875Z"
   },
   {
    "duration": 1082,
    "start_time": "2023-04-01T19:15:57.880Z"
   },
   {
    "duration": 18,
    "start_time": "2023-04-01T19:15:58.965Z"
   },
   {
    "duration": 65,
    "start_time": "2023-04-01T19:26:19.484Z"
   },
   {
    "duration": 56,
    "start_time": "2023-04-01T19:26:35.609Z"
   },
   {
    "duration": 5,
    "start_time": "2023-04-01T19:27:04.787Z"
   },
   {
    "duration": 4,
    "start_time": "2023-04-01T19:27:26.701Z"
   },
   {
    "duration": 5,
    "start_time": "2023-04-01T19:27:26.707Z"
   },
   {
    "duration": 7,
    "start_time": "2023-04-01T19:27:26.714Z"
   },
   {
    "duration": 4,
    "start_time": "2023-04-01T19:27:26.723Z"
   },
   {
    "duration": 4,
    "start_time": "2023-04-01T19:27:26.729Z"
   },
   {
    "duration": 9,
    "start_time": "2023-04-01T19:27:26.735Z"
   },
   {
    "duration": 4,
    "start_time": "2023-04-01T19:27:26.746Z"
   },
   {
    "duration": 5,
    "start_time": "2023-04-01T19:27:26.786Z"
   },
   {
    "duration": 335,
    "start_time": "2023-04-01T19:27:26.797Z"
   },
   {
    "duration": 19,
    "start_time": "2023-04-01T19:27:27.134Z"
   },
   {
    "duration": 347,
    "start_time": "2023-04-01T19:27:27.155Z"
   },
   {
    "duration": 12,
    "start_time": "2023-04-01T19:27:27.505Z"
   },
   {
    "duration": 330,
    "start_time": "2023-04-01T19:27:27.519Z"
   },
   {
    "duration": 15,
    "start_time": "2023-04-01T19:27:27.851Z"
   },
   {
    "duration": 78,
    "start_time": "2023-04-01T19:27:27.867Z"
   },
   {
    "duration": 4,
    "start_time": "2023-04-01T19:27:27.947Z"
   },
   {
    "duration": 101,
    "start_time": "2023-04-01T19:27:28.042Z"
   },
   {
    "duration": 91,
    "start_time": "2023-04-01T19:27:28.150Z"
   },
   {
    "duration": 29,
    "start_time": "2023-04-01T19:27:28.243Z"
   },
   {
    "duration": 4,
    "start_time": "2023-04-01T19:27:28.341Z"
   },
   {
    "duration": 95,
    "start_time": "2023-04-01T19:27:28.347Z"
   },
   {
    "duration": 5,
    "start_time": "2023-04-01T19:27:28.444Z"
   },
   {
    "duration": 4,
    "start_time": "2023-04-01T19:27:28.452Z"
   },
   {
    "duration": 4,
    "start_time": "2023-04-01T19:27:28.458Z"
   },
   {
    "duration": 3,
    "start_time": "2023-04-01T19:27:28.464Z"
   },
   {
    "duration": 1345,
    "start_time": "2023-04-01T19:27:28.469Z"
   },
   {
    "duration": 3,
    "start_time": "2023-04-01T19:27:29.816Z"
   },
   {
    "duration": 1093,
    "start_time": "2023-04-01T19:27:29.821Z"
   },
   {
    "duration": 3,
    "start_time": "2023-04-01T19:27:30.915Z"
   },
   {
    "duration": 1835,
    "start_time": "2023-04-01T19:27:30.919Z"
   },
   {
    "duration": 5,
    "start_time": "2023-04-01T19:35:11.602Z"
   },
   {
    "duration": 4,
    "start_time": "2023-04-01T19:35:19.578Z"
   },
   {
    "duration": 7,
    "start_time": "2023-04-01T19:35:32.617Z"
   },
   {
    "duration": 4,
    "start_time": "2023-04-01T19:35:35.794Z"
   },
   {
    "duration": 4,
    "start_time": "2023-04-01T19:36:15.986Z"
   },
   {
    "duration": 4,
    "start_time": "2023-04-01T19:36:31.087Z"
   },
   {
    "duration": 4,
    "start_time": "2023-04-01T19:37:07.682Z"
   },
   {
    "duration": 5,
    "start_time": "2023-04-01T19:37:11.910Z"
   },
   {
    "duration": 5,
    "start_time": "2023-04-01T19:37:23.490Z"
   },
   {
    "duration": 5,
    "start_time": "2023-04-01T19:37:25.486Z"
   },
   {
    "duration": 5,
    "start_time": "2023-04-01T19:37:27.686Z"
   },
   {
    "duration": 4,
    "start_time": "2023-04-01T20:24:52.512Z"
   },
   {
    "duration": 8,
    "start_time": "2023-04-01T20:24:52.518Z"
   },
   {
    "duration": 5,
    "start_time": "2023-04-01T20:24:52.542Z"
   },
   {
    "duration": 20,
    "start_time": "2023-04-01T20:24:52.550Z"
   },
   {
    "duration": 5,
    "start_time": "2023-04-01T20:24:52.572Z"
   },
   {
    "duration": 9,
    "start_time": "2023-04-01T20:24:52.579Z"
   },
   {
    "duration": 13,
    "start_time": "2023-04-01T20:24:52.590Z"
   },
   {
    "duration": 8,
    "start_time": "2023-04-01T20:24:52.605Z"
   },
   {
    "duration": 329,
    "start_time": "2023-04-01T20:24:52.615Z"
   },
   {
    "duration": 14,
    "start_time": "2023-04-01T20:24:52.946Z"
   },
   {
    "duration": 337,
    "start_time": "2023-04-01T20:24:52.962Z"
   },
   {
    "duration": 15,
    "start_time": "2023-04-01T20:24:53.301Z"
   },
   {
    "duration": 344,
    "start_time": "2023-04-01T20:24:53.318Z"
   },
   {
    "duration": 18,
    "start_time": "2023-04-01T20:24:53.664Z"
   },
   {
    "duration": 61,
    "start_time": "2023-04-01T20:24:53.684Z"
   },
   {
    "duration": 120,
    "start_time": "2023-04-01T20:24:53.749Z"
   },
   {
    "duration": 198,
    "start_time": "2023-04-01T20:24:53.872Z"
   },
   {
    "duration": 70,
    "start_time": "2023-04-01T20:24:54.073Z"
   },
   {
    "duration": 10,
    "start_time": "2023-04-01T20:24:54.148Z"
   },
   {
    "duration": 95,
    "start_time": "2023-04-01T20:24:54.160Z"
   },
   {
    "duration": 5,
    "start_time": "2023-04-01T20:24:54.258Z"
   },
   {
    "duration": 1100,
    "start_time": "2023-04-01T20:24:54.265Z"
   },
   {
    "duration": 1091,
    "start_time": "2023-04-01T20:24:55.367Z"
   },
   {
    "duration": 1089,
    "start_time": "2023-04-01T20:24:56.460Z"
   }
  ],
  "kernelspec": {
   "display_name": "Python 3 (ipykernel)",
   "language": "python",
   "name": "python3"
  },
  "language_info": {
   "codemirror_mode": {
    "name": "ipython",
    "version": 3
   },
   "file_extension": ".py",
   "mimetype": "text/x-python",
   "name": "python",
   "nbconvert_exporter": "python",
   "pygments_lexer": "ipython3",
   "version": "3.10.9"
  },
  "toc": {
   "base_numbering": 1,
   "nav_menu": {},
   "number_sections": true,
   "sideBar": true,
   "skip_h1_title": true,
   "title_cell": "Table of Contents",
   "title_sidebar": "Contents",
   "toc_cell": false,
   "toc_position": {
    "height": "calc(100% - 180px)",
    "left": "10px",
    "top": "150px",
    "width": "279.837px"
   },
   "toc_section_display": true,
   "toc_window_display": true
  }
 },
 "nbformat": 4,
 "nbformat_minor": 4
}
