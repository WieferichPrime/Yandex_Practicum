{
 "cells": [
  {
   "cell_type": "markdown",
   "metadata": {
    "toc": true
   },
   "source": [
    "<h1>Содержание<span class=\"tocSkip\"></span></h1>\n",
    "<div class=\"toc\"><ul class=\"toc-item\"><li><span><a href=\"#Подготовка-данных\" data-toc-modified-id=\"Подготовка-данных-1\"><span class=\"toc-item-num\">1&nbsp;&nbsp;</span>Подготовка данных</a></span></li><li><span><a href=\"#Исследование-задачи\" data-toc-modified-id=\"Исследование-задачи-2\"><span class=\"toc-item-num\">2&nbsp;&nbsp;</span>Исследование задачи</a></span><ul class=\"toc-item\"><li><span><a href=\"#Подбор-гиперпараметров--и-метрики-F1-без-учёта-несбалансированности\" data-toc-modified-id=\"Подбор-гиперпараметров--и-метрики-F1-без-учёта-несбалансированности-2.1\"><span class=\"toc-item-num\">2.1&nbsp;&nbsp;</span>Подбор гиперпараметров  и метрики F1 без учёта несбалансированности</a></span><ul class=\"toc-item\"><li><span><a href=\"#Случайный-лес\" data-toc-modified-id=\"Случайный-лес-2.1.1\"><span class=\"toc-item-num\">2.1.1&nbsp;&nbsp;</span>Случайный лес</a></span></li><li><span><a href=\"#Решающее-дерево\" data-toc-modified-id=\"Решающее-дерево-2.1.2\"><span class=\"toc-item-num\">2.1.2&nbsp;&nbsp;</span>Решающее дерево</a></span></li><li><span><a href=\"#Логистическая-регрессия\" data-toc-modified-id=\"Логистическая-регрессия-2.1.3\"><span class=\"toc-item-num\">2.1.3&nbsp;&nbsp;</span>Логистическая регрессия</a></span></li><li><span><a href=\"#Наивная-модель\" data-toc-modified-id=\"Наивная-модель-2.1.4\"><span class=\"toc-item-num\">2.1.4&nbsp;&nbsp;</span>Наивная модель</a></span></li></ul></li><li><span><a href=\"#Промежуточные-выводы\" data-toc-modified-id=\"Промежуточные-выводы-2.2\"><span class=\"toc-item-num\">2.2&nbsp;&nbsp;</span>Промежуточные выводы</a></span></li></ul></li><li><span><a href=\"#Борьба-с-дисбалансом\" data-toc-modified-id=\"Борьба-с-дисбалансом-3\"><span class=\"toc-item-num\">3&nbsp;&nbsp;</span>Борьба с дисбалансом</a></span><ul class=\"toc-item\"><li><span><a href=\"#Oversampling\" data-toc-modified-id=\"Oversampling-3.1\"><span class=\"toc-item-num\">3.1&nbsp;&nbsp;</span>Oversampling</a></span><ul class=\"toc-item\"><li><span><a href=\"#Случайный-лес\" data-toc-modified-id=\"Случайный-лес-3.1.1\"><span class=\"toc-item-num\">3.1.1&nbsp;&nbsp;</span>Случайный лес</a></span></li><li><span><a href=\"#Решающее-дерево\" data-toc-modified-id=\"Решающее-дерево-3.1.2\"><span class=\"toc-item-num\">3.1.2&nbsp;&nbsp;</span>Решающее дерево</a></span></li><li><span><a href=\"#Логистическая-регрессия\" data-toc-modified-id=\"Логистическая-регрессия-3.1.3\"><span class=\"toc-item-num\">3.1.3&nbsp;&nbsp;</span>Логистическая регрессия</a></span></li><li><span><a href=\"#Наивная-модель\" data-toc-modified-id=\"Наивная-модель-3.1.4\"><span class=\"toc-item-num\">3.1.4&nbsp;&nbsp;</span>Наивная модель</a></span></li></ul></li><li><span><a href=\"#Взвешивание-классов\" data-toc-modified-id=\"Взвешивание-классов-3.2\"><span class=\"toc-item-num\">3.2&nbsp;&nbsp;</span>Взвешивание классов</a></span><ul class=\"toc-item\"><li><span><a href=\"#Случайный-лес\" data-toc-modified-id=\"Случайный-лес-3.2.1\"><span class=\"toc-item-num\">3.2.1&nbsp;&nbsp;</span>Случайный лес</a></span></li><li><span><a href=\"#Решающее-дерево\" data-toc-modified-id=\"Решающее-дерево-3.2.2\"><span class=\"toc-item-num\">3.2.2&nbsp;&nbsp;</span>Решающее дерево</a></span></li><li><span><a href=\"#Логистическая-регрессия\" data-toc-modified-id=\"Логистическая-регрессия-3.2.3\"><span class=\"toc-item-num\">3.2.3&nbsp;&nbsp;</span>Логистическая регрессия</a></span></li><li><span><a href=\"#Наивная-модель\" data-toc-modified-id=\"Наивная-модель-3.2.4\"><span class=\"toc-item-num\">3.2.4&nbsp;&nbsp;</span>Наивная модель</a></span></li></ul></li></ul></li><li><span><a href=\"#Тестирование-модели\" data-toc-modified-id=\"Тестирование-модели-4\"><span class=\"toc-item-num\">4&nbsp;&nbsp;</span>Тестирование модели</a></span><ul class=\"toc-item\"><li><span><a href=\"#Промежуточные-выводы\" data-toc-modified-id=\"Промежуточные-выводы-4.1\"><span class=\"toc-item-num\">4.1&nbsp;&nbsp;</span>Промежуточные выводы</a></span></li></ul></li><li><span><a href=\"#Итоги-и-рекомендации\" data-toc-modified-id=\"Итоги-и-рекомендации-5\"><span class=\"toc-item-num\">5&nbsp;&nbsp;</span>Итоги и рекомендации</a></span></li><li><span><a href=\"#Чек-лист-готовности-проекта\" data-toc-modified-id=\"Чек-лист-готовности-проекта-6\"><span class=\"toc-item-num\">6&nbsp;&nbsp;</span>Чек-лист готовности проекта</a></span></li></ul></div>"
   ]
  },
  {
   "cell_type": "markdown",
   "metadata": {},
   "source": [
    "# Отток клиентов"
   ]
  },
  {
   "cell_type": "markdown",
   "metadata": {},
   "source": [
    "Из «Бета-Банка» стали уходить клиенты. Каждый месяц. Немного, но заметно. Банковские маркетологи посчитали: сохранять текущих клиентов дешевле, чем привлекать новых."
   ]
  },
  {
   "cell_type": "code",
   "execution_count": 2,
   "metadata": {},
   "outputs": [],
   "source": [
    "import pandas as pd\n",
    "from sklearn.ensemble import RandomForestClassifier\n",
    "from sklearn.tree import DecisionTreeClassifier\n",
    "from sklearn.linear_model import LogisticRegression\n",
    "from sklearn.preprocessing import StandardScaler, OneHotEncoder\n",
    "from sklearn.model_selection import train_test_split\n",
    "from sklearn.metrics import confusion_matrix, recall_score, f1_score, roc_curve, auc, roc_auc_score\n",
    "from sklearn.utils import shuffle\n",
    "from tqdm import tqdm\n",
    "import matplotlib.pyplot as plt\n",
    "import seaborn as sns\n",
    "import numpy as np\n",
    "from sklearn.dummy import DummyClassifier"
   ]
  },
  {
   "cell_type": "markdown",
   "metadata": {},
   "source": [
    "## Подготовка данных"
   ]
  },
  {
   "cell_type": "code",
   "execution_count": 3,
   "metadata": {},
   "outputs": [
    {
     "name": "stdout",
     "output_type": "stream",
     "text": [
      "<class 'pandas.core.frame.DataFrame'>\n",
      "RangeIndex: 10000 entries, 0 to 9999\n",
      "Data columns (total 14 columns):\n",
      " #   Column           Non-Null Count  Dtype  \n",
      "---  ------           --------------  -----  \n",
      " 0   RowNumber        10000 non-null  int64  \n",
      " 1   CustomerId       10000 non-null  int64  \n",
      " 2   Surname          10000 non-null  object \n",
      " 3   CreditScore      10000 non-null  int64  \n",
      " 4   Geography        10000 non-null  object \n",
      " 5   Gender           10000 non-null  object \n",
      " 6   Age              10000 non-null  int64  \n",
      " 7   Tenure           9091 non-null   float64\n",
      " 8   Balance          10000 non-null  float64\n",
      " 9   NumOfProducts    10000 non-null  int64  \n",
      " 10  HasCrCard        10000 non-null  int64  \n",
      " 11  IsActiveMember   10000 non-null  int64  \n",
      " 12  EstimatedSalary  10000 non-null  float64\n",
      " 13  Exited           10000 non-null  int64  \n",
      "dtypes: float64(3), int64(8), object(3)\n",
      "memory usage: 1.1+ MB\n"
     ]
    },
    {
     "data": {
      "text/html": [
       "<div>\n",
       "<style scoped>\n",
       "    .dataframe tbody tr th:only-of-type {\n",
       "        vertical-align: middle;\n",
       "    }\n",
       "\n",
       "    .dataframe tbody tr th {\n",
       "        vertical-align: top;\n",
       "    }\n",
       "\n",
       "    .dataframe thead th {\n",
       "        text-align: right;\n",
       "    }\n",
       "</style>\n",
       "<table border=\"1\" class=\"dataframe\">\n",
       "  <thead>\n",
       "    <tr style=\"text-align: right;\">\n",
       "      <th></th>\n",
       "      <th>RowNumber</th>\n",
       "      <th>CustomerId</th>\n",
       "      <th>Surname</th>\n",
       "      <th>CreditScore</th>\n",
       "      <th>Geography</th>\n",
       "      <th>Gender</th>\n",
       "      <th>Age</th>\n",
       "      <th>Tenure</th>\n",
       "      <th>Balance</th>\n",
       "      <th>NumOfProducts</th>\n",
       "      <th>HasCrCard</th>\n",
       "      <th>IsActiveMember</th>\n",
       "      <th>EstimatedSalary</th>\n",
       "      <th>Exited</th>\n",
       "    </tr>\n",
       "  </thead>\n",
       "  <tbody>\n",
       "    <tr>\n",
       "      <th>0</th>\n",
       "      <td>1</td>\n",
       "      <td>15634602</td>\n",
       "      <td>Hargrave</td>\n",
       "      <td>619</td>\n",
       "      <td>France</td>\n",
       "      <td>Female</td>\n",
       "      <td>42</td>\n",
       "      <td>2.0</td>\n",
       "      <td>0.00</td>\n",
       "      <td>1</td>\n",
       "      <td>1</td>\n",
       "      <td>1</td>\n",
       "      <td>101348.88</td>\n",
       "      <td>1</td>\n",
       "    </tr>\n",
       "    <tr>\n",
       "      <th>1</th>\n",
       "      <td>2</td>\n",
       "      <td>15647311</td>\n",
       "      <td>Hill</td>\n",
       "      <td>608</td>\n",
       "      <td>Spain</td>\n",
       "      <td>Female</td>\n",
       "      <td>41</td>\n",
       "      <td>1.0</td>\n",
       "      <td>83807.86</td>\n",
       "      <td>1</td>\n",
       "      <td>0</td>\n",
       "      <td>1</td>\n",
       "      <td>112542.58</td>\n",
       "      <td>0</td>\n",
       "    </tr>\n",
       "    <tr>\n",
       "      <th>2</th>\n",
       "      <td>3</td>\n",
       "      <td>15619304</td>\n",
       "      <td>Onio</td>\n",
       "      <td>502</td>\n",
       "      <td>France</td>\n",
       "      <td>Female</td>\n",
       "      <td>42</td>\n",
       "      <td>8.0</td>\n",
       "      <td>159660.80</td>\n",
       "      <td>3</td>\n",
       "      <td>1</td>\n",
       "      <td>0</td>\n",
       "      <td>113931.57</td>\n",
       "      <td>1</td>\n",
       "    </tr>\n",
       "    <tr>\n",
       "      <th>3</th>\n",
       "      <td>4</td>\n",
       "      <td>15701354</td>\n",
       "      <td>Boni</td>\n",
       "      <td>699</td>\n",
       "      <td>France</td>\n",
       "      <td>Female</td>\n",
       "      <td>39</td>\n",
       "      <td>1.0</td>\n",
       "      <td>0.00</td>\n",
       "      <td>2</td>\n",
       "      <td>0</td>\n",
       "      <td>0</td>\n",
       "      <td>93826.63</td>\n",
       "      <td>0</td>\n",
       "    </tr>\n",
       "    <tr>\n",
       "      <th>4</th>\n",
       "      <td>5</td>\n",
       "      <td>15737888</td>\n",
       "      <td>Mitchell</td>\n",
       "      <td>850</td>\n",
       "      <td>Spain</td>\n",
       "      <td>Female</td>\n",
       "      <td>43</td>\n",
       "      <td>2.0</td>\n",
       "      <td>125510.82</td>\n",
       "      <td>1</td>\n",
       "      <td>1</td>\n",
       "      <td>1</td>\n",
       "      <td>79084.10</td>\n",
       "      <td>0</td>\n",
       "    </tr>\n",
       "  </tbody>\n",
       "</table>\n",
       "</div>"
      ],
      "text/plain": [
       "   RowNumber  CustomerId   Surname  CreditScore Geography  Gender  Age  \\\n",
       "0          1    15634602  Hargrave          619    France  Female   42   \n",
       "1          2    15647311      Hill          608     Spain  Female   41   \n",
       "2          3    15619304      Onio          502    France  Female   42   \n",
       "3          4    15701354      Boni          699    France  Female   39   \n",
       "4          5    15737888  Mitchell          850     Spain  Female   43   \n",
       "\n",
       "   Tenure    Balance  NumOfProducts  HasCrCard  IsActiveMember  \\\n",
       "0     2.0       0.00              1          1               1   \n",
       "1     1.0   83807.86              1          0               1   \n",
       "2     8.0  159660.80              3          1               0   \n",
       "3     1.0       0.00              2          0               0   \n",
       "4     2.0  125510.82              1          1               1   \n",
       "\n",
       "   EstimatedSalary  Exited  \n",
       "0        101348.88       1  \n",
       "1        112542.58       0  \n",
       "2        113931.57       1  \n",
       "3         93826.63       0  \n",
       "4         79084.10       0  "
      ]
     },
     "execution_count": 3,
     "metadata": {},
     "output_type": "execute_result"
    },
    {
     "data": {
      "image/png": "[encoded data removed]",
      "text/plain": [
       "<Figure size 648x648 with 12 Axes>"
      ]
     },
     "metadata": {
      "needs_background": "light"
     },
     "output_type": "display_data"
    }
   ],
   "source": [
    "try:\n",
    "    df = pd.read_csv('./Churn.csv')\n",
    "except:\n",
    "    df = pd.read_csv('/datasets/Churn.csv')\n",
    "make_normilize = False\n",
    "df.info()\n",
    "df.hist(figsize=(9,9))\n",
    "df.head()"
   ]
  },
  {
   "cell_type": "markdown",
   "metadata": {},
   "source": [
    "Названия колонок приводятся к нижнему регистру.\n",
    "\n",
    "Отбрасываются неинформативные колонки: **rownumber**, **customerid**, **surname**.\n",
    "\n",
    "Отбрасывается признак **tenure**, т.к. он содержит около 10% пропусков.\n"
   ]
  },
  {
   "cell_type": "code",
   "execution_count": 4,
   "metadata": {},
   "outputs": [
    {
     "data": {
      "text/html": [
       "<div>\n",
       "<style scoped>\n",
       "    .dataframe tbody tr th:only-of-type {\n",
       "        vertical-align: middle;\n",
       "    }\n",
       "\n",
       "    .dataframe tbody tr th {\n",
       "        vertical-align: top;\n",
       "    }\n",
       "\n",
       "    .dataframe thead th {\n",
       "        text-align: right;\n",
       "    }\n",
       "</style>\n",
       "<table border=\"1\" class=\"dataframe\">\n",
       "  <thead>\n",
       "    <tr style=\"text-align: right;\">\n",
       "      <th></th>\n",
       "      <th>creditscore</th>\n",
       "      <th>age</th>\n",
       "      <th>balance</th>\n",
       "      <th>numofproducts</th>\n",
       "      <th>hascrcard</th>\n",
       "      <th>isactivemember</th>\n",
       "      <th>estimatedsalary</th>\n",
       "      <th>exited</th>\n",
       "    </tr>\n",
       "  </thead>\n",
       "  <tbody>\n",
       "    <tr>\n",
       "      <th>creditscore</th>\n",
       "      <td>1.000000</td>\n",
       "      <td>-0.003965</td>\n",
       "      <td>0.006268</td>\n",
       "      <td>0.012238</td>\n",
       "      <td>-0.005458</td>\n",
       "      <td>0.025651</td>\n",
       "      <td>-0.001384</td>\n",
       "      <td>-0.027094</td>\n",
       "    </tr>\n",
       "    <tr>\n",
       "      <th>age</th>\n",
       "      <td>-0.003965</td>\n",
       "      <td>1.000000</td>\n",
       "      <td>0.028308</td>\n",
       "      <td>-0.030680</td>\n",
       "      <td>-0.011721</td>\n",
       "      <td>0.085472</td>\n",
       "      <td>-0.007201</td>\n",
       "      <td>0.285323</td>\n",
       "    </tr>\n",
       "    <tr>\n",
       "      <th>balance</th>\n",
       "      <td>0.006268</td>\n",
       "      <td>0.028308</td>\n",
       "      <td>1.000000</td>\n",
       "      <td>-0.304180</td>\n",
       "      <td>-0.014858</td>\n",
       "      <td>-0.010084</td>\n",
       "      <td>0.012797</td>\n",
       "      <td>0.118533</td>\n",
       "    </tr>\n",
       "    <tr>\n",
       "      <th>numofproducts</th>\n",
       "      <td>0.012238</td>\n",
       "      <td>-0.030680</td>\n",
       "      <td>-0.304180</td>\n",
       "      <td>1.000000</td>\n",
       "      <td>0.003183</td>\n",
       "      <td>0.009612</td>\n",
       "      <td>0.014204</td>\n",
       "      <td>-0.047820</td>\n",
       "    </tr>\n",
       "    <tr>\n",
       "      <th>hascrcard</th>\n",
       "      <td>-0.005458</td>\n",
       "      <td>-0.011721</td>\n",
       "      <td>-0.014858</td>\n",
       "      <td>0.003183</td>\n",
       "      <td>1.000000</td>\n",
       "      <td>-0.011866</td>\n",
       "      <td>-0.009933</td>\n",
       "      <td>-0.007138</td>\n",
       "    </tr>\n",
       "    <tr>\n",
       "      <th>isactivemember</th>\n",
       "      <td>0.025651</td>\n",
       "      <td>0.085472</td>\n",
       "      <td>-0.010084</td>\n",
       "      <td>0.009612</td>\n",
       "      <td>-0.011866</td>\n",
       "      <td>1.000000</td>\n",
       "      <td>-0.011421</td>\n",
       "      <td>-0.156128</td>\n",
       "    </tr>\n",
       "    <tr>\n",
       "      <th>estimatedsalary</th>\n",
       "      <td>-0.001384</td>\n",
       "      <td>-0.007201</td>\n",
       "      <td>0.012797</td>\n",
       "      <td>0.014204</td>\n",
       "      <td>-0.009933</td>\n",
       "      <td>-0.011421</td>\n",
       "      <td>1.000000</td>\n",
       "      <td>0.012097</td>\n",
       "    </tr>\n",
       "    <tr>\n",
       "      <th>exited</th>\n",
       "      <td>-0.027094</td>\n",
       "      <td>0.285323</td>\n",
       "      <td>0.118533</td>\n",
       "      <td>-0.047820</td>\n",
       "      <td>-0.007138</td>\n",
       "      <td>-0.156128</td>\n",
       "      <td>0.012097</td>\n",
       "      <td>1.000000</td>\n",
       "    </tr>\n",
       "  </tbody>\n",
       "</table>\n",
       "</div>"
      ],
      "text/plain": [
       "                 creditscore       age   balance  numofproducts  hascrcard  \\\n",
       "creditscore         1.000000 -0.003965  0.006268       0.012238  -0.005458   \n",
       "age                -0.003965  1.000000  0.028308      -0.030680  -0.011721   \n",
       "balance             0.006268  0.028308  1.000000      -0.304180  -0.014858   \n",
       "numofproducts       0.012238 -0.030680 -0.304180       1.000000   0.003183   \n",
       "hascrcard          -0.005458 -0.011721 -0.014858       0.003183   1.000000   \n",
       "isactivemember      0.025651  0.085472 -0.010084       0.009612  -0.011866   \n",
       "estimatedsalary    -0.001384 -0.007201  0.012797       0.014204  -0.009933   \n",
       "exited             -0.027094  0.285323  0.118533      -0.047820  -0.007138   \n",
       "\n",
       "                 isactivemember  estimatedsalary    exited  \n",
       "creditscore            0.025651        -0.001384 -0.027094  \n",
       "age                    0.085472        -0.007201  0.285323  \n",
       "balance               -0.010084         0.012797  0.118533  \n",
       "numofproducts          0.009612         0.014204 -0.047820  \n",
       "hascrcard             -0.011866        -0.009933 -0.007138  \n",
       "isactivemember         1.000000        -0.011421 -0.156128  \n",
       "estimatedsalary       -0.011421         1.000000  0.012097  \n",
       "exited                -0.156128         0.012097  1.000000  "
      ]
     },
     "execution_count": 4,
     "metadata": {},
     "output_type": "execute_result"
    }
   ],
   "source": [
    "df.columns = df.columns.str.lower()\n",
    "df['hascrcard'] = df['hascrcard'].astype('bool')\n",
    "df['isactivemember'] = df['isactivemember'].astype('bool')\n",
    "df['exited'] = df['exited'].astype('bool')\n",
    "df = df.drop(columns=['rownumber', 'customerid', 'surname', 'gender', 'tenure'])\n",
    "df.corr()"
   ]
  },
  {
   "cell_type": "markdown",
   "metadata": {},
   "source": [
    "## Исследование задачи"
   ]
  },
  {
   "cell_type": "code",
   "execution_count": 5,
   "metadata": {},
   "outputs": [
    {
     "data": {
      "text/plain": [
       "0.2037"
      ]
     },
     "execution_count": 5,
     "metadata": {},
     "output_type": "execute_result"
    }
   ],
   "source": [
    "top_model = []\n",
    "df['exited'].sum() / len(df)"
   ]
  },
  {
   "cell_type": "markdown",
   "metadata": {},
   "source": [
    "Целевой признак - булева переменная **exited**. Целевой признак неравномерно распределен в датасете, доля положительных значений около 20%.\n",
    "\n",
    "Предсказывать её будет модель случайного леса.\n",
    "\n",
    "Обучающая, валидационная и тестовая выборка относятся как 3:1:1. В выборках целевой признак распределён одинаково.\n",
    "\n",
    "Категориальные переменные переводятся в булевы признаки методом One Hot Encoding. Перед обучением данные нормализируются."
   ]
  },
  {
   "cell_type": "code",
   "execution_count": 1,
   "metadata": {},
   "outputs": [],
   "source": [
    "def normalize(df):\n",
    "    scaler = StandardScaler()\n",
    "    scaler.fit(df)\n",
    "    return pd.DataFrame(scaler.transform(df), columns=df.columns)\n",
    "\n",
    "def split_dataset(ds, t, drop = [], ohe_x = []):\n",
    "    target = ds[t]\n",
    "    features = ds.drop(columns=drop + [t], axis=1)\n",
    "    features_train, features_test, target_train, target_test = train_test_split(features, target, random_state=12345, test_size=0.2, stratify=target)\n",
    "    \n",
    "    features = [features_train, features_valid, features_test]\n",
    "    targets = [target_train, target_valid, target_test]\n",
    "    \n",
    "    if len(ohe_x) > 0:\n",
    "        ohe = OneHotEncoder()\n",
    "        for i in range(3):\n",
    "            try:\n",
    "                transformed = ohe.fit_transform(features[i][ohe_x])\n",
    "            except:\n",
    "                features[i][ohe_x] = 0\n",
    "                transformed = ohe.fit_transform(features[i][ohe_x])\n",
    "            features[i][ohe.categories_[0]] = transformed.toarray()\n",
    "            features[i].drop(columns = ohe_x, axis = 1, inplace=True)\n",
    "    \n",
    "    return [features, targets]\n",
    "\n",
    "def print_roc(features_test, target_test, model, label = 'ROC-кривая'):\n",
    "    # предказания\n",
    "    lr_probs = model.predict_proba(features_test)\n",
    "    # вероятности положительного исхода\n",
    "    lr_probs = lr_probs[:, 1]\n",
    "    # ROC AUC\n",
    "    lr_auc = roc_auc_score(target_test, lr_probs)\n",
    "    print('ROC AUC=%.3f' % (lr_auc))\n",
    "    # roc-кривая\n",
    "    fpr, tpr, treshold = roc_curve(target_test, lr_probs)\n",
    "    roc_auc = auc(fpr, tpr)\n",
    "    # график\n",
    "    plt.plot(fpr, tpr, color='darkorange',\n",
    "             label='ROC кривая (area = %0.2f)' % roc_auc)\n",
    "    plt.plot([0, 1], [0, 1], color='navy', linestyle='--')\n",
    "    plt.xlim([0.0, 1.0])\n",
    "    plt.ylim([0.0, 1.05])\n",
    "    plt.xlabel('False Positive Rate')\n",
    "    plt.ylabel('True Positive Rate')\n",
    "    plt.title(label)\n",
    "    plt.legend(loc=\"lower right\")\n",
    "    plt.show()"
   ]
  },
  {
   "cell_type": "markdown",
   "metadata": {},
   "source": [
    "### Подбор гиперпараметров  и метрики F1 без учёта несбалансированности"
   ]
  },
  {
   "cell_type": "code",
   "execution_count": 7,
   "metadata": {},
   "outputs": [
    {
     "data": {
      "text/plain": [
       "((6000, 10), (2000, 10), (2000, 10))"
      ]
     },
     "execution_count": 7,
     "metadata": {},
     "output_type": "execute_result"
    }
   ],
   "source": [
    "f_t = split_dataset(df, 'exited', [], ['geography'])\n",
    "if make_normilize:\n",
    "    for i in range(len(f_t[0])):\n",
    "        f_t[0][i] = normalize(f_t[0][i])\n",
    "features_train, features_valid, features_test = f_t[0]\n",
    "target_train, target_valid, target_test = f_t[1]\n",
    "features_train.shape, features_valid.shape, features_test.shape"
   ]
  },
  {
   "cell_type": "markdown",
   "metadata": {},
   "source": [
    "#### Случайный лес"
   ]
  },
  {
   "cell_type": "code",
   "execution_count": 8,
   "metadata": {},
   "outputs": [
    {
     "name": "stderr",
     "output_type": "stream",
     "text": [
      "100%|██████████| 10/10 [03:36<00:00, 21.69s/it]\n"
     ]
    },
    {
     "data": {
      "text/plain": [
       "'Лучшее решение : F1 = 0.5650224215246636 est = 120, depth = 24'"
      ]
     },
     "execution_count": 8,
     "metadata": {},
     "output_type": "execute_result"
    },
    {
     "data": {
      "image/png": "[encoded data removed]",
      "text/plain": [
       "<Figure size 360x360 with 1 Axes>"
      ]
     },
     "metadata": {
      "needs_background": "light"
     },
     "output_type": "display_data"
    }
   ],
   "source": [
    "res = []\n",
    "for est in tqdm(range(100,200,10)):\n",
    "    for depth in range(2,25):\n",
    "        model = RandomForestClassifier(n_estimators = est, max_depth=depth, random_state=12345)\n",
    "        model.fit(features_train, target_train)\n",
    "        preds = model.predict(features_valid)\n",
    "        preds_test = model.predict(features_test)\n",
    "        res.append([f1_score(target_valid, preds), f1_score(target_test, preds_test), depth, est])\n",
    "        \n",
    "best = max(res, key = lambda x: x[1])\n",
    "res = pd.DataFrame(res)\n",
    "res.columns = ['f1_valid', 'f1_test', 'depth', 'est']\n",
    "sns.relplot(x='depth', \n",
    "            y='est', \n",
    "            hue='f1_test', \n",
    "            size = 'f1_test',\n",
    "            data=res,\n",
    "            sizes=(20, 150),\n",
    "           legend = False,\n",
    "           alpha=0.6);\n",
    "sns.scatterplot(data=res[res['f1_test'] == best[1]], x = 'depth', y = 'est', color='red', label='best_F1_test', marker='x', s=200)\n",
    "plt.legend(bbox_to_anchor=(1.02, 1), loc='upper left', borderaxespad=0)\n",
    "top_model.append([best[1], 'Случайный лес', 'unbalanced'])\n",
    "f'Лучшее решение : F1 = {best[1]} est = {best[3]}, depth = {best[2]}'"
   ]
  },
  {
   "cell_type": "code",
   "execution_count": 9,
   "metadata": {},
   "outputs": [
    {
     "name": "stdout",
     "output_type": "stream",
     "text": [
      "ROC AUC=0.835\n"
     ]
    },
    {
     "data": {
      "image/png": "[encoded data removed]",
      "text/plain": [
       "<Figure size 432x288 with 1 Axes>"
      ]
     },
     "metadata": {
      "needs_background": "light"
     },
     "output_type": "display_data"
    }
   ],
   "source": [
    "model = RandomForestClassifier(n_estimators = best[3], max_depth=best[2], random_state=12345)\n",
    "model.fit(features_train, target_train)\n",
    "print_roc(features_test, target_test, model, 'Лес')"
   ]
  },
  {
   "cell_type": "markdown",
   "metadata": {},
   "source": [
    "#### Решающее дерево"
   ]
  },
  {
   "cell_type": "code",
   "execution_count": 10,
   "metadata": {},
   "outputs": [
    {
     "name": "stderr",
     "output_type": "stream",
     "text": [
      "100%|██████████| 23/23 [00:00<00:00, 30.23it/s]\n"
     ]
    },
    {
     "data": {
      "text/plain": [
       "'Лучшее решение : F1 = 0.5538922155688623 depth = 7'"
      ]
     },
     "execution_count": 10,
     "metadata": {},
     "output_type": "execute_result"
    },
    {
     "data": {
      "image/png": "[encoded data removed]",
      "text/plain": [
       "<Figure size 432x288 with 1 Axes>"
      ]
     },
     "metadata": {
      "needs_background": "light"
     },
     "output_type": "display_data"
    }
   ],
   "source": [
    "res = []\n",
    "for depth in tqdm(range(2,25)):\n",
    "    model = DecisionTreeClassifier(max_depth=depth, random_state=12345)\n",
    "    model.fit(features_train, target_train)\n",
    "    preds = model.predict(features_valid)\n",
    "    preds_test = model.predict(features_test)\n",
    "    res.append([f1_score(target_valid, preds), f1_score(target_test, preds_test), depth])\n",
    "        \n",
    "best = max(res, key = lambda x: x[1])\n",
    "res = pd.DataFrame(res)\n",
    "res.columns = ['f1_valid', 'f1_test', 'depth']\n",
    "sns.lineplot(data=res, x=\"depth\", y=\"f1_test\")\n",
    "sns.scatterplot(data=res[res['f1_test'] == best[1]], x = 'depth', y = 'f1_test', color='red', label='best_F1_test', marker='x', s=200)\n",
    "plt.legend(bbox_to_anchor=(1.02, 1), loc='upper left', borderaxespad=0)\n",
    "top_model.append([best[1], 'Решающее дерево', 'unbalanced'])\n",
    "f'Лучшее решение : F1 = {best[1]} depth = {best[2]}'"
   ]
  },
  {
   "cell_type": "code",
   "execution_count": 11,
   "metadata": {},
   "outputs": [
    {
     "name": "stdout",
     "output_type": "stream",
     "text": [
      "ROC AUC=0.811\n"
     ]
    },
    {
     "data": {
      "image/png": "[encoded data removed]",
      "text/plain": [
       "<Figure size 432x288 with 1 Axes>"
      ]
     },
     "metadata": {
      "needs_background": "light"
     },
     "output_type": "display_data"
    }
   ],
   "source": [
    "model = DecisionTreeClassifier(max_depth=best[2], random_state=12345)\n",
    "model.fit(features_train, target_train)\n",
    "print_roc(features_test, target_test, model, 'Дерево')"
   ]
  },
  {
   "cell_type": "markdown",
   "metadata": {},
   "source": [
    "#### Логистическая регрессия"
   ]
  },
  {
   "cell_type": "code",
   "execution_count": 12,
   "metadata": {},
   "outputs": [
    {
     "name": "stdout",
     "output_type": "stream",
     "text": [
      "ROC AUC=0.655\n"
     ]
    },
    {
     "data": {
      "image/png": "[encoded data removed]",
      "text/plain": [
       "<Figure size 432x288 with 1 Axes>"
      ]
     },
     "metadata": {
      "needs_background": "light"
     },
     "output_type": "display_data"
    },
    {
     "data": {
      "text/plain": [
       "'F1 = 0.0662251655629139'"
      ]
     },
     "execution_count": 12,
     "metadata": {},
     "output_type": "execute_result"
    }
   ],
   "source": [
    "model = LogisticRegression(random_state=12345, solver='liblinear')\n",
    "model.fit(features_train, target_train)\n",
    "preds_test = model.predict(features_test)\n",
    "print_roc(features_test, target_test, model, 'Логистическая регрессия')\n",
    "top_model.append([f1_score(target_test, preds_test), 'Логистическая регрессия', 'unbalanced'])\n",
    "f'F1 = {f1_score(target_test, preds_test)}'"
   ]
  },
  {
   "cell_type": "markdown",
   "metadata": {},
   "source": [
    "#### Наивная модель"
   ]
  },
  {
   "cell_type": "code",
   "execution_count": 13,
   "metadata": {},
   "outputs": [
    {
     "name": "stdout",
     "output_type": "stream",
     "text": [
      "ROC AUC=0.500\n"
     ]
    },
    {
     "data": {
      "image/png": "[encoded data removed]",
      "text/plain": [
       "<Figure size 432x288 with 1 Axes>"
      ]
     },
     "metadata": {
      "needs_background": "light"
     },
     "output_type": "display_data"
    },
    {
     "data": {
      "text/plain": [
       "'F1 = 0.0'"
      ]
     },
     "execution_count": 13,
     "metadata": {},
     "output_type": "execute_result"
    }
   ],
   "source": [
    "model = DummyClassifier(strategy='most_frequent')\n",
    "model.fit(features_train, target_train)\n",
    "preds_test = model.predict(features_test)\n",
    "print_roc(features_test, target_test, model, 'Most frequent')\n",
    "f'F1 = {f1_score(target_test, preds_test)}' "
   ]
  },
  {
   "cell_type": "markdown",
   "metadata": {},
   "source": [
    "### Промежуточные выводы\n",
    "\n",
    "Из-за несбалансированности целевого признака модель склонна хуже определять истинный класс. Не удаётся добиться показателя f1 выше 0.59. Все модели прошли проверку на адекватность."
   ]
  },
  {
   "cell_type": "markdown",
   "metadata": {},
   "source": [
    "## Борьба с дисбалансом"
   ]
  },
  {
   "cell_type": "markdown",
   "metadata": {},
   "source": [
    "### Oversampling\n",
    "\n",
    "Нужно дополнить исходный датасет объектами с истинным целевым признаком (добавить около 30% датасета), затем перемешать объекты. \n",
    "\n",
    "Остальные шаги те же, что и без уёта несбалансированности."
   ]
  },
  {
   "cell_type": "code",
   "execution_count": 14,
   "metadata": {},
   "outputs": [],
   "source": [
    "oversampled_data = pd.concat([ df[df['exited'] == 0] , df[df['exited'] == 1].sample(len(df['exited'] == 0) - df['exited'].sum(), replace=True) ])\n",
    "oversampled_data = shuffle(oversampled_data, random_state=12345)\n",
    "\n",
    "f_t_over = split_dataset(oversampled_data, 'exited', [], ['geography'])\n",
    "if make_normilize:\n",
    "    for i in range(len(f_t_over[0])):\n",
    "        f_t_over[0][i] = normalize(f_t_over[0][i])\n",
    "    \n",
    "features_test, features_train = f_t[0][2], f_t_over[0][0]\n",
    "target_test, target_train = f_t[1][2], f_t_over[1][0]"
   ]
  },
  {
   "cell_type": "markdown",
   "metadata": {},
   "source": [
    "#### Случайный лес"
   ]
  },
  {
   "cell_type": "code",
   "execution_count": 15,
   "metadata": {},
   "outputs": [
    {
     "name": "stderr",
     "output_type": "stream",
     "text": [
      "100%|██████████| 10/10 [05:01<00:00, 30.19s/it]\n"
     ]
    },
    {
     "data": {
      "text/plain": [
       "'Лучшее решение : F1 = 0.9029239766081872 est = 170, depth = 23'"
      ]
     },
     "execution_count": 15,
     "metadata": {},
     "output_type": "execute_result"
    },
    {
     "data": {
      "image/png": "[encoded data removed]",
      "text/plain": [
       "<Figure size 360x360 with 1 Axes>"
      ]
     },
     "metadata": {
      "needs_background": "light"
     },
     "output_type": "display_data"
    }
   ],
   "source": [
    "res = []\n",
    "for est in tqdm(range(100,200,10)):\n",
    "    for depth in range(2,25):\n",
    "        model = RandomForestClassifier(n_estimators = est, max_depth=depth, random_state=12345)\n",
    "        model.fit(features_train, target_train)\n",
    "        preds = model.predict(features_valid)\n",
    "        preds_test = model.predict(features_test)\n",
    "        res.append([f1_score(target_valid, preds), f1_score(target_test, preds_test), depth, est])\n",
    "        \n",
    "best = max(res, key = lambda x: x[1])\n",
    "res = pd.DataFrame(res)\n",
    "\n",
    "res.columns = ['f1_valid','f1_test', 'depth', 'est']\n",
    "sns.relplot(x='depth', \n",
    "            y='est', \n",
    "            hue='f1_test', \n",
    "            size = 'f1_test',\n",
    "            data=res,\n",
    "            sizes=(20, 150),\n",
    "           legend = False,\n",
    "           alpha=0.6);\n",
    "sns.scatterplot(data=res[res['f1_test'] == best[1]], x = 'depth', y = 'est', color='red', label='best_F1_test', marker='x', s=200)\n",
    "plt.legend(bbox_to_anchor=(1.02, 1), loc='upper left', borderaxespad=0)\n",
    "top_model.append([best[1], 'Случайный лес', 'oversampling'])\n",
    "f'Лучшее решение : F1 = {best[1]} est = {best[3]}, depth = {best[2]}'"
   ]
  },
  {
   "cell_type": "code",
   "execution_count": 16,
   "metadata": {},
   "outputs": [
    {
     "name": "stdout",
     "output_type": "stream",
     "text": [
      "ROC AUC=0.984\n"
     ]
    },
    {
     "data": {
      "image/png": "[encoded data removed]",
      "text/plain": [
       "<Figure size 432x288 with 1 Axes>"
      ]
     },
     "metadata": {
      "needs_background": "light"
     },
     "output_type": "display_data"
    }
   ],
   "source": [
    "model = RandomForestClassifier(n_estimators = best[3], max_depth=best[2], random_state=12345)\n",
    "model.fit(features_train, target_train)\n",
    "print_roc(features_test, target_test, model, 'Лес')"
   ]
  },
  {
   "cell_type": "markdown",
   "metadata": {},
   "source": [
    "#### Решающее дерево"
   ]
  },
  {
   "cell_type": "code",
   "execution_count": 17,
   "metadata": {},
   "outputs": [
    {
     "name": "stderr",
     "output_type": "stream",
     "text": [
      "100%|██████████| 23/23 [00:01<00:00, 22.69it/s]\n"
     ]
    },
    {
     "data": {
      "text/plain": [
       "'Лучшее решение : F1 = 0.861952861952862 depth = 21'"
      ]
     },
     "execution_count": 17,
     "metadata": {},
     "output_type": "execute_result"
    },
    {
     "data": {
      "image/png": "[encoded data removed]",
      "text/plain": [
       "<Figure size 432x288 with 1 Axes>"
      ]
     },
     "metadata": {
      "needs_background": "light"
     },
     "output_type": "display_data"
    }
   ],
   "source": [
    "res = []\n",
    "for depth in tqdm(range(2,25)):\n",
    "    model = DecisionTreeClassifier(max_depth=depth, random_state=12345)\n",
    "    model.fit(features_train, target_train)\n",
    "    preds = model.predict(features_valid)\n",
    "    preds_test = model.predict(features_test)\n",
    "    res.append([f1_score(target_valid, preds), f1_score(target_test, preds_test), depth])\n",
    "        \n",
    "best = max(res, key = lambda x: x[1])\n",
    "res = pd.DataFrame(res)\n",
    "res.columns = ['f1_valid', 'f1_test', 'depth']\n",
    "sns.lineplot(data=res, x=\"depth\", y=\"f1_test\")\n",
    "sns.scatterplot(data=res[res['f1_test'] == best[1]], x = 'depth', y = 'f1_test', color='red', label='best_F1_test', marker='x', s=200)\n",
    "plt.legend(bbox_to_anchor=(1.02, 1), loc='upper left', borderaxespad=0)\n",
    "top_model.append([best[1], 'Решающее дерево', 'oversampling'])\n",
    "f'Лучшее решение : F1 = {best[1]} depth = {best[2]}'"
   ]
  },
  {
   "cell_type": "code",
   "execution_count": 18,
   "metadata": {},
   "outputs": [
    {
     "name": "stdout",
     "output_type": "stream",
     "text": [
      "ROC AUC=0.940\n"
     ]
    },
    {
     "data": {
      "image/png": "[encoded data removed]",
      "text/plain": [
       "<Figure size 432x288 with 1 Axes>"
      ]
     },
     "metadata": {
      "needs_background": "light"
     },
     "output_type": "display_data"
    }
   ],
   "source": [
    "model = DecisionTreeClassifier(max_depth=best[2], random_state=12345)\n",
    "model.fit(features_train, target_train)\n",
    "print_roc(features_test, target_test, model, 'Дерево')"
   ]
  },
  {
   "cell_type": "markdown",
   "metadata": {},
   "source": [
    "#### Логистическая регрессия"
   ]
  },
  {
   "cell_type": "code",
   "execution_count": 19,
   "metadata": {
    "scrolled": true
   },
   "outputs": [
    {
     "name": "stdout",
     "output_type": "stream",
     "text": [
      "ROC AUC=0.698\n"
     ]
    },
    {
     "data": {
      "image/png": "[encoded data removed]",
      "text/plain": [
       "<Figure size 432x288 with 1 Axes>"
      ]
     },
     "metadata": {
      "needs_background": "light"
     },
     "output_type": "display_data"
    },
    {
     "data": {
      "text/plain": [
       "'F1 = 0.44054269752593783'"
      ]
     },
     "execution_count": 19,
     "metadata": {},
     "output_type": "execute_result"
    }
   ],
   "source": [
    "model = LogisticRegression(random_state=12345, solver='liblinear')\n",
    "model.fit(features_train, target_train)\n",
    "preds_test = model.predict(features_test)\n",
    "print_roc(features_test, target_test, model, 'Логистическая регрессия')\n",
    "top_model.append([f1_score(target_test, preds_test), 'Логистическая регрессия', 'oversampling'])\n",
    "f'F1 = {f1_score(target_test, preds_test)}'"
   ]
  },
  {
   "cell_type": "markdown",
   "metadata": {},
   "source": [
    "#### Наивная модель"
   ]
  },
  {
   "cell_type": "code",
   "execution_count": 20,
   "metadata": {},
   "outputs": [
    {
     "name": "stdout",
     "output_type": "stream",
     "text": [
      "ROC AUC=0.500\n"
     ]
    },
    {
     "data": {
      "image/png": "[encoded data removed]",
      "text/plain": [
       "<Figure size 432x288 with 1 Axes>"
      ]
     },
     "metadata": {
      "needs_background": "light"
     },
     "output_type": "display_data"
    },
    {
     "data": {
      "text/plain": [
       "'F1 = 0.3381803074366431'"
      ]
     },
     "execution_count": 20,
     "metadata": {},
     "output_type": "execute_result"
    }
   ],
   "source": [
    "model = DummyClassifier(strategy='most_frequent')\n",
    "model.fit(features_train, target_train)\n",
    "preds_test = model.predict(features_test)\n",
    "print_roc(features_test, target_test, model, 'Most frequent')\n",
    "f'F1 = {f1_score(target_test, preds_test)}' "
   ]
  },
  {
   "cell_type": "markdown",
   "metadata": {},
   "source": [
    "### Взвешивание классов\n",
    "\n",
    "Применение гиперпараметра class_weight = 'balanced'."
   ]
  },
  {
   "cell_type": "code",
   "execution_count": 21,
   "metadata": {},
   "outputs": [],
   "source": [
    "features_train, features_valid, features_test = f_t[0]\n",
    "target_train, target_valid, target_test = f_t[1]"
   ]
  },
  {
   "cell_type": "markdown",
   "metadata": {},
   "source": [
    "#### Случайный лес"
   ]
  },
  {
   "cell_type": "code",
   "execution_count": 22,
   "metadata": {},
   "outputs": [
    {
     "name": "stderr",
     "output_type": "stream",
     "text": [
      " 10%|█         | 1/10 [00:19<02:57, 19.77s/it]\n"
     ]
    },
    {
     "ename": "KeyboardInterrupt",
     "evalue": "",
     "output_type": "error",
     "traceback": [
      "\u001b[0;31m---------------------------------------------------------------------------\u001b[0m",
      "\u001b[0;31mKeyboardInterrupt\u001b[0m                         Traceback (most recent call last)",
      "\u001b[0;32m/tmp/ipykernel_62/3426463363.py\u001b[0m in \u001b[0;36m<module>\u001b[0;34m\u001b[0m\n\u001b[1;32m      3\u001b[0m     \u001b[0;32mfor\u001b[0m \u001b[0mdepth\u001b[0m \u001b[0;32min\u001b[0m \u001b[0mrange\u001b[0m\u001b[0;34m(\u001b[0m\u001b[0;36m2\u001b[0m\u001b[0;34m,\u001b[0m\u001b[0;36m25\u001b[0m\u001b[0;34m)\u001b[0m\u001b[0;34m:\u001b[0m\u001b[0;34m\u001b[0m\u001b[0;34m\u001b[0m\u001b[0m\n\u001b[1;32m      4\u001b[0m         \u001b[0mmodel\u001b[0m \u001b[0;34m=\u001b[0m \u001b[0mRandomForestClassifier\u001b[0m\u001b[0;34m(\u001b[0m\u001b[0mn_estimators\u001b[0m \u001b[0;34m=\u001b[0m \u001b[0mest\u001b[0m\u001b[0;34m,\u001b[0m \u001b[0mmax_depth\u001b[0m\u001b[0;34m=\u001b[0m\u001b[0mdepth\u001b[0m\u001b[0;34m,\u001b[0m \u001b[0mrandom_state\u001b[0m\u001b[0;34m=\u001b[0m\u001b[0;36m12345\u001b[0m\u001b[0;34m,\u001b[0m \u001b[0mclass_weight\u001b[0m \u001b[0;34m=\u001b[0m \u001b[0;34m'balanced'\u001b[0m\u001b[0;34m)\u001b[0m\u001b[0;34m\u001b[0m\u001b[0;34m\u001b[0m\u001b[0m\n\u001b[0;32m----> 5\u001b[0;31m         \u001b[0mmodel\u001b[0m\u001b[0;34m.\u001b[0m\u001b[0mfit\u001b[0m\u001b[0;34m(\u001b[0m\u001b[0mfeatures_train\u001b[0m\u001b[0;34m,\u001b[0m \u001b[0mtarget_train\u001b[0m\u001b[0;34m)\u001b[0m\u001b[0;34m\u001b[0m\u001b[0;34m\u001b[0m\u001b[0m\n\u001b[0m\u001b[1;32m      6\u001b[0m         \u001b[0mpreds\u001b[0m \u001b[0;34m=\u001b[0m \u001b[0mmodel\u001b[0m\u001b[0;34m.\u001b[0m\u001b[0mpredict\u001b[0m\u001b[0;34m(\u001b[0m\u001b[0mfeatures_valid\u001b[0m\u001b[0;34m)\u001b[0m\u001b[0;34m\u001b[0m\u001b[0;34m\u001b[0m\u001b[0m\n\u001b[1;32m      7\u001b[0m         \u001b[0mpreds_test\u001b[0m \u001b[0;34m=\u001b[0m \u001b[0mmodel\u001b[0m\u001b[0;34m.\u001b[0m\u001b[0mpredict\u001b[0m\u001b[0;34m(\u001b[0m\u001b[0mfeatures_test\u001b[0m\u001b[0;34m)\u001b[0m\u001b[0;34m\u001b[0m\u001b[0;34m\u001b[0m\u001b[0m\n",
      "\u001b[0;32m/opt/conda/lib/python3.9/site-packages/sklearn/ensemble/_forest.py\u001b[0m in \u001b[0;36mfit\u001b[0;34m(self, X, y, sample_weight)\u001b[0m\n\u001b[1;32m    385\u001b[0m             \u001b[0;31m# parallel_backend contexts set at a higher level,\u001b[0m\u001b[0;34m\u001b[0m\u001b[0;34m\u001b[0m\u001b[0;34m\u001b[0m\u001b[0m\n\u001b[1;32m    386\u001b[0m             \u001b[0;31m# since correctness does not rely on using threads.\u001b[0m\u001b[0;34m\u001b[0m\u001b[0;34m\u001b[0m\u001b[0;34m\u001b[0m\u001b[0m\n\u001b[0;32m--> 387\u001b[0;31m             trees = Parallel(n_jobs=self.n_jobs, verbose=self.verbose,\n\u001b[0m\u001b[1;32m    388\u001b[0m                              \u001b[0;34m**\u001b[0m\u001b[0m_joblib_parallel_args\u001b[0m\u001b[0;34m(\u001b[0m\u001b[0mprefer\u001b[0m\u001b[0;34m=\u001b[0m\u001b[0;34m'threads'\u001b[0m\u001b[0;34m)\u001b[0m\u001b[0;34m)\u001b[0m\u001b[0;34m(\u001b[0m\u001b[0;34m\u001b[0m\u001b[0;34m\u001b[0m\u001b[0m\n\u001b[1;32m    389\u001b[0m                 delayed(_parallel_build_trees)(\n",
      "\u001b[0;32m/opt/conda/lib/python3.9/site-packages/joblib/parallel.py\u001b[0m in \u001b[0;36m__call__\u001b[0;34m(self, iterable)\u001b[0m\n\u001b[1;32m   1044\u001b[0m                 \u001b[0mself\u001b[0m\u001b[0;34m.\u001b[0m\u001b[0m_iterating\u001b[0m \u001b[0;34m=\u001b[0m \u001b[0mself\u001b[0m\u001b[0;34m.\u001b[0m\u001b[0m_original_iterator\u001b[0m \u001b[0;32mis\u001b[0m \u001b[0;32mnot\u001b[0m \u001b[0;32mNone\u001b[0m\u001b[0;34m\u001b[0m\u001b[0;34m\u001b[0m\u001b[0m\n\u001b[1;32m   1045\u001b[0m \u001b[0;34m\u001b[0m\u001b[0m\n\u001b[0;32m-> 1046\u001b[0;31m             \u001b[0;32mwhile\u001b[0m \u001b[0mself\u001b[0m\u001b[0;34m.\u001b[0m\u001b[0mdispatch_one_batch\u001b[0m\u001b[0;34m(\u001b[0m\u001b[0miterator\u001b[0m\u001b[0;34m)\u001b[0m\u001b[0;34m:\u001b[0m\u001b[0;34m\u001b[0m\u001b[0;34m\u001b[0m\u001b[0m\n\u001b[0m\u001b[1;32m   1047\u001b[0m                 \u001b[0;32mpass\u001b[0m\u001b[0;34m\u001b[0m\u001b[0;34m\u001b[0m\u001b[0m\n\u001b[1;32m   1048\u001b[0m \u001b[0;34m\u001b[0m\u001b[0m\n",
      "\u001b[0;32m/opt/conda/lib/python3.9/site-packages/joblib/parallel.py\u001b[0m in \u001b[0;36mdispatch_one_batch\u001b[0;34m(self, iterator)\u001b[0m\n\u001b[1;32m    859\u001b[0m                 \u001b[0;32mreturn\u001b[0m \u001b[0;32mFalse\u001b[0m\u001b[0;34m\u001b[0m\u001b[0;34m\u001b[0m\u001b[0m\n\u001b[1;32m    860\u001b[0m             \u001b[0;32melse\u001b[0m\u001b[0;34m:\u001b[0m\u001b[0;34m\u001b[0m\u001b[0;34m\u001b[0m\u001b[0m\n\u001b[0;32m--> 861\u001b[0;31m                 \u001b[0mself\u001b[0m\u001b[0;34m.\u001b[0m\u001b[0m_dispatch\u001b[0m\u001b[0;34m(\u001b[0m\u001b[0mtasks\u001b[0m\u001b[0;34m)\u001b[0m\u001b[0;34m\u001b[0m\u001b[0;34m\u001b[0m\u001b[0m\n\u001b[0m\u001b[1;32m    862\u001b[0m                 \u001b[0;32mreturn\u001b[0m \u001b[0;32mTrue\u001b[0m\u001b[0;34m\u001b[0m\u001b[0;34m\u001b[0m\u001b[0m\n\u001b[1;32m    863\u001b[0m \u001b[0;34m\u001b[0m\u001b[0m\n",
      "\u001b[0;32m/opt/conda/lib/python3.9/site-packages/joblib/parallel.py\u001b[0m in \u001b[0;36m_dispatch\u001b[0;34m(self, batch)\u001b[0m\n\u001b[1;32m    777\u001b[0m         \u001b[0;32mwith\u001b[0m \u001b[0mself\u001b[0m\u001b[0;34m.\u001b[0m\u001b[0m_lock\u001b[0m\u001b[0;34m:\u001b[0m\u001b[0;34m\u001b[0m\u001b[0;34m\u001b[0m\u001b[0m\n\u001b[1;32m    778\u001b[0m             \u001b[0mjob_idx\u001b[0m \u001b[0;34m=\u001b[0m \u001b[0mlen\u001b[0m\u001b[0;34m(\u001b[0m\u001b[0mself\u001b[0m\u001b[0;34m.\u001b[0m\u001b[0m_jobs\u001b[0m\u001b[0;34m)\u001b[0m\u001b[0;34m\u001b[0m\u001b[0;34m\u001b[0m\u001b[0m\n\u001b[0;32m--> 779\u001b[0;31m             \u001b[0mjob\u001b[0m \u001b[0;34m=\u001b[0m \u001b[0mself\u001b[0m\u001b[0;34m.\u001b[0m\u001b[0m_backend\u001b[0m\u001b[0;34m.\u001b[0m\u001b[0mapply_async\u001b[0m\u001b[0;34m(\u001b[0m\u001b[0mbatch\u001b[0m\u001b[0;34m,\u001b[0m \u001b[0mcallback\u001b[0m\u001b[0;34m=\u001b[0m\u001b[0mcb\u001b[0m\u001b[0;34m)\u001b[0m\u001b[0;34m\u001b[0m\u001b[0;34m\u001b[0m\u001b[0m\n\u001b[0m\u001b[1;32m    780\u001b[0m             \u001b[0;31m# A job can complete so quickly than its callback is\u001b[0m\u001b[0;34m\u001b[0m\u001b[0;34m\u001b[0m\u001b[0;34m\u001b[0m\u001b[0m\n\u001b[1;32m    781\u001b[0m             \u001b[0;31m# called before we get here, causing self._jobs to\u001b[0m\u001b[0;34m\u001b[0m\u001b[0;34m\u001b[0m\u001b[0;34m\u001b[0m\u001b[0m\n",
      "\u001b[0;32m/opt/conda/lib/python3.9/site-packages/joblib/_parallel_backends.py\u001b[0m in \u001b[0;36mapply_async\u001b[0;34m(self, func, callback)\u001b[0m\n\u001b[1;32m    206\u001b[0m     \u001b[0;32mdef\u001b[0m \u001b[0mapply_async\u001b[0m\u001b[0;34m(\u001b[0m\u001b[0mself\u001b[0m\u001b[0;34m,\u001b[0m \u001b[0mfunc\u001b[0m\u001b[0;34m,\u001b[0m \u001b[0mcallback\u001b[0m\u001b[0;34m=\u001b[0m\u001b[0;32mNone\u001b[0m\u001b[0;34m)\u001b[0m\u001b[0;34m:\u001b[0m\u001b[0;34m\u001b[0m\u001b[0;34m\u001b[0m\u001b[0m\n\u001b[1;32m    207\u001b[0m         \u001b[0;34m\"\"\"Schedule a func to be run\"\"\"\u001b[0m\u001b[0;34m\u001b[0m\u001b[0;34m\u001b[0m\u001b[0m\n\u001b[0;32m--> 208\u001b[0;31m         \u001b[0mresult\u001b[0m \u001b[0;34m=\u001b[0m \u001b[0mImmediateResult\u001b[0m\u001b[0;34m(\u001b[0m\u001b[0mfunc\u001b[0m\u001b[0;34m)\u001b[0m\u001b[0;34m\u001b[0m\u001b[0;34m\u001b[0m\u001b[0m\n\u001b[0m\u001b[1;32m    209\u001b[0m         \u001b[0;32mif\u001b[0m \u001b[0mcallback\u001b[0m\u001b[0;34m:\u001b[0m\u001b[0;34m\u001b[0m\u001b[0;34m\u001b[0m\u001b[0m\n\u001b[1;32m    210\u001b[0m             \u001b[0mcallback\u001b[0m\u001b[0;34m(\u001b[0m\u001b[0mresult\u001b[0m\u001b[0;34m)\u001b[0m\u001b[0;34m\u001b[0m\u001b[0;34m\u001b[0m\u001b[0m\n",
      "\u001b[0;32m/opt/conda/lib/python3.9/site-packages/joblib/_parallel_backends.py\u001b[0m in \u001b[0;36m__init__\u001b[0;34m(self, batch)\u001b[0m\n\u001b[1;32m    570\u001b[0m         \u001b[0;31m# Don't delay the application, to avoid keeping the input\u001b[0m\u001b[0;34m\u001b[0m\u001b[0;34m\u001b[0m\u001b[0;34m\u001b[0m\u001b[0m\n\u001b[1;32m    571\u001b[0m         \u001b[0;31m# arguments in memory\u001b[0m\u001b[0;34m\u001b[0m\u001b[0;34m\u001b[0m\u001b[0;34m\u001b[0m\u001b[0m\n\u001b[0;32m--> 572\u001b[0;31m         \u001b[0mself\u001b[0m\u001b[0;34m.\u001b[0m\u001b[0mresults\u001b[0m \u001b[0;34m=\u001b[0m \u001b[0mbatch\u001b[0m\u001b[0;34m(\u001b[0m\u001b[0;34m)\u001b[0m\u001b[0;34m\u001b[0m\u001b[0;34m\u001b[0m\u001b[0m\n\u001b[0m\u001b[1;32m    573\u001b[0m \u001b[0;34m\u001b[0m\u001b[0m\n\u001b[1;32m    574\u001b[0m     \u001b[0;32mdef\u001b[0m \u001b[0mget\u001b[0m\u001b[0;34m(\u001b[0m\u001b[0mself\u001b[0m\u001b[0;34m)\u001b[0m\u001b[0;34m:\u001b[0m\u001b[0;34m\u001b[0m\u001b[0;34m\u001b[0m\u001b[0m\n",
      "\u001b[0;32m/opt/conda/lib/python3.9/site-packages/joblib/parallel.py\u001b[0m in \u001b[0;36m__call__\u001b[0;34m(self)\u001b[0m\n\u001b[1;32m    260\u001b[0m         \u001b[0;31m# change the default number of processes to -1\u001b[0m\u001b[0;34m\u001b[0m\u001b[0;34m\u001b[0m\u001b[0;34m\u001b[0m\u001b[0m\n\u001b[1;32m    261\u001b[0m         \u001b[0;32mwith\u001b[0m \u001b[0mparallel_backend\u001b[0m\u001b[0;34m(\u001b[0m\u001b[0mself\u001b[0m\u001b[0;34m.\u001b[0m\u001b[0m_backend\u001b[0m\u001b[0;34m,\u001b[0m \u001b[0mn_jobs\u001b[0m\u001b[0;34m=\u001b[0m\u001b[0mself\u001b[0m\u001b[0;34m.\u001b[0m\u001b[0m_n_jobs\u001b[0m\u001b[0;34m)\u001b[0m\u001b[0;34m:\u001b[0m\u001b[0;34m\u001b[0m\u001b[0;34m\u001b[0m\u001b[0m\n\u001b[0;32m--> 262\u001b[0;31m             return [func(*args, **kwargs)\n\u001b[0m\u001b[1;32m    263\u001b[0m                     for func, args, kwargs in self.items]\n\u001b[1;32m    264\u001b[0m \u001b[0;34m\u001b[0m\u001b[0m\n",
      "\u001b[0;32m/opt/conda/lib/python3.9/site-packages/joblib/parallel.py\u001b[0m in \u001b[0;36m<listcomp>\u001b[0;34m(.0)\u001b[0m\n\u001b[1;32m    260\u001b[0m         \u001b[0;31m# change the default number of processes to -1\u001b[0m\u001b[0;34m\u001b[0m\u001b[0;34m\u001b[0m\u001b[0;34m\u001b[0m\u001b[0m\n\u001b[1;32m    261\u001b[0m         \u001b[0;32mwith\u001b[0m \u001b[0mparallel_backend\u001b[0m\u001b[0;34m(\u001b[0m\u001b[0mself\u001b[0m\u001b[0;34m.\u001b[0m\u001b[0m_backend\u001b[0m\u001b[0;34m,\u001b[0m \u001b[0mn_jobs\u001b[0m\u001b[0;34m=\u001b[0m\u001b[0mself\u001b[0m\u001b[0;34m.\u001b[0m\u001b[0m_n_jobs\u001b[0m\u001b[0;34m)\u001b[0m\u001b[0;34m:\u001b[0m\u001b[0;34m\u001b[0m\u001b[0;34m\u001b[0m\u001b[0m\n\u001b[0;32m--> 262\u001b[0;31m             return [func(*args, **kwargs)\n\u001b[0m\u001b[1;32m    263\u001b[0m                     for func, args, kwargs in self.items]\n\u001b[1;32m    264\u001b[0m \u001b[0;34m\u001b[0m\u001b[0m\n",
      "\u001b[0;32m/opt/conda/lib/python3.9/site-packages/sklearn/utils/fixes.py\u001b[0m in \u001b[0;36m__call__\u001b[0;34m(self, *args, **kwargs)\u001b[0m\n\u001b[1;32m    220\u001b[0m     \u001b[0;32mdef\u001b[0m \u001b[0m__call__\u001b[0m\u001b[0;34m(\u001b[0m\u001b[0mself\u001b[0m\u001b[0;34m,\u001b[0m \u001b[0;34m*\u001b[0m\u001b[0margs\u001b[0m\u001b[0;34m,\u001b[0m \u001b[0;34m**\u001b[0m\u001b[0mkwargs\u001b[0m\u001b[0;34m)\u001b[0m\u001b[0;34m:\u001b[0m\u001b[0;34m\u001b[0m\u001b[0;34m\u001b[0m\u001b[0m\n\u001b[1;32m    221\u001b[0m         \u001b[0;32mwith\u001b[0m \u001b[0mconfig_context\u001b[0m\u001b[0;34m(\u001b[0m\u001b[0;34m**\u001b[0m\u001b[0mself\u001b[0m\u001b[0;34m.\u001b[0m\u001b[0mconfig\u001b[0m\u001b[0;34m)\u001b[0m\u001b[0;34m:\u001b[0m\u001b[0;34m\u001b[0m\u001b[0;34m\u001b[0m\u001b[0m\n\u001b[0;32m--> 222\u001b[0;31m             \u001b[0;32mreturn\u001b[0m \u001b[0mself\u001b[0m\u001b[0;34m.\u001b[0m\u001b[0mfunction\u001b[0m\u001b[0;34m(\u001b[0m\u001b[0;34m*\u001b[0m\u001b[0margs\u001b[0m\u001b[0;34m,\u001b[0m \u001b[0;34m**\u001b[0m\u001b[0mkwargs\u001b[0m\u001b[0;34m)\u001b[0m\u001b[0;34m\u001b[0m\u001b[0;34m\u001b[0m\u001b[0m\n\u001b[0m",
      "\u001b[0;32m/opt/conda/lib/python3.9/site-packages/sklearn/ensemble/_forest.py\u001b[0m in \u001b[0;36m_parallel_build_trees\u001b[0;34m(tree, forest, X, y, sample_weight, tree_idx, n_trees, verbose, class_weight, n_samples_bootstrap)\u001b[0m\n\u001b[1;32m    167\u001b[0m                                                         indices=indices)\n\u001b[1;32m    168\u001b[0m \u001b[0;34m\u001b[0m\u001b[0m\n\u001b[0;32m--> 169\u001b[0;31m         \u001b[0mtree\u001b[0m\u001b[0;34m.\u001b[0m\u001b[0mfit\u001b[0m\u001b[0;34m(\u001b[0m\u001b[0mX\u001b[0m\u001b[0;34m,\u001b[0m \u001b[0my\u001b[0m\u001b[0;34m,\u001b[0m \u001b[0msample_weight\u001b[0m\u001b[0;34m=\u001b[0m\u001b[0mcurr_sample_weight\u001b[0m\u001b[0;34m,\u001b[0m \u001b[0mcheck_input\u001b[0m\u001b[0;34m=\u001b[0m\u001b[0;32mFalse\u001b[0m\u001b[0;34m)\u001b[0m\u001b[0;34m\u001b[0m\u001b[0;34m\u001b[0m\u001b[0m\n\u001b[0m\u001b[1;32m    170\u001b[0m     \u001b[0;32melse\u001b[0m\u001b[0;34m:\u001b[0m\u001b[0;34m\u001b[0m\u001b[0;34m\u001b[0m\u001b[0m\n\u001b[1;32m    171\u001b[0m         \u001b[0mtree\u001b[0m\u001b[0;34m.\u001b[0m\u001b[0mfit\u001b[0m\u001b[0;34m(\u001b[0m\u001b[0mX\u001b[0m\u001b[0;34m,\u001b[0m \u001b[0my\u001b[0m\u001b[0;34m,\u001b[0m \u001b[0msample_weight\u001b[0m\u001b[0;34m=\u001b[0m\u001b[0msample_weight\u001b[0m\u001b[0;34m,\u001b[0m \u001b[0mcheck_input\u001b[0m\u001b[0;34m=\u001b[0m\u001b[0;32mFalse\u001b[0m\u001b[0;34m)\u001b[0m\u001b[0;34m\u001b[0m\u001b[0;34m\u001b[0m\u001b[0m\n",
      "\u001b[0;32m/opt/conda/lib/python3.9/site-packages/sklearn/tree/_classes.py\u001b[0m in \u001b[0;36mfit\u001b[0;34m(self, X, y, sample_weight, check_input, X_idx_sorted)\u001b[0m\n\u001b[1;32m    896\u001b[0m         \"\"\"\n\u001b[1;32m    897\u001b[0m \u001b[0;34m\u001b[0m\u001b[0m\n\u001b[0;32m--> 898\u001b[0;31m         super().fit(\n\u001b[0m\u001b[1;32m    899\u001b[0m             \u001b[0mX\u001b[0m\u001b[0;34m,\u001b[0m \u001b[0my\u001b[0m\u001b[0;34m,\u001b[0m\u001b[0;34m\u001b[0m\u001b[0;34m\u001b[0m\u001b[0m\n\u001b[1;32m    900\u001b[0m             \u001b[0msample_weight\u001b[0m\u001b[0;34m=\u001b[0m\u001b[0msample_weight\u001b[0m\u001b[0;34m,\u001b[0m\u001b[0;34m\u001b[0m\u001b[0;34m\u001b[0m\u001b[0m\n",
      "\u001b[0;32m/opt/conda/lib/python3.9/site-packages/sklearn/tree/_classes.py\u001b[0m in \u001b[0;36mfit\u001b[0;34m(self, X, y, sample_weight, check_input, X_idx_sorted)\u001b[0m\n\u001b[1;32m    188\u001b[0m \u001b[0;34m\u001b[0m\u001b[0m\n\u001b[1;32m    189\u001b[0m         \u001b[0;32mif\u001b[0m \u001b[0mis_classification\u001b[0m\u001b[0;34m:\u001b[0m\u001b[0;34m\u001b[0m\u001b[0;34m\u001b[0m\u001b[0m\n\u001b[0;32m--> 190\u001b[0;31m             \u001b[0mcheck_classification_targets\u001b[0m\u001b[0;34m(\u001b[0m\u001b[0my\u001b[0m\u001b[0;34m)\u001b[0m\u001b[0;34m\u001b[0m\u001b[0;34m\u001b[0m\u001b[0m\n\u001b[0m\u001b[1;32m    191\u001b[0m             \u001b[0my\u001b[0m \u001b[0;34m=\u001b[0m \u001b[0mnp\u001b[0m\u001b[0;34m.\u001b[0m\u001b[0mcopy\u001b[0m\u001b[0;34m(\u001b[0m\u001b[0my\u001b[0m\u001b[0;34m)\u001b[0m\u001b[0;34m\u001b[0m\u001b[0;34m\u001b[0m\u001b[0m\n\u001b[1;32m    192\u001b[0m \u001b[0;34m\u001b[0m\u001b[0m\n",
      "\u001b[0;32m/opt/conda/lib/python3.9/site-packages/sklearn/utils/multiclass.py\u001b[0m in \u001b[0;36mcheck_classification_targets\u001b[0;34m(y)\u001b[0m\n\u001b[1;32m    178\u001b[0m     \u001b[0my\u001b[0m \u001b[0;34m:\u001b[0m \u001b[0marray\u001b[0m\u001b[0;34m-\u001b[0m\u001b[0mlike\u001b[0m\u001b[0;34m\u001b[0m\u001b[0;34m\u001b[0m\u001b[0m\n\u001b[1;32m    179\u001b[0m     \"\"\"\n\u001b[0;32m--> 180\u001b[0;31m     \u001b[0my_type\u001b[0m \u001b[0;34m=\u001b[0m \u001b[0mtype_of_target\u001b[0m\u001b[0;34m(\u001b[0m\u001b[0my\u001b[0m\u001b[0;34m)\u001b[0m\u001b[0;34m\u001b[0m\u001b[0;34m\u001b[0m\u001b[0m\n\u001b[0m\u001b[1;32m    181\u001b[0m     if y_type not in ['binary', 'multiclass', 'multiclass-multioutput',\n\u001b[1;32m    182\u001b[0m                       'multilabel-indicator', 'multilabel-sequences']:\n",
      "\u001b[0;32m/opt/conda/lib/python3.9/site-packages/sklearn/utils/multiclass.py\u001b[0m in \u001b[0;36mtype_of_target\u001b[0;34m(y)\u001b[0m\n\u001b[1;32m    304\u001b[0m         \u001b[0;32mreturn\u001b[0m \u001b[0;34m'continuous'\u001b[0m \u001b[0;34m+\u001b[0m \u001b[0msuffix\u001b[0m\u001b[0;34m\u001b[0m\u001b[0;34m\u001b[0m\u001b[0m\n\u001b[1;32m    305\u001b[0m \u001b[0;34m\u001b[0m\u001b[0m\n\u001b[0;32m--> 306\u001b[0;31m     \u001b[0;32mif\u001b[0m \u001b[0;34m(\u001b[0m\u001b[0mlen\u001b[0m\u001b[0;34m(\u001b[0m\u001b[0mnp\u001b[0m\u001b[0;34m.\u001b[0m\u001b[0munique\u001b[0m\u001b[0;34m(\u001b[0m\u001b[0my\u001b[0m\u001b[0;34m)\u001b[0m\u001b[0;34m)\u001b[0m \u001b[0;34m>\u001b[0m \u001b[0;36m2\u001b[0m\u001b[0;34m)\u001b[0m \u001b[0;32mor\u001b[0m \u001b[0;34m(\u001b[0m\u001b[0my\u001b[0m\u001b[0;34m.\u001b[0m\u001b[0mndim\u001b[0m \u001b[0;34m>=\u001b[0m \u001b[0;36m2\u001b[0m \u001b[0;32mand\u001b[0m \u001b[0mlen\u001b[0m\u001b[0;34m(\u001b[0m\u001b[0my\u001b[0m\u001b[0;34m[\u001b[0m\u001b[0;36m0\u001b[0m\u001b[0;34m]\u001b[0m\u001b[0;34m)\u001b[0m \u001b[0;34m>\u001b[0m \u001b[0;36m1\u001b[0m\u001b[0;34m)\u001b[0m\u001b[0;34m:\u001b[0m\u001b[0;34m\u001b[0m\u001b[0;34m\u001b[0m\u001b[0m\n\u001b[0m\u001b[1;32m    307\u001b[0m         \u001b[0;32mreturn\u001b[0m \u001b[0;34m'multiclass'\u001b[0m \u001b[0;34m+\u001b[0m \u001b[0msuffix\u001b[0m  \u001b[0;31m# [1, 2, 3] or [[1., 2., 3]] or [[1, 2]]\u001b[0m\u001b[0;34m\u001b[0m\u001b[0;34m\u001b[0m\u001b[0m\n\u001b[1;32m    308\u001b[0m     \u001b[0;32melse\u001b[0m\u001b[0;34m:\u001b[0m\u001b[0;34m\u001b[0m\u001b[0;34m\u001b[0m\u001b[0m\n",
      "\u001b[0;32m<__array_function__ internals>\u001b[0m in \u001b[0;36munique\u001b[0;34m(*args, **kwargs)\u001b[0m\n",
      "\u001b[0;32m/opt/conda/lib/python3.9/site-packages/numpy/lib/arraysetops.py\u001b[0m in \u001b[0;36munique\u001b[0;34m(ar, return_index, return_inverse, return_counts, axis)\u001b[0m\n\u001b[1;32m    270\u001b[0m     \u001b[0mar\u001b[0m \u001b[0;34m=\u001b[0m \u001b[0mnp\u001b[0m\u001b[0;34m.\u001b[0m\u001b[0masanyarray\u001b[0m\u001b[0;34m(\u001b[0m\u001b[0mar\u001b[0m\u001b[0;34m)\u001b[0m\u001b[0;34m\u001b[0m\u001b[0;34m\u001b[0m\u001b[0m\n\u001b[1;32m    271\u001b[0m     \u001b[0;32mif\u001b[0m \u001b[0maxis\u001b[0m \u001b[0;32mis\u001b[0m \u001b[0;32mNone\u001b[0m\u001b[0;34m:\u001b[0m\u001b[0;34m\u001b[0m\u001b[0;34m\u001b[0m\u001b[0m\n\u001b[0;32m--> 272\u001b[0;31m         \u001b[0mret\u001b[0m \u001b[0;34m=\u001b[0m \u001b[0m_unique1d\u001b[0m\u001b[0;34m(\u001b[0m\u001b[0mar\u001b[0m\u001b[0;34m,\u001b[0m \u001b[0mreturn_index\u001b[0m\u001b[0;34m,\u001b[0m \u001b[0mreturn_inverse\u001b[0m\u001b[0;34m,\u001b[0m \u001b[0mreturn_counts\u001b[0m\u001b[0;34m)\u001b[0m\u001b[0;34m\u001b[0m\u001b[0;34m\u001b[0m\u001b[0m\n\u001b[0m\u001b[1;32m    273\u001b[0m         \u001b[0;32mreturn\u001b[0m \u001b[0m_unpack_tuple\u001b[0m\u001b[0;34m(\u001b[0m\u001b[0mret\u001b[0m\u001b[0;34m)\u001b[0m\u001b[0;34m\u001b[0m\u001b[0;34m\u001b[0m\u001b[0m\n\u001b[1;32m    274\u001b[0m \u001b[0;34m\u001b[0m\u001b[0m\n",
      "\u001b[0;32m/opt/conda/lib/python3.9/site-packages/numpy/lib/arraysetops.py\u001b[0m in \u001b[0;36m_unique1d\u001b[0;34m(ar, return_index, return_inverse, return_counts)\u001b[0m\n\u001b[1;32m    331\u001b[0m         \u001b[0maux\u001b[0m \u001b[0;34m=\u001b[0m \u001b[0mar\u001b[0m\u001b[0;34m[\u001b[0m\u001b[0mperm\u001b[0m\u001b[0;34m]\u001b[0m\u001b[0;34m\u001b[0m\u001b[0;34m\u001b[0m\u001b[0m\n\u001b[1;32m    332\u001b[0m     \u001b[0;32melse\u001b[0m\u001b[0;34m:\u001b[0m\u001b[0;34m\u001b[0m\u001b[0;34m\u001b[0m\u001b[0m\n\u001b[0;32m--> 333\u001b[0;31m         \u001b[0mar\u001b[0m\u001b[0;34m.\u001b[0m\u001b[0msort\u001b[0m\u001b[0;34m(\u001b[0m\u001b[0;34m)\u001b[0m\u001b[0;34m\u001b[0m\u001b[0;34m\u001b[0m\u001b[0m\n\u001b[0m\u001b[1;32m    334\u001b[0m         \u001b[0maux\u001b[0m \u001b[0;34m=\u001b[0m \u001b[0mar\u001b[0m\u001b[0;34m\u001b[0m\u001b[0;34m\u001b[0m\u001b[0m\n\u001b[1;32m    335\u001b[0m     \u001b[0mmask\u001b[0m \u001b[0;34m=\u001b[0m \u001b[0mnp\u001b[0m\u001b[0;34m.\u001b[0m\u001b[0mempty\u001b[0m\u001b[0;34m(\u001b[0m\u001b[0maux\u001b[0m\u001b[0;34m.\u001b[0m\u001b[0mshape\u001b[0m\u001b[0;34m,\u001b[0m \u001b[0mdtype\u001b[0m\u001b[0;34m=\u001b[0m\u001b[0mnp\u001b[0m\u001b[0;34m.\u001b[0m\u001b[0mbool_\u001b[0m\u001b[0;34m)\u001b[0m\u001b[0;34m\u001b[0m\u001b[0;34m\u001b[0m\u001b[0m\n",
      "\u001b[0;31mKeyboardInterrupt\u001b[0m: "
     ]
    }
   ],
   "source": [
    "res = []\n",
    "for est in tqdm(range(100,200,10)):\n",
    "    for depth in range(2,25):\n",
    "        model = RandomForestClassifier(n_estimators = est, max_depth=depth, random_state=12345, class_weight = 'balanced')\n",
    "        model.fit(features_train, target_train)\n",
    "        preds = model.predict(features_valid)\n",
    "        preds_test = model.predict(features_test)\n",
    "        res.append([f1_score(target_valid, preds), f1_score(target_test, preds_test), depth, est])\n",
    "        \n",
    "best = max(res, key = lambda x: x[1])\n",
    "res = pd.DataFrame(res)\n",
    "\n",
    "res.columns = ['f1_valid','f1_test', 'depth', 'est']\n",
    "sns.relplot(x='depth', \n",
    "            y='est', \n",
    "            hue='f1_test', \n",
    "            size = 'f1_test',\n",
    "            data=res,\n",
    "            sizes=(20, 150),\n",
    "           legend = False,\n",
    "           alpha=0.6);\n",
    "sns.scatterplot(data=res[res['f1_test'] == best[1]], x = 'depth', y = 'est', color='red', label='best_F1_test', marker='x', s=200)\n",
    "plt.legend(bbox_to_anchor=(1.02, 1), loc='upper left', borderaxespad=0)\n",
    "top_model.append([best[1], 'Случайный лес', 'balanced'])\n",
    "f'Лучшее решение : F1 = {best[1]} est = {best[3]}, depth = {best[2]}'"
   ]
  },
  {
   "cell_type": "code",
   "execution_count": null,
   "metadata": {},
   "outputs": [],
   "source": [
    "model = RandomForestClassifier(n_estimators = best[3], max_depth=best[2], random_state=12345, class_weight = 'balanced')\n",
    "model.fit(features_train, target_train)\n",
    "print_roc(features_test, target_test, model, 'Лес')"
   ]
  },
  {
   "cell_type": "markdown",
   "metadata": {},
   "source": [
    "#### Решающее дерево"
   ]
  },
  {
   "cell_type": "code",
   "execution_count": null,
   "metadata": {},
   "outputs": [],
   "source": [
    "res = []\n",
    "for depth in tqdm(range(2,25)):\n",
    "    model = DecisionTreeClassifier(max_depth=depth, random_state=12345, class_weight = 'balanced')\n",
    "    model.fit(features_train, target_train)\n",
    "    preds = model.predict(features_valid)\n",
    "    preds_test = model.predict(features_test)\n",
    "    res.append([f1_score(target_valid, preds), f1_score(target_test, preds_test), depth])\n",
    "        \n",
    "best = max(res, key = lambda x: x[1])\n",
    "res = pd.DataFrame(res)\n",
    "res.columns = ['f1_valid', 'f1_test', 'depth']\n",
    "sns.lineplot(data=res, x=\"depth\", y=\"f1_test\")\n",
    "sns.scatterplot(data=res[res['f1_test'] == best[1]], x = 'depth', y = 'f1_test', color='red', label='best_F1_test', marker='x', s=200)\n",
    "plt.legend(bbox_to_anchor=(1.02, 1), loc='upper left', borderaxespad=0)\n",
    "top_model.append([best[1], 'Решающее дерево', 'balanced'])\n",
    "f'Лучшее решение : F1 = {best[1]} depth = {best[2]}'"
   ]
  },
  {
   "cell_type": "code",
   "execution_count": null,
   "metadata": {},
   "outputs": [],
   "source": [
    "model = DecisionTreeClassifier(max_depth=best[2], random_state=12345, class_weight = 'balanced')\n",
    "model.fit(features_train, target_train)\n",
    "print_roc(features_test, target_test, model, 'Дерево')"
   ]
  },
  {
   "cell_type": "markdown",
   "metadata": {},
   "source": [
    "#### Логистическая регрессия"
   ]
  },
  {
   "cell_type": "code",
   "execution_count": null,
   "metadata": {},
   "outputs": [],
   "source": [
    "model = LogisticRegression(random_state=12345, solver='liblinear',class_weight = 'balanced')\n",
    "model.fit(features_train, target_train)\n",
    "preds_test = model.predict(features_test)\n",
    "print_roc(features_test, target_test, model, 'Логистическая регрессия')\n",
    "top_model.append([f1_score(target_test, preds_test), 'Логистическая регрессия', 'balanced'])\n",
    "f'F1 = {f1_score(target_test, preds_test)}'"
   ]
  },
  {
   "cell_type": "markdown",
   "metadata": {},
   "source": [
    "#### Наивная модель"
   ]
  },
  {
   "cell_type": "code",
   "execution_count": null,
   "metadata": {},
   "outputs": [],
   "source": [
    "model = DummyClassifier(strategy='most_frequent')\n",
    "model.fit(features_train, target_train)\n",
    "preds_test = model.predict(features_test)\n",
    "print_roc(features_test, target_test, model, 'Most frequent')\n",
    "f'F1 = {f1_score(target_test, preds_test)}' "
   ]
  },
  {
   "cell_type": "markdown",
   "metadata": {},
   "source": [
    "## Тестирование модели"
   ]
  },
  {
   "cell_type": "code",
   "execution_count": null,
   "metadata": {},
   "outputs": [],
   "source": [
    "features_test, features_train = f_t[0][2], f_t_over[0][0]\n",
    "target_test, target_train = f_t[1][2], f_t_over[1][0]\n",
    "\n",
    "model = RandomForestClassifier(n_estimators = 100, max_depth=23, random_state=12345)\n",
    "model.fit(features_train, target_train)\n",
    "preds = model.predict(features_test)\n",
    "print_roc(features_test, target_test, model, label='Лес')\n",
    "\n",
    "f'F1 = {f1_score(target_test, preds)}'"
   ]
  },
  {
   "cell_type": "code",
   "execution_count": null,
   "metadata": {},
   "outputs": [],
   "source": [
    "def print_roc(features_test, target_test, model, label = 'ROC-кривая'):\n",
    "    # предказания\n",
    "    lr_probs = model.predict_proba(features_test)\n",
    "    # вероятности положительного исхода\n",
    "    lr_probs = lr_probs[:, 1]\n",
    "    # ROC AUC\n",
    "    lr_auc = roc_auc_score(target_test, lr_probs)\n",
    "    print('ROC AUC=%.3f' % (lr_auc))\n",
    "    # roc-кривая\n",
    "    fpr, tpr, treshold = roc_curve(target_test, lr_probs)\n",
    "    roc_auc = auc(fpr, tpr)\n",
    "    # график\n",
    "    plt.plot(fpr, tpr, color='darkorange',\n",
    "             label='ROC кривая (area = %0.2f)' % roc_auc)\n",
    "    plt.plot([0, 1], [0, 1], color='navy', linestyle='--')\n",
    "    plt.xlim([0.0, 1.0])\n",
    "    plt.ylim([0.0, 1.05])\n",
    "    plt.xlabel('False Positive Rate')\n",
    "    plt.ylabel('True Positive Rate')\n",
    "    plt.title(label)\n",
    "    plt.legend(loc=\"lower right\")\n",
    "    plt.show()"
   ]
  },
  {
   "cell_type": "markdown",
   "metadata": {},
   "source": [
    "### Промежуточные выводы\n",
    "\n",
    "Благодаря оверсемплингу модели стали лучше опозновать и не упускать истинный класс."
   ]
  },
  {
   "cell_type": "markdown",
   "metadata": {},
   "source": [
    "## Итоги и рекомендации\n",
    "\n",
    "Рекомендации:\n",
    "- Пол - бинарный признак и тип столбца следует изменить на логический;\n",
    "- Слова в названиях столбцов следует разделять;\n",
    "- Не следует добавлять в признаки id и индексы.\n",
    "\n",
    "Итоги:\n",
    "- Были обучены модели случайного леса, решающего дерева и логистической регрессии для бинарной классификации признака ухода человека из банка. Из-за несбалансированности целевого признака, добиться результата с метрикой f1, равной 0.59 не удалось.\n",
    "\n",
    "- Данные были дополнены случайными значениями с истинным ключевым признаком и перемешаны, затем модели были обучены на искусственно сбалансированном датасете.\n",
    "\n",
    "- С применением нормализации и oversampling лучшие показатели у случайного леса - F1 = 0.78, ROC AUC=0.95. Без нормализации,с oversampling лучшие показатели у случайного леса - F1 = 0.90, ROC AUC=0.99.\n",
    "\n",
    "- Нормализация положительно влияет на показатели F1 у логистической регрессии.\n"
   ]
  },
  {
   "cell_type": "code",
   "execution_count": null,
   "metadata": {},
   "outputs": [],
   "source": [
    "top_model = pd.DataFrame(top_model)\n",
    "top_model.columns = ['F1', 'model_type', 'method']\n",
    "top_model.sort_values('F1', ascending=False)"
   ]
  },
  {
   "cell_type": "code",
   "execution_count": null,
   "metadata": {},
   "outputs": [],
   "source": []
  }
 ],
 "metadata": {
  "ExecuteTimeLog": [
   {
    "duration": 58,
    "start_time": "2023-03-19T16:15:43.886Z"
   },
   {
    "duration": 1674,
    "start_time": "2023-03-19T16:33:48.513Z"
   },
   {
    "duration": 1589,
    "start_time": "2023-03-19T16:33:50.190Z"
   },
   {
    "duration": 9,
    "start_time": "2023-03-19T16:33:51.781Z"
   },
   {
    "duration": 6,
    "start_time": "2023-03-19T16:33:51.792Z"
   },
   {
    "duration": 96,
    "start_time": "2023-03-19T16:33:51.800Z"
   },
   {
    "duration": 239076,
    "start_time": "2023-03-19T16:33:51.898Z"
   },
   {
    "duration": 13,
    "start_time": "2023-03-19T16:37:50.976Z"
   },
   {
    "duration": 216885,
    "start_time": "2023-03-19T16:37:50.991Z"
   },
   {
    "duration": 2078,
    "start_time": "2023-03-19T16:41:27.878Z"
   },
   {
    "duration": 252,
    "start_time": "2023-03-19T16:41:29.958Z"
   },
   {
    "duration": 13,
    "start_time": "2023-03-19T16:41:30.212Z"
   },
   {
    "duration": 54,
    "start_time": "2023-03-19T16:44:19.100Z"
   },
   {
    "duration": 13,
    "start_time": "2023-03-19T16:53:34.148Z"
   },
   {
    "duration": 47,
    "start_time": "2023-03-19T16:58:13.753Z"
   },
   {
    "duration": 1505,
    "start_time": "2023-03-20T07:21:25.273Z"
   },
   {
    "duration": 1281,
    "start_time": "2023-03-20T07:21:27.472Z"
   },
   {
    "duration": 22,
    "start_time": "2023-03-20T07:21:37.711Z"
   },
   {
    "duration": 116,
    "start_time": "2023-03-20T07:23:28.417Z"
   },
   {
    "duration": 1025,
    "start_time": "2023-03-20T07:23:43.587Z"
   },
   {
    "duration": 20,
    "start_time": "2023-03-20T07:24:04.762Z"
   },
   {
    "duration": 3,
    "start_time": "2023-03-20T07:29:37.533Z"
   },
   {
    "duration": 27,
    "start_time": "2023-03-20T07:32:00.419Z"
   },
   {
    "duration": 27,
    "start_time": "2023-03-20T07:32:16.820Z"
   },
   {
    "duration": 18,
    "start_time": "2023-03-20T07:32:42.827Z"
   },
   {
    "duration": 7,
    "start_time": "2023-03-20T07:33:53.805Z"
   },
   {
    "duration": 8,
    "start_time": "2023-03-20T07:33:57.122Z"
   },
   {
    "duration": 9,
    "start_time": "2023-03-20T07:34:23.715Z"
   },
   {
    "duration": 9,
    "start_time": "2023-03-20T07:39:50.835Z"
   },
   {
    "duration": 10,
    "start_time": "2023-03-20T07:42:46.445Z"
   },
   {
    "duration": 7,
    "start_time": "2023-03-20T07:43:12.291Z"
   },
   {
    "duration": 31,
    "start_time": "2023-03-20T07:43:20.309Z"
   },
   {
    "duration": 11,
    "start_time": "2023-03-20T07:46:14.014Z"
   },
   {
    "duration": 13,
    "start_time": "2023-03-20T07:48:39.163Z"
   },
   {
    "duration": 34,
    "start_time": "2023-03-20T07:49:18.530Z"
   },
   {
    "duration": 25,
    "start_time": "2023-03-20T08:04:31.042Z"
   },
   {
    "duration": 4,
    "start_time": "2023-03-20T08:04:53.048Z"
   },
   {
    "duration": 19,
    "start_time": "2023-03-20T08:06:47.373Z"
   },
   {
    "duration": 25,
    "start_time": "2023-03-20T08:06:49.231Z"
   },
   {
    "duration": 23,
    "start_time": "2023-03-20T08:07:19.600Z"
   },
   {
    "duration": 20,
    "start_time": "2023-03-20T08:08:57.603Z"
   },
   {
    "duration": 40,
    "start_time": "2023-03-20T08:09:03.566Z"
   },
   {
    "duration": 49,
    "start_time": "2023-03-20T08:09:44.528Z"
   },
   {
    "duration": 20,
    "start_time": "2023-03-20T08:15:39.717Z"
   },
   {
    "duration": 17,
    "start_time": "2023-03-20T08:15:42.337Z"
   },
   {
    "duration": 32,
    "start_time": "2023-03-20T08:15:45.982Z"
   },
   {
    "duration": 50,
    "start_time": "2023-03-20T08:16:17.678Z"
   },
   {
    "duration": 22,
    "start_time": "2023-03-20T08:18:08.647Z"
   },
   {
    "duration": 65,
    "start_time": "2023-03-20T08:28:16.696Z"
   },
   {
    "duration": 1402,
    "start_time": "2023-03-20T08:28:32.394Z"
   },
   {
    "duration": 1160,
    "start_time": "2023-03-20T08:28:37.397Z"
   },
   {
    "duration": 28,
    "start_time": "2023-03-20T08:28:42.279Z"
   },
   {
    "duration": 167,
    "start_time": "2023-03-20T08:28:47.433Z"
   },
   {
    "duration": 891,
    "start_time": "2023-03-20T08:29:07.271Z"
   },
   {
    "duration": 868,
    "start_time": "2023-03-20T08:29:36.354Z"
   },
   {
    "duration": 32,
    "start_time": "2023-03-20T08:31:26.808Z"
   },
   {
    "duration": 35,
    "start_time": "2023-03-20T08:31:51.517Z"
   },
   {
    "duration": 40,
    "start_time": "2023-03-20T08:31:58.100Z"
   },
   {
    "duration": 28,
    "start_time": "2023-03-20T08:33:28.814Z"
   },
   {
    "duration": 40,
    "start_time": "2023-03-20T08:33:39.291Z"
   },
   {
    "duration": 23,
    "start_time": "2023-03-20T08:34:28.346Z"
   },
   {
    "duration": 39,
    "start_time": "2023-03-20T08:34:51.497Z"
   },
   {
    "duration": 34,
    "start_time": "2023-03-20T08:35:52.929Z"
   },
   {
    "duration": 38,
    "start_time": "2023-03-20T08:35:56.153Z"
   },
   {
    "duration": 34,
    "start_time": "2023-03-20T08:36:14.858Z"
   },
   {
    "duration": 35,
    "start_time": "2023-03-20T08:37:05.007Z"
   },
   {
    "duration": 38,
    "start_time": "2023-03-20T08:38:33.625Z"
   },
   {
    "duration": 39,
    "start_time": "2023-03-20T08:38:36.367Z"
   },
   {
    "duration": 24,
    "start_time": "2023-03-20T08:39:21.197Z"
   },
   {
    "duration": 45,
    "start_time": "2023-03-20T08:39:44.671Z"
   },
   {
    "duration": 67,
    "start_time": "2023-03-20T08:40:08.674Z"
   },
   {
    "duration": 61,
    "start_time": "2023-03-20T08:59:26.975Z"
   },
   {
    "duration": 20,
    "start_time": "2023-03-20T09:06:20.710Z"
   },
   {
    "duration": 31,
    "start_time": "2023-03-20T09:06:34.214Z"
   },
   {
    "duration": 27,
    "start_time": "2023-03-20T09:06:55.668Z"
   },
   {
    "duration": 4227,
    "start_time": "2023-03-20T09:06:59.748Z"
   },
   {
    "duration": 4220,
    "start_time": "2023-03-20T09:07:19.522Z"
   },
   {
    "duration": 3793,
    "start_time": "2023-03-20T09:15:11.517Z"
   },
   {
    "duration": 4,
    "start_time": "2023-03-20T09:15:32.095Z"
   },
   {
    "duration": 4064,
    "start_time": "2023-03-20T09:15:39.974Z"
   },
   {
    "duration": 3967,
    "start_time": "2023-03-20T09:17:08.949Z"
   },
   {
    "duration": 3892,
    "start_time": "2023-03-20T09:24:04.950Z"
   },
   {
    "duration": 3925,
    "start_time": "2023-03-20T09:24:38.560Z"
   },
   {
    "duration": 3863,
    "start_time": "2023-03-20T09:24:45.371Z"
   },
   {
    "duration": 3950,
    "start_time": "2023-03-20T09:25:12.296Z"
   },
   {
    "duration": 229218,
    "start_time": "2023-03-20T09:25:50.051Z"
   },
   {
    "duration": 5807,
    "start_time": "2023-03-20T09:40:59.047Z"
   },
   {
    "duration": 5650,
    "start_time": "2023-03-20T09:44:16.520Z"
   },
   {
    "duration": 5684,
    "start_time": "2023-03-20T09:44:29.953Z"
   },
   {
    "duration": 234370,
    "start_time": "2023-03-20T09:46:00.846Z"
   },
   {
    "duration": 5946,
    "start_time": "2023-03-20T09:51:26.301Z"
   },
   {
    "duration": 5444,
    "start_time": "2023-03-20T09:51:49.624Z"
   },
   {
    "duration": 5313,
    "start_time": "2023-03-20T09:52:12.552Z"
   },
   {
    "duration": 5635,
    "start_time": "2023-03-20T09:52:19.215Z"
   },
   {
    "duration": 5062,
    "start_time": "2023-03-20T10:05:28.685Z"
   },
   {
    "duration": 5090,
    "start_time": "2023-03-20T10:05:44.979Z"
   },
   {
    "duration": 5445,
    "start_time": "2023-03-20T10:07:25.912Z"
   },
   {
    "duration": 5536,
    "start_time": "2023-03-20T10:07:42.270Z"
   },
   {
    "duration": 5361,
    "start_time": "2023-03-20T10:08:15.920Z"
   },
   {
    "duration": 5224,
    "start_time": "2023-03-20T10:08:25.397Z"
   },
   {
    "duration": 225286,
    "start_time": "2023-03-20T10:10:02.065Z"
   },
   {
    "duration": 5545,
    "start_time": "2023-03-20T10:22:12.809Z"
   },
   {
    "duration": 5515,
    "start_time": "2023-03-20T10:25:11.364Z"
   },
   {
    "duration": 5470,
    "start_time": "2023-03-20T10:25:22.306Z"
   },
   {
    "duration": 5712,
    "start_time": "2023-03-20T10:38:56.250Z"
   },
   {
    "duration": 238285,
    "start_time": "2023-03-20T10:39:21.876Z"
   },
   {
    "duration": 3934,
    "start_time": "2023-03-20T10:48:57.654Z"
   },
   {
    "duration": 3342,
    "start_time": "2023-03-20T10:49:07.450Z"
   },
   {
    "duration": 2928,
    "start_time": "2023-03-20T10:52:45.419Z"
   },
   {
    "duration": 237506,
    "start_time": "2023-03-20T10:52:58.259Z"
   },
   {
    "duration": 79,
    "start_time": "2023-03-20T10:58:51.595Z"
   },
   {
    "duration": 2821,
    "start_time": "2023-03-20T10:58:57.413Z"
   },
   {
    "duration": 5563,
    "start_time": "2023-03-20T10:59:14.167Z"
   },
   {
    "duration": 5691,
    "start_time": "2023-03-20T10:59:31.757Z"
   },
   {
    "duration": 105426,
    "start_time": "2023-03-20T10:59:50.664Z"
   },
   {
    "duration": 240340,
    "start_time": "2023-03-20T11:01:45.401Z"
   },
   {
    "duration": 7534,
    "start_time": "2023-03-20T11:09:54.576Z"
   },
   {
    "duration": 7516,
    "start_time": "2023-03-20T11:10:20.171Z"
   },
   {
    "duration": 7248,
    "start_time": "2023-03-20T11:12:02.839Z"
   },
   {
    "duration": 7533,
    "start_time": "2023-03-20T11:12:26.867Z"
   },
   {
    "duration": 7675,
    "start_time": "2023-03-20T11:13:05.409Z"
   },
   {
    "duration": 7582,
    "start_time": "2023-03-20T11:13:28.168Z"
   },
   {
    "duration": 7231,
    "start_time": "2023-03-20T11:14:23.426Z"
   },
   {
    "duration": 7614,
    "start_time": "2023-03-20T11:14:43.963Z"
   },
   {
    "duration": 7193,
    "start_time": "2023-03-20T11:16:11.322Z"
   },
   {
    "duration": 7243,
    "start_time": "2023-03-20T11:16:25.754Z"
   },
   {
    "duration": 7462,
    "start_time": "2023-03-20T11:16:56.752Z"
   },
   {
    "duration": 7176,
    "start_time": "2023-03-20T11:17:11.706Z"
   },
   {
    "duration": 7130,
    "start_time": "2023-03-20T11:20:02.257Z"
   },
   {
    "duration": 239387,
    "start_time": "2023-03-20T11:20:45.483Z"
   },
   {
    "duration": 6084,
    "start_time": "2023-03-20T11:37:11.561Z"
   },
   {
    "duration": 7268,
    "start_time": "2023-03-20T11:37:35.494Z"
   },
   {
    "duration": 7568,
    "start_time": "2023-03-20T11:38:46.224Z"
   },
   {
    "duration": 5,
    "start_time": "2023-03-20T12:48:45.878Z"
   },
   {
    "duration": 961,
    "start_time": "2023-03-20T12:51:51.731Z"
   },
   {
    "duration": 1017,
    "start_time": "2023-03-20T12:52:30.660Z"
   },
   {
    "duration": 4,
    "start_time": "2023-03-20T12:53:50.836Z"
   },
   {
    "duration": 5302,
    "start_time": "2023-03-20T12:54:36.662Z"
   },
   {
    "duration": 1307,
    "start_time": "2023-03-20T12:55:35.818Z"
   },
   {
    "duration": 1190,
    "start_time": "2023-03-20T13:00:00.892Z"
   },
   {
    "duration": 26,
    "start_time": "2023-03-20T13:00:05.515Z"
   },
   {
    "duration": 71,
    "start_time": "2023-03-20T13:00:08.769Z"
   },
   {
    "duration": 27,
    "start_time": "2023-03-20T13:00:49.914Z"
   },
   {
    "duration": 24,
    "start_time": "2023-03-20T13:01:19.602Z"
   },
   {
    "duration": 16,
    "start_time": "2023-03-20T13:01:28.849Z"
   },
   {
    "duration": 1843,
    "start_time": "2023-03-20T13:01:32.841Z"
   },
   {
    "duration": 247,
    "start_time": "2023-03-20T13:01:44.204Z"
   },
   {
    "duration": 16,
    "start_time": "2023-03-20T13:06:32.955Z"
   },
   {
    "duration": 15,
    "start_time": "2023-03-20T13:06:46.550Z"
   },
   {
    "duration": 1472,
    "start_time": "2023-03-20T13:06:49.811Z"
   },
   {
    "duration": 165,
    "start_time": "2023-03-20T13:07:17.681Z"
   },
   {
    "duration": 1387,
    "start_time": "2023-03-20T13:07:24.500Z"
   },
   {
    "duration": 165,
    "start_time": "2023-03-20T13:09:16.181Z"
   },
   {
    "duration": 2234,
    "start_time": "2023-03-20T13:10:16.024Z"
   },
   {
    "duration": 5,
    "start_time": "2023-03-20T13:12:55.206Z"
   },
   {
    "duration": 7,
    "start_time": "2023-03-20T13:15:37.444Z"
   },
   {
    "duration": 149,
    "start_time": "2023-03-20T13:16:03.716Z"
   },
   {
    "duration": 172,
    "start_time": "2023-03-20T13:16:23.042Z"
   },
   {
    "duration": 149,
    "start_time": "2023-03-20T13:16:32.653Z"
   },
   {
    "duration": 151,
    "start_time": "2023-03-20T13:16:53.695Z"
   },
   {
    "duration": 2598,
    "start_time": "2023-03-20T13:17:28.656Z"
   },
   {
    "duration": 264,
    "start_time": "2023-03-20T13:26:16.275Z"
   },
   {
    "duration": 5,
    "start_time": "2023-03-20T13:26:54.645Z"
   },
   {
    "duration": 1158,
    "start_time": "2023-03-20T13:26:54.653Z"
   },
   {
    "duration": 28,
    "start_time": "2023-03-20T13:26:55.813Z"
   },
   {
    "duration": 9,
    "start_time": "2023-03-20T13:26:55.843Z"
   },
   {
    "duration": 71,
    "start_time": "2023-03-20T13:26:55.854Z"
   },
   {
    "duration": 67,
    "start_time": "2023-03-20T13:26:55.928Z"
   },
   {
    "duration": 54,
    "start_time": "2023-03-20T13:26:55.997Z"
   },
   {
    "duration": 7103,
    "start_time": "2023-03-20T13:26:56.053Z"
   },
   {
    "duration": 1040,
    "start_time": "2023-03-20T13:27:03.158Z"
   },
   {
    "duration": 1046,
    "start_time": "2023-03-20T13:27:04.200Z"
   },
   {
    "duration": 189,
    "start_time": "2023-03-20T13:27:05.248Z"
   },
   {
    "duration": 495,
    "start_time": "2023-03-20T13:27:05.439Z"
   },
   {
    "duration": 1050,
    "start_time": "2023-03-20T13:27:05.936Z"
   },
   {
    "duration": 312,
    "start_time": "2023-03-20T13:30:26.055Z"
   },
   {
    "duration": 1008,
    "start_time": "2023-03-20T13:30:57.126Z"
   },
   {
    "duration": 167,
    "start_time": "2023-03-20T13:31:41.951Z"
   },
   {
    "duration": 1179,
    "start_time": "2023-03-20T13:32:22.980Z"
   },
   {
    "duration": 1100,
    "start_time": "2023-03-20T13:32:59.787Z"
   },
   {
    "duration": 145,
    "start_time": "2023-03-20T13:33:35.539Z"
   },
   {
    "duration": 55,
    "start_time": "2023-03-20T19:45:29.090Z"
   },
   {
    "duration": 1791,
    "start_time": "2023-03-20T19:45:46.465Z"
   },
   {
    "duration": 1232,
    "start_time": "2023-03-20T19:45:50.121Z"
   },
   {
    "duration": 20,
    "start_time": "2023-03-20T19:45:54.056Z"
   },
   {
    "duration": 40,
    "start_time": "2023-03-20T19:45:58.335Z"
   },
   {
    "duration": 28,
    "start_time": "2023-03-20T19:46:02.965Z"
   },
   {
    "duration": 104,
    "start_time": "2023-03-20T19:46:14.569Z"
   },
   {
    "duration": 15,
    "start_time": "2023-03-20T19:46:22.568Z"
   },
   {
    "duration": 1836,
    "start_time": "2023-03-20T19:46:28.444Z"
   },
   {
    "duration": 1895,
    "start_time": "2023-03-20T19:47:20.903Z"
   },
   {
    "duration": 33,
    "start_time": "2023-03-20T19:49:21.846Z"
   },
   {
    "duration": 7,
    "start_time": "2023-03-20T19:49:26.680Z"
   },
   {
    "duration": 34,
    "start_time": "2023-03-20T19:49:32.891Z"
   },
   {
    "duration": 1781,
    "start_time": "2023-03-20T19:49:45.350Z"
   },
   {
    "duration": 27,
    "start_time": "2023-03-20T19:50:46.699Z"
   },
   {
    "duration": 24,
    "start_time": "2023-03-20T19:51:02.000Z"
   },
   {
    "duration": 48,
    "start_time": "2023-03-20T19:52:39.152Z"
   },
   {
    "duration": 49,
    "start_time": "2023-03-20T19:52:46.739Z"
   },
   {
    "duration": 32,
    "start_time": "2023-03-20T19:52:50.213Z"
   },
   {
    "duration": 22,
    "start_time": "2023-03-20T19:53:09.516Z"
   },
   {
    "duration": 48,
    "start_time": "2023-03-20T19:53:58.258Z"
   },
   {
    "duration": 1907,
    "start_time": "2023-03-20T19:54:05.705Z"
   },
   {
    "duration": 1704,
    "start_time": "2023-03-21T07:57:39.499Z"
   },
   {
    "duration": 1439,
    "start_time": "2023-03-21T07:57:43.955Z"
   },
   {
    "duration": 23,
    "start_time": "2023-03-21T07:57:47.822Z"
   },
   {
    "duration": 7,
    "start_time": "2023-03-21T07:57:55.367Z"
   },
   {
    "duration": 33,
    "start_time": "2023-03-21T07:58:02.294Z"
   },
   {
    "duration": 127,
    "start_time": "2023-03-21T07:58:46.395Z"
   },
   {
    "duration": 15,
    "start_time": "2023-03-21T07:58:50.741Z"
   },
   {
    "duration": 25,
    "start_time": "2023-03-21T07:58:52.948Z"
   },
   {
    "duration": 191979,
    "start_time": "2023-03-21T07:59:13.719Z"
   },
   {
    "duration": 30,
    "start_time": "2023-03-21T08:03:33.531Z"
   },
   {
    "duration": 142,
    "start_time": "2023-03-21T08:03:40.950Z"
   },
   {
    "duration": 920,
    "start_time": "2023-03-21T08:04:21.294Z"
   },
   {
    "duration": 418,
    "start_time": "2023-03-21T08:04:44.593Z"
   },
   {
    "duration": 303,
    "start_time": "2023-03-21T08:06:46.545Z"
   },
   {
    "duration": 1390,
    "start_time": "2023-03-21T08:07:00.847Z"
   },
   {
    "duration": 246,
    "start_time": "2023-03-21T08:07:04.916Z"
   },
   {
    "duration": 164,
    "start_time": "2023-03-21T08:08:49.484Z"
   },
   {
    "duration": 40,
    "start_time": "2023-03-21T08:11:01.653Z"
   },
   {
    "duration": 988,
    "start_time": "2023-03-21T08:11:13.494Z"
   },
   {
    "duration": 42,
    "start_time": "2023-03-21T08:12:49.242Z"
   },
   {
    "duration": 4218,
    "start_time": "2023-03-21T08:12:51.431Z"
   },
   {
    "duration": 1158,
    "start_time": "2023-03-21T08:12:59.441Z"
   },
   {
    "duration": 594,
    "start_time": "2023-03-21T08:16:49.898Z"
   },
   {
    "duration": 675,
    "start_time": "2023-03-21T08:18:51.692Z"
   },
   {
    "duration": 453,
    "start_time": "2023-03-21T08:19:08.395Z"
   },
   {
    "duration": 860,
    "start_time": "2023-03-21T08:19:13.107Z"
   },
   {
    "duration": 1395,
    "start_time": "2023-03-21T08:19:23.195Z"
   },
   {
    "duration": 165,
    "start_time": "2023-03-21T08:20:23.039Z"
   },
   {
    "duration": 45,
    "start_time": "2023-03-21T08:27:15.664Z"
   },
   {
    "duration": 3,
    "start_time": "2023-03-21T08:33:23.638Z"
   },
   {
    "duration": 997,
    "start_time": "2023-03-21T08:33:51.390Z"
   },
   {
    "duration": 859,
    "start_time": "2023-03-21T08:34:14.595Z"
   },
   {
    "duration": 1080,
    "start_time": "2023-03-21T08:34:19.940Z"
   },
   {
    "duration": 183,
    "start_time": "2023-03-21T08:34:32.370Z"
   },
   {
    "duration": 163,
    "start_time": "2023-03-21T08:34:39.844Z"
   },
   {
    "duration": 339,
    "start_time": "2023-03-21T08:34:47.918Z"
   },
   {
    "duration": 5,
    "start_time": "2023-03-21T08:35:27.291Z"
   },
   {
    "duration": 1124,
    "start_time": "2023-03-21T08:35:27.299Z"
   },
   {
    "duration": 22,
    "start_time": "2023-03-21T08:35:28.425Z"
   },
   {
    "duration": 5,
    "start_time": "2023-03-21T08:35:28.448Z"
   },
   {
    "duration": 7,
    "start_time": "2023-03-21T08:35:28.455Z"
   },
   {
    "duration": 22,
    "start_time": "2023-03-21T08:35:28.464Z"
   },
   {
    "duration": 0,
    "start_time": "2023-03-21T08:35:28.488Z"
   },
   {
    "duration": 1,
    "start_time": "2023-03-21T08:35:28.489Z"
   },
   {
    "duration": 0,
    "start_time": "2023-03-21T08:35:28.491Z"
   },
   {
    "duration": 0,
    "start_time": "2023-03-21T08:35:28.492Z"
   },
   {
    "duration": 0,
    "start_time": "2023-03-21T08:35:28.493Z"
   },
   {
    "duration": 0,
    "start_time": "2023-03-21T08:35:28.522Z"
   },
   {
    "duration": 0,
    "start_time": "2023-03-21T08:35:28.524Z"
   },
   {
    "duration": 0,
    "start_time": "2023-03-21T08:35:28.526Z"
   },
   {
    "duration": 0,
    "start_time": "2023-03-21T08:35:28.526Z"
   },
   {
    "duration": 0,
    "start_time": "2023-03-21T08:35:28.527Z"
   },
   {
    "duration": 0,
    "start_time": "2023-03-21T08:35:28.529Z"
   },
   {
    "duration": 0,
    "start_time": "2023-03-21T08:35:28.530Z"
   },
   {
    "duration": 0,
    "start_time": "2023-03-21T08:35:28.531Z"
   },
   {
    "duration": 0,
    "start_time": "2023-03-21T08:35:28.532Z"
   },
   {
    "duration": 0,
    "start_time": "2023-03-21T08:35:28.533Z"
   },
   {
    "duration": 0,
    "start_time": "2023-03-21T08:35:28.534Z"
   },
   {
    "duration": 0,
    "start_time": "2023-03-21T08:35:28.535Z"
   },
   {
    "duration": 0,
    "start_time": "2023-03-21T08:35:28.536Z"
   },
   {
    "duration": 0,
    "start_time": "2023-03-21T08:35:28.537Z"
   },
   {
    "duration": 0,
    "start_time": "2023-03-21T08:35:28.539Z"
   },
   {
    "duration": 0,
    "start_time": "2023-03-21T08:35:28.540Z"
   },
   {
    "duration": 14,
    "start_time": "2023-03-21T08:38:28.487Z"
   },
   {
    "duration": 46,
    "start_time": "2023-03-21T08:42:04.749Z"
   },
   {
    "duration": 9,
    "start_time": "2023-03-21T08:42:59.313Z"
   },
   {
    "duration": 75,
    "start_time": "2023-03-21T08:43:06.207Z"
   },
   {
    "duration": 72,
    "start_time": "2023-03-21T08:43:44.193Z"
   },
   {
    "duration": 75,
    "start_time": "2023-03-21T08:43:54.676Z"
   },
   {
    "duration": 77,
    "start_time": "2023-03-21T08:44:02.703Z"
   },
   {
    "duration": 56,
    "start_time": "2023-03-21T08:44:12.291Z"
   },
   {
    "duration": 75,
    "start_time": "2023-03-21T08:44:41.530Z"
   },
   {
    "duration": 5,
    "start_time": "2023-03-21T08:45:03.676Z"
   },
   {
    "duration": 1022,
    "start_time": "2023-03-21T08:45:03.683Z"
   },
   {
    "duration": 43,
    "start_time": "2023-03-21T08:45:04.706Z"
   },
   {
    "duration": 5,
    "start_time": "2023-03-21T08:45:04.750Z"
   },
   {
    "duration": 7,
    "start_time": "2023-03-21T08:45:04.758Z"
   },
   {
    "duration": 18,
    "start_time": "2023-03-21T08:45:04.766Z"
   },
   {
    "duration": 0,
    "start_time": "2023-03-21T08:45:04.786Z"
   },
   {
    "duration": 0,
    "start_time": "2023-03-21T08:45:04.787Z"
   },
   {
    "duration": 0,
    "start_time": "2023-03-21T08:45:04.788Z"
   },
   {
    "duration": 0,
    "start_time": "2023-03-21T08:45:04.789Z"
   },
   {
    "duration": 0,
    "start_time": "2023-03-21T08:45:04.790Z"
   },
   {
    "duration": 0,
    "start_time": "2023-03-21T08:45:04.791Z"
   },
   {
    "duration": 0,
    "start_time": "2023-03-21T08:45:04.793Z"
   },
   {
    "duration": 0,
    "start_time": "2023-03-21T08:45:04.794Z"
   },
   {
    "duration": 0,
    "start_time": "2023-03-21T08:45:04.823Z"
   },
   {
    "duration": 0,
    "start_time": "2023-03-21T08:45:04.824Z"
   },
   {
    "duration": 0,
    "start_time": "2023-03-21T08:45:04.825Z"
   },
   {
    "duration": 0,
    "start_time": "2023-03-21T08:45:04.826Z"
   },
   {
    "duration": 0,
    "start_time": "2023-03-21T08:45:04.827Z"
   },
   {
    "duration": 0,
    "start_time": "2023-03-21T08:45:04.827Z"
   },
   {
    "duration": 0,
    "start_time": "2023-03-21T08:45:04.828Z"
   },
   {
    "duration": 0,
    "start_time": "2023-03-21T08:45:04.829Z"
   },
   {
    "duration": 0,
    "start_time": "2023-03-21T08:45:04.830Z"
   },
   {
    "duration": 0,
    "start_time": "2023-03-21T08:45:04.831Z"
   },
   {
    "duration": 0,
    "start_time": "2023-03-21T08:45:04.832Z"
   },
   {
    "duration": 0,
    "start_time": "2023-03-21T08:45:04.832Z"
   },
   {
    "duration": 0,
    "start_time": "2023-03-21T08:45:04.833Z"
   },
   {
    "duration": 4,
    "start_time": "2023-03-21T08:45:27.813Z"
   },
   {
    "duration": 1172,
    "start_time": "2023-03-21T08:45:27.819Z"
   },
   {
    "duration": 33,
    "start_time": "2023-03-21T08:45:28.993Z"
   },
   {
    "duration": 7,
    "start_time": "2023-03-21T08:45:29.028Z"
   },
   {
    "duration": 14,
    "start_time": "2023-03-21T08:45:29.037Z"
   },
   {
    "duration": 55,
    "start_time": "2023-03-21T08:45:29.053Z"
   },
   {
    "duration": 6654,
    "start_time": "2023-03-21T08:45:29.110Z"
   },
   {
    "duration": 553,
    "start_time": "2023-03-21T08:45:35.765Z"
   },
   {
    "duration": 826,
    "start_time": "2023-03-21T08:45:36.323Z"
   },
   {
    "duration": 168,
    "start_time": "2023-03-21T08:45:37.151Z"
   },
   {
    "duration": 322,
    "start_time": "2023-03-21T08:45:37.321Z"
   },
   {
    "duration": 148,
    "start_time": "2023-03-21T08:45:37.645Z"
   },
   {
    "duration": 192,
    "start_time": "2023-03-21T08:45:37.794Z"
   },
   {
    "duration": 38412,
    "start_time": "2023-03-21T08:45:37.989Z"
   },
   {
    "duration": 0,
    "start_time": "2023-03-21T08:46:16.403Z"
   },
   {
    "duration": 0,
    "start_time": "2023-03-21T08:46:16.404Z"
   },
   {
    "duration": 0,
    "start_time": "2023-03-21T08:46:16.405Z"
   },
   {
    "duration": 0,
    "start_time": "2023-03-21T08:46:16.406Z"
   },
   {
    "duration": 0,
    "start_time": "2023-03-21T08:46:16.407Z"
   },
   {
    "duration": 0,
    "start_time": "2023-03-21T08:46:16.408Z"
   },
   {
    "duration": 0,
    "start_time": "2023-03-21T08:46:16.409Z"
   },
   {
    "duration": 0,
    "start_time": "2023-03-21T08:46:16.410Z"
   },
   {
    "duration": 0,
    "start_time": "2023-03-21T08:46:16.411Z"
   },
   {
    "duration": 0,
    "start_time": "2023-03-21T08:46:16.412Z"
   },
   {
    "duration": 0,
    "start_time": "2023-03-21T08:46:16.413Z"
   },
   {
    "duration": 0,
    "start_time": "2023-03-21T08:46:16.414Z"
   },
   {
    "duration": 4,
    "start_time": "2023-03-21T08:46:31.904Z"
   },
   {
    "duration": 1045,
    "start_time": "2023-03-21T08:46:31.910Z"
   },
   {
    "duration": 20,
    "start_time": "2023-03-21T08:46:32.957Z"
   },
   {
    "duration": 4,
    "start_time": "2023-03-21T08:46:32.980Z"
   },
   {
    "duration": 10,
    "start_time": "2023-03-21T08:46:32.986Z"
   },
   {
    "duration": 77,
    "start_time": "2023-03-21T08:46:32.997Z"
   },
   {
    "duration": 218176,
    "start_time": "2023-03-21T08:46:33.075Z"
   },
   {
    "duration": 560,
    "start_time": "2023-03-21T08:50:11.252Z"
   },
   {
    "duration": 828,
    "start_time": "2023-03-21T08:50:11.813Z"
   },
   {
    "duration": 152,
    "start_time": "2023-03-21T08:50:12.644Z"
   },
   {
    "duration": 342,
    "start_time": "2023-03-21T08:50:12.798Z"
   },
   {
    "duration": 143,
    "start_time": "2023-03-21T08:50:13.142Z"
   },
   {
    "duration": 82,
    "start_time": "2023-03-21T08:50:13.287Z"
   },
   {
    "duration": 285709,
    "start_time": "2023-03-21T08:50:13.371Z"
   },
   {
    "duration": 1798,
    "start_time": "2023-03-21T08:54:59.082Z"
   },
   {
    "duration": 1097,
    "start_time": "2023-03-21T08:55:00.882Z"
   },
   {
    "duration": 194,
    "start_time": "2023-03-21T08:55:01.981Z"
   },
   {
    "duration": 377,
    "start_time": "2023-03-21T08:55:02.177Z"
   },
   {
    "duration": 3,
    "start_time": "2023-03-21T08:55:02.556Z"
   },
   {
    "duration": 206936,
    "start_time": "2023-03-21T08:55:02.561Z"
   },
   {
    "duration": 1203,
    "start_time": "2023-03-21T08:58:29.499Z"
   },
   {
    "duration": 943,
    "start_time": "2023-03-21T08:58:30.704Z"
   },
   {
    "duration": 181,
    "start_time": "2023-03-21T08:58:31.649Z"
   },
   {
    "duration": 341,
    "start_time": "2023-03-21T08:58:31.831Z"
   },
   {
    "duration": 998,
    "start_time": "2023-03-21T08:58:32.174Z"
   },
   {
    "duration": 212,
    "start_time": "2023-03-21T08:58:33.174Z"
   },
   {
    "duration": 593,
    "start_time": "2023-03-21T08:59:51.343Z"
   },
   {
    "duration": 42,
    "start_time": "2023-03-21T09:59:25.088Z"
   },
   {
    "duration": 265144,
    "start_time": "2023-03-21T09:59:27.737Z"
   },
   {
    "duration": 4,
    "start_time": "2023-03-21T10:05:13.435Z"
   },
   {
    "duration": 1094,
    "start_time": "2023-03-21T10:05:13.442Z"
   },
   {
    "duration": 19,
    "start_time": "2023-03-21T10:05:14.538Z"
   },
   {
    "duration": 4,
    "start_time": "2023-03-21T10:05:14.559Z"
   },
   {
    "duration": 12,
    "start_time": "2023-03-21T10:05:14.565Z"
   },
   {
    "duration": 52,
    "start_time": "2023-03-21T10:05:14.579Z"
   },
   {
    "duration": 208348,
    "start_time": "2023-03-21T10:05:14.632Z"
   },
   {
    "duration": 554,
    "start_time": "2023-03-21T10:08:42.982Z"
   },
   {
    "duration": 931,
    "start_time": "2023-03-21T10:08:43.538Z"
   },
   {
    "duration": 149,
    "start_time": "2023-03-21T10:08:44.471Z"
   },
   {
    "duration": 319,
    "start_time": "2023-03-21T10:08:44.622Z"
   },
   {
    "duration": 142,
    "start_time": "2023-03-21T10:08:44.943Z"
   },
   {
    "duration": 55,
    "start_time": "2023-03-21T10:08:45.086Z"
   },
   {
    "duration": 273575,
    "start_time": "2023-03-21T10:08:45.143Z"
   },
   {
    "duration": 1451,
    "start_time": "2023-03-21T10:13:18.719Z"
   },
   {
    "duration": 1196,
    "start_time": "2023-03-21T10:13:20.172Z"
   },
   {
    "duration": 184,
    "start_time": "2023-03-21T10:13:21.371Z"
   },
   {
    "duration": 395,
    "start_time": "2023-03-21T10:13:21.557Z"
   },
   {
    "duration": 2,
    "start_time": "2023-03-21T10:13:21.954Z"
   },
   {
    "duration": 194189,
    "start_time": "2023-03-21T10:13:21.958Z"
   },
   {
    "duration": 464,
    "start_time": "2023-03-21T10:16:36.149Z"
   },
   {
    "duration": 1038,
    "start_time": "2023-03-21T10:16:36.623Z"
   },
   {
    "duration": 162,
    "start_time": "2023-03-21T10:16:37.663Z"
   },
   {
    "duration": 330,
    "start_time": "2023-03-21T10:16:37.829Z"
   },
   {
    "duration": 1149,
    "start_time": "2023-03-21T10:16:38.161Z"
   },
   {
    "duration": 6,
    "start_time": "2023-03-21T10:16:39.311Z"
   },
   {
    "duration": 1284,
    "start_time": "2023-03-21T10:20:30.542Z"
   },
   {
    "duration": 6,
    "start_time": "2023-03-21T10:24:50.881Z"
   },
   {
    "duration": 1143,
    "start_time": "2023-03-21T10:24:50.890Z"
   },
   {
    "duration": 21,
    "start_time": "2023-03-21T10:24:52.035Z"
   },
   {
    "duration": 4,
    "start_time": "2023-03-21T10:24:52.059Z"
   },
   {
    "duration": 18,
    "start_time": "2023-03-21T10:24:52.065Z"
   },
   {
    "duration": 53,
    "start_time": "2023-03-21T10:24:52.085Z"
   },
   {
    "duration": 215606,
    "start_time": "2023-03-21T10:24:52.140Z"
   },
   {
    "duration": 558,
    "start_time": "2023-03-21T10:28:27.748Z"
   },
   {
    "duration": 959,
    "start_time": "2023-03-21T10:28:28.308Z"
   },
   {
    "duration": 164,
    "start_time": "2023-03-21T10:28:29.270Z"
   },
   {
    "duration": 426,
    "start_time": "2023-03-21T10:28:29.436Z"
   },
   {
    "duration": 149,
    "start_time": "2023-03-21T10:28:29.866Z"
   },
   {
    "duration": 59,
    "start_time": "2023-03-21T10:28:30.024Z"
   },
   {
    "duration": 303384,
    "start_time": "2023-03-21T10:28:30.085Z"
   },
   {
    "duration": 2903,
    "start_time": "2023-03-21T10:33:33.471Z"
   },
   {
    "duration": 1183,
    "start_time": "2023-03-21T10:33:36.375Z"
   },
   {
    "duration": 177,
    "start_time": "2023-03-21T10:33:37.560Z"
   },
   {
    "duration": 309,
    "start_time": "2023-03-21T10:33:37.739Z"
   },
   {
    "duration": 3,
    "start_time": "2023-03-21T10:33:38.050Z"
   },
   {
    "duration": 213442,
    "start_time": "2023-03-21T10:33:38.056Z"
   },
   {
    "duration": 494,
    "start_time": "2023-03-21T10:37:11.500Z"
   },
   {
    "duration": 998,
    "start_time": "2023-03-21T10:37:11.996Z"
   },
   {
    "duration": 189,
    "start_time": "2023-03-21T10:37:12.995Z"
   },
   {
    "duration": 468,
    "start_time": "2023-03-21T10:37:13.186Z"
   },
   {
    "duration": 1268,
    "start_time": "2023-03-21T10:37:13.656Z"
   },
   {
    "duration": 5,
    "start_time": "2023-03-21T10:37:14.926Z"
   },
   {
    "duration": 941,
    "start_time": "2023-03-21T11:53:04.631Z"
   },
   {
    "duration": 234,
    "start_time": "2023-03-21T11:54:10.236Z"
   },
   {
    "duration": 743,
    "start_time": "2023-03-21T11:55:26.689Z"
   },
   {
    "duration": 5,
    "start_time": "2023-03-21T11:57:23.179Z"
   },
   {
    "duration": 1130,
    "start_time": "2023-03-21T11:57:23.188Z"
   },
   {
    "duration": 22,
    "start_time": "2023-03-21T11:57:24.320Z"
   },
   {
    "duration": 6,
    "start_time": "2023-03-21T11:57:24.346Z"
   },
   {
    "duration": 15,
    "start_time": "2023-03-21T11:57:24.354Z"
   },
   {
    "duration": 116,
    "start_time": "2023-03-21T11:57:24.371Z"
   },
   {
    "duration": 219971,
    "start_time": "2023-03-21T11:57:24.490Z"
   },
   {
    "duration": 1082,
    "start_time": "2023-03-21T12:01:04.463Z"
   },
   {
    "duration": 817,
    "start_time": "2023-03-21T12:01:05.547Z"
   },
   {
    "duration": 163,
    "start_time": "2023-03-21T12:01:06.367Z"
   },
   {
    "duration": 395,
    "start_time": "2023-03-21T12:01:06.532Z"
   },
   {
    "duration": 157,
    "start_time": "2023-03-21T12:01:06.929Z"
   },
   {
    "duration": 88,
    "start_time": "2023-03-21T12:01:07.088Z"
   },
   {
    "duration": 312603,
    "start_time": "2023-03-21T12:01:07.178Z"
   },
   {
    "duration": 1249,
    "start_time": "2023-03-21T12:06:19.784Z"
   },
   {
    "duration": 1026,
    "start_time": "2023-03-21T12:06:21.035Z"
   },
   {
    "duration": 192,
    "start_time": "2023-03-21T12:06:22.064Z"
   },
   {
    "duration": 411,
    "start_time": "2023-03-21T12:06:22.259Z"
   },
   {
    "duration": 6,
    "start_time": "2023-03-21T12:06:22.672Z"
   },
   {
    "duration": 224574,
    "start_time": "2023-03-21T12:06:22.681Z"
   },
   {
    "duration": 705,
    "start_time": "2023-03-21T12:10:07.257Z"
   },
   {
    "duration": 833,
    "start_time": "2023-03-21T12:10:07.964Z"
   },
   {
    "duration": 234,
    "start_time": "2023-03-21T12:10:08.800Z"
   },
   {
    "duration": 313,
    "start_time": "2023-03-21T12:10:09.036Z"
   },
   {
    "duration": 1381,
    "start_time": "2023-03-21T12:10:09.352Z"
   },
   {
    "duration": 9,
    "start_time": "2023-03-21T12:10:10.736Z"
   },
   {
    "duration": 6,
    "start_time": "2023-03-21T12:10:10.752Z"
   },
   {
    "duration": 5,
    "start_time": "2023-03-21T12:23:31.720Z"
   },
   {
    "duration": 73,
    "start_time": "2023-03-21T12:29:44.387Z"
   },
   {
    "duration": 1673,
    "start_time": "2023-03-21T12:29:52.333Z"
   },
   {
    "duration": 830,
    "start_time": "2023-03-21T12:29:56.669Z"
   },
   {
    "duration": 5,
    "start_time": "2023-03-21T12:30:25.182Z"
   },
   {
    "duration": 1410,
    "start_time": "2023-03-21T12:30:25.190Z"
   },
   {
    "duration": 41,
    "start_time": "2023-03-21T12:30:26.602Z"
   },
   {
    "duration": 7,
    "start_time": "2023-03-21T12:30:26.647Z"
   },
   {
    "duration": 15,
    "start_time": "2023-03-21T12:30:26.657Z"
   },
   {
    "duration": 74,
    "start_time": "2023-03-21T12:30:26.674Z"
   },
   {
    "duration": 54372,
    "start_time": "2023-03-21T12:30:26.751Z"
   },
   {
    "duration": 0,
    "start_time": "2023-03-21T12:31:21.127Z"
   },
   {
    "duration": 0,
    "start_time": "2023-03-21T12:31:21.128Z"
   },
   {
    "duration": 0,
    "start_time": "2023-03-21T12:31:21.131Z"
   },
   {
    "duration": 0,
    "start_time": "2023-03-21T12:31:21.132Z"
   },
   {
    "duration": 0,
    "start_time": "2023-03-21T12:31:21.133Z"
   },
   {
    "duration": 0,
    "start_time": "2023-03-21T12:31:21.135Z"
   },
   {
    "duration": 0,
    "start_time": "2023-03-21T12:31:21.136Z"
   },
   {
    "duration": 0,
    "start_time": "2023-03-21T12:31:21.138Z"
   },
   {
    "duration": 0,
    "start_time": "2023-03-21T12:31:21.143Z"
   },
   {
    "duration": 0,
    "start_time": "2023-03-21T12:31:21.144Z"
   },
   {
    "duration": 0,
    "start_time": "2023-03-21T12:31:21.146Z"
   },
   {
    "duration": 0,
    "start_time": "2023-03-21T12:31:21.147Z"
   },
   {
    "duration": 0,
    "start_time": "2023-03-21T12:31:21.148Z"
   },
   {
    "duration": 0,
    "start_time": "2023-03-21T12:31:21.150Z"
   },
   {
    "duration": 0,
    "start_time": "2023-03-21T12:31:21.151Z"
   },
   {
    "duration": 0,
    "start_time": "2023-03-21T12:31:21.152Z"
   },
   {
    "duration": 0,
    "start_time": "2023-03-21T12:31:21.154Z"
   },
   {
    "duration": 0,
    "start_time": "2023-03-21T12:31:21.155Z"
   },
   {
    "duration": 0,
    "start_time": "2023-03-21T12:31:21.156Z"
   },
   {
    "duration": 0,
    "start_time": "2023-03-21T12:31:21.157Z"
   },
   {
    "duration": 5,
    "start_time": "2023-03-21T12:31:36.285Z"
   },
   {
    "duration": 1966,
    "start_time": "2023-03-21T12:31:36.293Z"
   },
   {
    "duration": 31,
    "start_time": "2023-03-21T12:31:38.262Z"
   },
   {
    "duration": 6,
    "start_time": "2023-03-21T12:31:38.297Z"
   },
   {
    "duration": 15,
    "start_time": "2023-03-21T12:31:38.325Z"
   },
   {
    "duration": 45,
    "start_time": "2023-03-21T12:31:38.343Z"
   },
   {
    "duration": 21908,
    "start_time": "2023-03-21T12:31:38.390Z"
   },
   {
    "duration": 1210,
    "start_time": "2023-03-21T12:32:00.304Z"
   },
   {
    "duration": 1372,
    "start_time": "2023-03-21T12:32:01.516Z"
   },
   {
    "duration": 6,
    "start_time": "2023-03-21T12:32:02.891Z"
   },
   {
    "duration": 240,
    "start_time": "2023-03-21T12:32:02.903Z"
   },
   {
    "duration": 686,
    "start_time": "2023-03-21T12:32:03.145Z"
   },
   {
    "duration": 202,
    "start_time": "2023-03-21T12:32:03.834Z"
   },
   {
    "duration": 65,
    "start_time": "2023-03-21T12:32:04.039Z"
   },
   {
    "duration": 25056,
    "start_time": "2023-03-21T12:32:04.106Z"
   },
   {
    "duration": 1621,
    "start_time": "2023-03-21T12:32:29.167Z"
   },
   {
    "duration": 1697,
    "start_time": "2023-03-21T12:32:30.790Z"
   },
   {
    "duration": 259,
    "start_time": "2023-03-21T12:32:32.490Z"
   },
   {
    "duration": 629,
    "start_time": "2023-03-21T12:32:32.753Z"
   },
   {
    "duration": 4,
    "start_time": "2023-03-21T12:32:33.384Z"
   },
   {
    "duration": 17990,
    "start_time": "2023-03-21T12:32:33.389Z"
   },
   {
    "duration": 951,
    "start_time": "2023-03-21T12:32:51.383Z"
   },
   {
    "duration": 1303,
    "start_time": "2023-03-21T12:32:52.336Z"
   },
   {
    "duration": 243,
    "start_time": "2023-03-21T12:32:53.642Z"
   },
   {
    "duration": 437,
    "start_time": "2023-03-21T12:32:53.887Z"
   },
   {
    "duration": 1561,
    "start_time": "2023-03-21T12:32:54.326Z"
   },
   {
    "duration": 11,
    "start_time": "2023-03-21T12:32:55.892Z"
   },
   {
    "duration": 5,
    "start_time": "2023-03-21T12:36:21.415Z"
   },
   {
    "duration": 1560,
    "start_time": "2023-03-21T12:36:21.423Z"
   },
   {
    "duration": 40,
    "start_time": "2023-03-21T12:36:22.985Z"
   },
   {
    "duration": 8,
    "start_time": "2023-03-21T12:36:23.029Z"
   },
   {
    "duration": 26,
    "start_time": "2023-03-21T12:36:23.039Z"
   },
   {
    "duration": 65,
    "start_time": "2023-03-21T12:36:23.067Z"
   },
   {
    "duration": 234322,
    "start_time": "2023-03-21T12:36:23.135Z"
   },
   {
    "duration": 1040,
    "start_time": "2023-03-21T12:40:17.459Z"
   },
   {
    "duration": 1037,
    "start_time": "2023-03-21T12:40:18.501Z"
   },
   {
    "duration": 5,
    "start_time": "2023-03-21T12:40:19.541Z"
   },
   {
    "duration": 176,
    "start_time": "2023-03-21T12:40:19.547Z"
   },
   {
    "duration": 434,
    "start_time": "2023-03-21T12:40:19.725Z"
   },
   {
    "duration": 163,
    "start_time": "2023-03-21T12:40:20.162Z"
   },
   {
    "duration": 63,
    "start_time": "2023-03-21T12:40:20.327Z"
   },
   {
    "duration": 298467,
    "start_time": "2023-03-21T12:40:20.395Z"
   },
   {
    "duration": 1228,
    "start_time": "2023-03-21T12:45:18.864Z"
   },
   {
    "duration": 1206,
    "start_time": "2023-03-21T12:45:20.095Z"
   },
   {
    "duration": 212,
    "start_time": "2023-03-21T12:45:21.303Z"
   },
   {
    "duration": 327,
    "start_time": "2023-03-21T12:45:21.517Z"
   },
   {
    "duration": 2,
    "start_time": "2023-03-21T12:45:21.846Z"
   },
   {
    "duration": 215089,
    "start_time": "2023-03-21T12:45:21.850Z"
   },
   {
    "duration": 709,
    "start_time": "2023-03-21T12:48:56.941Z"
   },
   {
    "duration": 952,
    "start_time": "2023-03-21T12:48:57.651Z"
   },
   {
    "duration": 218,
    "start_time": "2023-03-21T12:48:58.605Z"
   },
   {
    "duration": 442,
    "start_time": "2023-03-21T12:48:58.825Z"
   },
   {
    "duration": 1254,
    "start_time": "2023-03-21T12:48:59.269Z"
   },
   {
    "duration": 6,
    "start_time": "2023-03-21T12:49:00.525Z"
   },
   {
    "duration": 5,
    "start_time": "2023-03-21T13:01:28.171Z"
   },
   {
    "duration": 1182,
    "start_time": "2023-03-21T13:01:28.178Z"
   },
   {
    "duration": 27,
    "start_time": "2023-03-21T13:01:29.362Z"
   },
   {
    "duration": 6,
    "start_time": "2023-03-21T13:01:29.392Z"
   },
   {
    "duration": 31,
    "start_time": "2023-03-21T13:01:29.400Z"
   },
   {
    "duration": 49,
    "start_time": "2023-03-21T13:01:29.433Z"
   },
   {
    "duration": 54440,
    "start_time": "2023-03-21T13:01:29.484Z"
   },
   {
    "duration": 1,
    "start_time": "2023-03-21T13:02:23.926Z"
   },
   {
    "duration": 0,
    "start_time": "2023-03-21T13:02:23.928Z"
   },
   {
    "duration": 0,
    "start_time": "2023-03-21T13:02:23.930Z"
   },
   {
    "duration": 0,
    "start_time": "2023-03-21T13:02:23.931Z"
   },
   {
    "duration": 0,
    "start_time": "2023-03-21T13:02:23.932Z"
   },
   {
    "duration": 0,
    "start_time": "2023-03-21T13:02:23.933Z"
   },
   {
    "duration": 0,
    "start_time": "2023-03-21T13:02:23.934Z"
   },
   {
    "duration": 0,
    "start_time": "2023-03-21T13:02:23.936Z"
   },
   {
    "duration": 0,
    "start_time": "2023-03-21T13:02:23.937Z"
   },
   {
    "duration": 0,
    "start_time": "2023-03-21T13:02:23.938Z"
   },
   {
    "duration": 0,
    "start_time": "2023-03-21T13:02:23.939Z"
   },
   {
    "duration": 0,
    "start_time": "2023-03-21T13:02:23.940Z"
   },
   {
    "duration": 0,
    "start_time": "2023-03-21T13:02:23.941Z"
   },
   {
    "duration": 0,
    "start_time": "2023-03-21T13:02:23.943Z"
   },
   {
    "duration": 0,
    "start_time": "2023-03-21T13:02:23.944Z"
   },
   {
    "duration": 0,
    "start_time": "2023-03-21T13:02:23.945Z"
   },
   {
    "duration": 0,
    "start_time": "2023-03-21T13:02:23.946Z"
   },
   {
    "duration": 0,
    "start_time": "2023-03-21T13:02:23.947Z"
   },
   {
    "duration": 0,
    "start_time": "2023-03-21T13:02:23.948Z"
   },
   {
    "duration": 6,
    "start_time": "2023-03-21T13:08:48.340Z"
   },
   {
    "duration": 1582,
    "start_time": "2023-03-21T13:08:48.349Z"
   },
   {
    "duration": 27,
    "start_time": "2023-03-21T13:08:49.933Z"
   },
   {
    "duration": 6,
    "start_time": "2023-03-21T13:08:49.963Z"
   },
   {
    "duration": 15,
    "start_time": "2023-03-21T13:08:49.971Z"
   },
   {
    "duration": 81,
    "start_time": "2023-03-21T13:08:49.989Z"
   },
   {
    "duration": 1947,
    "start_time": "2023-03-21T13:08:50.072Z"
   },
   {
    "duration": 735,
    "start_time": "2023-03-21T13:08:52.023Z"
   },
   {
    "duration": 1318,
    "start_time": "2023-03-21T13:08:52.760Z"
   },
   {
    "duration": 237,
    "start_time": "2023-03-21T13:08:54.082Z"
   },
   {
    "duration": 509,
    "start_time": "2023-03-21T13:08:54.324Z"
   },
   {
    "duration": 217,
    "start_time": "2023-03-21T13:08:54.837Z"
   },
   {
    "duration": 77,
    "start_time": "2023-03-21T13:08:55.056Z"
   },
   {
    "duration": 2339,
    "start_time": "2023-03-21T13:08:55.135Z"
   },
   {
    "duration": 876,
    "start_time": "2023-03-21T13:08:57.477Z"
   },
   {
    "duration": 1782,
    "start_time": "2023-03-21T13:08:58.356Z"
   },
   {
    "duration": 262,
    "start_time": "2023-03-21T13:09:00.140Z"
   },
   {
    "duration": 549,
    "start_time": "2023-03-21T13:09:00.404Z"
   },
   {
    "duration": 7,
    "start_time": "2023-03-21T13:09:00.955Z"
   },
   {
    "duration": 2159,
    "start_time": "2023-03-21T13:09:00.965Z"
   },
   {
    "duration": 737,
    "start_time": "2023-03-21T13:09:03.126Z"
   },
   {
    "duration": 1353,
    "start_time": "2023-03-21T13:09:03.865Z"
   },
   {
    "duration": 256,
    "start_time": "2023-03-21T13:09:05.224Z"
   },
   {
    "duration": 532,
    "start_time": "2023-03-21T13:09:05.482Z"
   },
   {
    "duration": 1622,
    "start_time": "2023-03-21T13:09:06.016Z"
   },
   {
    "duration": 7,
    "start_time": "2023-03-21T13:09:07.641Z"
   },
   {
    "duration": 19,
    "start_time": "2023-03-21T13:09:07.652Z"
   },
   {
    "duration": 1702,
    "start_time": "2023-03-21T13:10:48.011Z"
   },
   {
    "duration": 1844,
    "start_time": "2023-03-21T13:11:58.890Z"
   },
   {
    "duration": 1221,
    "start_time": "2023-03-21T13:13:04.485Z"
   },
   {
    "duration": 5,
    "start_time": "2023-03-21T13:13:14.979Z"
   },
   {
    "duration": 1219,
    "start_time": "2023-03-21T13:13:14.986Z"
   },
   {
    "duration": 39,
    "start_time": "2023-03-21T13:13:16.207Z"
   },
   {
    "duration": 5,
    "start_time": "2023-03-21T13:13:16.248Z"
   },
   {
    "duration": 10,
    "start_time": "2023-03-21T13:13:16.255Z"
   },
   {
    "duration": 69,
    "start_time": "2023-03-21T13:13:16.267Z"
   },
   {
    "duration": 229644,
    "start_time": "2023-03-21T13:13:16.339Z"
   },
   {
    "duration": 1400,
    "start_time": "2023-03-21T13:17:05.986Z"
   },
   {
    "duration": 1042,
    "start_time": "2023-03-21T13:17:07.389Z"
   },
   {
    "duration": 180,
    "start_time": "2023-03-21T13:17:08.433Z"
   },
   {
    "duration": 465,
    "start_time": "2023-03-21T13:17:08.624Z"
   },
   {
    "duration": 184,
    "start_time": "2023-03-21T13:17:09.090Z"
   },
   {
    "duration": 78,
    "start_time": "2023-03-21T13:17:09.276Z"
   },
   {
    "duration": 310685,
    "start_time": "2023-03-21T13:17:09.357Z"
   },
   {
    "duration": 0,
    "start_time": "2023-03-21T13:22:20.045Z"
   },
   {
    "duration": 0,
    "start_time": "2023-03-21T13:22:20.046Z"
   },
   {
    "duration": 0,
    "start_time": "2023-03-21T13:22:20.048Z"
   },
   {
    "duration": 0,
    "start_time": "2023-03-21T13:22:20.050Z"
   },
   {
    "duration": 0,
    "start_time": "2023-03-21T13:22:20.051Z"
   },
   {
    "duration": 0,
    "start_time": "2023-03-21T13:22:20.053Z"
   },
   {
    "duration": 0,
    "start_time": "2023-03-21T13:22:20.054Z"
   },
   {
    "duration": 0,
    "start_time": "2023-03-21T13:22:20.055Z"
   },
   {
    "duration": 0,
    "start_time": "2023-03-21T13:22:20.057Z"
   },
   {
    "duration": 0,
    "start_time": "2023-03-21T13:22:20.058Z"
   },
   {
    "duration": 0,
    "start_time": "2023-03-21T13:22:20.060Z"
   },
   {
    "duration": 0,
    "start_time": "2023-03-21T13:22:20.061Z"
   },
   {
    "duration": 0,
    "start_time": "2023-03-21T13:22:20.063Z"
   },
   {
    "duration": 180,
    "start_time": "2023-03-21T13:22:48.091Z"
   },
   {
    "duration": 4,
    "start_time": "2023-03-21T13:23:39.026Z"
   },
   {
    "duration": 227,
    "start_time": "2023-03-21T13:23:42.222Z"
   },
   {
    "duration": 7,
    "start_time": "2023-03-21T13:23:54.119Z"
   },
   {
    "duration": 1580,
    "start_time": "2023-03-21T13:23:54.129Z"
   },
   {
    "duration": 30,
    "start_time": "2023-03-21T13:23:55.711Z"
   },
   {
    "duration": 18,
    "start_time": "2023-03-21T13:23:55.753Z"
   },
   {
    "duration": 15,
    "start_time": "2023-03-21T13:23:55.774Z"
   },
   {
    "duration": 49,
    "start_time": "2023-03-21T13:23:55.791Z"
   },
   {
    "duration": 227748,
    "start_time": "2023-03-21T13:23:55.842Z"
   },
   {
    "duration": 1030,
    "start_time": "2023-03-21T13:27:43.592Z"
   },
   {
    "duration": 1167,
    "start_time": "2023-03-21T13:27:44.624Z"
   },
   {
    "duration": 233,
    "start_time": "2023-03-21T13:27:45.793Z"
   },
   {
    "duration": 318,
    "start_time": "2023-03-21T13:27:46.028Z"
   },
   {
    "duration": 152,
    "start_time": "2023-03-21T13:27:46.348Z"
   },
   {
    "duration": 63,
    "start_time": "2023-03-21T13:27:46.501Z"
   },
   {
    "duration": 309189,
    "start_time": "2023-03-21T13:27:46.568Z"
   },
   {
    "duration": 1408,
    "start_time": "2023-03-21T13:32:55.760Z"
   },
   {
    "duration": 1243,
    "start_time": "2023-03-21T13:32:57.170Z"
   },
   {
    "duration": 193,
    "start_time": "2023-03-21T13:32:58.416Z"
   },
   {
    "duration": 347,
    "start_time": "2023-03-21T13:32:58.612Z"
   },
   {
    "duration": 168,
    "start_time": "2023-03-21T13:32:58.962Z"
   },
   {
    "duration": 4,
    "start_time": "2023-03-21T13:32:59.132Z"
   },
   {
    "duration": 220919,
    "start_time": "2023-03-21T13:32:59.137Z"
   },
   {
    "duration": 1006,
    "start_time": "2023-03-21T13:36:40.058Z"
   },
   {
    "duration": 1382,
    "start_time": "2023-03-21T13:36:41.066Z"
   },
   {
    "duration": 238,
    "start_time": "2023-03-21T13:36:42.454Z"
   },
   {
    "duration": 432,
    "start_time": "2023-03-21T13:36:42.694Z"
   },
   {
    "duration": 204,
    "start_time": "2023-03-21T13:36:43.128Z"
   },
   {
    "duration": 1322,
    "start_time": "2023-03-21T13:36:43.334Z"
   },
   {
    "duration": 6,
    "start_time": "2023-03-21T13:36:44.658Z"
   },
   {
    "duration": 15,
    "start_time": "2023-03-21T13:36:44.666Z"
   },
   {
    "duration": 83,
    "start_time": "2023-03-21T15:32:07.782Z"
   },
   {
    "duration": 1645,
    "start_time": "2023-03-21T15:33:06.088Z"
   },
   {
    "duration": 1308,
    "start_time": "2023-03-21T15:33:07.735Z"
   },
   {
    "duration": 24,
    "start_time": "2023-03-21T15:33:09.046Z"
   },
   {
    "duration": 6,
    "start_time": "2023-03-21T15:33:09.074Z"
   },
   {
    "duration": 13,
    "start_time": "2023-03-21T15:33:09.082Z"
   },
   {
    "duration": 73,
    "start_time": "2023-03-21T15:33:09.098Z"
   },
   {
    "duration": 217352,
    "start_time": "2023-03-21T15:33:09.173Z"
   },
   {
    "duration": 986,
    "start_time": "2023-03-21T15:36:46.527Z"
   },
   {
    "duration": 937,
    "start_time": "2023-03-21T15:36:47.515Z"
   },
   {
    "duration": 159,
    "start_time": "2023-03-21T15:36:48.455Z"
   },
   {
    "duration": 364,
    "start_time": "2023-03-21T15:36:48.616Z"
   },
   {
    "duration": 142,
    "start_time": "2023-03-21T15:36:48.982Z"
   },
   {
    "duration": 58,
    "start_time": "2023-03-21T15:36:49.126Z"
   },
   {
    "duration": 302300,
    "start_time": "2023-03-21T15:36:49.187Z"
   },
   {
    "duration": 1955,
    "start_time": "2023-03-21T15:41:51.489Z"
   },
   {
    "duration": 1210,
    "start_time": "2023-03-21T15:41:53.446Z"
   },
   {
    "duration": 190,
    "start_time": "2023-03-21T15:41:54.658Z"
   },
   {
    "duration": 423,
    "start_time": "2023-03-21T15:41:54.851Z"
   },
   {
    "duration": 174,
    "start_time": "2023-03-21T15:41:55.276Z"
   },
   {
    "duration": 3,
    "start_time": "2023-03-21T15:41:55.451Z"
   },
   {
    "duration": 20021,
    "start_time": "2023-03-21T15:41:55.455Z"
   },
   {
    "duration": 0,
    "start_time": "2023-03-21T15:42:15.477Z"
   },
   {
    "duration": 0,
    "start_time": "2023-03-21T15:42:15.479Z"
   },
   {
    "duration": 0,
    "start_time": "2023-03-21T15:42:15.480Z"
   },
   {
    "duration": 0,
    "start_time": "2023-03-21T15:42:15.481Z"
   },
   {
    "duration": 0,
    "start_time": "2023-03-21T15:42:15.482Z"
   },
   {
    "duration": 0,
    "start_time": "2023-03-21T15:42:15.483Z"
   },
   {
    "duration": 0,
    "start_time": "2023-03-21T15:42:15.484Z"
   },
   {
    "duration": 0,
    "start_time": "2023-03-21T15:42:15.485Z"
   },
   {
    "duration": 15,
    "start_time": "2023-04-21T15:29:08.250Z"
   }
  ],
  "kernelspec": {
   "display_name": "Python 3 (ipykernel)",
   "language": "python",
   "name": "python3"
  },
  "language_info": {
   "codemirror_mode": {
    "name": "ipython",
    "version": 3
   },
   "file_extension": ".py",
   "mimetype": "text/x-python",
   "name": "python",
   "nbconvert_exporter": "python",
   "pygments_lexer": "ipython3",
   "version": "3.10.9"
  },
  "toc": {
   "base_numbering": 1,
   "nav_menu": {},
   "number_sections": true,
   "sideBar": true,
   "skip_h1_title": true,
   "title_cell": "Содержание",
   "title_sidebar": "Contents",
   "toc_cell": true,
   "toc_position": {
    "height": "calc(100% - 180px)",
    "left": "10px",
    "top": "150px",
    "width": "197px"
   },
   "toc_section_display": true,
   "toc_window_display": true
  }
 },
 "nbformat": 4,
 "nbformat_minor": 2
}
