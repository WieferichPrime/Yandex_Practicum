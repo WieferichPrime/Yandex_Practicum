{
 "cells": [
  {
   "cell_type": "markdown",
   "metadata": {
    "toc": true
   },
   "source": [
    "<h1>Содержание<span class=\"tocSkip\"></span></h1>\n",
    "<div class=\"toc\"><ul class=\"toc-item\"><li><span><a href=\"#Подготовка\" data-toc-modified-id=\"Подготовка-1\"><span class=\"toc-item-num\">1&nbsp;&nbsp;</span>Подготовка</a></span></li><li><span><a href=\"#Анализ\" data-toc-modified-id=\"Анализ-2\"><span class=\"toc-item-num\">2&nbsp;&nbsp;</span>Анализ</a></span></li><li><span><a href=\"#Обучение\" data-toc-modified-id=\"Обучение-3\"><span class=\"toc-item-num\">3&nbsp;&nbsp;</span>Обучение</a></span><ul class=\"toc-item\"><li><span><a href=\"#Catboost\" data-toc-modified-id=\"Catboost-3.1\"><span class=\"toc-item-num\">3.1&nbsp;&nbsp;</span>Catboost</a></span></li><li><span><a href=\"#Случайный-лес\" data-toc-modified-id=\"Случайный-лес-3.2\"><span class=\"toc-item-num\">3.2&nbsp;&nbsp;</span>Случайный лес</a></span></li><li><span><a href=\"#Полносвязная-нейронная-сеть\" data-toc-modified-id=\"Полносвязная-нейронная-сеть-3.3\"><span class=\"toc-item-num\">3.3&nbsp;&nbsp;</span>Полносвязная нейронная сеть</a></span></li></ul></li><li><span><a href=\"#Тестирование\" data-toc-modified-id=\"Тестирование-4\"><span class=\"toc-item-num\">4&nbsp;&nbsp;</span>Тестирование</a></span><ul class=\"toc-item\"><li><span><a href=\"#Предыдущее-значение\" data-toc-modified-id=\"Предыдущее-значение-4.1\"><span class=\"toc-item-num\">4.1&nbsp;&nbsp;</span>Предыдущее значение</a></span></li><li><span><a href=\"#Линейная-регрессия\" data-toc-modified-id=\"Линейная-регрессия-4.2\"><span class=\"toc-item-num\">4.2&nbsp;&nbsp;</span>Линейная регрессия</a></span></li><li><span><a href=\"#Catboost\" data-toc-modified-id=\"Catboost-4.3\"><span class=\"toc-item-num\">4.3&nbsp;&nbsp;</span>Catboost</a></span></li><li><span><a href=\"#Случайный-лес\" data-toc-modified-id=\"Случайный-лес-4.4\"><span class=\"toc-item-num\">4.4&nbsp;&nbsp;</span>Случайный лес</a></span></li><li><span><a href=\"#Полносвязная-нейронная-сеть\" data-toc-modified-id=\"Полносвязная-нейронная-сеть-4.5\"><span class=\"toc-item-num\">4.5&nbsp;&nbsp;</span>Полносвязная нейронная сеть</a></span></li></ul></li><li><span><a href=\"#Итоги\" data-toc-modified-id=\"Итоги-5\"><span class=\"toc-item-num\">5&nbsp;&nbsp;</span>Итоги</a></span></li><li><span><a href=\"#Чек-лист-проверки\" data-toc-modified-id=\"Чек-лист-проверки-6\"><span class=\"toc-item-num\">6&nbsp;&nbsp;</span>Чек-лист проверки</a></span></li></ul></div>"
   ]
  },
  {
   "cell_type": "markdown",
   "metadata": {},
   "source": [
    "#  Прогнозирование заказов такси"
   ]
  },
  {
   "cell_type": "markdown",
   "metadata": {},
   "source": [
    "Компания «Чётенькое такси» собрала исторические данные о заказах такси в аэропортах. Чтобы привлекать больше водителей в период пиковой нагрузки, нужно спрогнозировать количество заказов такси на следующий час."
   ]
  },
  {
   "cell_type": "code",
   "execution_count": 58,
   "metadata": {},
   "outputs": [],
   "source": [
    "import pandas as pd\n",
    "import matplotlib.pyplot as plt\n",
    "from sklearn.model_selection import train_test_split, GridSearchCV, TimeSeriesSplit\n",
    "from sklearn.metrics import mean_squared_error\n",
    "from sklearn.linear_model import LinearRegression\n",
    "from catboost import CatBoostRegressor, Pool, cv\n",
    "from sklearn.ensemble import RandomForestRegressor\n",
    "from catboost.utils import eval_metric\n",
    "from sklearn.neural_network import MLPRegressor\n",
    "from statsmodels.tsa.stattools import adfuller"
   ]
  },
  {
   "cell_type": "markdown",
   "metadata": {},
   "source": [
    "## Подготовка"
   ]
  },
  {
   "cell_type": "code",
   "execution_count": 59,
   "metadata": {},
   "outputs": [],
   "source": [
    "df = pd.read_csv(\"/datasets/taxi.csv\", parse_dates=[0], index_col=[0])"
   ]
  },
  {
   "cell_type": "code",
   "execution_count": 60,
   "metadata": {},
   "outputs": [
    {
     "name": "stdout",
     "output_type": "stream",
     "text": [
      "<class 'pandas.core.frame.DataFrame'>\n",
      "DatetimeIndex: 26496 entries, 2018-03-01 00:00:00 to 2018-08-31 23:50:00\n",
      "Data columns (total 1 columns):\n",
      " #   Column      Non-Null Count  Dtype\n",
      "---  ------      --------------  -----\n",
      " 0   num_orders  26496 non-null  int64\n",
      "dtypes: int64(1)\n",
      "memory usage: 414.0 KB\n"
     ]
    },
    {
     "data": {
      "text/html": [
       "<div>\n",
       "<style scoped>\n",
       "    .dataframe tbody tr th:only-of-type {\n",
       "        vertical-align: middle;\n",
       "    }\n",
       "\n",
       "    .dataframe tbody tr th {\n",
       "        vertical-align: top;\n",
       "    }\n",
       "\n",
       "    .dataframe thead th {\n",
       "        text-align: right;\n",
       "    }\n",
       "</style>\n",
       "<table border=\"1\" class=\"dataframe\">\n",
       "  <thead>\n",
       "    <tr style=\"text-align: right;\">\n",
       "      <th></th>\n",
       "      <th>num_orders</th>\n",
       "    </tr>\n",
       "    <tr>\n",
       "      <th>datetime</th>\n",
       "      <th></th>\n",
       "    </tr>\n",
       "  </thead>\n",
       "  <tbody>\n",
       "    <tr>\n",
       "      <th>2018-03-01 00:00:00</th>\n",
       "      <td>9</td>\n",
       "    </tr>\n",
       "    <tr>\n",
       "      <th>2018-03-01 00:10:00</th>\n",
       "      <td>14</td>\n",
       "    </tr>\n",
       "    <tr>\n",
       "      <th>2018-03-01 00:20:00</th>\n",
       "      <td>28</td>\n",
       "    </tr>\n",
       "    <tr>\n",
       "      <th>2018-03-01 00:30:00</th>\n",
       "      <td>20</td>\n",
       "    </tr>\n",
       "    <tr>\n",
       "      <th>2018-03-01 00:40:00</th>\n",
       "      <td>32</td>\n",
       "    </tr>\n",
       "  </tbody>\n",
       "</table>\n",
       "</div>"
      ],
      "text/plain": [
       "                     num_orders\n",
       "datetime                       \n",
       "2018-03-01 00:00:00           9\n",
       "2018-03-01 00:10:00          14\n",
       "2018-03-01 00:20:00          28\n",
       "2018-03-01 00:30:00          20\n",
       "2018-03-01 00:40:00          32"
      ]
     },
     "execution_count": 60,
     "metadata": {},
     "output_type": "execute_result"
    }
   ],
   "source": [
    "df.info()\n",
    "df.head()"
   ]
  },
  {
   "cell_type": "markdown",
   "metadata": {},
   "source": [
    "## Анализ"
   ]
  },
  {
   "cell_type": "code",
   "execution_count": 61,
   "metadata": {
    "scrolled": false
   },
   "outputs": [
    {
     "data": {
      "image/png": "[encoded data removed]",
      "text/plain": [
       "<Figure size 1080x720 with 1 Axes>"
      ]
     },
     "metadata": {
      "needs_background": "light"
     },
     "output_type": "display_data"
    }
   ],
   "source": [
    "df[\"num_orders\"].plot(figsize=(15,10))\n",
    "df[\"num_orders\"].rolling(500).mean().plot()\n",
    "df[\"num_orders\"].rolling(500).std().plot()\n",
    "plt.legend(['num_orders', 'mean', 'std']);"
   ]
  },
  {
   "cell_type": "markdown",
   "metadata": {},
   "source": [
    "Наблюдается недельная сезонность."
   ]
  },
  {
   "cell_type": "code",
   "execution_count": 62,
   "metadata": {
    "scrolled": true
   },
   "outputs": [
    {
     "data": {
      "image/png": "[encoded data removed]",
      "text/plain": [
       "<Figure size 1080x720 with 1 Axes>"
      ]
     },
     "metadata": {
      "needs_background": "light"
     },
     "output_type": "display_data"
    }
   ],
   "source": [
    "df.resample('1D').sum().loc[\"2018-03-01\":\"2018-03-31\",\"num_orders\"].plot(figsize=(15,10))\n",
    "df.resample('1D').sum().loc[\"2018-03-01\":\"2018-03-31\",\"num_orders\"].rolling(5).mean().plot()\n",
    "df.resample('1D').sum().loc[\"2018-03-01\":\"2018-03-31\",\"num_orders\"].rolling(5).std().plot()\n",
    "plt.legend(['num_orders', 'mean', 'std']);"
   ]
  },
  {
   "cell_type": "markdown",
   "metadata": {},
   "source": [
    "Наблюдается суточная сезонность. Пики заказов достигаются в полночь."
   ]
  },
  {
   "cell_type": "code",
   "execution_count": 63,
   "metadata": {
    "scrolled": true
   },
   "outputs": [
    {
     "data": {
      "image/png": "[encoded data removed]",
      "text/plain": [
       "<Figure size 1080x720 with 1 Axes>"
      ]
     },
     "metadata": {
      "needs_background": "light"
     },
     "output_type": "display_data"
    }
   ],
   "source": [
    "df.resample('1H').sum().loc[\"2018-03-01 00:00\":\"2018-03-03 00:00\",\"num_orders\"].plot(figsize=(15,10))\n",
    "df.resample('1H').sum().loc[\"2018-03-01 00:00\":\"2018-03-03 00:00\",\"num_orders\"].rolling(5).mean().plot()\n",
    "df.resample('1H').sum().loc[\"2018-03-01 00:00\":\"2018-03-03 00:00\",\"num_orders\"].rolling(5).std().plot()\n",
    "plt.legend(['num_orders', 'mean', 'std']);"
   ]
  },
  {
   "cell_type": "markdown",
   "metadata": {},
   "source": [
    "H0 - исходный временной ряд - нестационарный\n",
    "H1 - исходный временной ряд стационарный\n",
    "\n",
    "Для проверки нулевой гипотезы используется тест Дики-Фуллера."
   ]
  },
  {
   "cell_type": "code",
   "execution_count": 64,
   "metadata": {
    "scrolled": true
   },
   "outputs": [
    {
     "data": {
      "text/plain": [
       "'pvalue = 2.2286378815479297e-23'"
      ]
     },
     "execution_count": 64,
     "metadata": {},
     "output_type": "execute_result"
    }
   ],
   "source": [
    "f\"pvalue = {adfuller(df)[1]}\""
   ]
  },
  {
   "cell_type": "markdown",
   "metadata": {},
   "source": [
    "Значение pvalue много меньше доверительного интервала в 0.05, следует отвергнуть нулевую гипотезу и принять, что ряд является стационарным."
   ]
  },
  {
   "cell_type": "markdown",
   "metadata": {},
   "source": [
    "Добавление полей **day_of_week**, **rol**, **hour**, **lag_n** из исходной даты для обучения:"
   ]
  },
  {
   "cell_type": "code",
   "execution_count": 65,
   "metadata": {},
   "outputs": [
    {
     "data": {
      "text/html": [
       "<div>\n",
       "<style scoped>\n",
       "    .dataframe tbody tr th:only-of-type {\n",
       "        vertical-align: middle;\n",
       "    }\n",
       "\n",
       "    .dataframe tbody tr th {\n",
       "        vertical-align: top;\n",
       "    }\n",
       "\n",
       "    .dataframe thead th {\n",
       "        text-align: right;\n",
       "    }\n",
       "</style>\n",
       "<table border=\"1\" class=\"dataframe\">\n",
       "  <thead>\n",
       "    <tr style=\"text-align: right;\">\n",
       "      <th></th>\n",
       "      <th>num_orders</th>\n",
       "      <th>hour</th>\n",
       "      <th>day_of_week</th>\n",
       "      <th>rol</th>\n",
       "      <th>lag_1</th>\n",
       "      <th>lag_2</th>\n",
       "      <th>lag_3</th>\n",
       "      <th>lag_4</th>\n",
       "      <th>lag_5</th>\n",
       "      <th>lag_6</th>\n",
       "      <th>lag_7</th>\n",
       "      <th>lag_8</th>\n",
       "      <th>lag_9</th>\n",
       "      <th>lag_10</th>\n",
       "      <th>lag_11</th>\n",
       "      <th>lag_12</th>\n",
       "      <th>lag_13</th>\n",
       "      <th>lag_14</th>\n",
       "    </tr>\n",
       "    <tr>\n",
       "      <th>datetime</th>\n",
       "      <th></th>\n",
       "      <th></th>\n",
       "      <th></th>\n",
       "      <th></th>\n",
       "      <th></th>\n",
       "      <th></th>\n",
       "      <th></th>\n",
       "      <th></th>\n",
       "      <th></th>\n",
       "      <th></th>\n",
       "      <th></th>\n",
       "      <th></th>\n",
       "      <th></th>\n",
       "      <th></th>\n",
       "      <th></th>\n",
       "      <th></th>\n",
       "      <th></th>\n",
       "      <th></th>\n",
       "    </tr>\n",
       "  </thead>\n",
       "  <tbody>\n",
       "    <tr>\n",
       "      <th>2018-03-01 14:00:00</th>\n",
       "      <td>48</td>\n",
       "      <td>14</td>\n",
       "      <td>3</td>\n",
       "      <td>58.2</td>\n",
       "      <td>32.0</td>\n",
       "      <td>30.0</td>\n",
       "      <td>96.0</td>\n",
       "      <td>64.0</td>\n",
       "      <td>69.0</td>\n",
       "      <td>34.0</td>\n",
       "      <td>15.0</td>\n",
       "      <td>12.0</td>\n",
       "      <td>6.0</td>\n",
       "      <td>43.0</td>\n",
       "      <td>66.0</td>\n",
       "      <td>71.0</td>\n",
       "      <td>85.0</td>\n",
       "      <td>124.0</td>\n",
       "    </tr>\n",
       "    <tr>\n",
       "      <th>2018-03-01 15:00:00</th>\n",
       "      <td>66</td>\n",
       "      <td>15</td>\n",
       "      <td>3</td>\n",
       "      <td>54.0</td>\n",
       "      <td>48.0</td>\n",
       "      <td>32.0</td>\n",
       "      <td>30.0</td>\n",
       "      <td>96.0</td>\n",
       "      <td>64.0</td>\n",
       "      <td>69.0</td>\n",
       "      <td>34.0</td>\n",
       "      <td>15.0</td>\n",
       "      <td>12.0</td>\n",
       "      <td>6.0</td>\n",
       "      <td>43.0</td>\n",
       "      <td>66.0</td>\n",
       "      <td>71.0</td>\n",
       "      <td>85.0</td>\n",
       "    </tr>\n",
       "    <tr>\n",
       "      <th>2018-03-01 16:00:00</th>\n",
       "      <td>43</td>\n",
       "      <td>16</td>\n",
       "      <td>3</td>\n",
       "      <td>54.4</td>\n",
       "      <td>66.0</td>\n",
       "      <td>48.0</td>\n",
       "      <td>32.0</td>\n",
       "      <td>30.0</td>\n",
       "      <td>96.0</td>\n",
       "      <td>64.0</td>\n",
       "      <td>69.0</td>\n",
       "      <td>34.0</td>\n",
       "      <td>15.0</td>\n",
       "      <td>12.0</td>\n",
       "      <td>6.0</td>\n",
       "      <td>43.0</td>\n",
       "      <td>66.0</td>\n",
       "      <td>71.0</td>\n",
       "    </tr>\n",
       "    <tr>\n",
       "      <th>2018-03-01 17:00:00</th>\n",
       "      <td>44</td>\n",
       "      <td>17</td>\n",
       "      <td>3</td>\n",
       "      <td>43.8</td>\n",
       "      <td>43.0</td>\n",
       "      <td>66.0</td>\n",
       "      <td>48.0</td>\n",
       "      <td>32.0</td>\n",
       "      <td>30.0</td>\n",
       "      <td>96.0</td>\n",
       "      <td>64.0</td>\n",
       "      <td>69.0</td>\n",
       "      <td>34.0</td>\n",
       "      <td>15.0</td>\n",
       "      <td>12.0</td>\n",
       "      <td>6.0</td>\n",
       "      <td>43.0</td>\n",
       "      <td>66.0</td>\n",
       "    </tr>\n",
       "    <tr>\n",
       "      <th>2018-03-01 18:00:00</th>\n",
       "      <td>73</td>\n",
       "      <td>18</td>\n",
       "      <td>3</td>\n",
       "      <td>46.6</td>\n",
       "      <td>44.0</td>\n",
       "      <td>43.0</td>\n",
       "      <td>66.0</td>\n",
       "      <td>48.0</td>\n",
       "      <td>32.0</td>\n",
       "      <td>30.0</td>\n",
       "      <td>96.0</td>\n",
       "      <td>64.0</td>\n",
       "      <td>69.0</td>\n",
       "      <td>34.0</td>\n",
       "      <td>15.0</td>\n",
       "      <td>12.0</td>\n",
       "      <td>6.0</td>\n",
       "      <td>43.0</td>\n",
       "    </tr>\n",
       "  </tbody>\n",
       "</table>\n",
       "</div>"
      ],
      "text/plain": [
       "                     num_orders  hour  day_of_week   rol  lag_1  lag_2  lag_3  \\\n",
       "datetime                                                                        \n",
       "2018-03-01 14:00:00          48    14            3  58.2   32.0   30.0   96.0   \n",
       "2018-03-01 15:00:00          66    15            3  54.0   48.0   32.0   30.0   \n",
       "2018-03-01 16:00:00          43    16            3  54.4   66.0   48.0   32.0   \n",
       "2018-03-01 17:00:00          44    17            3  43.8   43.0   66.0   48.0   \n",
       "2018-03-01 18:00:00          73    18            3  46.6   44.0   43.0   66.0   \n",
       "\n",
       "                     lag_4  lag_5  lag_6  lag_7  lag_8  lag_9  lag_10  lag_11  \\\n",
       "datetime                                                                        \n",
       "2018-03-01 14:00:00   64.0   69.0   34.0   15.0   12.0    6.0    43.0    66.0   \n",
       "2018-03-01 15:00:00   96.0   64.0   69.0   34.0   15.0   12.0     6.0    43.0   \n",
       "2018-03-01 16:00:00   30.0   96.0   64.0   69.0   34.0   15.0    12.0     6.0   \n",
       "2018-03-01 17:00:00   32.0   30.0   96.0   64.0   69.0   34.0    15.0    12.0   \n",
       "2018-03-01 18:00:00   48.0   32.0   30.0   96.0   64.0   69.0    34.0    15.0   \n",
       "\n",
       "                     lag_12  lag_13  lag_14  \n",
       "datetime                                     \n",
       "2018-03-01 14:00:00    71.0    85.0   124.0  \n",
       "2018-03-01 15:00:00    66.0    71.0    85.0  \n",
       "2018-03-01 16:00:00    43.0    66.0    71.0  \n",
       "2018-03-01 17:00:00     6.0    43.0    66.0  \n",
       "2018-03-01 18:00:00    12.0     6.0    43.0  "
      ]
     },
     "execution_count": 65,
     "metadata": {},
     "output_type": "execute_result"
    }
   ],
   "source": [
    "df = df.resample('1H').sum()\n",
    "df[\"hour\"] = df.index.hour\n",
    "df[\"day_of_week\"] = df.index.day_of_week\n",
    "df['rol'] = df[\"num_orders\"].shift().rolling(5).mean()\n",
    "for i in range(1,15):\n",
    "    df[f'lag_{i}'] = df[\"num_orders\"].shift(i)\n",
    "df.dropna(inplace=True)\n",
    "df.head()"
   ]
  },
  {
   "cell_type": "markdown",
   "metadata": {},
   "source": [
    "## Обучение"
   ]
  },
  {
   "cell_type": "code",
   "execution_count": 66,
   "metadata": {},
   "outputs": [],
   "source": [
    "train, test = train_test_split(df, shuffle=False, test_size=0.1)\n",
    "train = train.dropna()\n",
    "\n",
    "features_train = train.drop(columns=\"num_orders\")\n",
    "targets_train = train[\"num_orders\"]\n",
    "features_test = test.drop(columns=\"num_orders\")\n",
    "targets_test = test[\"num_orders\"]"
   ]
  },
  {
   "cell_type": "markdown",
   "metadata": {},
   "source": [
    "### Catboost"
   ]
  },
  {
   "cell_type": "code",
   "execution_count": 67,
   "metadata": {},
   "outputs": [],
   "source": [
    "cv_dataset = Pool(data=features_train,\n",
    "                  label=targets_train)"
   ]
  },
  {
   "cell_type": "code",
   "execution_count": 68,
   "metadata": {},
   "outputs": [
    {
     "name": "stdout",
     "output_type": "stream",
     "text": [
      "Training on fold [0/10]\n",
      "0:\tlearn: 58.3980926\ttest: 60.6045366\tbest: 60.6045366 (0)\ttotal: 1.12ms\tremaining: 111ms\n",
      "10:\tlearn: 30.8469159\ttest: 33.9244446\tbest: 33.9244446 (10)\ttotal: 8.72ms\tremaining: 70.5ms\n",
      "20:\tlearn: 21.9319097\ttest: 25.5354849\tbest: 25.5354849 (20)\ttotal: 15.4ms\tremaining: 57.8ms\n",
      "30:\tlearn: 19.1145230\ttest: 23.1653766\tbest: 23.1653766 (30)\ttotal: 22ms\tremaining: 48.9ms\n",
      "40:\tlearn: 16.9999354\ttest: 21.7781612\tbest: 21.7781612 (40)\ttotal: 28.3ms\tremaining: 40.7ms\n",
      "50:\tlearn: 15.8896749\ttest: 21.1452569\tbest: 21.1452569 (50)\ttotal: 34.9ms\tremaining: 33.5ms\n",
      "60:\tlearn: 14.9711757\ttest: 20.6998337\tbest: 20.6998337 (60)\ttotal: 41.4ms\tremaining: 26.5ms\n",
      "70:\tlearn: 14.1628477\ttest: 20.4937029\tbest: 20.4937029 (70)\ttotal: 47.9ms\tremaining: 19.6ms\n",
      "80:\tlearn: 13.4153314\ttest: 20.5036905\tbest: 20.4471730 (77)\ttotal: 54.3ms\tremaining: 12.7ms\n",
      "90:\tlearn: 12.8547871\ttest: 20.4883748\tbest: 20.4471730 (77)\ttotal: 60.7ms\tremaining: 6ms\n",
      "99:\tlearn: 12.3478469\ttest: 20.4442334\tbest: 20.4203411 (96)\ttotal: 66.5ms\tremaining: 0us\n",
      "\n",
      "bestTest = 20.42034108\n",
      "bestIteration = 96\n",
      "\n",
      "Training on fold [1/10]\n",
      "0:\tlearn: 59.3710304\ttest: 59.5873582\tbest: 59.5873582 (0)\ttotal: 1.03ms\tremaining: 102ms\n",
      "10:\tlearn: 31.2905689\ttest: 32.3173980\tbest: 32.3173980 (10)\ttotal: 8.83ms\tremaining: 71.5ms\n",
      "20:\tlearn: 22.2123859\ttest: 24.4426628\tbest: 24.4426628 (20)\ttotal: 17ms\tremaining: 63.8ms\n",
      "30:\tlearn: 19.3502985\ttest: 22.3070526\tbest: 22.3070526 (30)\ttotal: 25ms\tremaining: 55.7ms\n",
      "40:\tlearn: 17.8017922\ttest: 21.5173737\tbest: 21.5173737 (40)\ttotal: 32.4ms\tremaining: 46.7ms\n",
      "50:\tlearn: 16.8211410\ttest: 20.9464993\tbest: 20.9464993 (50)\ttotal: 40ms\tremaining: 38.4ms\n",
      "60:\tlearn: 16.1888532\ttest: 20.7935648\tbest: 20.7736779 (59)\ttotal: 47.4ms\tremaining: 30.3ms\n",
      "70:\tlearn: 15.6767194\ttest: 20.5756705\tbest: 20.5756705 (70)\ttotal: 55.3ms\tremaining: 22.6ms\n",
      "80:\tlearn: 15.1530161\ttest: 20.4362700\tbest: 20.4362700 (80)\ttotal: 63.2ms\tremaining: 14.8ms\n",
      "90:\tlearn: 14.6126066\ttest: 20.2900489\tbest: 20.2857350 (89)\ttotal: 70.9ms\tremaining: 7.01ms\n",
      "99:\tlearn: 14.1693782\ttest: 20.2478283\tbest: 20.2446650 (96)\ttotal: 77.9ms\tremaining: 0us\n",
      "\n",
      "bestTest = 20.24466501\n",
      "bestIteration = 96\n",
      "\n",
      "Training on fold [2/10]\n",
      "0:\tlearn: 59.4180675\ttest: 72.1832916\tbest: 72.1832916 (0)\ttotal: 1.7ms\tremaining: 168ms\n",
      "10:\tlearn: 31.3386849\ttest: 42.4075031\tbest: 42.4075031 (10)\ttotal: 16ms\tremaining: 129ms\n",
      "20:\tlearn: 22.8420814\ttest: 32.5684585\tbest: 32.5684585 (20)\ttotal: 52.3ms\tremaining: 197ms\n",
      "30:\tlearn: 19.8226154\ttest: 28.7309915\tbest: 28.7309915 (30)\ttotal: 66.4ms\tremaining: 148ms\n",
      "40:\tlearn: 18.6991112\ttest: 27.2575001\tbest: 27.2575001 (40)\ttotal: 75.9ms\tremaining: 109ms\n",
      "50:\tlearn: 18.0274905\ttest: 26.5127098\tbest: 26.5127098 (50)\ttotal: 134ms\tremaining: 129ms\n",
      "60:\tlearn: 17.4975614\ttest: 25.9407728\tbest: 25.9407728 (60)\ttotal: 143ms\tremaining: 91.1ms\n",
      "70:\tlearn: 17.0154720\ttest: 25.6339329\tbest: 25.6339329 (70)\ttotal: 152ms\tremaining: 62ms\n",
      "80:\tlearn: 16.4320978\ttest: 25.3442426\tbest: 25.3442426 (80)\ttotal: 160ms\tremaining: 37.6ms\n",
      "90:\tlearn: 15.9596246\ttest: 25.0667738\tbest: 25.0667738 (90)\ttotal: 169ms\tremaining: 16.7ms\n",
      "99:\tlearn: 15.4950858\ttest: 24.9844098\tbest: 24.9844098 (99)\ttotal: 221ms\tremaining: 0us\n",
      "\n",
      "bestTest = 24.98440982\n",
      "bestIteration = 99\n",
      "\n",
      "Training on fold [3/10]\n",
      "0:\tlearn: 62.5591888\ttest: 69.6782786\tbest: 69.6782786 (0)\ttotal: 1.22ms\tremaining: 121ms\n",
      "10:\tlearn: 33.0569908\ttest: 38.6344922\tbest: 38.6344922 (10)\ttotal: 10.7ms\tremaining: 86.6ms\n",
      "20:\tlearn: 24.2869481\ttest: 28.8678801\tbest: 28.8678801 (20)\ttotal: 19.9ms\tremaining: 74.7ms\n",
      "30:\tlearn: 21.4878579\ttest: 25.6018769\tbest: 25.6018769 (30)\ttotal: 29.5ms\tremaining: 65.6ms\n",
      "40:\tlearn: 20.1516515\ttest: 24.1991484\tbest: 24.1991484 (40)\ttotal: 38.7ms\tremaining: 55.6ms\n",
      "50:\tlearn: 19.3591790\ttest: 23.4943068\tbest: 23.4943068 (50)\ttotal: 47.9ms\tremaining: 46.1ms\n",
      "60:\tlearn: 18.8290282\ttest: 23.1462691\tbest: 23.1462691 (60)\ttotal: 57ms\tremaining: 36.5ms\n",
      "70:\tlearn: 18.2505637\ttest: 22.9178290\tbest: 22.9178290 (70)\ttotal: 66.5ms\tremaining: 27.2ms\n",
      "80:\tlearn: 17.7588632\ttest: 22.7714463\tbest: 22.7410327 (78)\ttotal: 76.4ms\tremaining: 17.9ms\n",
      "90:\tlearn: 17.2202876\ttest: 22.6336585\tbest: 22.6336585 (90)\ttotal: 86.1ms\tremaining: 8.51ms\n",
      "99:\tlearn: 16.8545235\ttest: 22.5570513\tbest: 22.5570513 (99)\ttotal: 94.6ms\tremaining: 0us\n",
      "\n",
      "bestTest = 22.55705126\n",
      "bestIteration = 99\n",
      "\n",
      "Training on fold [4/10]\n",
      "0:\tlearn: 63.8502368\ttest: 80.6615228\tbest: 80.6615228 (0)\ttotal: 1.37ms\tremaining: 136ms\n",
      "10:\tlearn: 33.8102827\ttest: 48.1607368\tbest: 48.1607368 (10)\ttotal: 11.5ms\tremaining: 92.8ms\n",
      "20:\tlearn: 24.7892508\ttest: 36.5085747\tbest: 36.5085747 (20)\ttotal: 21.2ms\tremaining: 79.6ms\n",
      "30:\tlearn: 21.8696532\ttest: 31.7919968\tbest: 31.7919968 (30)\ttotal: 30.9ms\tremaining: 68.8ms\n",
      "40:\tlearn: 20.7614126\ttest: 29.7743245\tbest: 29.7743245 (40)\ttotal: 42.2ms\tremaining: 60.8ms\n",
      "50:\tlearn: 20.0018502\ttest: 28.5490721\tbest: 28.5490721 (50)\ttotal: 53.9ms\tremaining: 51.8ms\n",
      "60:\tlearn: 19.5189735\ttest: 27.9350725\tbest: 27.9251501 (59)\ttotal: 66.5ms\tremaining: 42.5ms\n",
      "70:\tlearn: 19.0385547\ttest: 27.2827443\tbest: 27.2827443 (70)\ttotal: 77.1ms\tremaining: 31.5ms\n",
      "80:\tlearn: 18.5564251\ttest: 26.7608148\tbest: 26.7608148 (80)\ttotal: 86.8ms\tremaining: 20.4ms\n",
      "90:\tlearn: 18.1698908\ttest: 26.4409753\tbest: 26.4409753 (90)\ttotal: 96.7ms\tremaining: 9.56ms\n",
      "99:\tlearn: 17.8295045\ttest: 26.2974627\tbest: 26.2974627 (99)\ttotal: 107ms\tremaining: 0us\n",
      "\n",
      "bestTest = 26.29746272\n",
      "bestIteration = 99\n",
      "\n",
      "Training on fold [5/10]\n",
      "0:\tlearn: 66.7459976\ttest: 79.1533316\tbest: 79.1533316 (0)\ttotal: 1.44ms\tremaining: 143ms\n",
      "10:\tlearn: 35.1643910\ttest: 43.5344603\tbest: 43.5344603 (10)\ttotal: 12.4ms\tremaining: 100ms\n",
      "20:\tlearn: 25.9595587\ttest: 31.7671950\tbest: 31.7671950 (20)\ttotal: 23.7ms\tremaining: 89.1ms\n",
      "30:\tlearn: 23.0484227\ttest: 27.4874922\tbest: 27.4874922 (30)\ttotal: 35.3ms\tremaining: 78.5ms\n",
      "40:\tlearn: 21.7410454\ttest: 25.6043068\tbest: 25.6043068 (40)\ttotal: 46ms\tremaining: 66.1ms\n",
      "50:\tlearn: 20.8801892\ttest: 24.7293684\tbest: 24.7293684 (50)\ttotal: 56.8ms\tremaining: 54.6ms\n",
      "60:\tlearn: 20.2474943\ttest: 24.1976408\tbest: 24.1976408 (60)\ttotal: 67.6ms\tremaining: 43.2ms\n",
      "70:\tlearn: 19.8828091\ttest: 24.0591033\tbest: 24.0413428 (68)\ttotal: 78.5ms\tremaining: 32.1ms\n",
      "80:\tlearn: 19.4807301\ttest: 23.9856835\tbest: 23.9856835 (80)\ttotal: 89.3ms\tremaining: 20.9ms\n",
      "90:\tlearn: 19.0526223\ttest: 23.8705412\tbest: 23.8705412 (90)\ttotal: 100ms\tremaining: 9.9ms\n",
      "99:\tlearn: 18.6414544\ttest: 23.7165897\tbest: 23.7097628 (93)\ttotal: 111ms\tremaining: 0us\n",
      "\n",
      "bestTest = 23.70976283\n",
      "bestIteration = 93\n",
      "\n",
      "Training on fold [6/10]\n",
      "0:\tlearn: 68.5318998\ttest: 84.4157436\tbest: 84.4157436 (0)\ttotal: 1.4ms\tremaining: 139ms\n",
      "10:\tlearn: 35.7073607\ttest: 45.5670908\tbest: 45.5670908 (10)\ttotal: 13.4ms\tremaining: 109ms\n",
      "20:\tlearn: 25.9960077\ttest: 31.9125391\tbest: 31.9125391 (20)\ttotal: 24.9ms\tremaining: 93.7ms\n",
      "30:\tlearn: 23.0933452\ttest: 27.2727190\tbest: 27.2727190 (30)\ttotal: 37.1ms\tremaining: 82.5ms\n",
      "40:\tlearn: 21.8647141\ttest: 25.6571434\tbest: 25.6571434 (40)\ttotal: 49.6ms\tremaining: 71.4ms\n",
      "50:\tlearn: 21.0510882\ttest: 24.7581850\tbest: 24.7581850 (50)\ttotal: 62.2ms\tremaining: 59.8ms\n",
      "60:\tlearn: 20.5892388\ttest: 24.4395966\tbest: 24.4395966 (60)\ttotal: 73.5ms\tremaining: 47ms\n",
      "70:\tlearn: 20.1215477\ttest: 24.1548885\tbest: 24.1548885 (70)\ttotal: 84.9ms\tremaining: 34.7ms\n",
      "80:\tlearn: 19.6836718\ttest: 23.9806845\tbest: 23.9806845 (80)\ttotal: 96.9ms\tremaining: 22.7ms\n",
      "90:\tlearn: 19.3429492\ttest: 23.9243587\tbest: 23.9243587 (90)\ttotal: 109ms\tremaining: 10.8ms\n",
      "99:\tlearn: 18.9966818\ttest: 23.8740456\tbest: 23.8653582 (98)\ttotal: 120ms\tremaining: 0us\n",
      "\n",
      "bestTest = 23.86535823\n",
      "bestIteration = 98\n",
      "\n",
      "Training on fold [7/10]\n",
      "0:\tlearn: 70.5732973\ttest: 92.8523587\tbest: 92.8523587 (0)\ttotal: 1.56ms\tremaining: 154ms\n",
      "10:\tlearn: 36.2146661\ttest: 51.4745733\tbest: 51.4745733 (10)\ttotal: 13.6ms\tremaining: 110ms\n",
      "20:\tlearn: 26.4766815\ttest: 36.8089789\tbest: 36.8089789 (20)\ttotal: 25.5ms\tremaining: 96ms\n",
      "30:\tlearn: 23.3755716\ttest: 30.7383663\tbest: 30.7383663 (30)\ttotal: 45.4ms\tremaining: 101ms\n",
      "40:\tlearn: 22.2424530\ttest: 28.3353899\tbest: 28.3353899 (40)\ttotal: 60.1ms\tremaining: 86.5ms\n",
      "50:\tlearn: 21.4385498\ttest: 26.8906568\tbest: 26.8906568 (50)\ttotal: 72.6ms\tremaining: 69.8ms\n",
      "60:\tlearn: 20.9383819\ttest: 26.1206359\tbest: 26.1206359 (60)\ttotal: 84.8ms\tremaining: 54.2ms\n",
      "70:\tlearn: 20.5142792\ttest: 25.5866334\tbest: 25.5866334 (70)\ttotal: 96.7ms\tremaining: 39.5ms\n",
      "80:\tlearn: 20.0527209\ttest: 24.9597649\tbest: 24.9597649 (80)\ttotal: 109ms\tremaining: 25.5ms\n",
      "90:\tlearn: 19.7314358\ttest: 24.6486771\tbest: 24.6486771 (90)\ttotal: 123ms\tremaining: 12.2ms\n",
      "99:\tlearn: 19.4942526\ttest: 24.4236522\tbest: 24.4236522 (99)\ttotal: 139ms\tremaining: 0us\n",
      "\n",
      "bestTest = 24.42365224\n",
      "bestIteration = 99\n",
      "\n",
      "Training on fold [8/10]\n",
      "0:\tlearn: 73.2007376\ttest: 102.6886833\tbest: 102.6886833 (0)\ttotal: 1.56ms\tremaining: 155ms\n",
      "10:\tlearn: 37.1614436\ttest: 58.4912969\tbest: 58.4912969 (10)\ttotal: 14ms\tremaining: 114ms\n",
      "20:\tlearn: 27.1649976\ttest: 43.3450425\tbest: 43.3450425 (20)\ttotal: 26.8ms\tremaining: 101ms\n",
      "30:\tlearn: 24.0101295\ttest: 37.1940944\tbest: 37.1940944 (30)\ttotal: 39.4ms\tremaining: 87.6ms\n",
      "40:\tlearn: 22.6627404\ttest: 34.2978202\tbest: 34.2978202 (40)\ttotal: 55.6ms\tremaining: 80ms\n",
      "50:\tlearn: 21.8412565\ttest: 32.7323243\tbest: 32.7323243 (50)\ttotal: 69.3ms\tremaining: 66.6ms\n",
      "60:\tlearn: 21.3381241\ttest: 32.0195597\tbest: 32.0195597 (60)\ttotal: 82.4ms\tremaining: 52.7ms\n",
      "70:\tlearn: 20.8701373\ttest: 31.3651501\tbest: 31.3651501 (70)\ttotal: 95.8ms\tremaining: 39.1ms\n",
      "80:\tlearn: 20.5290635\ttest: 30.9295657\tbest: 30.9295657 (80)\ttotal: 109ms\tremaining: 25.5ms\n",
      "90:\tlearn: 20.2078546\ttest: 30.7188759\tbest: 30.7188759 (90)\ttotal: 122ms\tremaining: 12ms\n",
      "99:\tlearn: 19.8633629\ttest: 30.3348590\tbest: 30.3348590 (99)\ttotal: 133ms\tremaining: 0us\n",
      "\n",
      "bestTest = 30.33485896\n",
      "bestIteration = 99\n",
      "\n",
      "Training on fold [9/10]\n",
      "0:\tlearn: 76.4451604\ttest: 111.9649130\tbest: 111.9649130 (0)\ttotal: 1.68ms\tremaining: 166ms\n",
      "10:\tlearn: 38.8762428\ttest: 65.6709464\tbest: 65.6709464 (10)\ttotal: 19ms\tremaining: 154ms\n",
      "20:\tlearn: 27.8992764\ttest: 48.6100338\tbest: 48.6100338 (20)\ttotal: 37.2ms\tremaining: 140ms\n",
      "30:\tlearn: 24.7846388\ttest: 41.6660765\tbest: 41.6660765 (30)\ttotal: 50.9ms\tremaining: 113ms\n",
      "40:\tlearn: 23.5597491\ttest: 38.4155605\tbest: 38.4155605 (40)\ttotal: 63.9ms\tremaining: 91.9ms\n",
      "50:\tlearn: 22.7068206\ttest: 36.3435913\tbest: 36.3435913 (50)\ttotal: 78ms\tremaining: 74.9ms\n",
      "60:\tlearn: 22.2202526\ttest: 35.1268126\tbest: 35.1268126 (60)\ttotal: 92.3ms\tremaining: 59ms\n",
      "70:\tlearn: 21.7615667\ttest: 34.3480712\tbest: 34.3480712 (70)\ttotal: 107ms\tremaining: 43.8ms\n",
      "80:\tlearn: 21.3344925\ttest: 33.4702298\tbest: 33.4702298 (80)\ttotal: 122ms\tremaining: 28.6ms\n",
      "90:\tlearn: 21.0111170\ttest: 33.0672879\tbest: 33.0672879 (90)\ttotal: 138ms\tremaining: 13.6ms\n",
      "99:\tlearn: 20.7409237\ttest: 32.6576666\tbest: 32.6576666 (99)\ttotal: 152ms\tremaining: 0us\n",
      "\n",
      "bestTest = 32.65766662\n",
      "bestIteration = 99\n",
      "\n",
      "Training on fold [0/10]\n",
      "0:\tlearn: 60.9848710\ttest: 63.1607208\tbest: 63.1607208 (0)\ttotal: 1.52ms\tremaining: 757ms\n",
      "50:\tlearn: 19.6019715\ttest: 24.0644609\tbest: 24.0644609 (50)\ttotal: 56ms\tremaining: 493ms\n",
      "100:\tlearn: 14.8269255\ttest: 20.6724729\tbest: 20.6724729 (100)\ttotal: 111ms\tremaining: 440ms\n",
      "150:\tlearn: 12.5593267\ttest: 20.1605928\tbest: 20.1398511 (144)\ttotal: 169ms\tremaining: 390ms\n",
      "200:\tlearn: 10.7514819\ttest: 20.1370459\tbest: 20.0728501 (168)\ttotal: 225ms\tremaining: 334ms\n",
      "250:\tlearn: 9.4485307\ttest: 20.3312337\tbest: 20.0728501 (168)\ttotal: 295ms\tremaining: 293ms\n",
      "300:\tlearn: 8.3269760\ttest: 20.4335531\tbest: 20.0728501 (168)\ttotal: 358ms\tremaining: 236ms\n",
      "350:\tlearn: 7.3130793\ttest: 20.5970665\tbest: 20.0728501 (168)\ttotal: 415ms\tremaining: 176ms\n",
      "400:\tlearn: 6.4699746\ttest: 20.6878132\tbest: 20.0728501 (168)\ttotal: 471ms\tremaining: 116ms\n",
      "450:\tlearn: 5.8595629\ttest: 20.7536839\tbest: 20.0728501 (168)\ttotal: 527ms\tremaining: 57.3ms\n",
      "499:\tlearn: 5.1450545\ttest: 20.7768267\tbest: 20.0728501 (168)\ttotal: 612ms\tremaining: 0us\n",
      "\n",
      "bestTest = 20.07285015\n",
      "bestIteration = 168\n",
      "\n",
      "Training on fold [1/10]\n",
      "0:\tlearn: 62.0034450\ttest: 62.2729761\tbest: 62.2729761 (0)\ttotal: 1.52ms\tremaining: 760ms\n",
      "50:\tlearn: 19.9443334\ttest: 22.9427261\tbest: 22.9427261 (50)\ttotal: 79.6ms\tremaining: 701ms\n",
      "100:\tlearn: 16.1332516\ttest: 20.6377461\tbest: 20.6377461 (100)\ttotal: 138ms\tremaining: 544ms\n",
      "150:\tlearn: 14.3412018\ttest: 20.1793057\tbest: 20.1793057 (150)\ttotal: 209ms\tremaining: 483ms\n",
      "200:\tlearn: 12.9626028\ttest: 19.8612444\tbest: 19.8612444 (200)\ttotal: 286ms\tremaining: 426ms\n",
      "250:\tlearn: 11.9661568\ttest: 19.6906346\tbest: 19.6906346 (250)\ttotal: 349ms\tremaining: 346ms\n",
      "300:\tlearn: 11.0680664\ttest: 19.5547460\tbest: 19.5547460 (300)\ttotal: 415ms\tremaining: 274ms\n",
      "350:\tlearn: 10.1451912\ttest: 19.4824304\tbest: 19.4801007 (349)\ttotal: 485ms\tremaining: 206ms\n",
      "400:\tlearn: 9.4724628\ttest: 19.4093669\tbest: 19.4093669 (400)\ttotal: 548ms\tremaining: 135ms\n",
      "450:\tlearn: 8.7198799\ttest: 19.3875519\tbest: 19.3875519 (450)\ttotal: 611ms\tremaining: 66.4ms\n",
      "499:\tlearn: 8.2063377\ttest: 19.3707188\tbest: 19.3696339 (496)\ttotal: 682ms\tremaining: 0us\n",
      "\n",
      "bestTest = 19.36963391\n",
      "bestIteration = 496\n",
      "\n",
      "Training on fold [2/10]\n",
      "0:\tlearn: 62.0445440\ttest: 74.7316651\tbest: 74.7316651 (0)\ttotal: 1.77ms\tremaining: 882ms\n",
      "50:\tlearn: 20.5302750\ttest: 29.7626667\tbest: 29.7626667 (50)\ttotal: 80.1ms\tremaining: 705ms\n",
      "100:\tlearn: 17.1555397\ttest: 25.6975929\tbest: 25.6975929 (100)\ttotal: 141ms\tremaining: 556ms\n",
      "150:\tlearn: 15.5919584\ttest: 24.8537068\tbest: 24.8537068 (150)\ttotal: 206ms\tremaining: 477ms\n",
      "200:\tlearn: 14.2088138\ttest: 24.3994523\tbest: 24.3814844 (192)\ttotal: 268ms\tremaining: 399ms\n",
      "250:\tlearn: 13.1562739\ttest: 24.1791955\tbest: 24.1784644 (247)\ttotal: 352ms\tremaining: 349ms\n",
      "300:\tlearn: 12.2861971\ttest: 24.0374521\tbest: 24.0371192 (297)\ttotal: 425ms\tremaining: 281ms\n",
      "350:\tlearn: 11.4905100\ttest: 23.9725126\tbest: 23.9438168 (339)\ttotal: 489ms\tremaining: 207ms\n",
      "400:\tlearn: 10.7409152\ttest: 23.9554026\tbest: 23.9438168 (339)\ttotal: 554ms\tremaining: 137ms\n",
      "450:\tlearn: 10.1012556\ttest: 23.9204080\tbest: 23.9106175 (435)\ttotal: 619ms\tremaining: 67.3ms\n",
      "499:\tlearn: 9.5698169\ttest: 23.8944033\tbest: 23.8895921 (497)\ttotal: 690ms\tremaining: 0us\n",
      "\n",
      "bestTest = 23.88959208\n",
      "bestIteration = 497\n",
      "\n",
      "Training on fold [3/10]\n",
      "0:\tlearn: 65.3009412\ttest: 72.4159784\tbest: 72.4159784 (0)\ttotal: 1.74ms\tremaining: 869ms\n",
      "50:\tlearn: 21.8467125\ttest: 26.9841346\tbest: 26.9841346 (50)\ttotal: 73.1ms\tremaining: 643ms\n",
      "100:\tlearn: 18.2842330\ttest: 23.5058099\tbest: 23.5058099 (100)\ttotal: 160ms\tremaining: 632ms\n",
      "150:\tlearn: 16.8256506\ttest: 22.8351271\tbest: 22.8351271 (150)\ttotal: 253ms\tremaining: 584ms\n",
      "200:\tlearn: 15.6720577\ttest: 22.6004717\tbest: 22.5920728 (196)\ttotal: 333ms\tremaining: 496ms\n",
      "250:\tlearn: 14.6513711\ttest: 22.5213331\tbest: 22.5027780 (237)\ttotal: 418ms\tremaining: 414ms\n",
      "300:\tlearn: 13.8899524\ttest: 22.4768379\tbest: 22.4611505 (293)\ttotal: 506ms\tremaining: 334ms\n",
      "350:\tlearn: 13.1340135\ttest: 22.4850911\tbest: 22.4528981 (324)\ttotal: 577ms\tremaining: 245ms\n",
      "400:\tlearn: 12.5429355\ttest: 22.4837023\tbest: 22.4528981 (324)\ttotal: 654ms\tremaining: 161ms\n",
      "450:\tlearn: 11.9603920\ttest: 22.5387031\tbest: 22.4528981 (324)\ttotal: 727ms\tremaining: 79ms\n",
      "499:\tlearn: 11.4430761\ttest: 22.5648384\tbest: 22.4528981 (324)\ttotal: 819ms\tremaining: 0us\n",
      "\n",
      "bestTest = 22.4528981\n",
      "bestIteration = 324\n",
      "\n",
      "Training on fold [4/10]\n",
      "0:\tlearn: 66.6930342\ttest: 83.7612923\tbest: 83.7612923 (0)\ttotal: 1.85ms\tremaining: 925ms\n",
      "50:\tlearn: 22.5938040\ttest: 33.6658959\tbest: 33.6658959 (50)\ttotal: 76.7ms\tremaining: 675ms\n",
      "100:\tlearn: 19.0082509\ttest: 27.8779429\tbest: 27.8779429 (100)\ttotal: 154ms\tremaining: 606ms\n",
      "150:\tlearn: 17.6856374\ttest: 26.6387506\tbest: 26.6387506 (150)\ttotal: 227ms\tremaining: 526ms\n",
      "200:\tlearn: 16.5325771\ttest: 26.0874258\tbest: 26.0874258 (200)\ttotal: 300ms\tremaining: 446ms\n",
      "250:\tlearn: 15.6272423\ttest: 25.6286732\tbest: 25.6261240 (249)\ttotal: 377ms\tremaining: 374ms\n",
      "300:\tlearn: 14.9598674\ttest: 25.3490328\tbest: 25.3490328 (300)\ttotal: 452ms\tremaining: 299ms\n",
      "350:\tlearn: 14.2826782\ttest: 25.0507315\tbest: 25.0462940 (348)\ttotal: 528ms\tremaining: 224ms\n",
      "400:\tlearn: 13.7190221\ttest: 24.7791026\tbest: 24.7728044 (398)\ttotal: 605ms\tremaining: 149ms\n",
      "450:\tlearn: 13.1738137\ttest: 24.6550123\tbest: 24.6396517 (445)\ttotal: 682ms\tremaining: 74.1ms\n",
      "499:\tlearn: 12.6421054\ttest: 24.5521349\tbest: 24.5516219 (497)\ttotal: 760ms\tremaining: 0us\n",
      "\n",
      "bestTest = 24.55162193\n",
      "bestIteration = 497\n",
      "\n",
      "Training on fold [5/10]\n",
      "0:\tlearn: 69.7236385\ttest: 82.4547873\tbest: 82.4547873 (0)\ttotal: 2.06ms\tremaining: 1.03s\n",
      "50:\tlearn: 23.7025211\ttest: 28.7546095\tbest: 28.7546095 (50)\ttotal: 86.7ms\tremaining: 763ms\n",
      "100:\tlearn: 20.1068988\ttest: 24.2365376\tbest: 24.2365376 (100)\ttotal: 172ms\tremaining: 681ms\n",
      "150:\tlearn: 18.6283138\ttest: 23.4209225\tbest: 23.4209225 (150)\ttotal: 258ms\tremaining: 596ms\n",
      "200:\tlearn: 17.4378856\ttest: 23.0618358\tbest: 23.0618358 (200)\ttotal: 356ms\tremaining: 529ms\n",
      "250:\tlearn: 16.4690117\ttest: 22.8205051\tbest: 22.8205051 (250)\ttotal: 437ms\tremaining: 433ms\n",
      "300:\tlearn: 15.7195638\ttest: 22.8594332\tbest: 22.7812338 (266)\ttotal: 518ms\tremaining: 342ms\n",
      "350:\tlearn: 15.0027733\ttest: 22.8382983\tbest: 22.7812338 (266)\ttotal: 600ms\tremaining: 255ms\n",
      "400:\tlearn: 14.4971193\ttest: 22.8364217\tbest: 22.7812338 (266)\ttotal: 679ms\tremaining: 168ms\n",
      "450:\tlearn: 13.9610631\ttest: 22.8637274\tbest: 22.7812338 (266)\ttotal: 758ms\tremaining: 82.4ms\n",
      "499:\tlearn: 13.4605636\ttest: 22.8870745\tbest: 22.7812338 (266)\ttotal: 842ms\tremaining: 0us\n",
      "\n",
      "bestTest = 22.78123376\n",
      "bestIteration = 266\n",
      "\n",
      "Training on fold [6/10]\n",
      "0:\tlearn: 71.6159177\ttest: 87.9322916\tbest: 87.9322916 (0)\ttotal: 2.27ms\tremaining: 1.13s\n",
      "50:\tlearn: 23.8459582\ttest: 29.0566263\tbest: 29.0566263 (50)\ttotal: 97.6ms\tremaining: 859ms\n",
      "100:\tlearn: 20.4069442\ttest: 24.4939864\tbest: 24.4939864 (100)\ttotal: 186ms\tremaining: 734ms\n",
      "150:\tlearn: 19.0142497\ttest: 23.8377803\tbest: 23.8377803 (150)\ttotal: 272ms\tremaining: 629ms\n",
      "200:\tlearn: 17.9420412\ttest: 23.7223262\tbest: 23.7205615 (185)\ttotal: 360ms\tremaining: 535ms\n",
      "250:\tlearn: 17.0637222\ttest: 23.6799267\tbest: 23.6570802 (218)\ttotal: 456ms\tremaining: 452ms\n",
      "300:\tlearn: 16.3856300\ttest: 23.6075079\tbest: 23.5988176 (289)\ttotal: 544ms\tremaining: 360ms\n",
      "350:\tlearn: 15.7715331\ttest: 23.5750325\tbest: 23.5423918 (317)\ttotal: 644ms\tremaining: 274ms\n",
      "400:\tlearn: 15.2319082\ttest: 23.5708673\tbest: 23.5420695 (382)\ttotal: 738ms\tremaining: 182ms\n",
      "450:\tlearn: 14.7610613\ttest: 23.6230261\tbest: 23.5420695 (382)\ttotal: 822ms\tremaining: 89.3ms\n",
      "499:\tlearn: 14.3189484\ttest: 23.7121686\tbest: 23.5420695 (382)\ttotal: 909ms\tremaining: 0us\n",
      "\n",
      "bestTest = 23.54206951\n",
      "bestIteration = 382\n",
      "\n",
      "Training on fold [7/10]\n",
      "0:\tlearn: 73.7809603\ttest: 96.5333261\tbest: 96.5333261 (0)\ttotal: 8.84ms\tremaining: 4.41s\n",
      "50:\tlearn: 24.1005640\ttest: 32.4413610\tbest: 32.4413610 (50)\ttotal: 101ms\tremaining: 893ms\n",
      "100:\tlearn: 20.8384584\ttest: 25.9345821\tbest: 25.9345821 (100)\ttotal: 196ms\tremaining: 775ms\n",
      "150:\tlearn: 19.6159469\ttest: 24.4866977\tbest: 24.4866977 (150)\ttotal: 285ms\tremaining: 658ms\n",
      "200:\tlearn: 18.4806024\ttest: 23.5245516\tbest: 23.5245516 (200)\ttotal: 373ms\tremaining: 556ms\n",
      "250:\tlearn: 17.6378126\ttest: 23.1770700\tbest: 23.1342280 (242)\ttotal: 465ms\tremaining: 461ms\n",
      "300:\tlearn: 17.0350595\ttest: 22.9959681\tbest: 22.9959681 (300)\ttotal: 551ms\tremaining: 364ms\n",
      "350:\tlearn: 16.4648211\ttest: 22.9096973\tbest: 22.8886091 (343)\ttotal: 643ms\tremaining: 273ms\n",
      "400:\tlearn: 16.0278041\ttest: 22.9104882\tbest: 22.8886091 (343)\ttotal: 736ms\tremaining: 182ms\n",
      "450:\tlearn: 15.5955344\ttest: 22.8713048\tbest: 22.8617470 (435)\ttotal: 835ms\tremaining: 90.8ms\n",
      "499:\tlearn: 15.1679628\ttest: 22.7474475\tbest: 22.7474475 (499)\ttotal: 929ms\tremaining: 0us\n",
      "\n",
      "bestTest = 22.74744749\n",
      "bestIteration = 499\n",
      "\n",
      "Training on fold [8/10]\n",
      "0:\tlearn: 76.5504472\ttest: 106.5455006\tbest: 106.5455006 (0)\ttotal: 3.72ms\tremaining: 1.86s\n",
      "50:\tlearn: 24.4084989\ttest: 38.9066441\tbest: 38.9066441 (50)\ttotal: 200ms\tremaining: 1.76s\n",
      "100:\tlearn: 21.0671489\ttest: 31.9516902\tbest: 31.9516902 (100)\ttotal: 443ms\tremaining: 1.75s\n",
      "150:\tlearn: 19.9214422\ttest: 30.5694677\tbest: 30.5694677 (150)\ttotal: 687ms\tremaining: 1.59s\n",
      "200:\tlearn: 18.9225115\ttest: 29.7912495\tbest: 29.7912495 (200)\ttotal: 878ms\tremaining: 1.3s\n",
      "250:\tlearn: 18.1663117\ttest: 29.2825786\tbest: 29.2825786 (250)\ttotal: 1.12s\tremaining: 1.11s\n",
      "300:\tlearn: 17.5657700\ttest: 28.9444579\tbest: 28.9444579 (300)\ttotal: 1.31s\tremaining: 867ms\n",
      "350:\tlearn: 17.0327211\ttest: 28.7146574\tbest: 28.7146574 (350)\ttotal: 1.51s\tremaining: 641ms\n",
      "400:\tlearn: 16.5438634\ttest: 28.5025484\tbest: 28.5025484 (400)\ttotal: 1.75s\tremaining: 432ms\n",
      "450:\tlearn: 16.1044766\ttest: 28.4131576\tbest: 28.4010419 (444)\ttotal: 1.95s\tremaining: 212ms\n",
      "499:\tlearn: 15.6474423\ttest: 28.2840990\tbest: 28.2840990 (499)\ttotal: 2.16s\tremaining: 0us\n",
      "\n",
      "bestTest = 28.28409899\n",
      "bestIteration = 499\n",
      "\n",
      "Training on fold [9/10]\n",
      "0:\tlearn: 79.9474108\ttest: 115.9399133\tbest: 115.9399133 (0)\ttotal: 2.49ms\tremaining: 1.24s\n",
      "50:\tlearn: 25.3463372\ttest: 44.0464025\tbest: 44.0464025 (50)\ttotal: 97.6ms\tremaining: 859ms\n",
      "100:\tlearn: 21.9338434\ttest: 35.8110600\tbest: 35.8110600 (100)\ttotal: 207ms\tremaining: 819ms\n",
      "150:\tlearn: 20.6583141\ttest: 33.2944515\tbest: 33.2944515 (150)\ttotal: 308ms\tremaining: 713ms\n",
      "200:\tlearn: 19.6887589\ttest: 32.1037342\tbest: 32.1037342 (200)\ttotal: 411ms\tremaining: 611ms\n",
      "250:\tlearn: 18.9811058\ttest: 31.6886839\tbest: 31.6861782 (248)\ttotal: 511ms\tremaining: 507ms\n",
      "300:\tlearn: 18.4690315\ttest: 31.3928123\tbest: 31.3784133 (298)\ttotal: 612ms\tremaining: 405ms\n",
      "350:\tlearn: 17.9903949\ttest: 31.2696355\tbest: 31.2696355 (350)\ttotal: 722ms\tremaining: 307ms\n",
      "400:\tlearn: 17.5082276\ttest: 31.1746417\tbest: 31.1346725 (381)\ttotal: 831ms\tremaining: 205ms\n",
      "450:\tlearn: 17.0749504\ttest: 31.1431000\tbest: 31.1123734 (423)\ttotal: 943ms\tremaining: 102ms\n",
      "499:\tlearn: 16.6998714\ttest: 31.1396805\tbest: 31.1061818 (474)\ttotal: 1.04s\tremaining: 0us\n",
      "\n",
      "bestTest = 31.10618178\n",
      "bestIteration = 474\n",
      "\n"
     ]
    }
   ],
   "source": [
    "for iter, depth, lr in [[100, 4, 0.1],[500, 5,0.05]]:\n",
    "    params = {\"iterations\": iter,\n",
    "            \"depth\": depth,\n",
    "            \"loss_function\": \"RMSE\",\n",
    "            \"learning_rate\": lr,\n",
    "            \"verbose\": iter // 10}\n",
    "\n",
    "    scores = cv(cv_dataset,\n",
    "              params,\n",
    "              folds = TimeSeriesSplit(n_splits=10)\n",
    "                )"
   ]
  },
  {
   "cell_type": "markdown",
   "metadata": {},
   "source": [
    "### Случайный лес"
   ]
  },
  {
   "cell_type": "code",
   "execution_count": 69,
   "metadata": {
    "scrolled": true
   },
   "outputs": [
    {
     "data": {
      "text/plain": [
       "\"Best hyperparameters are: {'max_depth': 20, 'n_estimators': 100}\""
      ]
     },
     "metadata": {},
     "output_type": "display_data"
    },
    {
     "data": {
      "text/plain": [
       "'Best estimator is: RandomForestRegressor(max_depth=20, random_state=12345)'"
      ]
     },
     "metadata": {},
     "output_type": "display_data"
    },
    {
     "data": {
      "text/plain": [
       "'Best score is: -24.099143608396624'"
      ]
     },
     "metadata": {},
     "output_type": "display_data"
    }
   ],
   "source": [
    "model = RandomForestRegressor(random_state=12345)\n",
    "\n",
    "grid_space={'max_depth':[10, 20],\n",
    "              'n_estimators':[100, 200],\n",
    "           }\n",
    "grid = GridSearchCV(model,param_grid=grid_space,cv=TimeSeriesSplit(n_splits=10),scoring='neg_root_mean_squared_error')\n",
    "model_grid = grid.fit(features_train, targets_train)\n",
    "display(f'Best hyperparameters are: {model_grid.best_params_}')\n",
    "display(f'Best estimator is: {model_grid.best_estimator_}')\n",
    "display(f'Best score is: {model_grid.best_score_}')"
   ]
  },
  {
   "cell_type": "markdown",
   "metadata": {},
   "source": [
    "### Полносвязная нейронная сеть"
   ]
  },
  {
   "cell_type": "code",
   "execution_count": 70,
   "metadata": {
    "collapsed": true
   },
   "outputs": [
    {
     "name": "stderr",
     "output_type": "stream",
     "text": [
      "/opt/conda/lib/python3.9/site-packages/sklearn/neural_network/_multilayer_perceptron.py:614: ConvergenceWarning: Stochastic Optimizer: Maximum iterations (100) reached and the optimization hasn't converged yet.\n",
      "  warnings.warn(\n",
      "/opt/conda/lib/python3.9/site-packages/sklearn/neural_network/_multilayer_perceptron.py:614: ConvergenceWarning: Stochastic Optimizer: Maximum iterations (100) reached and the optimization hasn't converged yet.\n",
      "  warnings.warn(\n",
      "/opt/conda/lib/python3.9/site-packages/sklearn/neural_network/_multilayer_perceptron.py:614: ConvergenceWarning: Stochastic Optimizer: Maximum iterations (100) reached and the optimization hasn't converged yet.\n",
      "  warnings.warn(\n",
      "/opt/conda/lib/python3.9/site-packages/sklearn/neural_network/_multilayer_perceptron.py:614: ConvergenceWarning: Stochastic Optimizer: Maximum iterations (100) reached and the optimization hasn't converged yet.\n",
      "  warnings.warn(\n",
      "/opt/conda/lib/python3.9/site-packages/sklearn/neural_network/_multilayer_perceptron.py:614: ConvergenceWarning: Stochastic Optimizer: Maximum iterations (100) reached and the optimization hasn't converged yet.\n",
      "  warnings.warn(\n",
      "/opt/conda/lib/python3.9/site-packages/sklearn/neural_network/_multilayer_perceptron.py:614: ConvergenceWarning: Stochastic Optimizer: Maximum iterations (100) reached and the optimization hasn't converged yet.\n",
      "  warnings.warn(\n",
      "/opt/conda/lib/python3.9/site-packages/sklearn/neural_network/_multilayer_perceptron.py:614: ConvergenceWarning: Stochastic Optimizer: Maximum iterations (200) reached and the optimization hasn't converged yet.\n",
      "  warnings.warn(\n",
      "/opt/conda/lib/python3.9/site-packages/sklearn/neural_network/_multilayer_perceptron.py:614: ConvergenceWarning: Stochastic Optimizer: Maximum iterations (100) reached and the optimization hasn't converged yet.\n",
      "  warnings.warn(\n",
      "/opt/conda/lib/python3.9/site-packages/sklearn/neural_network/_multilayer_perceptron.py:614: ConvergenceWarning: Stochastic Optimizer: Maximum iterations (100) reached and the optimization hasn't converged yet.\n",
      "  warnings.warn(\n",
      "/opt/conda/lib/python3.9/site-packages/sklearn/neural_network/_multilayer_perceptron.py:614: ConvergenceWarning: Stochastic Optimizer: Maximum iterations (100) reached and the optimization hasn't converged yet.\n",
      "  warnings.warn(\n",
      "/opt/conda/lib/python3.9/site-packages/sklearn/neural_network/_multilayer_perceptron.py:614: ConvergenceWarning: Stochastic Optimizer: Maximum iterations (100) reached and the optimization hasn't converged yet.\n",
      "  warnings.warn(\n",
      "/opt/conda/lib/python3.9/site-packages/sklearn/neural_network/_multilayer_perceptron.py:614: ConvergenceWarning: Stochastic Optimizer: Maximum iterations (100) reached and the optimization hasn't converged yet.\n",
      "  warnings.warn(\n",
      "/opt/conda/lib/python3.9/site-packages/sklearn/neural_network/_multilayer_perceptron.py:614: ConvergenceWarning: Stochastic Optimizer: Maximum iterations (200) reached and the optimization hasn't converged yet.\n",
      "  warnings.warn(\n",
      "/opt/conda/lib/python3.9/site-packages/sklearn/neural_network/_multilayer_perceptron.py:614: ConvergenceWarning: Stochastic Optimizer: Maximum iterations (200) reached and the optimization hasn't converged yet.\n",
      "  warnings.warn(\n",
      "/opt/conda/lib/python3.9/site-packages/sklearn/neural_network/_multilayer_perceptron.py:614: ConvergenceWarning: Stochastic Optimizer: Maximum iterations (100) reached and the optimization hasn't converged yet.\n",
      "  warnings.warn(\n",
      "/opt/conda/lib/python3.9/site-packages/sklearn/neural_network/_multilayer_perceptron.py:614: ConvergenceWarning: Stochastic Optimizer: Maximum iterations (100) reached and the optimization hasn't converged yet.\n",
      "  warnings.warn(\n"
     ]
    },
    {
     "data": {
      "text/plain": [
       "\"Best hyperparameters are: {'hidden_layer_sizes': (16, 16, 16), 'learning_rate_init': 0.01, 'max_iter': 100}\""
      ]
     },
     "metadata": {},
     "output_type": "display_data"
    },
    {
     "data": {
      "text/plain": [
       "'Best estimator is: MLPRegressor(hidden_layer_sizes=(16, 16, 16), learning_rate_init=0.01,\\n             max_iter=100, random_state=12345)'"
      ]
     },
     "metadata": {},
     "output_type": "display_data"
    },
    {
     "data": {
      "text/plain": [
       "'Best score is: -28.760113466501128'"
      ]
     },
     "metadata": {},
     "output_type": "display_data"
    }
   ],
   "source": [
    "model = MLPRegressor(random_state=12345)\n",
    "\n",
    "grid_space={'hidden_layer_sizes':[(16, 16, 16), (8, 8, 8)],\n",
    "              'learning_rate_init':[0.01, 0.1],\n",
    "            \"max_iter\": [100, 200]\n",
    "           }\n",
    "grid = GridSearchCV(model,param_grid=grid_space,cv=TimeSeriesSplit(n_splits=10),scoring='neg_root_mean_squared_error')\n",
    "model_grid = grid.fit(features_train, targets_train)\n",
    "display(f'Best hyperparameters are: {model_grid.best_params_}')\n",
    "display(f'Best estimator is: {model_grid.best_estimator_}')\n",
    "display(f'Best score is: {model_grid.best_score_}')"
   ]
  },
  {
   "cell_type": "markdown",
   "metadata": {},
   "source": [
    "## Тестирование"
   ]
  },
  {
   "cell_type": "markdown",
   "metadata": {},
   "source": [
    "### Предыдущее значение"
   ]
  },
  {
   "cell_type": "code",
   "execution_count": 71,
   "metadata": {},
   "outputs": [
    {
     "data": {
      "text/plain": [
       "'RMSE = 58.91761802963282'"
      ]
     },
     "execution_count": 71,
     "metadata": {},
     "output_type": "execute_result"
    }
   ],
   "source": [
    "pred_previous = test['num_orders'].shift()\n",
    "pred_previous.iloc[0] = train['num_orders'].iloc[-1]\n",
    "f\"RMSE = {mean_squared_error(targets_test, pred_previous, squared=False)}\""
   ]
  },
  {
   "cell_type": "markdown",
   "metadata": {},
   "source": [
    "### Линейная регрессия"
   ]
  },
  {
   "cell_type": "code",
   "execution_count": 72,
   "metadata": {},
   "outputs": [],
   "source": [
    "model = LinearRegression()"
   ]
  },
  {
   "cell_type": "code",
   "execution_count": 73,
   "metadata": {},
   "outputs": [
    {
     "data": {
      "text/plain": [
       "'RMSE = 52.576527438598745'"
      ]
     },
     "execution_count": 73,
     "metadata": {},
     "output_type": "execute_result"
    }
   ],
   "source": [
    "model.fit(features_train, targets_train)\n",
    "\n",
    "f\"RMSE = {mean_squared_error(targets_test, model.predict(features_test), squared=False)}\" "
   ]
  },
  {
   "cell_type": "markdown",
   "metadata": {},
   "source": [
    "### Catboost"
   ]
  },
  {
   "cell_type": "code",
   "execution_count": 74,
   "metadata": {},
   "outputs": [],
   "source": [
    "model = CatBoostRegressor(iterations=500,\n",
    "                           depth=10,\n",
    "                           learning_rate=0.01,\n",
    "                           loss_function='RMSE',\n",
    "                           verbose=100)"
   ]
  },
  {
   "cell_type": "code",
   "execution_count": 75,
   "metadata": {},
   "outputs": [
    {
     "name": "stdout",
     "output_type": "stream",
     "text": [
      "0:\tlearn: 38.4773817\ttotal: 35.1ms\tremaining: 17.5s\n",
      "100:\tlearn: 27.0904277\ttotal: 2.89s\tremaining: 11.4s\n",
      "200:\tlearn: 22.6990583\ttotal: 5.77s\tremaining: 8.58s\n",
      "300:\tlearn: 20.6279098\ttotal: 8.65s\tremaining: 5.72s\n",
      "400:\tlearn: 19.5092981\ttotal: 11.3s\tremaining: 2.8s\n",
      "499:\tlearn: 18.7186551\ttotal: 14s\tremaining: 0us\n"
     ]
    }
   ],
   "source": [
    "model.fit(cv_dataset);"
   ]
  },
  {
   "cell_type": "code",
   "execution_count": 76,
   "metadata": {},
   "outputs": [],
   "source": [
    "preds = model.predict(features_test)"
   ]
  },
  {
   "cell_type": "code",
   "execution_count": 77,
   "metadata": {},
   "outputs": [
    {
     "data": {
      "text/plain": [
       "'RMSE = 51.21390972263209'"
      ]
     },
     "execution_count": 77,
     "metadata": {},
     "output_type": "execute_result"
    }
   ],
   "source": [
    "f\"RMSE = {mean_squared_error(targets_test, preds, squared=False)}\""
   ]
  },
  {
   "cell_type": "markdown",
   "metadata": {},
   "source": [
    "### Случайный лес"
   ]
  },
  {
   "cell_type": "code",
   "execution_count": 78,
   "metadata": {},
   "outputs": [],
   "source": [
    "model = RandomForestRegressor(random_state=12345, max_depth=20, n_estimators=200)"
   ]
  },
  {
   "cell_type": "code",
   "execution_count": 79,
   "metadata": {},
   "outputs": [],
   "source": [
    "model.fit(features_train, targets_train);"
   ]
  },
  {
   "cell_type": "code",
   "execution_count": 80,
   "metadata": {},
   "outputs": [],
   "source": [
    "preds = model.predict(features_test)"
   ]
  },
  {
   "cell_type": "code",
   "execution_count": 81,
   "metadata": {},
   "outputs": [
    {
     "data": {
      "text/plain": [
       "'RMSE = 45.939176673745635'"
      ]
     },
     "execution_count": 81,
     "metadata": {},
     "output_type": "execute_result"
    }
   ],
   "source": [
    "f\"RMSE = {mean_squared_error(targets_test, preds, squared=False)}\""
   ]
  },
  {
   "cell_type": "markdown",
   "metadata": {},
   "source": [
    "### Полносвязная нейронная сеть"
   ]
  },
  {
   "cell_type": "code",
   "execution_count": 82,
   "metadata": {
    "scrolled": true
   },
   "outputs": [
    {
     "data": {
      "text/plain": [
       "'RMSE тестовой выборки: 47.69129871933045'"
      ]
     },
     "execution_count": 82,
     "metadata": {},
     "output_type": "execute_result"
    }
   ],
   "source": [
    "model = MLPRegressor(random_state=12345, hidden_layer_sizes=(16,16,16), learning_rate_init=0.01, max_iter=500)\n",
    "model.fit(features_train, targets_train)\n",
    "f\"RMSE тестовой выборки: {mean_squared_error(targets_test, model.predict(features_test), squared=False)}\" "
   ]
  },
  {
   "cell_type": "markdown",
   "metadata": {},
   "source": [
    "Результаты тестирования: все модели проверку на адекватность. Лучший показатель RMSE достигается моделью линейной регрессии."
   ]
  },
  {
   "cell_type": "markdown",
   "metadata": {},
   "source": [
    "## Итоги\n",
    "\n",
    "- Была выявлена нестационарность исходного временного ряда\n",
    "- Были сформированы тестовая и тренировочная выборка в соотношении 1:9, к исходному датасету добавлены поля: день недели, час, скоьзящее среднее и предыдущее значение\n",
    "- Были успешно обучены модели: линейная регрессия, случайный лес, catboost regressor, полносвязная нейронная сеть\n",
    "- Все модели протестированы и прошли проверку на адекватность, выбрана модель случайного леса, её RMSE составил 45.94"
   ]
  }
 ],
 "metadata": {
  "ExecuteTimeLog": [
   {
    "duration": 66,
    "start_time": "2023-05-31T17:22:00.437Z"
   },
   {
    "duration": 425,
    "start_time": "2023-05-31T17:22:02.750Z"
   },
   {
    "duration": 296,
    "start_time": "2023-05-31T17:22:06.077Z"
   },
   {
    "duration": 53,
    "start_time": "2023-05-31T17:24:01.876Z"
   },
   {
    "duration": 55,
    "start_time": "2023-05-31T17:26:54.613Z"
   },
   {
    "duration": 90,
    "start_time": "2023-05-31T17:27:29.219Z"
   },
   {
    "duration": 60,
    "start_time": "2023-05-31T17:27:35.790Z"
   },
   {
    "duration": 61,
    "start_time": "2023-05-31T17:27:43.608Z"
   },
   {
    "duration": 22,
    "start_time": "2023-05-31T17:29:52.938Z"
   },
   {
    "duration": 1171,
    "start_time": "2023-05-31T17:30:33.429Z"
   },
   {
    "duration": 668,
    "start_time": "2023-05-31T17:31:00.040Z"
   },
   {
    "duration": 780,
    "start_time": "2023-05-31T17:31:07.014Z"
   },
   {
    "duration": 783,
    "start_time": "2023-05-31T17:31:13.246Z"
   },
   {
    "duration": 26,
    "start_time": "2023-05-31T17:35:46.851Z"
   },
   {
    "duration": 17,
    "start_time": "2023-05-31T17:35:51.172Z"
   },
   {
    "duration": 18,
    "start_time": "2023-05-31T17:45:14.269Z"
   },
   {
    "duration": 298,
    "start_time": "2023-05-31T17:45:22.727Z"
   },
   {
    "duration": 203,
    "start_time": "2023-05-31T17:46:02.496Z"
   },
   {
    "duration": 195,
    "start_time": "2023-05-31T17:46:15.303Z"
   },
   {
    "duration": 281,
    "start_time": "2023-05-31T17:46:18.296Z"
   },
   {
    "duration": 180,
    "start_time": "2023-05-31T17:46:20.671Z"
   },
   {
    "duration": 192,
    "start_time": "2023-05-31T17:46:23.548Z"
   },
   {
    "duration": 199,
    "start_time": "2023-05-31T17:46:36.337Z"
   },
   {
    "duration": 193,
    "start_time": "2023-05-31T17:46:39.590Z"
   },
   {
    "duration": 206,
    "start_time": "2023-05-31T17:46:43.278Z"
   },
   {
    "duration": 312,
    "start_time": "2023-05-31T17:53:12.091Z"
   },
   {
    "duration": 202,
    "start_time": "2023-05-31T17:53:48.189Z"
   },
   {
    "duration": 230,
    "start_time": "2023-05-31T17:53:59.970Z"
   },
   {
    "duration": 364,
    "start_time": "2023-05-31T17:54:15.205Z"
   },
   {
    "duration": 4,
    "start_time": "2023-05-31T18:31:03.575Z"
   },
   {
    "duration": 373,
    "start_time": "2023-05-31T18:32:17.428Z"
   },
   {
    "duration": 11,
    "start_time": "2023-05-31T19:28:45.439Z"
   },
   {
    "duration": 724,
    "start_time": "2023-05-31T19:28:49.297Z"
   },
   {
    "duration": 50,
    "start_time": "2023-05-31T19:28:53.261Z"
   },
   {
    "duration": 16,
    "start_time": "2023-05-31T19:29:01.454Z"
   },
   {
    "duration": 22,
    "start_time": "2023-05-31T19:29:03.578Z"
   },
   {
    "duration": 15,
    "start_time": "2023-05-31T19:29:48.878Z"
   },
   {
    "duration": 14,
    "start_time": "2023-05-31T19:30:03.102Z"
   },
   {
    "duration": 21,
    "start_time": "2023-05-31T19:33:05.778Z"
   },
   {
    "duration": 12,
    "start_time": "2023-05-31T19:33:17.756Z"
   },
   {
    "duration": 7,
    "start_time": "2023-05-31T19:33:25.234Z"
   },
   {
    "duration": 6,
    "start_time": "2023-05-31T19:34:15.901Z"
   },
   {
    "duration": 10,
    "start_time": "2023-05-31T19:34:31.749Z"
   },
   {
    "duration": 6,
    "start_time": "2023-05-31T19:34:40.518Z"
   },
   {
    "duration": 5,
    "start_time": "2023-05-31T19:34:45.105Z"
   },
   {
    "duration": 72,
    "start_time": "2023-05-31T19:38:30.517Z"
   },
   {
    "duration": 9,
    "start_time": "2023-05-31T19:39:54.088Z"
   },
   {
    "duration": 28,
    "start_time": "2023-05-31T19:40:38.945Z"
   },
   {
    "duration": 15,
    "start_time": "2023-05-31T19:41:05.407Z"
   },
   {
    "duration": 14,
    "start_time": "2023-05-31T19:41:09.091Z"
   },
   {
    "duration": 10,
    "start_time": "2023-05-31T19:41:12.490Z"
   },
   {
    "duration": 78,
    "start_time": "2023-05-31T19:42:42.319Z"
   },
   {
    "duration": 12,
    "start_time": "2023-05-31T19:46:02.223Z"
   },
   {
    "duration": 7,
    "start_time": "2023-05-31T19:46:12.046Z"
   },
   {
    "duration": 3,
    "start_time": "2023-05-31T19:46:14.882Z"
   },
   {
    "duration": 613,
    "start_time": "2023-05-31T19:46:16.378Z"
   },
   {
    "duration": 6129,
    "start_time": "2023-05-31T19:47:33.650Z"
   },
   {
    "duration": 3,
    "start_time": "2023-05-31T19:49:09.703Z"
   },
   {
    "duration": 691,
    "start_time": "2023-05-31T19:49:11.327Z"
   },
   {
    "duration": 4,
    "start_time": "2023-05-31T19:49:19.294Z"
   },
   {
    "duration": 19,
    "start_time": "2023-05-31T19:49:21.190Z"
   },
   {
    "duration": 6,
    "start_time": "2023-05-31T19:49:24.516Z"
   },
   {
    "duration": 19596,
    "start_time": "2023-05-31T19:50:17.884Z"
   },
   {
    "duration": 3,
    "start_time": "2023-05-31T19:51:16.500Z"
   },
   {
    "duration": 799,
    "start_time": "2023-05-31T19:51:18.704Z"
   },
   {
    "duration": 8,
    "start_time": "2023-05-31T19:51:23.355Z"
   },
   {
    "duration": 6,
    "start_time": "2023-05-31T19:51:24.889Z"
   },
   {
    "duration": 31,
    "start_time": "2023-05-31T20:08:59.111Z"
   },
   {
    "duration": 2342,
    "start_time": "2023-05-31T20:09:19.643Z"
   },
   {
    "duration": 5285,
    "start_time": "2023-05-31T20:09:35.686Z"
   },
   {
    "duration": 3,
    "start_time": "2023-05-31T20:11:18.314Z"
   },
   {
    "duration": 408,
    "start_time": "2023-05-31T20:11:19.090Z"
   },
   {
    "duration": 22,
    "start_time": "2023-05-31T20:11:20.546Z"
   },
   {
    "duration": 6,
    "start_time": "2023-05-31T20:11:21.389Z"
   },
   {
    "duration": 14009,
    "start_time": "2023-05-31T20:11:33.335Z"
   },
   {
    "duration": 3,
    "start_time": "2023-05-31T20:12:02.090Z"
   },
   {
    "duration": 467,
    "start_time": "2023-05-31T20:12:02.489Z"
   },
   {
    "duration": 20,
    "start_time": "2023-05-31T20:12:02.958Z"
   },
   {
    "duration": 6,
    "start_time": "2023-05-31T20:12:03.608Z"
   },
   {
    "duration": 3,
    "start_time": "2023-05-31T20:12:08.967Z"
   },
   {
    "duration": 1058,
    "start_time": "2023-05-31T20:12:09.546Z"
   },
   {
    "duration": 34,
    "start_time": "2023-05-31T20:12:10.606Z"
   },
   {
    "duration": 18,
    "start_time": "2023-05-31T20:12:10.642Z"
   },
   {
    "duration": 8,
    "start_time": "2023-05-31T20:12:22.764Z"
   },
   {
    "duration": 304,
    "start_time": "2023-05-31T20:12:23.097Z"
   },
   {
    "duration": 16,
    "start_time": "2023-05-31T20:12:23.403Z"
   },
   {
    "duration": 5,
    "start_time": "2023-05-31T20:12:23.644Z"
   },
   {
    "duration": 7,
    "start_time": "2023-05-31T20:28:07.176Z"
   },
   {
    "duration": 37590,
    "start_time": "2023-05-31T20:32:20.802Z"
   },
   {
    "duration": 64312,
    "start_time": "2023-05-31T20:33:25.884Z"
   },
   {
    "duration": 24842,
    "start_time": "2023-05-31T20:35:11.128Z"
   },
   {
    "duration": 1368,
    "start_time": "2023-05-31T20:35:52.704Z"
   },
   {
    "duration": 1872,
    "start_time": "2023-05-31T20:35:59.267Z"
   },
   {
    "duration": 690,
    "start_time": "2023-05-31T20:36:05.330Z"
   },
   {
    "duration": 671,
    "start_time": "2023-05-31T20:36:20.252Z"
   },
   {
    "duration": 1483,
    "start_time": "2023-05-31T20:36:24.950Z"
   },
   {
    "duration": 3274,
    "start_time": "2023-05-31T20:36:29.832Z"
   },
   {
    "duration": 765,
    "start_time": "2023-05-31T20:36:41.445Z"
   },
   {
    "duration": 2298,
    "start_time": "2023-05-31T20:36:46.019Z"
   },
   {
    "duration": 2801,
    "start_time": "2023-05-31T20:37:04.909Z"
   },
   {
    "duration": 1733,
    "start_time": "2023-05-31T20:37:13.997Z"
   },
   {
    "duration": 1040,
    "start_time": "2023-05-31T20:37:27.052Z"
   },
   {
    "duration": 2723,
    "start_time": "2023-05-31T20:37:32.925Z"
   },
   {
    "duration": 4960,
    "start_time": "2023-05-31T20:37:40.387Z"
   },
   {
    "duration": 3088,
    "start_time": "2023-05-31T20:37:50.688Z"
   },
   {
    "duration": 5,
    "start_time": "2023-05-31T22:51:49.202Z"
   },
   {
    "duration": 49,
    "start_time": "2023-05-31T22:51:49.209Z"
   },
   {
    "duration": 13,
    "start_time": "2023-05-31T22:51:49.259Z"
   },
   {
    "duration": 20,
    "start_time": "2023-05-31T22:51:49.273Z"
   },
   {
    "duration": 343,
    "start_time": "2023-05-31T22:51:49.295Z"
   },
   {
    "duration": 16,
    "start_time": "2023-05-31T22:51:49.640Z"
   },
   {
    "duration": 4,
    "start_time": "2023-05-31T22:51:49.658Z"
   },
   {
    "duration": 12726,
    "start_time": "2023-05-31T22:51:49.663Z"
   },
   {
    "duration": 20191,
    "start_time": "2023-05-31T22:52:02.391Z"
   },
   {
    "duration": 57651,
    "start_time": "2023-05-31T22:52:22.583Z"
   },
   {
    "duration": 6,
    "start_time": "2023-05-31T22:53:20.236Z"
   },
   {
    "duration": 5,
    "start_time": "2023-05-31T22:53:20.257Z"
   },
   {
    "duration": 9,
    "start_time": "2023-05-31T22:53:20.263Z"
   },
   {
    "duration": 2,
    "start_time": "2023-05-31T22:53:20.274Z"
   },
   {
    "duration": 637,
    "start_time": "2023-05-31T22:53:20.278Z"
   },
   {
    "duration": 3,
    "start_time": "2023-05-31T22:53:20.917Z"
   },
   {
    "duration": 8,
    "start_time": "2023-05-31T22:53:20.922Z"
   },
   {
    "duration": 7,
    "start_time": "2023-05-31T22:53:20.932Z"
   },
   {
    "duration": 294,
    "start_time": "2023-05-31T22:53:20.940Z"
   },
   {
    "duration": 24,
    "start_time": "2023-05-31T22:53:21.236Z"
   },
   {
    "duration": 4,
    "start_time": "2023-05-31T22:53:21.262Z"
   },
   {
    "duration": 2125,
    "start_time": "2023-05-31T22:53:21.267Z"
   },
   {
    "duration": 5402,
    "start_time": "2023-06-01T08:28:47.472Z"
   },
   {
    "duration": 60,
    "start_time": "2023-06-01T08:28:52.877Z"
   },
   {
    "duration": 23,
    "start_time": "2023-06-01T08:28:52.939Z"
   },
   {
    "duration": 25,
    "start_time": "2023-06-01T08:28:52.968Z"
   },
   {
    "duration": 482,
    "start_time": "2023-06-01T08:28:52.995Z"
   },
   {
    "duration": 12,
    "start_time": "2023-06-01T08:28:53.479Z"
   },
   {
    "duration": 23,
    "start_time": "2023-06-01T08:28:53.493Z"
   },
   {
    "duration": 214,
    "start_time": "2023-06-01T08:28:53.518Z"
   },
   {
    "duration": 6660,
    "start_time": "2023-06-01T08:29:32.922Z"
   },
   {
    "duration": 23,
    "start_time": "2023-06-01T08:29:56.757Z"
   },
   {
    "duration": 28875,
    "start_time": "2023-06-01T08:30:06.272Z"
   },
   {
    "duration": 1847,
    "start_time": "2023-06-01T09:27:04.101Z"
   },
   {
    "duration": 44,
    "start_time": "2023-06-01T09:27:58.001Z"
   },
   {
    "duration": 126,
    "start_time": "2023-06-01T09:28:20.413Z"
   },
   {
    "duration": 140,
    "start_time": "2023-06-01T09:28:25.175Z"
   },
   {
    "duration": 28619,
    "start_time": "2023-06-01T09:28:31.309Z"
   },
   {
    "duration": 23234,
    "start_time": "2023-06-01T09:32:39.602Z"
   },
   {
    "duration": 20829,
    "start_time": "2023-06-01T09:33:22.604Z"
   },
   {
    "duration": 31,
    "start_time": "2023-06-01T09:37:13.879Z"
   },
   {
    "duration": 1324,
    "start_time": "2023-06-01T09:37:27.175Z"
   },
   {
    "duration": 313,
    "start_time": "2023-06-01T09:37:54.060Z"
   },
   {
    "duration": 313,
    "start_time": "2023-06-01T09:38:28.486Z"
   },
   {
    "duration": 351,
    "start_time": "2023-06-01T09:38:35.413Z"
   },
   {
    "duration": 305,
    "start_time": "2023-06-01T09:38:45.647Z"
   },
   {
    "duration": 361,
    "start_time": "2023-06-01T09:39:22.479Z"
   },
   {
    "duration": 539,
    "start_time": "2023-06-01T09:41:25.732Z"
   },
   {
    "duration": 359,
    "start_time": "2023-06-01T09:41:36.587Z"
   },
   {
    "duration": 375,
    "start_time": "2023-06-01T09:41:42.954Z"
   },
   {
    "duration": 355,
    "start_time": "2023-06-01T09:41:53.517Z"
   },
   {
    "duration": 260,
    "start_time": "2023-06-01T09:42:47.753Z"
   },
   {
    "duration": 307,
    "start_time": "2023-06-01T09:43:08.581Z"
   },
   {
    "duration": 228,
    "start_time": "2023-06-01T09:45:24.455Z"
   },
   {
    "duration": 207,
    "start_time": "2023-06-01T09:48:56.980Z"
   },
   {
    "duration": 286,
    "start_time": "2023-06-01T09:49:22.943Z"
   },
   {
    "duration": 244,
    "start_time": "2023-06-01T09:49:46.603Z"
   },
   {
    "duration": 238,
    "start_time": "2023-06-01T09:49:58.986Z"
   },
   {
    "duration": 353,
    "start_time": "2023-06-01T09:50:10.406Z"
   },
   {
    "duration": 22,
    "start_time": "2023-06-01T10:00:11.382Z"
   },
   {
    "duration": 23,
    "start_time": "2023-06-01T10:01:21.973Z"
   },
   {
    "duration": 13,
    "start_time": "2023-06-01T10:01:42.355Z"
   },
   {
    "duration": 7,
    "start_time": "2023-06-01T10:01:46.656Z"
   },
   {
    "duration": 34198,
    "start_time": "2023-06-01T10:01:47.206Z"
   },
   {
    "duration": 251,
    "start_time": "2023-06-01T10:11:10.682Z"
   },
   {
    "duration": 267,
    "start_time": "2023-06-01T10:11:20.027Z"
   },
   {
    "duration": 4,
    "start_time": "2023-06-01T10:13:47.324Z"
   },
   {
    "duration": 38904,
    "start_time": "2023-06-01T10:14:20.408Z"
   },
   {
    "duration": 18,
    "start_time": "2023-06-01T10:15:00.199Z"
   },
   {
    "duration": 29295,
    "start_time": "2023-06-01T10:18:12.347Z"
   },
   {
    "duration": 4,
    "start_time": "2023-06-01T10:20:30.028Z"
   },
   {
    "duration": 111,
    "start_time": "2023-06-01T10:20:30.034Z"
   },
   {
    "duration": 33,
    "start_time": "2023-06-01T10:20:30.147Z"
   },
   {
    "duration": 1554,
    "start_time": "2023-06-01T10:20:30.182Z"
   },
   {
    "duration": 336,
    "start_time": "2023-06-01T10:20:31.737Z"
   },
   {
    "duration": 288,
    "start_time": "2023-06-01T10:20:32.075Z"
   },
   {
    "duration": 23161,
    "start_time": "2023-06-01T10:20:32.365Z"
   },
   {
    "duration": 24,
    "start_time": "2023-06-01T10:20:55.528Z"
   },
   {
    "duration": 9,
    "start_time": "2023-06-01T10:20:55.556Z"
   },
   {
    "duration": 21,
    "start_time": "2023-06-01T10:20:55.567Z"
   },
   {
    "duration": 47462,
    "start_time": "2023-06-01T10:20:55.590Z"
   },
   {
    "duration": 28597,
    "start_time": "2023-06-01T10:21:43.053Z"
   },
   {
    "duration": 46278,
    "start_time": "2023-06-01T10:22:11.652Z"
   },
   {
    "duration": 6,
    "start_time": "2023-06-01T10:22:57.932Z"
   },
   {
    "duration": 13,
    "start_time": "2023-06-01T10:22:57.939Z"
   },
   {
    "duration": 19,
    "start_time": "2023-06-01T10:22:57.954Z"
   },
   {
    "duration": 49,
    "start_time": "2023-06-01T10:22:57.976Z"
   },
   {
    "duration": 1382,
    "start_time": "2023-06-01T10:22:58.027Z"
   },
   {
    "duration": 3,
    "start_time": "2023-06-01T10:22:59.411Z"
   },
   {
    "duration": 50,
    "start_time": "2023-06-01T10:22:59.416Z"
   },
   {
    "duration": 10,
    "start_time": "2023-06-01T10:22:59.468Z"
   },
   {
    "duration": 914,
    "start_time": "2023-06-01T10:22:59.479Z"
   },
   {
    "duration": 17,
    "start_time": "2023-06-01T10:23:00.395Z"
   },
   {
    "duration": 40,
    "start_time": "2023-06-01T10:23:00.424Z"
   },
   {
    "duration": 621,
    "start_time": "2023-06-01T10:23:00.465Z"
   },
   {
    "duration": 5,
    "start_time": "2023-06-01T10:26:03.298Z"
   },
   {
    "duration": 79,
    "start_time": "2023-06-01T10:26:03.306Z"
   },
   {
    "duration": 19,
    "start_time": "2023-06-01T10:26:03.387Z"
   },
   {
    "duration": 1576,
    "start_time": "2023-06-01T10:26:03.409Z"
   },
   {
    "duration": 349,
    "start_time": "2023-06-01T10:26:04.987Z"
   },
   {
    "duration": 442,
    "start_time": "2023-06-01T10:26:05.338Z"
   },
   {
    "duration": 21044,
    "start_time": "2023-06-01T10:26:05.783Z"
   },
   {
    "duration": 117,
    "start_time": "2023-06-01T10:26:26.829Z"
   },
   {
    "duration": 10,
    "start_time": "2023-06-01T10:26:26.947Z"
   },
   {
    "duration": 11,
    "start_time": "2023-06-01T10:26:26.960Z"
   },
   {
    "duration": 36074,
    "start_time": "2023-06-01T10:26:26.973Z"
   },
   {
    "duration": 28787,
    "start_time": "2023-06-01T10:27:03.049Z"
   },
   {
    "duration": 46852,
    "start_time": "2023-06-01T10:27:31.838Z"
   },
   {
    "duration": 5,
    "start_time": "2023-06-01T10:28:18.692Z"
   },
   {
    "duration": 5,
    "start_time": "2023-06-01T10:28:18.698Z"
   },
   {
    "duration": 42,
    "start_time": "2023-06-01T10:28:18.705Z"
   },
   {
    "duration": 11,
    "start_time": "2023-06-01T10:28:18.749Z"
   },
   {
    "duration": 2095,
    "start_time": "2023-06-01T10:28:18.762Z"
   },
   {
    "duration": 4,
    "start_time": "2023-06-01T10:28:20.859Z"
   },
   {
    "duration": 36,
    "start_time": "2023-06-01T10:28:20.864Z"
   },
   {
    "duration": 40,
    "start_time": "2023-06-01T10:28:20.901Z"
   },
   {
    "duration": 1846,
    "start_time": "2023-06-01T10:28:20.943Z"
   },
   {
    "duration": 26,
    "start_time": "2023-06-01T10:28:22.791Z"
   },
   {
    "duration": 37,
    "start_time": "2023-06-01T10:28:22.819Z"
   },
   {
    "duration": 1926,
    "start_time": "2023-06-01T10:28:22.858Z"
   },
   {
    "duration": 5135,
    "start_time": "2023-06-01T19:44:12.632Z"
   },
   {
    "duration": 141,
    "start_time": "2023-06-01T19:44:17.771Z"
   },
   {
    "duration": 19,
    "start_time": "2023-06-01T19:44:17.914Z"
   },
   {
    "duration": 1634,
    "start_time": "2023-06-01T19:44:17.935Z"
   },
   {
    "duration": 346,
    "start_time": "2023-06-01T19:44:19.573Z"
   },
   {
    "duration": 311,
    "start_time": "2023-06-01T19:44:19.921Z"
   },
   {
    "duration": 23961,
    "start_time": "2023-06-01T19:44:20.234Z"
   },
   {
    "duration": 22197,
    "start_time": "2023-06-01T19:46:17.118Z"
   },
   {
    "duration": 5,
    "start_time": "2023-06-01T19:46:49.916Z"
   },
   {
    "duration": 12,
    "start_time": "2023-06-01T19:47:50.097Z"
   },
   {
    "duration": 2627,
    "start_time": "2023-06-01T21:02:28.534Z"
   },
   {
    "duration": 117,
    "start_time": "2023-06-01T21:02:31.163Z"
   },
   {
    "duration": 22,
    "start_time": "2023-06-01T21:02:31.281Z"
   },
   {
    "duration": 1671,
    "start_time": "2023-06-01T21:02:31.305Z"
   },
   {
    "duration": 341,
    "start_time": "2023-06-01T21:02:32.978Z"
   },
   {
    "duration": 266,
    "start_time": "2023-06-01T21:02:33.320Z"
   },
   {
    "duration": 8,
    "start_time": "2023-06-01T21:02:33.588Z"
   },
   {
    "duration": 20950,
    "start_time": "2023-06-01T21:02:33.597Z"
   },
   {
    "duration": 114,
    "start_time": "2023-06-01T21:02:54.554Z"
   },
   {
    "duration": 9,
    "start_time": "2023-06-01T21:02:54.671Z"
   },
   {
    "duration": 11,
    "start_time": "2023-06-01T21:02:54.681Z"
   },
   {
    "duration": 18393,
    "start_time": "2023-06-01T21:02:54.693Z"
   },
   {
    "duration": 30270,
    "start_time": "2023-06-01T21:03:13.089Z"
   },
   {
    "duration": 49596,
    "start_time": "2023-06-01T21:03:43.361Z"
   },
   {
    "duration": 8,
    "start_time": "2023-06-01T21:04:32.959Z"
   },
   {
    "duration": 20,
    "start_time": "2023-06-01T21:04:32.969Z"
   },
   {
    "duration": 28,
    "start_time": "2023-06-01T21:04:32.990Z"
   },
   {
    "duration": 4,
    "start_time": "2023-06-01T21:04:33.020Z"
   },
   {
    "duration": 1332,
    "start_time": "2023-06-01T21:04:33.026Z"
   },
   {
    "duration": 7,
    "start_time": "2023-06-01T21:04:34.360Z"
   },
   {
    "duration": 9,
    "start_time": "2023-06-01T21:04:34.369Z"
   },
   {
    "duration": 9,
    "start_time": "2023-06-01T21:04:34.379Z"
   },
   {
    "duration": 1803,
    "start_time": "2023-06-01T21:04:34.390Z"
   },
   {
    "duration": 31,
    "start_time": "2023-06-01T21:04:36.194Z"
   },
   {
    "duration": 4,
    "start_time": "2023-06-01T21:04:36.227Z"
   },
   {
    "duration": 1558,
    "start_time": "2023-06-01T21:04:36.247Z"
   },
   {
    "duration": 2961,
    "start_time": "2023-06-02T15:30:14.234Z"
   },
   {
    "duration": 132,
    "start_time": "2023-06-02T15:30:17.197Z"
   },
   {
    "duration": 20,
    "start_time": "2023-06-02T15:30:17.331Z"
   },
   {
    "duration": 1713,
    "start_time": "2023-06-02T15:30:17.353Z"
   },
   {
    "duration": 345,
    "start_time": "2023-06-02T15:30:19.068Z"
   },
   {
    "duration": 313,
    "start_time": "2023-06-02T15:30:19.415Z"
   },
   {
    "duration": 14,
    "start_time": "2023-06-02T15:30:19.730Z"
   },
   {
    "duration": 25545,
    "start_time": "2023-06-02T15:30:19.746Z"
   },
   {
    "duration": 202,
    "start_time": "2023-06-02T15:30:45.294Z"
   },
   {
    "duration": 4,
    "start_time": "2023-06-02T15:36:14.606Z"
   },
   {
    "duration": 64,
    "start_time": "2023-06-02T15:36:14.611Z"
   },
   {
    "duration": 14,
    "start_time": "2023-06-02T15:36:14.677Z"
   },
   {
    "duration": 1555,
    "start_time": "2023-06-02T15:36:14.693Z"
   },
   {
    "duration": 394,
    "start_time": "2023-06-02T15:36:16.251Z"
   },
   {
    "duration": 378,
    "start_time": "2023-06-02T15:36:16.647Z"
   },
   {
    "duration": 9,
    "start_time": "2023-06-02T15:36:17.027Z"
   },
   {
    "duration": 21042,
    "start_time": "2023-06-02T15:36:17.038Z"
   },
   {
    "duration": 104,
    "start_time": "2023-06-02T15:36:38.083Z"
   },
   {
    "duration": 46,
    "start_time": "2023-06-02T15:36:38.189Z"
   },
   {
    "duration": 55,
    "start_time": "2023-06-02T15:38:33.698Z"
   },
   {
    "duration": 29,
    "start_time": "2023-06-02T15:39:04.243Z"
   },
   {
    "duration": 2900,
    "start_time": "2023-06-02T15:39:31.966Z"
   },
   {
    "duration": 56,
    "start_time": "2023-06-02T15:39:34.870Z"
   },
   {
    "duration": 19,
    "start_time": "2023-06-02T15:39:34.932Z"
   },
   {
    "duration": 1785,
    "start_time": "2023-06-02T15:39:34.956Z"
   },
   {
    "duration": 337,
    "start_time": "2023-06-02T15:39:36.743Z"
   },
   {
    "duration": 329,
    "start_time": "2023-06-02T15:39:37.082Z"
   },
   {
    "duration": 13,
    "start_time": "2023-06-02T15:39:37.414Z"
   },
   {
    "duration": 23754,
    "start_time": "2023-06-02T15:39:37.429Z"
   },
   {
    "duration": 93,
    "start_time": "2023-06-02T15:40:01.186Z"
   },
   {
    "duration": 68,
    "start_time": "2023-06-02T15:40:01.281Z"
   },
   {
    "duration": 2416,
    "start_time": "2023-06-02T15:40:56.709Z"
   },
   {
    "duration": 49,
    "start_time": "2023-06-02T15:40:59.128Z"
   },
   {
    "duration": 19,
    "start_time": "2023-06-02T15:40:59.178Z"
   },
   {
    "duration": 1563,
    "start_time": "2023-06-02T15:40:59.199Z"
   },
   {
    "duration": 339,
    "start_time": "2023-06-02T15:41:00.766Z"
   },
   {
    "duration": 307,
    "start_time": "2023-06-02T15:41:01.107Z"
   },
   {
    "duration": 10,
    "start_time": "2023-06-02T15:41:01.417Z"
   },
   {
    "duration": 19750,
    "start_time": "2023-06-02T15:41:01.429Z"
   },
   {
    "duration": 9,
    "start_time": "2023-06-02T15:41:21.181Z"
   },
   {
    "duration": 103,
    "start_time": "2023-06-02T15:41:21.192Z"
   },
   {
    "duration": 33,
    "start_time": "2023-06-02T15:41:21.297Z"
   },
   {
    "duration": 35,
    "start_time": "2023-06-02T15:43:07.059Z"
   },
   {
    "duration": 14,
    "start_time": "2023-06-02T15:43:09.944Z"
   },
   {
    "duration": 1460,
    "start_time": "2023-06-02T18:39:13.141Z"
   },
   {
    "duration": 112,
    "start_time": "2023-06-02T18:39:14.603Z"
   },
   {
    "duration": 17,
    "start_time": "2023-06-02T18:39:14.717Z"
   },
   {
    "duration": 1163,
    "start_time": "2023-06-02T18:39:14.736Z"
   },
   {
    "duration": 319,
    "start_time": "2023-06-02T18:39:15.902Z"
   },
   {
    "duration": 260,
    "start_time": "2023-06-02T18:39:16.223Z"
   },
   {
    "duration": 28007,
    "start_time": "2023-06-02T18:39:16.491Z"
   },
   {
    "duration": 102,
    "start_time": "2023-06-02T18:39:44.501Z"
   },
   {
    "duration": 9,
    "start_time": "2023-06-02T18:39:44.605Z"
   },
   {
    "duration": 8,
    "start_time": "2023-06-02T18:39:44.616Z"
   },
   {
    "duration": 18817,
    "start_time": "2023-06-02T18:39:44.625Z"
   },
   {
    "duration": 38960,
    "start_time": "2023-06-02T18:40:03.443Z"
   },
   {
    "duration": 29794,
    "start_time": "2023-06-02T18:40:42.404Z"
   },
   {
    "duration": 5,
    "start_time": "2023-06-02T18:41:12.200Z"
   },
   {
    "duration": 5,
    "start_time": "2023-06-02T18:41:12.207Z"
   },
   {
    "duration": 11,
    "start_time": "2023-06-02T18:41:12.213Z"
   },
   {
    "duration": 12,
    "start_time": "2023-06-02T18:41:12.225Z"
   },
   {
    "duration": 905,
    "start_time": "2023-06-02T18:41:12.238Z"
   },
   {
    "duration": 3,
    "start_time": "2023-06-02T18:41:13.144Z"
   },
   {
    "duration": 10,
    "start_time": "2023-06-02T18:41:13.148Z"
   },
   {
    "duration": 4,
    "start_time": "2023-06-02T18:41:13.159Z"
   },
   {
    "duration": 2631,
    "start_time": "2023-06-02T18:41:13.164Z"
   },
   {
    "duration": 28,
    "start_time": "2023-06-02T18:41:15.796Z"
   },
   {
    "duration": 4,
    "start_time": "2023-06-02T18:41:15.826Z"
   },
   {
    "duration": 621,
    "start_time": "2023-06-02T18:41:15.831Z"
   },
   {
    "duration": 2,
    "start_time": "2023-06-02T18:52:56.574Z"
   },
   {
    "duration": 1225,
    "start_time": "2023-06-02T18:52:57.073Z"
   },
   {
    "duration": 3,
    "start_time": "2023-06-02T18:53:07.800Z"
   },
   {
    "duration": 5,
    "start_time": "2023-06-02T18:53:13.705Z"
   },
   {
    "duration": 3,
    "start_time": "2023-06-02T18:57:38.036Z"
   },
   {
    "duration": 5432,
    "start_time": "2023-06-02T18:57:39.138Z"
   },
   {
    "duration": 49,
    "start_time": "2023-06-02T18:57:46.422Z"
   },
   {
    "duration": 4,
    "start_time": "2023-06-02T18:57:47.707Z"
   },
   {
    "duration": 8,
    "start_time": "2023-06-02T18:57:55.018Z"
   },
   {
    "duration": 5564,
    "start_time": "2023-06-02T18:57:55.170Z"
   },
   {
    "duration": 53,
    "start_time": "2023-06-02T18:58:00.736Z"
   },
   {
    "duration": 4,
    "start_time": "2023-06-02T18:58:00.791Z"
   },
   {
    "duration": 5,
    "start_time": "2023-06-02T18:58:59.678Z"
   },
   {
    "duration": 5724,
    "start_time": "2023-06-02T18:59:00.132Z"
   },
   {
    "duration": 4,
    "start_time": "2023-06-02T18:59:08.322Z"
   },
   {
    "duration": 4,
    "start_time": "2023-06-02T18:59:08.662Z"
   },
   {
    "duration": 4,
    "start_time": "2023-06-02T18:59:20.738Z"
   },
   {
    "duration": 3,
    "start_time": "2023-06-02T18:59:27.928Z"
   },
   {
    "duration": 166894,
    "start_time": "2023-06-02T18:59:28.345Z"
   },
   {
    "duration": 49,
    "start_time": "2023-06-02T19:02:15.241Z"
   },
   {
    "duration": 5,
    "start_time": "2023-06-02T19:02:15.295Z"
   },
   {
    "duration": 1043,
    "start_time": "2023-06-02T19:04:32.676Z"
   },
   {
    "duration": 4720,
    "start_time": "2023-06-02T19:04:42.976Z"
   },
   {
    "duration": 291,
    "start_time": "2023-06-02T19:04:50.195Z"
   },
   {
    "duration": 1215,
    "start_time": "2023-06-02T19:04:58.338Z"
   },
   {
    "duration": 1087,
    "start_time": "2023-06-02T19:05:02.501Z"
   },
   {
    "duration": 1098,
    "start_time": "2023-06-02T19:05:06.834Z"
   },
   {
    "duration": 1375,
    "start_time": "2023-06-02T19:05:14.011Z"
   },
   {
    "duration": 1884,
    "start_time": "2023-06-02T19:05:18.822Z"
   },
   {
    "duration": 1314,
    "start_time": "2023-06-02T19:05:26.077Z"
   },
   {
    "duration": 606,
    "start_time": "2023-06-02T19:05:40.125Z"
   },
   {
    "duration": 43854,
    "start_time": "2023-06-02T19:05:49.935Z"
   },
   {
    "duration": 3,
    "start_time": "2023-06-02T19:20:51.045Z"
   },
   {
    "duration": 67,
    "start_time": "2023-06-02T19:20:51.050Z"
   },
   {
    "duration": 12,
    "start_time": "2023-06-02T19:20:51.118Z"
   },
   {
    "duration": 1073,
    "start_time": "2023-06-02T19:20:51.132Z"
   },
   {
    "duration": 260,
    "start_time": "2023-06-02T19:20:52.206Z"
   },
   {
    "duration": 247,
    "start_time": "2023-06-02T19:20:52.469Z"
   },
   {
    "duration": 15775,
    "start_time": "2023-06-02T19:20:52.717Z"
   },
   {
    "duration": 210,
    "start_time": "2023-06-02T19:21:08.494Z"
   },
   {
    "duration": 9,
    "start_time": "2023-06-02T19:21:08.707Z"
   },
   {
    "duration": 4,
    "start_time": "2023-06-02T19:21:08.718Z"
   },
   {
    "duration": 25997,
    "start_time": "2023-06-02T19:21:08.723Z"
   },
   {
    "duration": 86881,
    "start_time": "2023-06-02T19:21:34.721Z"
   },
   {
    "duration": 25993,
    "start_time": "2023-06-02T19:23:01.603Z"
   },
   {
    "duration": 5,
    "start_time": "2023-06-02T19:23:27.598Z"
   },
   {
    "duration": 18,
    "start_time": "2023-06-02T19:23:27.604Z"
   },
   {
    "duration": 12,
    "start_time": "2023-06-02T19:23:27.624Z"
   },
   {
    "duration": 3,
    "start_time": "2023-06-02T19:23:27.638Z"
   },
   {
    "duration": 14984,
    "start_time": "2023-06-02T19:23:27.642Z"
   },
   {
    "duration": 4,
    "start_time": "2023-06-02T19:23:42.627Z"
   },
   {
    "duration": 13,
    "start_time": "2023-06-02T19:23:42.633Z"
   },
   {
    "duration": 6,
    "start_time": "2023-06-02T19:23:42.647Z"
   },
   {
    "duration": 7346,
    "start_time": "2023-06-02T19:23:42.654Z"
   },
   {
    "duration": 27,
    "start_time": "2023-06-02T19:23:50.001Z"
   },
   {
    "duration": 4,
    "start_time": "2023-06-02T19:23:50.031Z"
   },
   {
    "duration": 1061,
    "start_time": "2023-06-02T19:23:50.036Z"
   }
  ],
  "kernelspec": {
   "display_name": "Python 3 (ipykernel)",
   "language": "python",
   "name": "python3"
  },
  "language_info": {
   "codemirror_mode": {
    "name": "ipython",
    "version": 3
   },
   "file_extension": ".py",
   "mimetype": "text/x-python",
   "name": "python",
   "nbconvert_exporter": "python",
   "pygments_lexer": "ipython3",
   "version": "3.10.9"
  },
  "toc": {
   "base_numbering": 1,
   "nav_menu": {},
   "number_sections": true,
   "sideBar": true,
   "skip_h1_title": true,
   "title_cell": "Содержание",
   "title_sidebar": "Contents",
   "toc_cell": true,
   "toc_position": {},
   "toc_section_display": true,
   "toc_window_display": true
  }
 },
 "nbformat": 4,
 "nbformat_minor": 2
}
