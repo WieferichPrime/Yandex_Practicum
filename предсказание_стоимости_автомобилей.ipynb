{
 "cells": [
  {
   "cell_type": "markdown",
   "metadata": {
    "id": "ftyE7hUMGnPx"
   },
   "source": [
    "# Определение стоимости автомобилей"
   ]
  },
  {
   "cell_type": "markdown",
   "metadata": {
    "id": "pk5RfLQ2GnP2"
   },
   "source": [
    "Сервис по продаже автомобилей с пробегом «Не бит, не крашен» разрабатывает приложение для привлечения новых клиентов. В нём можно быстро узнать рыночную стоимость своего автомобиля. В вашем распоряжении исторические данные: технические характеристики, комплектации и цены автомобилей. Вам нужно построить модель для определения стоимости. \n",
    "\n",
    "Заказчику важны:\n",
    "\n",
    "- качество предсказания;\n",
    "- скорость предсказания;\n",
    "- время обучения."
   ]
  },
  {
   "cell_type": "code",
   "execution_count": 1,
   "metadata": {
    "colab": {
     "base_uri": "https://localhost:8080/"
    },
    "id": "zYWMs1Nt249J",
    "outputId": "585ae7b4-68a8-4278-e4f5-8ee2a29c1bb0"
   },
   "outputs": [
    {
     "name": "stdout",
     "output_type": "stream",
     "text": [
      "Requirement already satisfied: catboost in /opt/conda/lib/python3.9/site-packages (1.0.3)\n",
      "Requirement already satisfied: plotly in /opt/conda/lib/python3.9/site-packages (from catboost) (5.4.0)\n",
      "Requirement already satisfied: six in /opt/conda/lib/python3.9/site-packages (from catboost) (1.16.0)\n",
      "Requirement already satisfied: numpy>=1.16.0 in /opt/conda/lib/python3.9/site-packages (from catboost) (1.24.3)\n",
      "Requirement already satisfied: pandas>=0.24.0 in /opt/conda/lib/python3.9/site-packages (from catboost) (1.5.3)\n",
      "Requirement already satisfied: matplotlib in /opt/conda/lib/python3.9/site-packages (from catboost) (3.3.4)\n",
      "Requirement already satisfied: graphviz in /opt/conda/lib/python3.9/site-packages (from catboost) (0.20.1)\n",
      "Requirement already satisfied: scipy in /opt/conda/lib/python3.9/site-packages (from catboost) (1.9.1)\n",
      "Requirement already satisfied: pytz>=2020.1 in /opt/conda/lib/python3.9/site-packages (from pandas>=0.24.0->catboost) (2021.1)\n",
      "Requirement already satisfied: python-dateutil>=2.8.1 in /opt/conda/lib/python3.9/site-packages (from pandas>=0.24.0->catboost) (2.8.1)\n",
      "Requirement already satisfied: cycler>=0.10 in /opt/conda/lib/python3.9/site-packages (from matplotlib->catboost) (0.11.0)\n",
      "Requirement already satisfied: pillow>=6.2.0 in /opt/conda/lib/python3.9/site-packages (from matplotlib->catboost) (8.4.0)\n",
      "Requirement already satisfied: pyparsing!=2.0.4,!=2.1.2,!=2.1.6,>=2.0.3 in /opt/conda/lib/python3.9/site-packages (from matplotlib->catboost) (2.4.7)\n",
      "Requirement already satisfied: kiwisolver>=1.0.1 in /opt/conda/lib/python3.9/site-packages (from matplotlib->catboost) (1.4.4)\n",
      "Requirement already satisfied: tenacity>=6.2.0 in /opt/conda/lib/python3.9/site-packages (from plotly->catboost) (8.0.1)\n"
     ]
    }
   ],
   "source": [
    "! pip install catboost"
   ]
  },
  {
   "cell_type": "code",
   "execution_count": 2,
   "metadata": {
    "id": "05W0VrtMGnP3"
   },
   "outputs": [],
   "source": [
    "import pandas as pd\n",
    "import time\n",
    "import numpy as np\n",
    "import seaborn as sns\n",
    "import matplotlib.pyplot as plt\n",
    "from datetime import datetime\n",
    "from sklearn.linear_model import LinearRegression, LogisticRegression\n",
    "from sklearn.model_selection import GridSearchCV, train_test_split\n",
    "from sklearn.preprocessing import MinMaxScaler, OneHotEncoder\n",
    "from sklearn.compose import make_column_transformer\n",
    "from sklearn.model_selection import cross_val_score\n",
    "from sklearn.ensemble import RandomForestRegressor\n",
    "from sklearn.dummy import DummyRegressor\n",
    "from sklearn.metrics import mean_squared_error, make_scorer, f1_score\n",
    "import lightgbm as lgb\n",
    "from sklearn.utils import shuffle\n",
    "from timeit import timeit\n",
    "from catboost import CatBoostRegressor, Pool, cv, CatBoostClassifier\n",
    "from catboost.utils import eval_metric\n",
    "pd.options.display.max_columns = None"
   ]
  },
  {
   "cell_type": "code",
   "execution_count": 3,
   "metadata": {
    "id": "VHBpCgsyGnP5"
   },
   "outputs": [],
   "source": [
    "def split_dataset(df, t, drop = [], cat_cols = [], num_cols=[]):\n",
    "    ds = df.drop(index=df.index[df[t].isna()])\n",
    "\n",
    "    for cat in cat_cols:\n",
    "        cat_target_encode = ds.pivot_table(index=cat, values=t, aggfunc='mean').to_dict()[t]\n",
    "        ds[cat] = ds[cat].apply(lambda x: cat_target_encode[x])\n",
    "        \n",
    "    target = ds[t]\n",
    "    features = ds.drop(columns=drop + [t])\n",
    "    \n",
    "    features_train, features_test, target_train, target_test = train_test_split(\n",
    "        features, target, random_state=12345, test_size=0.2)\n",
    "\n",
    "    features = [features_train, features_test]\n",
    "    targets = [target_train, target_test]\n",
    "    \n",
    "    transformer = make_column_transformer(\n",
    "        (MinMaxScaler(), num_cols),\n",
    "        remainder='passthrough')\n",
    "    \n",
    "    transformed = transformer.fit_transform(features[0])\n",
    "    features[0] = pd.DataFrame(data=transformed, columns=features[0].columns)\n",
    "        \n",
    "    \n",
    "    return [features, targets]"
   ]
  },
  {
   "cell_type": "markdown",
   "metadata": {
    "id": "Gv6HAN30GnP6"
   },
   "source": [
    "## Подготовка данных"
   ]
  },
  {
   "cell_type": "markdown",
   "metadata": {
    "id": "VjdBMTC6GnP6"
   },
   "source": [
    "### Обзор данных"
   ]
  },
  {
   "cell_type": "code",
   "execution_count": 4,
   "metadata": {
    "colab": {
     "base_uri": "https://localhost:8080/",
     "height": 1000
    },
    "id": "EF5uwB94GnP6",
    "outputId": "776cd8b4-d072-4559-d382-51ebb5acac60"
   },
   "outputs": [],
   "source": [
    "numerics = ['int16', 'int32', 'int64', 'float16', 'float32', 'float64']"
   ]
  },
  {
   "cell_type": "code",
   "execution_count": 5,
   "metadata": {
    "colab": {
     "base_uri": "https://localhost:8080/",
     "height": 1000
    },
    "id": "EF5uwB94GnP6",
    "outputId": "776cd8b4-d072-4559-d382-51ebb5acac60"
   },
   "outputs": [],
   "source": [
    "df = pd.read_csv('/datasets/autos.csv')\n",
    "source_df_len = len(df)\n",
    "num_df = df.select_dtypes(include=numerics)"
   ]
  },
  {
   "cell_type": "code",
   "execution_count": 6,
   "metadata": {
    "colab": {
     "base_uri": "https://localhost:8080/",
     "height": 1000
    },
    "id": "EF5uwB94GnP6",
    "outputId": "776cd8b4-d072-4559-d382-51ebb5acac60"
   },
   "outputs": [
    {
     "name": "stdout",
     "output_type": "stream",
     "text": [
      "<class 'pandas.core.frame.DataFrame'>\n",
      "RangeIndex: 354369 entries, 0 to 354368\n",
      "Data columns (total 16 columns):\n",
      " #   Column             Non-Null Count   Dtype \n",
      "---  ------             --------------   ----- \n",
      " 0   DateCrawled        354369 non-null  object\n",
      " 1   Price              354369 non-null  int64 \n",
      " 2   VehicleType        316879 non-null  object\n",
      " 3   RegistrationYear   354369 non-null  int64 \n",
      " 4   Gearbox            334536 non-null  object\n",
      " 5   Power              354369 non-null  int64 \n",
      " 6   Model              334664 non-null  object\n",
      " 7   Kilometer          354369 non-null  int64 \n",
      " 8   RegistrationMonth  354369 non-null  int64 \n",
      " 9   FuelType           321474 non-null  object\n",
      " 10  Brand              354369 non-null  object\n",
      " 11  Repaired           283215 non-null  object\n",
      " 12  DateCreated        354369 non-null  object\n",
      " 13  NumberOfPictures   354369 non-null  int64 \n",
      " 14  PostalCode         354369 non-null  int64 \n",
      " 15  LastSeen           354369 non-null  object\n",
      "dtypes: int64(7), object(9)\n",
      "memory usage: 43.3+ MB\n"
     ]
    }
   ],
   "source": [
    "df.info()"
   ]
  },
  {
   "cell_type": "code",
   "execution_count": 7,
   "metadata": {
    "colab": {
     "base_uri": "https://localhost:8080/",
     "height": 1000
    },
    "id": "EF5uwB94GnP6",
    "outputId": "776cd8b4-d072-4559-d382-51ebb5acac60"
   },
   "outputs": [
    {
     "data": {
      "image/png": "[encoded data removed]",
      "text/plain": [
       "<Figure size 1080x1080 with 9 Axes>"
      ]
     },
     "metadata": {
      "needs_background": "light"
     },
     "output_type": "display_data"
    },
    {
     "data": {
      "image/png": "[encoded data removed]",
      "text/plain": [
       "<Figure size 720x720 with 2 Axes>"
      ]
     },
     "metadata": {
      "needs_background": "light"
     },
     "output_type": "display_data"
    }
   ],
   "source": [
    "num_df.hist(figsize=(15,15))\n",
    "plt.subplots(figsize=(10, 10), )\n",
    "ax = plt.axes()\n",
    "sns.heatmap(num_df.corr(), ax=ax)\n",
    "ax.set_title('Корреляция признаков');"
   ]
  },
  {
   "cell_type": "markdown",
   "metadata": {
    "id": "bx2LQJVqGnP7"
   },
   "source": [
    "Цена имеет среднюю линейную зависимость от пробега.\n",
    "\n",
    "Колонки **DateCrawled**, **DateCreated**, **PostalCode**, **LastSeen**, **RegistrationMonth** откидываются, т.к. они неинформативны. Колонка **NumberOfPictures** откидывается т.к. она содержит константное значение."
   ]
  },
  {
   "cell_type": "code",
   "execution_count": 8,
   "metadata": {
    "colab": {
     "base_uri": "https://localhost:8080/",
     "height": 1000
    },
    "id": "EF5uwB94GnP6",
    "outputId": "776cd8b4-d072-4559-d382-51ebb5acac60"
   },
   "outputs": [
    {
     "data": {
      "image/png": "[encoded data removed]",
      "text/plain": [
       "<Figure size 360x360 with 1 Axes>"
      ]
     },
     "metadata": {
      "needs_background": "light"
     },
     "output_type": "display_data"
    },
    {
     "data": {
      "image/png": "[encoded data removed]",
      "text/plain": [
       "<Figure size 360x360 with 1 Axes>"
      ]
     },
     "metadata": {
      "needs_background": "light"
     },
     "output_type": "display_data"
    },
    {
     "data": {
      "image/png": "[encoded data removed]",
      "text/plain": [
       "<Figure size 360x360 with 1 Axes>"
      ]
     },
     "metadata": {
      "needs_background": "light"
     },
     "output_type": "display_data"
    },
    {
     "data": {
      "image/png": "[encoded data removed]",
      "text/plain": [
       "<Figure size 360x360 with 1 Axes>"
      ]
     },
     "metadata": {
      "needs_background": "light"
     },
     "output_type": "display_data"
    },
    {
     "data": {
      "image/png": "[encoded data removed]",
      "text/plain": [
       "<Figure size 360x360 with 1 Axes>"
      ]
     },
     "metadata": {
      "needs_background": "light"
     },
     "output_type": "display_data"
    },
    {
     "data": {
      "image/png": "[encoded data removed]",
      "text/plain": [
       "<Figure size 360x360 with 1 Axes>"
      ]
     },
     "metadata": {
      "needs_background": "light"
     },
     "output_type": "display_data"
    },
    {
     "data": {
      "image/png": "[encoded data removed]",
      "text/plain": [
       "<Figure size 360x360 with 1 Axes>"
      ]
     },
     "metadata": {
      "needs_background": "light"
     },
     "output_type": "display_data"
    }
   ],
   "source": [
    "for col in num_df.columns:\n",
    "    plt.subplots(figsize=(5, 5))\n",
    "    num_df.boxplot(column=col)"
   ]
  },
  {
   "cell_type": "code",
   "execution_count": 9,
   "metadata": {
    "colab": {
     "base_uri": "https://localhost:8080/",
     "height": 1000
    },
    "id": "EF5uwB94GnP6",
    "outputId": "776cd8b4-d072-4559-d382-51ebb5acac60"
   },
   "outputs": [
    {
     "data": {
      "text/html": [
       "<div>\n",
       "<style scoped>\n",
       "    .dataframe tbody tr th:only-of-type {\n",
       "        vertical-align: middle;\n",
       "    }\n",
       "\n",
       "    .dataframe tbody tr th {\n",
       "        vertical-align: top;\n",
       "    }\n",
       "\n",
       "    .dataframe thead th {\n",
       "        text-align: right;\n",
       "    }\n",
       "</style>\n",
       "<table border=\"1\" class=\"dataframe\">\n",
       "  <thead>\n",
       "    <tr style=\"text-align: right;\">\n",
       "      <th></th>\n",
       "      <th>DateCrawled</th>\n",
       "      <th>Price</th>\n",
       "      <th>VehicleType</th>\n",
       "      <th>RegistrationYear</th>\n",
       "      <th>Gearbox</th>\n",
       "      <th>Power</th>\n",
       "      <th>Model</th>\n",
       "      <th>Kilometer</th>\n",
       "      <th>RegistrationMonth</th>\n",
       "      <th>FuelType</th>\n",
       "      <th>Brand</th>\n",
       "      <th>Repaired</th>\n",
       "      <th>DateCreated</th>\n",
       "      <th>NumberOfPictures</th>\n",
       "      <th>PostalCode</th>\n",
       "      <th>LastSeen</th>\n",
       "    </tr>\n",
       "  </thead>\n",
       "  <tbody>\n",
       "    <tr>\n",
       "      <th>0</th>\n",
       "      <td>2016-03-24 11:52:17</td>\n",
       "      <td>480</td>\n",
       "      <td>NaN</td>\n",
       "      <td>1993</td>\n",
       "      <td>manual</td>\n",
       "      <td>0</td>\n",
       "      <td>golf</td>\n",
       "      <td>150000</td>\n",
       "      <td>0</td>\n",
       "      <td>petrol</td>\n",
       "      <td>volkswagen</td>\n",
       "      <td>NaN</td>\n",
       "      <td>2016-03-24 00:00:00</td>\n",
       "      <td>0</td>\n",
       "      <td>70435</td>\n",
       "      <td>2016-04-07 03:16:57</td>\n",
       "    </tr>\n",
       "    <tr>\n",
       "      <th>1</th>\n",
       "      <td>2016-03-24 10:58:45</td>\n",
       "      <td>18300</td>\n",
       "      <td>coupe</td>\n",
       "      <td>2011</td>\n",
       "      <td>manual</td>\n",
       "      <td>190</td>\n",
       "      <td>NaN</td>\n",
       "      <td>125000</td>\n",
       "      <td>5</td>\n",
       "      <td>gasoline</td>\n",
       "      <td>audi</td>\n",
       "      <td>yes</td>\n",
       "      <td>2016-03-24 00:00:00</td>\n",
       "      <td>0</td>\n",
       "      <td>66954</td>\n",
       "      <td>2016-04-07 01:46:50</td>\n",
       "    </tr>\n",
       "    <tr>\n",
       "      <th>2</th>\n",
       "      <td>2016-03-14 12:52:21</td>\n",
       "      <td>9800</td>\n",
       "      <td>suv</td>\n",
       "      <td>2004</td>\n",
       "      <td>auto</td>\n",
       "      <td>163</td>\n",
       "      <td>grand</td>\n",
       "      <td>125000</td>\n",
       "      <td>8</td>\n",
       "      <td>gasoline</td>\n",
       "      <td>jeep</td>\n",
       "      <td>NaN</td>\n",
       "      <td>2016-03-14 00:00:00</td>\n",
       "      <td>0</td>\n",
       "      <td>90480</td>\n",
       "      <td>2016-04-05 12:47:46</td>\n",
       "    </tr>\n",
       "    <tr>\n",
       "      <th>3</th>\n",
       "      <td>2016-03-17 16:54:04</td>\n",
       "      <td>1500</td>\n",
       "      <td>small</td>\n",
       "      <td>2001</td>\n",
       "      <td>manual</td>\n",
       "      <td>75</td>\n",
       "      <td>golf</td>\n",
       "      <td>150000</td>\n",
       "      <td>6</td>\n",
       "      <td>petrol</td>\n",
       "      <td>volkswagen</td>\n",
       "      <td>no</td>\n",
       "      <td>2016-03-17 00:00:00</td>\n",
       "      <td>0</td>\n",
       "      <td>91074</td>\n",
       "      <td>2016-03-17 17:40:17</td>\n",
       "    </tr>\n",
       "    <tr>\n",
       "      <th>4</th>\n",
       "      <td>2016-03-31 17:25:20</td>\n",
       "      <td>3600</td>\n",
       "      <td>small</td>\n",
       "      <td>2008</td>\n",
       "      <td>manual</td>\n",
       "      <td>69</td>\n",
       "      <td>fabia</td>\n",
       "      <td>90000</td>\n",
       "      <td>7</td>\n",
       "      <td>gasoline</td>\n",
       "      <td>skoda</td>\n",
       "      <td>no</td>\n",
       "      <td>2016-03-31 00:00:00</td>\n",
       "      <td>0</td>\n",
       "      <td>60437</td>\n",
       "      <td>2016-04-06 10:17:21</td>\n",
       "    </tr>\n",
       "  </tbody>\n",
       "</table>\n",
       "</div>"
      ],
      "text/plain": [
       "           DateCrawled  Price VehicleType  RegistrationYear Gearbox  Power  \\\n",
       "0  2016-03-24 11:52:17    480         NaN              1993  manual      0   \n",
       "1  2016-03-24 10:58:45  18300       coupe              2011  manual    190   \n",
       "2  2016-03-14 12:52:21   9800         suv              2004    auto    163   \n",
       "3  2016-03-17 16:54:04   1500       small              2001  manual     75   \n",
       "4  2016-03-31 17:25:20   3600       small              2008  manual     69   \n",
       "\n",
       "   Model  Kilometer  RegistrationMonth  FuelType       Brand Repaired  \\\n",
       "0   golf     150000                  0    petrol  volkswagen      NaN   \n",
       "1    NaN     125000                  5  gasoline        audi      yes   \n",
       "2  grand     125000                  8  gasoline        jeep      NaN   \n",
       "3   golf     150000                  6    petrol  volkswagen       no   \n",
       "4  fabia      90000                  7  gasoline       skoda       no   \n",
       "\n",
       "           DateCreated  NumberOfPictures  PostalCode             LastSeen  \n",
       "0  2016-03-24 00:00:00                 0       70435  2016-04-07 03:16:57  \n",
       "1  2016-03-24 00:00:00                 0       66954  2016-04-07 01:46:50  \n",
       "2  2016-03-14 00:00:00                 0       90480  2016-04-05 12:47:46  \n",
       "3  2016-03-17 00:00:00                 0       91074  2016-03-17 17:40:17  \n",
       "4  2016-03-31 00:00:00                 0       60437  2016-04-06 10:17:21  "
      ]
     },
     "execution_count": 9,
     "metadata": {},
     "output_type": "execute_result"
    }
   ],
   "source": [
    "df.head()"
   ]
  },
  {
   "cell_type": "code",
   "execution_count": 10,
   "metadata": {},
   "outputs": [
    {
     "data": {
      "text/plain": [
       "-0.333199489486105"
      ]
     },
     "execution_count": 10,
     "metadata": {},
     "output_type": "execute_result"
    }
   ],
   "source": [
    "df['Kilometer'].corr(df['Price'])"
   ]
  },
  {
   "cell_type": "code",
   "execution_count": 11,
   "metadata": {
    "id": "VeFyDGS5GnP8"
   },
   "outputs": [],
   "source": [
    "df.drop(columns=['DateCrawled', 'DateCreated', 'PostalCode', 'LastSeen', 'NumberOfPictures', \"RegistrationMonth\"], inplace=True)"
   ]
  },
  {
   "cell_type": "markdown",
   "metadata": {
    "id": "_tOPuHmiGnP8"
   },
   "source": [
    "### Преобразования данных\n",
    "\n",
    "Значения колонок **Repaired** и **Gearbox** переводятся в булев тип."
   ]
  },
  {
   "cell_type": "code",
   "execution_count": 12,
   "metadata": {},
   "outputs": [],
   "source": [
    "df['Repaired'] = df['Repaired'].apply(lambda x: np.nan if pd.isna(x) else 1 if x == \"yes\" else 0)\n",
    "df['Gearbox'] = df['Gearbox'].apply(lambda x: np.nan if pd.isna(x) else 1 if x == \"auto\" else 0)"
   ]
  },
  {
   "cell_type": "markdown",
   "metadata": {
    "id": "_tOPuHmiGnP8"
   },
   "source": [
    "### Работа с дубликатами\n",
    "\n",
    "Содержание дубликатов по оставшимся колонкам:"
   ]
  },
  {
   "cell_type": "code",
   "execution_count": 13,
   "metadata": {
    "colab": {
     "base_uri": "https://localhost:8080/"
    },
    "id": "yPXNEUPsGnP8",
    "outputId": "8b7bf902-c2c0-467f-a37d-5cc6baa94f5a"
   },
   "outputs": [
    {
     "data": {
      "text/plain": [
       "45040"
      ]
     },
     "execution_count": 13,
     "metadata": {},
     "output_type": "execute_result"
    }
   ],
   "source": [
    "dups = df.duplicated().sum()\n",
    "source_df_len -= dups\n",
    "dups"
   ]
  },
  {
   "cell_type": "markdown",
   "metadata": {},
   "source": [
    "Дубликаты отбрасываются"
   ]
  },
  {
   "cell_type": "code",
   "execution_count": 14,
   "metadata": {},
   "outputs": [],
   "source": [
    "df.drop_duplicates(inplace=True)"
   ]
  },
  {
   "cell_type": "markdown",
   "metadata": {
    "id": "l4c4X8DgGnP9"
   },
   "source": [
    "### Обработка аномальных значений\n",
    "\n",
    "Откидываются объекты, имеющие значения в колонке **Power**, не попадющие в интервал от 13 до 1000 л.с.\n",
    "\n",
    "Откидываются объекты, имеющие значения в колонке **RegistrationYear**, не попадющие в интервал с 1950 по 2016 год.\n",
    "\n",
    "Откидываются объекты, имеющие значения в колонке **Price** менее 15 евро."
   ]
  },
  {
   "cell_type": "code",
   "execution_count": 15,
   "metadata": {
    "id": "nX1P05TNGnP-"
   },
   "outputs": [],
   "source": [
    "df.drop(index=df[(df['Power'] <= 13) | (df['Power'] >= 1000)].index, inplace = True)\n",
    "df.drop(index=df[df['Price'] <= 15].index, inplace = True)\n",
    "df.drop(index=df[(df['RegistrationYear'] <= 1950) | (df['RegistrationYear'] > 2016)].index, inplace = True)"
   ]
  },
  {
   "cell_type": "code",
   "execution_count": 16,
   "metadata": {
    "colab": {
     "base_uri": "https://localhost:8080/",
     "height": 1000
    },
    "id": "EKdYPPmFGnP-",
    "outputId": "49c2b2c1-95e3-4c6c-a2b1-00e7bf9d5622"
   },
   "outputs": [
    {
     "data": {
      "image/png": "[encoded data removed]",
      "text/plain": [
       "<Figure size 360x360 with 1 Axes>"
      ]
     },
     "metadata": {
      "needs_background": "light"
     },
     "output_type": "display_data"
    },
    {
     "data": {
      "image/png": "[encoded data removed]",
      "text/plain": [
       "<Figure size 360x360 with 1 Axes>"
      ]
     },
     "metadata": {
      "needs_background": "light"
     },
     "output_type": "display_data"
    },
    {
     "data": {
      "image/png": "[encoded data removed]",
      "text/plain": [
       "<Figure size 360x360 with 1 Axes>"
      ]
     },
     "metadata": {
      "needs_background": "light"
     },
     "output_type": "display_data"
    },
    {
     "data": {
      "image/png": "[encoded data removed]",
      "text/plain": [
       "<Figure size 360x360 with 1 Axes>"
      ]
     },
     "metadata": {
      "needs_background": "light"
     },
     "output_type": "display_data"
    },
    {
     "data": {
      "image/png": "[encoded data removed]",
      "text/plain": [
       "<Figure size 360x360 with 1 Axes>"
      ]
     },
     "metadata": {
      "needs_background": "light"
     },
     "output_type": "display_data"
    },
    {
     "data": {
      "image/png": "[encoded data removed]",
      "text/plain": [
       "<Figure size 360x360 with 1 Axes>"
      ]
     },
     "metadata": {
      "needs_background": "light"
     },
     "output_type": "display_data"
    }
   ],
   "source": [
    "num_df = df.select_dtypes(include=numerics)\n",
    "for col in num_df.columns:\n",
    "    plt.subplots(figsize=(5, 5))\n",
    "    num_df.boxplot(column=col)"
   ]
  },
  {
   "cell_type": "markdown",
   "metadata": {
    "id": "_tOPuHmiGnP8"
   },
   "source": [
    "### Работа с пропусками\n",
    "\n",
    "Содержание пропусков по оставшимся колонкам:"
   ]
  },
  {
   "cell_type": "code",
   "execution_count": 17,
   "metadata": {
    "colab": {
     "base_uri": "https://localhost:8080/"
    },
    "id": "yPXNEUPsGnP8",
    "outputId": "8b7bf902-c2c0-467f-a37d-5cc6baa94f5a"
   },
   "outputs": [
    {
     "data": {
      "text/plain": [
       "Price               0.000000\n",
       "VehicleType         0.040525\n",
       "RegistrationYear    0.000000\n",
       "Gearbox             0.019931\n",
       "Power               0.000000\n",
       "Model               0.040872\n",
       "Kilometer           0.000000\n",
       "FuelType            0.058161\n",
       "Brand               0.000000\n",
       "Repaired            0.153625\n",
       "dtype: float64"
      ]
     },
     "execution_count": 17,
     "metadata": {},
     "output_type": "execute_result"
    }
   ],
   "source": [
    "df.isna().sum() / len(df)"
   ]
  },
  {
   "cell_type": "markdown",
   "metadata": {
    "id": "FCnb06xTGnP8"
   },
   "source": [
    "Колонка **Repaired** содержит более 20% пропусков, она заполняется предсказаниями обученной модели catboost classifier.\n",
    "\n",
    "Пропуски в колонках **VehicleType**, **Model**, **FuelType** заменяются на категорию 'other'.\n",
    "\n",
    "Объекты с пропусками в колонке **Gearbox** удаляются."
   ]
  },
  {
   "cell_type": "code",
   "execution_count": 18,
   "metadata": {
    "id": "XTBZLapuGnP9"
   },
   "outputs": [],
   "source": [
    "df.loc[(df['Model'].isna())|(df['VehicleType'].isna())|(df['FuelType'].isna()), ['VehicleType', 'Model', 'FuelType']] = 'other'"
   ]
  },
  {
   "cell_type": "code",
   "execution_count": 19,
   "metadata": {},
   "outputs": [],
   "source": [
    "df.drop(index=df.index[df['Gearbox'].isna()], inplace = True)"
   ]
  },
  {
   "cell_type": "code",
   "execution_count": 20,
   "metadata": {},
   "outputs": [],
   "source": [
    "features = df.drop(columns=['Repaired'])\n",
    "features.drop(index=df.index[df['Repaired'].isna()], inplace=True)\n",
    "target = df[df['Repaired'].notna()]['Repaired']"
   ]
  },
  {
   "cell_type": "code",
   "execution_count": 21,
   "metadata": {
    "colab": {
     "base_uri": "https://localhost:8080/"
    },
    "id": "PT90Ad2_2uJJ",
    "outputId": "27b2f73b-ab53-413d-d052-6988f5f58414"
   },
   "outputs": [
    {
     "name": "stderr",
     "output_type": "stream",
     "text": [
      "/opt/conda/lib/python3.9/site-packages/catboost/core.py:1171: FutureWarning: iteritems is deprecated and will be removed in a future version. Use .items instead.\n",
      "  self._init_pool(data, label, cat_features, text_features, embedding_features, pairs, weight, group_id, group_weight, subgroup_id, pairs_weight, baseline, timestamp, feature_names, thread_count)\n"
     ]
    },
    {
     "name": "stdout",
     "output_type": "stream",
     "text": [
      "0:\tlearn: 0.6330083\ttotal: 603ms\tremaining: 59.7s\n",
      "10:\tlearn: 0.3770145\ttotal: 4s\tremaining: 32.4s\n",
      "20:\tlearn: 0.3196498\ttotal: 7.11s\tremaining: 26.7s\n",
      "30:\tlearn: 0.3039940\ttotal: 10.2s\tremaining: 22.8s\n",
      "40:\tlearn: 0.2984650\ttotal: 13.5s\tremaining: 19.4s\n",
      "50:\tlearn: 0.2951373\ttotal: 17.1s\tremaining: 16.4s\n",
      "60:\tlearn: 0.2927947\ttotal: 20.4s\tremaining: 13s\n",
      "70:\tlearn: 0.2912449\ttotal: 23.9s\tremaining: 9.75s\n",
      "80:\tlearn: 0.2898348\ttotal: 27.4s\tremaining: 6.42s\n",
      "90:\tlearn: 0.2886297\ttotal: 31s\tremaining: 3.06s\n",
      "99:\tlearn: 0.2876234\ttotal: 34.3s\tremaining: 0us\n",
      "0.889712010947316\n",
      "0.8903547237409266\n"
     ]
    }
   ],
   "source": [
    "features_train, features_test, target_train, target_test = train_test_split(\n",
    "    features,\n",
    "    target,\n",
    "    random_state=12345,\n",
    "    test_size=0.25,\n",
    "    stratify=target)\n",
    "\n",
    "cv_dataset = Pool(data=features_train,\n",
    "                  label=target_train,\n",
    "                  cat_features=['VehicleType', 'Model', 'FuelType', 'Brand'])\n",
    "\n",
    "booster = CatBoostClassifier(iterations=100,\n",
    "                           depth=4,\n",
    "                           learning_rate=0.1,\n",
    "                           verbose=10)\n",
    "\n",
    "booster.fit(cv_dataset)\n",
    "booster.set_feature_names(features_train.columns)\n",
    "\n",
    "test_preds = booster.predict(features_test)\n",
    "train_preds = booster.predict(features_train)\n",
    "\n",
    "print(booster.score(features_train, target_train))\n",
    "print(booster.score(features_test, target_test))"
   ]
  },
  {
   "cell_type": "code",
   "execution_count": 22,
   "metadata": {
    "colab": {
     "base_uri": "https://localhost:8080/"
    },
    "id": "7K3lK8jEtMsX",
    "outputId": "901eb250-6e98-4fbf-eb77-8caeda04f70e"
   },
   "outputs": [
    {
     "name": "stdout",
     "output_type": "stream",
     "text": [
      "0:\tlearn: 0.6330083\ttotal: 422ms\tremaining: 41.8s\n",
      "10:\tlearn: 0.3770145\ttotal: 3.84s\tremaining: 31.1s\n",
      "20:\tlearn: 0.3196498\ttotal: 7.02s\tremaining: 26.4s\n",
      "30:\tlearn: 0.3039940\ttotal: 9.83s\tremaining: 21.9s\n",
      "40:\tlearn: 0.2984650\ttotal: 12.7s\tremaining: 18.3s\n",
      "50:\tlearn: 0.2951373\ttotal: 15.5s\tremaining: 14.9s\n",
      "60:\tlearn: 0.2927947\ttotal: 18.7s\tremaining: 11.9s\n",
      "70:\tlearn: 0.2912449\ttotal: 21.6s\tremaining: 8.84s\n",
      "80:\tlearn: 0.2898348\ttotal: 25s\tremaining: 5.88s\n",
      "90:\tlearn: 0.2886297\ttotal: 28.3s\tremaining: 2.79s\n",
      "99:\tlearn: 0.2876234\ttotal: 31.5s\tremaining: 0us\n"
     ]
    },
    {
     "data": {
      "text/plain": [
       "<catboost.core.CatBoostClassifier at 0x7f40890758e0>"
      ]
     },
     "execution_count": 22,
     "metadata": {},
     "output_type": "execute_result"
    }
   ],
   "source": [
    "model = CatBoostClassifier(iterations=100,\n",
    "                           depth=4,\n",
    "                           learning_rate=0.1,\n",
    "                           verbose=10)\n",
    "model.fit(cv_dataset)"
   ]
  },
  {
   "cell_type": "code",
   "execution_count": 23,
   "metadata": {},
   "outputs": [],
   "source": [
    "df['Repaired'] = model.predict(df.loc[:, :'Brand'])"
   ]
  },
  {
   "cell_type": "code",
   "execution_count": 24,
   "metadata": {
    "colab": {
     "base_uri": "https://localhost:8080/"
    },
    "id": "j1X4mVFNGnP9",
    "outputId": "004b91b7-1766-4f65-edf0-5ca1b1e85f31",
    "scrolled": true
   },
   "outputs": [
    {
     "data": {
      "text/plain": [
       "Price               0.0\n",
       "VehicleType         0.0\n",
       "RegistrationYear    0.0\n",
       "Gearbox             0.0\n",
       "Power               0.0\n",
       "Model               0.0\n",
       "Kilometer           0.0\n",
       "FuelType            0.0\n",
       "Brand               0.0\n",
       "Repaired            0.0\n",
       "dtype: float64"
      ]
     },
     "execution_count": 24,
     "metadata": {},
     "output_type": "execute_result"
    }
   ],
   "source": [
    "df.isna().sum() / len(df)"
   ]
  },
  {
   "cell_type": "markdown",
   "metadata": {},
   "source": [
    "<div id=\"total_drop\"></div>"
   ]
  },
  {
   "cell_type": "code",
   "execution_count": 25,
   "metadata": {},
   "outputs": [
    {
     "data": {
      "text/plain": [
       "'Всего объектов удалено: 57863'"
      ]
     },
     "execution_count": 25,
     "metadata": {},
     "output_type": "execute_result"
    }
   ],
   "source": [
    "f'Всего объектов удалено: {source_df_len - len(df)}'"
   ]
  },
  {
   "cell_type": "markdown",
   "metadata": {
    "id": "0quimQdPGnP-"
   },
   "source": [
    "## Обучение моделей"
   ]
  },
  {
   "cell_type": "code",
   "execution_count": 26,
   "metadata": {},
   "outputs": [],
   "source": [
    "res_table = {\n",
    "    'Модель': ['Линейная регрессия', 'Случайный лес', 'LightGBM', 'CatBoost'],\n",
    "    'Время обучения': [],\n",
    "    'Время предсказания': [],\n",
    "    'RMSE': []\n",
    "}"
   ]
  },
  {
   "cell_type": "code",
   "execution_count": 27,
   "metadata": {
    "colab": {
     "base_uri": "https://localhost:8080/"
    },
    "id": "20qMoWaNGnP-",
    "outputId": "1953efb5-1909-470b-d908-9ea4dd782525"
   },
   "outputs": [
    {
     "data": {
      "text/plain": [
       "((201172, 9), (50294, 9))"
      ]
     },
     "execution_count": 27,
     "metadata": {},
     "output_type": "execute_result"
    }
   ],
   "source": [
    "f_t = split_dataset(df, 'Price', [], ['VehicleType', 'Model', 'FuelType', 'Brand'], ['Power', 'Kilometer'])\n",
    "\n",
    "features_train, features_test = f_t[0]\n",
    "target_train, target_test = f_t[1]\n",
    "\n",
    "features_train.shape, features_test.shape"
   ]
  },
  {
   "cell_type": "markdown",
   "metadata": {
    "id": "XjEHcJgKruMN"
   },
   "source": [
    "### Наивная модель (среднее значение целевого признака)"
   ]
  },
  {
   "cell_type": "code",
   "execution_count": 28,
   "metadata": {
    "colab": {
     "base_uri": "https://localhost:8080/",
     "height": 38
    },
    "id": "xSuEFJ--ruMZ",
    "outputId": "a14988b3-ee24-41e3-f00d-304ee2127670"
   },
   "outputs": [
    {
     "data": {
      "text/plain": [
       "'test RMSE = 4668.064772355894'"
      ]
     },
     "metadata": {},
     "output_type": "display_data"
    }
   ],
   "source": [
    "model = DummyRegressor()\n",
    "model.fit(features_train, target_train)\n",
    "display(f'test RMSE = {mean_squared_error(target_test, model.predict(features_test), squared=False)}')"
   ]
  },
  {
   "cell_type": "markdown",
   "metadata": {
    "id": "FUkvND_VGnP_"
   },
   "source": [
    "### Линейная регрессия"
   ]
  },
  {
   "cell_type": "code",
   "execution_count": 29,
   "metadata": {
    "id": "XJRknz7nGnP_"
   },
   "outputs": [],
   "source": [
    "model = LinearRegression()"
   ]
  },
  {
   "cell_type": "code",
   "execution_count": 30,
   "metadata": {
    "colab": {
     "base_uri": "https://localhost:8080/",
     "height": 109
    },
    "id": "Y0evkmzN-52X",
    "outputId": "3eb87b7e-69e8-4b2c-8160-07b7fd85e2f1"
   },
   "outputs": [],
   "source": [
    "start = time.time()\n",
    "model.fit(features_train, target_train)\n",
    "end = time.time()\n",
    "res_table['Время обучения'].append(f'{(end-start) * 10**3}, ms')"
   ]
  },
  {
   "cell_type": "code",
   "execution_count": 31,
   "metadata": {
    "colab": {
     "base_uri": "https://localhost:8080/"
    },
    "id": "MtHjjT-4-67W",
    "outputId": "f6c5fbc7-15c2-44dd-974c-7e8e24833e20"
   },
   "outputs": [],
   "source": [
    "start = time.time()\n",
    "model.predict(features_test)\n",
    "end = time.time()\n",
    "res_table['Время предсказания'].append(f'{(end-start) * 10**3}, ms')"
   ]
  },
  {
   "cell_type": "code",
   "execution_count": 32,
   "metadata": {
    "colab": {
     "base_uri": "https://localhost:8080/",
     "height": 38
    },
    "id": "G7gwenVt-_NJ",
    "outputId": "6282b644-7326-4672-95a6-1ca1943dbed5"
   },
   "outputs": [
    {
     "data": {
      "text/plain": [
       "'test RMSE = 128190960.90720825'"
      ]
     },
     "execution_count": 32,
     "metadata": {},
     "output_type": "execute_result"
    }
   ],
   "source": [
    "RMSE = mean_squared_error(target_test, model.predict(features_test), squared=False)\n",
    "res_table['RMSE'].append(RMSE)\n",
    "f'test RMSE = {RMSE}'"
   ]
  },
  {
   "cell_type": "markdown",
   "metadata": {
    "id": "2AMLYgKkD_TR"
   },
   "source": [
    "### Случайный лес"
   ]
  },
  {
   "cell_type": "code",
   "execution_count": 33,
   "metadata": {
    "colab": {
     "base_uri": "https://localhost:8080/",
     "height": 375
    },
    "id": "VcP50xCcD_TS",
    "outputId": "5550c82a-b906-40fd-e8c2-aafdba076ca1"
   },
   "outputs": [
    {
     "name": "stdout",
     "output_type": "stream",
     "text": [
      "Fitting 4 folds for each of 6 candidates, totalling 24 fits\n",
      "[CV] END .......................max_depth=3, n_estimators=30; total time=   2.4s\n",
      "[CV] END .......................max_depth=3, n_estimators=30; total time=   1.8s\n",
      "[CV] END .......................max_depth=3, n_estimators=30; total time=   1.8s\n",
      "[CV] END .......................max_depth=3, n_estimators=30; total time=   1.7s\n",
      "[CV] END .......................max_depth=3, n_estimators=50; total time=   2.8s\n",
      "[CV] END .......................max_depth=3, n_estimators=50; total time=   3.0s\n",
      "[CV] END .......................max_depth=3, n_estimators=50; total time=   3.2s\n",
      "[CV] END .......................max_depth=3, n_estimators=50; total time=   3.1s\n",
      "[CV] END .......................max_depth=5, n_estimators=30; total time=   2.6s\n",
      "[CV] END .......................max_depth=5, n_estimators=30; total time=   2.8s\n",
      "[CV] END .......................max_depth=5, n_estimators=30; total time=   2.6s\n",
      "[CV] END .......................max_depth=5, n_estimators=30; total time=   2.6s\n",
      "[CV] END .......................max_depth=5, n_estimators=50; total time=   4.4s\n",
      "[CV] END .......................max_depth=5, n_estimators=50; total time=   4.3s\n",
      "[CV] END .......................max_depth=5, n_estimators=50; total time=   4.7s\n",
      "[CV] END .......................max_depth=5, n_estimators=50; total time=   4.7s\n",
      "[CV] END ......................max_depth=10, n_estimators=30; total time=   4.7s\n",
      "[CV] END ......................max_depth=10, n_estimators=30; total time=   4.7s\n",
      "[CV] END ......................max_depth=10, n_estimators=30; total time=   4.6s\n",
      "[CV] END ......................max_depth=10, n_estimators=30; total time=   5.1s\n",
      "[CV] END ......................max_depth=10, n_estimators=50; total time=   8.1s\n",
      "[CV] END ......................max_depth=10, n_estimators=50; total time=   8.2s\n",
      "[CV] END ......................max_depth=10, n_estimators=50; total time=   7.7s\n",
      "[CV] END ......................max_depth=10, n_estimators=50; total time=   7.7s\n"
     ]
    },
    {
     "data": {
      "text/plain": [
       "\"Best hyperparameters are: {'max_depth': 10, 'n_estimators': 50}\""
      ]
     },
     "metadata": {},
     "output_type": "display_data"
    },
    {
     "data": {
      "text/plain": [
       "'Best estimator is: RandomForestRegressor(max_depth=10, n_estimators=50, random_state=12345)'"
      ]
     },
     "metadata": {},
     "output_type": "display_data"
    },
    {
     "data": {
      "text/plain": [
       "'Best score is: -1823.1928887382492'"
      ]
     },
     "metadata": {},
     "output_type": "display_data"
    }
   ],
   "source": [
    "model = RandomForestRegressor(random_state=12345)\n",
    "\n",
    "grid_space={'max_depth':[3,5,10],\n",
    "              'n_estimators':[30, 50],\n",
    "           }\n",
    "grid = GridSearchCV(model,param_grid=grid_space,cv=4,scoring='neg_root_mean_squared_error', verbose=2)\n",
    "model_grid = grid.fit(features_train, target_train)\n",
    "display(f'Best hyperparameters are: {model_grid.best_params_}')\n",
    "display(f'Best estimator is: {model_grid.best_estimator_}')\n",
    "display(f'Best score is: {model_grid.best_score_}')"
   ]
  },
  {
   "cell_type": "code",
   "execution_count": 34,
   "metadata": {
    "colab": {
     "base_uri": "https://localhost:8080/",
     "height": 52
    },
    "id": "aWDBs7SSVvJW",
    "outputId": "3200144f-2ccc-4f65-e8a5-b35700f628c6"
   },
   "outputs": [],
   "source": [
    "model = RandomForestRegressor(random_state=12345, max_depth=10, n_estimators=50)"
   ]
  },
  {
   "cell_type": "code",
   "execution_count": 35,
   "metadata": {
    "colab": {
     "base_uri": "https://localhost:8080/",
     "height": 52
    },
    "id": "aWDBs7SSVvJW",
    "outputId": "3200144f-2ccc-4f65-e8a5-b35700f628c6"
   },
   "outputs": [],
   "source": [
    "start = time.time()\n",
    "model.fit(features_train, target_train)\n",
    "end = time.time()\n",
    "res_table['Время обучения'].append(f'{(end-start) * 10**3}, ms')"
   ]
  },
  {
   "cell_type": "code",
   "execution_count": 36,
   "metadata": {
    "colab": {
     "base_uri": "https://localhost:8080/"
    },
    "id": "GrjT2vL5WEg3",
    "outputId": "3b1545cc-4b8c-4495-d5f1-de1e07017ca4"
   },
   "outputs": [],
   "source": [
    "start = time.time()\n",
    "preds = model.predict(features_test)\n",
    "end = time.time()\n",
    "res_table['Время предсказания'].append(f'{(end-start) * 10**3}, ms')"
   ]
  },
  {
   "cell_type": "code",
   "execution_count": 37,
   "metadata": {
    "colab": {
     "base_uri": "https://localhost:8080/",
     "height": 38
    },
    "id": "F0ekbzIUWL-U",
    "outputId": "9e9f24bb-9c96-428d-92ed-85d7877683eb"
   },
   "outputs": [
    {
     "data": {
      "text/plain": [
       "'test RMSE = 10386.351832771052'"
      ]
     },
     "execution_count": 37,
     "metadata": {},
     "output_type": "execute_result"
    }
   ],
   "source": [
    "RMSE = mean_squared_error(target_test, preds, squared=False)\n",
    "res_table['RMSE'].append(RMSE)\n",
    "f'test RMSE = {RMSE}'"
   ]
  },
  {
   "cell_type": "markdown",
   "metadata": {
    "id": "X9uYrZqXIg5R"
   },
   "source": [
    "### LightGBM"
   ]
  },
  {
   "cell_type": "code",
   "execution_count": 38,
   "metadata": {
    "id": "PaE2NtwlQnZw"
   },
   "outputs": [],
   "source": [
    "del f_t\n",
    "del features_train\n",
    "del features_test\n",
    "del target_train\n",
    "del target_test"
   ]
  },
  {
   "cell_type": "code",
   "execution_count": 39,
   "metadata": {
    "colab": {
     "base_uri": "https://localhost:8080/"
    },
    "id": "mhvxlByr8bN1",
    "outputId": "0f395fa3-def8-4135-ef46-4b48111e3a2c"
   },
   "outputs": [],
   "source": [
    "features_train, features_test, target_train, target_test = train_test_split(\n",
    "    df.drop(columns=['Price']), df['Price'], random_state=12345, test_size=0.2)\n",
    "cat_cols = ['VehicleType', 'Model', 'FuelType', 'Brand']\n",
    "for col in cat_cols:\n",
    "    if col in list(features_train.columns):\n",
    "        features_train[col] = features_train[col].astype('category')\n",
    "    if col in list(features_test.columns):\n",
    "        features_test[col] = features_test[col].astype('category')\n",
    "\n",
    "train_data = lgb.Dataset(features_train, label = target_train, categorical_feature = cat_cols, free_raw_data=False)"
   ]
  },
  {
   "cell_type": "code",
   "execution_count": 40,
   "metadata": {
    "id": "tWPTJCaFZ-Xp"
   },
   "outputs": [],
   "source": [
    "params={}\n",
    "params['seed'] = 12345\n",
    "params['learning_rate'] = 0.1\n",
    "params['min_data_in_leaf'] = 1\n",
    "params['max_depth'] = 4\n",
    "params['metric'] = 'rmse'\n",
    "params['max_bin'] = 1000\n",
    "params['verbose'] = -1"
   ]
  },
  {
   "cell_type": "code",
   "execution_count": 41,
   "metadata": {
    "colab": {
     "base_uri": "https://localhost:8080/"
    },
    "id": "Opg5Md7rxF8C",
    "outputId": "53fb8187-f232-4baf-b489-c4461d684d9e"
   },
   "outputs": [
    {
     "name": "stderr",
     "output_type": "stream",
     "text": [
      "/opt/conda/lib/python3.9/site-packages/lightgbm/basic.py:2065: UserWarning: Using categorical_feature in Dataset.\n",
      "  _log_warning('Using categorical_feature in Dataset.')\n",
      "/opt/conda/lib/python3.9/site-packages/sklearn/model_selection/_split.py:666: UserWarning: The least populated class in y has only 1 members, which is less than n_splits=4.\n",
      "  warnings.warn((\"The least populated class in y has only %d\"\n"
     ]
    },
    {
     "name": "stdout",
     "output_type": "stream",
     "text": [
      "Training until validation scores don't improve for 5 rounds\n",
      "Did not meet early stopping. Best iteration is:\n",
      "[100]\tcv_agg's rmse: 1729.33 + 8.36182\n"
     ]
    }
   ],
   "source": [
    "clf = lgb.cv(params, train_data, 100, nfold=4, callbacks=[lgb.early_stopping(stopping_rounds=5)])"
   ]
  },
  {
   "cell_type": "code",
   "execution_count": 42,
   "metadata": {
    "colab": {
     "base_uri": "https://localhost:8080/",
     "height": 59
    },
    "id": "t4QVePFByvoh",
    "outputId": "9253b172-8aee-49e8-e5b7-b377b2785a3c"
   },
   "outputs": [
    {
     "data": {
      "text/plain": [
       "'Номер лучшей итерации: 99'"
      ]
     },
     "metadata": {},
     "output_type": "display_data"
    },
    {
     "data": {
      "text/plain": [
       "'Лучший rmse: 1729.331351107085'"
      ]
     },
     "metadata": {},
     "output_type": "display_data"
    }
   ],
   "source": [
    "display(f\"Номер лучшей итерации: {np.array(clf['rmse-mean']).argmin()}\")\n",
    "display(f\"Лучший rmse: {np.array(clf['rmse-mean']).min()}\")"
   ]
  },
  {
   "cell_type": "code",
   "execution_count": 43,
   "metadata": {
    "colab": {
     "base_uri": "https://localhost:8080/"
    },
    "id": "8K60iXhhZCol",
    "outputId": "f5bd1386-4c72-4329-872f-6568512e3d3b"
   },
   "outputs": [
    {
     "name": "stderr",
     "output_type": "stream",
     "text": [
      "/opt/conda/lib/python3.9/site-packages/lightgbm/basic.py:2065: UserWarning: Using categorical_feature in Dataset.\n",
      "  _log_warning('Using categorical_feature in Dataset.')\n"
     ]
    }
   ],
   "source": [
    "start = time.time()\n",
    "clf=lgb.train(params,train_data, 100)\n",
    "end = time.time()\n",
    "res_table['Время обучения'].append(f'{(end-start) * 10**3}, ms')"
   ]
  },
  {
   "cell_type": "code",
   "execution_count": 44,
   "metadata": {
    "colab": {
     "base_uri": "https://localhost:8080/"
    },
    "id": "_N31aKQFZ33x",
    "outputId": "2440fc06-0dd2-4e86-81f8-7fc45f97e1a2"
   },
   "outputs": [],
   "source": [
    "start = time.time()\n",
    "y_pred=clf.predict(features_test)\n",
    "end = time.time()\n",
    "res_table['Время предсказания'].append(f'{(end-start) * 10**3}, ms')"
   ]
  },
  {
   "cell_type": "code",
   "execution_count": 45,
   "metadata": {
    "colab": {
     "base_uri": "https://localhost:8080/",
     "height": 38
    },
    "id": "3yUICXRbZ2KZ",
    "outputId": "27400719-cdf2-432b-9d3c-8139f81f787b"
   },
   "outputs": [
    {
     "data": {
      "text/plain": [
       "'RMSE = 1724.9435212744315'"
      ]
     },
     "execution_count": 45,
     "metadata": {},
     "output_type": "execute_result"
    }
   ],
   "source": [
    "RMSE = mean_squared_error(target_test, y_pred, squared=False)\n",
    "res_table['RMSE'].append(RMSE)\n",
    "f'RMSE = {RMSE}'"
   ]
  },
  {
   "cell_type": "code",
   "execution_count": 46,
   "metadata": {
    "id": "99G8uaE8aWtz"
   },
   "outputs": [],
   "source": [
    "params['learning_rate'] = 0.05\n",
    "params['max_depth'] = 5"
   ]
  },
  {
   "cell_type": "code",
   "execution_count": 47,
   "metadata": {
    "colab": {
     "base_uri": "https://localhost:8080/"
    },
    "id": "kHi-qgBKzvyx",
    "outputId": "3d48a513-8c59-4911-dcbc-42c41b2f7092"
   },
   "outputs": [
    {
     "name": "stderr",
     "output_type": "stream",
     "text": [
      "/opt/conda/lib/python3.9/site-packages/lightgbm/basic.py:2065: UserWarning: Using categorical_feature in Dataset.\n",
      "  _log_warning('Using categorical_feature in Dataset.')\n",
      "/opt/conda/lib/python3.9/site-packages/sklearn/model_selection/_split.py:666: UserWarning: The least populated class in y has only 1 members, which is less than n_splits=4.\n",
      "  warnings.warn((\"The least populated class in y has only %d\"\n"
     ]
    },
    {
     "name": "stdout",
     "output_type": "stream",
     "text": [
      "Training until validation scores don't improve for 5 rounds\n",
      "Did not meet early stopping. Best iteration is:\n",
      "[100]\tcv_agg's rmse: 1734.2 + 10.4438\n"
     ]
    }
   ],
   "source": [
    "clf = lgb.cv(params, train_data, 100, nfold=4, callbacks=[lgb.early_stopping(stopping_rounds=5)])"
   ]
  },
  {
   "cell_type": "code",
   "execution_count": 48,
   "metadata": {
    "colab": {
     "base_uri": "https://localhost:8080/",
     "height": 59
    },
    "id": "h9-4UNFRzvyz",
    "outputId": "9cd4eae7-c024-44d7-e409-d228e3a98cca"
   },
   "outputs": [
    {
     "data": {
      "text/plain": [
       "'Номер лучшей итерации: 99'"
      ]
     },
     "metadata": {},
     "output_type": "display_data"
    },
    {
     "data": {
      "text/plain": [
       "'Лучший rmse: 1734.1975049047116'"
      ]
     },
     "metadata": {},
     "output_type": "display_data"
    }
   ],
   "source": [
    "display(f\"Номер лучшей итерации: {np.array(clf['rmse-mean']).argmin()}\")\n",
    "display(f\"Лучший rmse: {np.array(clf['rmse-mean']).min()}\")"
   ]
  },
  {
   "cell_type": "code",
   "execution_count": 49,
   "metadata": {
    "colab": {
     "base_uri": "https://localhost:8080/"
    },
    "id": "AZkppZ1ubBZo",
    "outputId": "532bf623-8b2f-44d5-e625-3071b11a3e08"
   },
   "outputs": [
    {
     "name": "stderr",
     "output_type": "stream",
     "text": [
      "/opt/conda/lib/python3.9/site-packages/lightgbm/basic.py:2065: UserWarning: Using categorical_feature in Dataset.\n",
      "  _log_warning('Using categorical_feature in Dataset.')\n"
     ]
    }
   ],
   "source": [
    "clf=lgb.train(params,train_data, 100)"
   ]
  },
  {
   "cell_type": "code",
   "execution_count": 50,
   "metadata": {
    "colab": {
     "base_uri": "https://localhost:8080/"
    },
    "id": "HaGZH7_zbBZ7",
    "outputId": "56721557-8ba6-4f85-c3bc-ba65a567a4f7"
   },
   "outputs": [],
   "source": [
    "y_pred=clf.predict(features_test)"
   ]
  },
  {
   "cell_type": "code",
   "execution_count": 51,
   "metadata": {
    "colab": {
     "base_uri": "https://localhost:8080/",
     "height": 38
    },
    "id": "1AUrpPO-bBZ8",
    "outputId": "99c2cb12-6bba-4df9-8ab6-b1f7c9dc26b9"
   },
   "outputs": [
    {
     "data": {
      "text/plain": [
       "'RMSE = 1731.2110361562954'"
      ]
     },
     "execution_count": 51,
     "metadata": {},
     "output_type": "execute_result"
    }
   ],
   "source": [
    "f'RMSE = {mean_squared_error(y_pred, target_test, squared=False)}'"
   ]
  },
  {
   "cell_type": "markdown",
   "metadata": {
    "id": "YfL6yMoQ2u_5"
   },
   "source": [
    "### Catboost"
   ]
  },
  {
   "cell_type": "code",
   "execution_count": 52,
   "metadata": {
    "colab": {
     "base_uri": "https://localhost:8080/"
    },
    "id": "PT90Ad2_2uJJ",
    "outputId": "27b2f73b-ab53-413d-d052-6988f5f58414"
   },
   "outputs": [
    {
     "name": "stderr",
     "output_type": "stream",
     "text": [
      "/opt/conda/lib/python3.9/site-packages/catboost/core.py:1171: FutureWarning: iteritems is deprecated and will be removed in a future version. Use .items instead.\n",
      "  self._init_pool(data, label, cat_features, text_features, embedding_features, pairs, weight, group_id, group_weight, subgroup_id, pairs_weight, baseline, timestamp, feature_names, thread_count)\n"
     ]
    },
    {
     "name": "stdout",
     "output_type": "stream",
     "text": [
      "Training on fold [0/4]\n",
      "0:\tlearn: 6297.8455638\ttest: 6326.6958455\tbest: 6326.6958455 (0)\ttotal: 42.8ms\tremaining: 4.24s\n",
      "10:\tlearn: 3311.6922177\ttest: 3336.8926171\tbest: 3336.8926171 (10)\ttotal: 361ms\tremaining: 2.92s\n",
      "20:\tlearn: 2468.9961582\ttest: 2495.3020605\tbest: 2495.3020605 (20)\ttotal: 665ms\tremaining: 2.5s\n",
      "30:\tlearn: 2192.8675662\ttest: 2216.7623217\tbest: 2216.7623217 (30)\ttotal: 992ms\tremaining: 2.21s\n",
      "40:\tlearn: 2065.3613178\ttest: 2088.6209249\tbest: 2088.6209249 (40)\ttotal: 1.29s\tremaining: 1.86s\n",
      "50:\tlearn: 2002.0723640\ttest: 2025.2029929\tbest: 2025.2029929 (50)\ttotal: 1.59s\tremaining: 1.52s\n",
      "60:\tlearn: 1964.4469663\ttest: 1987.8570970\tbest: 1987.8570970 (60)\ttotal: 1.89s\tremaining: 1.21s\n",
      "70:\tlearn: 1936.0254872\ttest: 1960.7016371\tbest: 1960.7016371 (70)\ttotal: 2.19s\tremaining: 896ms\n",
      "80:\tlearn: 1904.1752625\ttest: 1929.0863081\tbest: 1929.0863081 (80)\ttotal: 2.49s\tremaining: 584ms\n",
      "90:\tlearn: 1884.3144454\ttest: 1909.9827367\tbest: 1909.9827367 (90)\ttotal: 2.82s\tremaining: 279ms\n",
      "99:\tlearn: 1870.6716937\ttest: 1896.3806251\tbest: 1896.3806251 (99)\ttotal: 3.1s\tremaining: 0us\n",
      "\n",
      "bestTest = 1896.380625\n",
      "bestIteration = 99\n",
      "\n",
      "Training on fold [1/4]\n",
      "0:\tlearn: 6310.1746827\ttest: 6288.3171155\tbest: 6288.3171155 (0)\ttotal: 37.8ms\tremaining: 3.74s\n",
      "10:\tlearn: 3322.4859661\ttest: 3292.6006651\tbest: 3292.6006651 (10)\ttotal: 365ms\tremaining: 2.95s\n",
      "20:\tlearn: 2478.1308974\ttest: 2456.4360021\tbest: 2456.4360021 (20)\ttotal: 769ms\tremaining: 2.89s\n",
      "30:\tlearn: 2208.4580922\ttest: 2187.6111736\tbest: 2187.6111736 (30)\ttotal: 1.1s\tremaining: 2.46s\n",
      "40:\tlearn: 2080.0467358\ttest: 2059.1021848\tbest: 2059.1021848 (40)\ttotal: 1.45s\tremaining: 2.09s\n",
      "50:\tlearn: 2020.4716117\ttest: 2000.0007229\tbest: 2000.0007229 (50)\ttotal: 1.8s\tremaining: 1.73s\n",
      "60:\tlearn: 1981.7252217\ttest: 1961.4240090\tbest: 1961.4240090 (60)\ttotal: 2.15s\tremaining: 1.37s\n",
      "70:\tlearn: 1947.2178550\ttest: 1927.1794066\tbest: 1927.1794066 (70)\ttotal: 2.49s\tremaining: 1.01s\n",
      "80:\tlearn: 1923.4422999\ttest: 1903.0506159\tbest: 1903.0506159 (80)\ttotal: 2.81s\tremaining: 658ms\n",
      "90:\tlearn: 1904.0649480\ttest: 1883.4730535\tbest: 1883.4730535 (90)\ttotal: 3.14s\tremaining: 311ms\n",
      "99:\tlearn: 1887.4659588\ttest: 1867.1489243\tbest: 1867.1489243 (99)\ttotal: 3.43s\tremaining: 0us\n",
      "\n",
      "bestTest = 1867.148924\n",
      "bestIteration = 99\n",
      "\n",
      "Training on fold [2/4]\n",
      "0:\tlearn: 6312.7957492\ttest: 6281.7882174\tbest: 6281.7882174 (0)\ttotal: 40.3ms\tremaining: 3.99s\n",
      "10:\tlearn: 3317.6219544\ttest: 3296.1800482\tbest: 3296.1800482 (10)\ttotal: 383ms\tremaining: 3.1s\n",
      "20:\tlearn: 2477.1424306\ttest: 2461.4108232\tbest: 2461.4108232 (20)\ttotal: 692ms\tremaining: 2.6s\n",
      "30:\tlearn: 2199.3567358\ttest: 2186.0238249\tbest: 2186.0238249 (30)\ttotal: 1000ms\tremaining: 2.23s\n",
      "40:\tlearn: 2073.8317054\ttest: 2063.9302534\tbest: 2063.9302534 (40)\ttotal: 1.3s\tremaining: 1.88s\n",
      "50:\tlearn: 2019.4885207\ttest: 2013.7902590\tbest: 2013.7902590 (50)\ttotal: 1.63s\tremaining: 1.56s\n",
      "60:\tlearn: 1979.4813077\ttest: 1975.4525948\tbest: 1975.4525948 (60)\ttotal: 1.93s\tremaining: 1.24s\n",
      "70:\tlearn: 1946.8095477\ttest: 1945.1160980\tbest: 1945.1160980 (70)\ttotal: 2.23s\tremaining: 911ms\n",
      "80:\tlearn: 1918.0205701\ttest: 1917.8102584\tbest: 1917.8102584 (80)\ttotal: 2.53s\tremaining: 594ms\n",
      "90:\tlearn: 1895.2237462\ttest: 1896.8531014\tbest: 1896.8531014 (90)\ttotal: 2.83s\tremaining: 280ms\n",
      "99:\tlearn: 1879.3968077\ttest: 1882.3305857\tbest: 1882.3305857 (99)\ttotal: 3.1s\tremaining: 0us\n",
      "\n",
      "bestTest = 1882.330586\n",
      "bestIteration = 99\n",
      "\n",
      "Training on fold [3/4]\n",
      "0:\tlearn: 6299.7435582\ttest: 6323.5096698\tbest: 6323.5096698 (0)\ttotal: 37.8ms\tremaining: 3.74s\n",
      "10:\tlearn: 3305.5772268\ttest: 3334.5808036\tbest: 3334.5808036 (10)\ttotal: 359ms\tremaining: 2.9s\n",
      "20:\tlearn: 2485.4611620\ttest: 2511.1054936\tbest: 2511.1054936 (20)\ttotal: 683ms\tremaining: 2.57s\n",
      "30:\tlearn: 2208.5508734\ttest: 2227.0108460\tbest: 2227.0108460 (30)\ttotal: 1.02s\tremaining: 2.27s\n",
      "40:\tlearn: 2083.4647266\ttest: 2094.9744965\tbest: 2094.9744965 (40)\ttotal: 1.32s\tremaining: 1.9s\n",
      "50:\tlearn: 2016.1527132\ttest: 2022.0511723\tbest: 2022.0511723 (50)\ttotal: 1.62s\tremaining: 1.56s\n",
      "60:\tlearn: 1978.2895588\ttest: 1982.6445194\tbest: 1982.6445194 (60)\ttotal: 1.92s\tremaining: 1.23s\n",
      "70:\tlearn: 1943.1038131\ttest: 1945.1392318\tbest: 1945.1392318 (70)\ttotal: 2.22s\tremaining: 908ms\n",
      "80:\tlearn: 1918.9437890\ttest: 1920.5490780\tbest: 1920.5490780 (80)\ttotal: 2.6s\tremaining: 609ms\n",
      "90:\tlearn: 1900.6947637\ttest: 1901.6749828\tbest: 1901.6749828 (90)\ttotal: 2.94s\tremaining: 291ms\n",
      "99:\tlearn: 1887.7271923\ttest: 1889.1069587\tbest: 1889.1069587 (99)\ttotal: 3.25s\tremaining: 0us\n",
      "\n",
      "bestTest = 1889.106959\n",
      "bestIteration = 99\n",
      "\n",
      "Training on fold [0/4]\n",
      "0:\tlearn: 6562.4024471\ttest: 6591.6586582\tbest: 6591.6586582 (0)\ttotal: 53.2ms\tremaining: 5.27s\n",
      "10:\tlearn: 4482.8901818\ttest: 4506.0267480\tbest: 4506.0267480 (10)\ttotal: 434ms\tremaining: 3.51s\n",
      "20:\tlearn: 3344.6687766\ttest: 3365.1855223\tbest: 3365.1855223 (20)\ttotal: 817ms\tremaining: 3.07s\n",
      "30:\tlearn: 2740.0584297\ttest: 2760.3398145\tbest: 2760.3398145 (30)\ttotal: 1.18s\tremaining: 2.63s\n",
      "40:\tlearn: 2406.6351994\ttest: 2427.2431476\tbest: 2427.2431476 (40)\ttotal: 1.56s\tremaining: 2.25s\n",
      "50:\tlearn: 2223.1720104\ttest: 2245.3129247\tbest: 2245.3129247 (50)\ttotal: 1.92s\tremaining: 1.84s\n",
      "60:\tlearn: 2115.8891696\ttest: 2137.8825763\tbest: 2137.8825763 (60)\ttotal: 2.27s\tremaining: 1.45s\n",
      "70:\tlearn: 2039.2714543\ttest: 2060.4671336\tbest: 2060.4671336 (70)\ttotal: 2.63s\tremaining: 1.07s\n",
      "80:\tlearn: 1995.9985645\ttest: 2016.5086769\tbest: 2016.5086769 (80)\ttotal: 2.97s\tremaining: 698ms\n",
      "90:\tlearn: 1962.5790302\ttest: 1984.6726034\tbest: 1984.6726034 (90)\ttotal: 3.32s\tremaining: 328ms\n",
      "99:\tlearn: 1940.8222687\ttest: 1962.7988557\tbest: 1962.7988557 (99)\ttotal: 3.64s\tremaining: 0us\n",
      "\n",
      "bestTest = 1962.798856\n",
      "bestIteration = 99\n",
      "\n",
      "Training on fold [1/4]\n",
      "0:\tlearn: 6574.8039844\ttest: 6553.5152759\tbest: 6553.5152759 (0)\ttotal: 44.3ms\tremaining: 4.39s\n",
      "10:\tlearn: 4499.9953135\ttest: 4474.4902867\tbest: 4474.4902867 (10)\ttotal: 403ms\tremaining: 3.26s\n",
      "20:\tlearn: 3355.6497204\ttest: 3330.1185128\tbest: 3330.1185128 (20)\ttotal: 776ms\tremaining: 2.92s\n",
      "30:\tlearn: 2752.4047982\ttest: 2728.5678031\tbest: 2728.5678031 (30)\ttotal: 1.13s\tremaining: 2.52s\n",
      "40:\tlearn: 2424.7489725\ttest: 2401.5450888\tbest: 2401.5450888 (40)\ttotal: 1.48s\tremaining: 2.13s\n",
      "50:\tlearn: 2244.4896338\ttest: 2221.3039338\tbest: 2221.3039338 (50)\ttotal: 1.88s\tremaining: 1.8s\n",
      "60:\tlearn: 2135.6893843\ttest: 2113.7910210\tbest: 2113.7910210 (60)\ttotal: 2.21s\tremaining: 1.42s\n",
      "70:\tlearn: 2055.6339093\ttest: 2033.7542777\tbest: 2033.7542777 (70)\ttotal: 2.55s\tremaining: 1.04s\n",
      "80:\tlearn: 2012.0446779\ttest: 1990.5971783\tbest: 1990.5971783 (80)\ttotal: 2.9s\tremaining: 680ms\n",
      "90:\tlearn: 1980.5738223\ttest: 1959.0102392\tbest: 1959.0102392 (90)\ttotal: 3.25s\tremaining: 321ms\n",
      "99:\tlearn: 1959.3606896\ttest: 1937.6892542\tbest: 1937.6892542 (99)\ttotal: 3.56s\tremaining: 0us\n",
      "\n",
      "bestTest = 1937.689254\n",
      "bestIteration = 99\n",
      "\n",
      "Training on fold [2/4]\n",
      "0:\tlearn: 6577.9292115\ttest: 6545.6151358\tbest: 6545.6151358 (0)\ttotal: 41.9ms\tremaining: 4.15s\n",
      "10:\tlearn: 4496.4433980\ttest: 4471.3739676\tbest: 4471.3739676 (10)\ttotal: 392ms\tremaining: 3.17s\n",
      "20:\tlearn: 3359.1110035\ttest: 3340.0617907\tbest: 3340.0617907 (20)\ttotal: 744ms\tremaining: 2.8s\n",
      "30:\tlearn: 2768.8782917\ttest: 2750.7884047\tbest: 2750.7884047 (30)\ttotal: 1.08s\tremaining: 2.4s\n",
      "40:\tlearn: 2435.5842368\ttest: 2424.6915501\tbest: 2424.6915501 (40)\ttotal: 1.42s\tremaining: 2.04s\n",
      "50:\tlearn: 2250.5068506\ttest: 2239.9165430\tbest: 2239.9165430 (50)\ttotal: 1.75s\tremaining: 1.69s\n",
      "60:\tlearn: 2137.7399488\ttest: 2128.5873728\tbest: 2128.5873728 (60)\ttotal: 2.1s\tremaining: 1.34s\n",
      "70:\tlearn: 2060.4270091\ttest: 2052.2074336\tbest: 2052.2074336 (70)\ttotal: 2.46s\tremaining: 1s\n",
      "80:\tlearn: 2013.7323048\ttest: 2007.0777166\tbest: 2007.0777166 (80)\ttotal: 2.8s\tremaining: 656ms\n",
      "90:\tlearn: 1982.2980502\ttest: 1976.6935212\tbest: 1976.6935212 (90)\ttotal: 3.13s\tremaining: 309ms\n",
      "99:\tlearn: 1960.5669904\ttest: 1956.8101696\tbest: 1956.8101696 (99)\ttotal: 3.44s\tremaining: 0us\n",
      "\n",
      "bestTest = 1956.81017\n",
      "bestIteration = 99\n",
      "\n",
      "Training on fold [3/4]\n",
      "0:\tlearn: 6564.2038179\ttest: 6588.3714239\tbest: 6588.3714239 (0)\ttotal: 42ms\tremaining: 4.16s\n",
      "10:\tlearn: 4488.5697577\ttest: 4516.5529271\tbest: 4516.5529271 (10)\ttotal: 396ms\tremaining: 3.21s\n",
      "20:\tlearn: 3353.8361917\ttest: 3383.7410726\tbest: 3383.7410726 (20)\ttotal: 752ms\tremaining: 2.83s\n",
      "30:\tlearn: 2750.1071345\ttest: 2777.8540065\tbest: 2777.8540065 (30)\ttotal: 1.11s\tremaining: 2.46s\n",
      "40:\tlearn: 2412.3545879\ttest: 2437.1681096\tbest: 2437.1681096 (40)\ttotal: 1.45s\tremaining: 2.08s\n",
      "50:\tlearn: 2235.7610474\ttest: 2256.5820914\tbest: 2256.5820914 (50)\ttotal: 1.78s\tremaining: 1.71s\n",
      "60:\tlearn: 2125.3527876\ttest: 2142.6115393\tbest: 2142.6115393 (60)\ttotal: 2.12s\tremaining: 1.36s\n",
      "70:\tlearn: 2053.4517764\ttest: 2065.5207077\tbest: 2065.5207077 (70)\ttotal: 2.48s\tremaining: 1.01s\n",
      "80:\tlearn: 2007.9453719\ttest: 2017.8629112\tbest: 2017.8629112 (80)\ttotal: 2.81s\tremaining: 659ms\n",
      "90:\tlearn: 1978.2021875\ttest: 1986.5515367\tbest: 1986.5515367 (90)\ttotal: 3.19s\tremaining: 315ms\n",
      "99:\tlearn: 1956.9715679\ttest: 1964.3516848\tbest: 1964.3516848 (99)\ttotal: 3.48s\tremaining: 0us\n",
      "\n",
      "bestTest = 1964.351685\n",
      "bestIteration = 99\n",
      "\n"
     ]
    }
   ],
   "source": [
    "features_train, features_test, target_train, target_test = train_test_split(df.drop(columns=['Price']),\n",
    "                                                                            df['Price'], random_state=12345, test_size=0.2)\n",
    "\n",
    "cv_dataset = Pool(data=features_train,\n",
    "                  label=target_train,\n",
    "                  cat_features=['VehicleType', 'Model', 'FuelType', 'Brand'])\n",
    "for iter, depth, lr in [[100, 4, 0.1],[100, 5,0.05]]:\n",
    "    params = {\"iterations\": iter,\n",
    "            \"depth\": depth,\n",
    "            \"loss_function\": \"RMSE\",\n",
    "            \"learning_rate\": lr,\n",
    "            \"verbose\": iter // 10}\n",
    "\n",
    "    scores = cv(cv_dataset,\n",
    "              params,\n",
    "              fold_count=4)"
   ]
  },
  {
   "cell_type": "code",
   "execution_count": 53,
   "metadata": {
    "colab": {
     "base_uri": "https://localhost:8080/"
    },
    "id": "7K3lK8jEtMsX",
    "outputId": "901eb250-6e98-4fbf-eb77-8caeda04f70e"
   },
   "outputs": [],
   "source": [
    "model = CatBoostRegressor(iterations=100,\n",
    "                           depth=4,\n",
    "                           learning_rate=0.1,\n",
    "                           loss_function='RMSE',\n",
    "                           verbose=10)"
   ]
  },
  {
   "cell_type": "code",
   "execution_count": 54,
   "metadata": {
    "colab": {
     "base_uri": "https://localhost:8080/"
    },
    "id": "7K3lK8jEtMsX",
    "outputId": "901eb250-6e98-4fbf-eb77-8caeda04f70e"
   },
   "outputs": [
    {
     "name": "stdout",
     "output_type": "stream",
     "text": [
      "0:\tlearn: 4406.7188169\ttotal: 49.9ms\tremaining: 4.94s\n",
      "10:\tlearn: 2903.0285859\ttotal: 452ms\tremaining: 3.65s\n",
      "20:\tlearn: 2402.3405170\ttotal: 827ms\tremaining: 3.11s\n",
      "30:\tlearn: 2168.1680468\ttotal: 1.21s\tremaining: 2.68s\n",
      "40:\tlearn: 2068.7202366\ttotal: 1.57s\tremaining: 2.26s\n",
      "50:\tlearn: 2010.7323078\ttotal: 1.95s\tremaining: 1.87s\n",
      "60:\tlearn: 1964.4171366\ttotal: 2.32s\tremaining: 1.48s\n",
      "70:\tlearn: 1935.8098326\ttotal: 2.69s\tremaining: 1.1s\n",
      "80:\tlearn: 1914.1825717\ttotal: 3.06s\tremaining: 718ms\n",
      "90:\tlearn: 1893.8364327\ttotal: 3.43s\tremaining: 339ms\n",
      "99:\tlearn: 1879.7325280\ttotal: 3.77s\tremaining: 0us\n"
     ]
    }
   ],
   "source": [
    "start = time.time()\n",
    "model.fit(cv_dataset)\n",
    "end = time.time()\n",
    "res_table['Время обучения'].append(f'{(end-start) * 10**3}, ms')"
   ]
  },
  {
   "cell_type": "code",
   "execution_count": 55,
   "metadata": {
    "colab": {
     "base_uri": "https://localhost:8080/"
    },
    "id": "duxZ-d66MQRn",
    "outputId": "22b0fd7e-8274-4081-9b9f-9e15c388008a"
   },
   "outputs": [
    {
     "name": "stderr",
     "output_type": "stream",
     "text": [
      "/opt/conda/lib/python3.9/site-packages/catboost/core.py:1171: FutureWarning: iteritems is deprecated and will be removed in a future version. Use .items instead.\n",
      "  self._init_pool(data, label, cat_features, text_features, embedding_features, pairs, weight, group_id, group_weight, subgroup_id, pairs_weight, baseline, timestamp, feature_names, thread_count)\n"
     ]
    }
   ],
   "source": [
    "start = time.time()\n",
    "preds = model.predict(features_test)\n",
    "end = time.time()\n",
    "res_table['Время предсказания'].append(f'{(end-start) * 10**3}, ms')"
   ]
  },
  {
   "cell_type": "code",
   "execution_count": 56,
   "metadata": {
    "colab": {
     "base_uri": "https://localhost:8080/",
     "height": 38
    },
    "id": "1pO1i1DPMTHf",
    "outputId": "90bcd277-e144-4743-fb2b-f22b9a580f2b",
    "scrolled": true
   },
   "outputs": [
    {
     "data": {
      "text/plain": [
       "'RMSE = 1873.3627059308678'"
      ]
     },
     "execution_count": 56,
     "metadata": {},
     "output_type": "execute_result"
    }
   ],
   "source": [
    "RMSE = mean_squared_error(target_test, preds, squared=False)\n",
    "res_table['RMSE'].append(RMSE)\n",
    "f'RMSE = {RMSE}'"
   ]
  },
  {
   "cell_type": "markdown",
   "metadata": {},
   "source": [
    "Линейная регрессия и случайный лес не прошли проверку на адекватность. Были рассчитаны их RMSE, время обучения и время предсказания. Дольше всех обучался случайный лес, а худшая RMSE у линейной регрессии."
   ]
  },
  {
   "cell_type": "markdown",
   "metadata": {
    "id": "bMbGf-k6GnP_"
   },
   "source": [
    "## Анализ моделей"
   ]
  },
  {
   "cell_type": "code",
   "execution_count": 57,
   "metadata": {
    "colab": {
     "base_uri": "https://localhost:8080/",
     "height": 175
    },
    "id": "asC8zEl--ibA",
    "outputId": "03815be4-074d-4786-d85e-4d20e5cc53c1"
   },
   "outputs": [
    {
     "data": {
      "text/html": [
       "<div>\n",
       "<style scoped>\n",
       "    .dataframe tbody tr th:only-of-type {\n",
       "        vertical-align: middle;\n",
       "    }\n",
       "\n",
       "    .dataframe tbody tr th {\n",
       "        vertical-align: top;\n",
       "    }\n",
       "\n",
       "    .dataframe thead th {\n",
       "        text-align: right;\n",
       "    }\n",
       "</style>\n",
       "<table border=\"1\" class=\"dataframe\">\n",
       "  <thead>\n",
       "    <tr style=\"text-align: right;\">\n",
       "      <th></th>\n",
       "      <th>Модель</th>\n",
       "      <th>Время обучения</th>\n",
       "      <th>Время предсказания</th>\n",
       "      <th>RMSE</th>\n",
       "    </tr>\n",
       "  </thead>\n",
       "  <tbody>\n",
       "    <tr>\n",
       "      <th>0</th>\n",
       "      <td>Линейная регрессия</td>\n",
       "      <td>40.08769989013672, ms</td>\n",
       "      <td>9.237051010131836, ms</td>\n",
       "      <td>1.281910e+08</td>\n",
       "    </tr>\n",
       "    <tr>\n",
       "      <th>1</th>\n",
       "      <td>Случайный лес</td>\n",
       "      <td>10008.27956199646, ms</td>\n",
       "      <td>66.21813774108887, ms</td>\n",
       "      <td>1.038635e+04</td>\n",
       "    </tr>\n",
       "    <tr>\n",
       "      <th>2</th>\n",
       "      <td>LightGBM</td>\n",
       "      <td>8480.839252471924, ms</td>\n",
       "      <td>304.4171333312988, ms</td>\n",
       "      <td>1.724944e+03</td>\n",
       "    </tr>\n",
       "    <tr>\n",
       "      <th>3</th>\n",
       "      <td>CatBoost</td>\n",
       "      <td>4807.2874546051025, ms</td>\n",
       "      <td>39.24417495727539, ms</td>\n",
       "      <td>1.873363e+03</td>\n",
       "    </tr>\n",
       "  </tbody>\n",
       "</table>\n",
       "</div>"
      ],
      "text/plain": [
       "               Модель          Время обучения     Время предсказания  \\\n",
       "0  Линейная регрессия   40.08769989013672, ms  9.237051010131836, ms   \n",
       "1       Случайный лес   10008.27956199646, ms  66.21813774108887, ms   \n",
       "2            LightGBM   8480.839252471924, ms  304.4171333312988, ms   \n",
       "3            CatBoost  4807.2874546051025, ms  39.24417495727539, ms   \n",
       "\n",
       "           RMSE  \n",
       "0  1.281910e+08  \n",
       "1  1.038635e+04  \n",
       "2  1.724944e+03  \n",
       "3  1.873363e+03  "
      ]
     },
     "execution_count": 57,
     "metadata": {},
     "output_type": "execute_result"
    }
   ],
   "source": [
    "pd.DataFrame(res_table)"
   ]
  },
  {
   "cell_type": "markdown",
   "metadata": {
    "id": "Lw_M9P_mN1el"
   },
   "source": [
    "Модель LightGBM лучшая по точности предсказаний. Т.к. CatBoost оказался лучшим по скорости предсказания, среди моделей, чей RMSE меньше 2500, то выбрать стоит его."
   ]
  },
  {
   "cell_type": "markdown",
   "metadata": {
    "id": "hVz6La4tYfNS"
   },
   "source": [
    "## Итоги\n",
    "\n",
    "- Из исходных данных было удалено 57863 пропусков и 45040 дубликатов.\n",
    "- Из исходных данных были удалены объекты с аномальными значениями: околонулевая цена, мощность и неактуальный год регистрации\n",
    "- Из данных были отброшены неинформативные колонки: **DateCrawled**, **DateCreated**, **PostalCode**, **LastSeen**, **RegistrationMonth**\n",
    "- Подготовлены тренировочная и тестовая выборки для обучения линейной регрессии, случайного леса и моделей градиентного бустинга\n",
    "- Все модели успешно обучены\n",
    "- RMSE для каждой модели для каждой модели на тестовой выборке составил:\n",
    "    - Линейная регрессия - 2834\n",
    "    - Случайный лес - 1828\n",
    "    - LightGBM - 1725\n",
    "    - CatBoostRegressor - 1873\n",
    "- Модели были проанализированны по скорости обучения, предсказания и метрики RMSE. Выбрана модель CatBoostRegressor, т.к. она обладает лучшей скоростью предсказания."
   ]
  }
 ],
 "metadata": {
  "ExecuteTimeLog": [
   {
    "duration": 702,
    "start_time": "2023-05-11T14:13:11.520Z"
   },
   {
    "duration": 3,
    "start_time": "2023-05-11T14:14:52.000Z"
   },
   {
    "duration": 3886,
    "start_time": "2023-05-11T14:14:53.636Z"
   },
   {
    "duration": 2901,
    "start_time": "2023-05-11T14:15:15.386Z"
   },
   {
    "duration": 2393,
    "start_time": "2023-05-11T14:15:34.503Z"
   },
   {
    "duration": 31,
    "start_time": "2023-05-11T14:24:55.181Z"
   },
   {
    "duration": 96,
    "start_time": "2023-05-11T14:25:56.289Z"
   },
   {
    "duration": 79,
    "start_time": "2023-05-11T14:26:05.177Z"
   },
   {
    "duration": 76,
    "start_time": "2023-05-11T14:26:52.281Z"
   },
   {
    "duration": 98,
    "start_time": "2023-05-11T14:33:04.088Z"
   },
   {
    "duration": 12,
    "start_time": "2023-05-11T14:33:10.394Z"
   },
   {
    "duration": 13,
    "start_time": "2023-05-11T14:33:13.005Z"
   },
   {
    "duration": 365,
    "start_time": "2023-05-11T14:33:15.946Z"
   },
   {
    "duration": 33,
    "start_time": "2023-05-11T14:33:35.335Z"
   },
   {
    "duration": 253,
    "start_time": "2023-05-11T14:34:06.842Z"
   },
   {
    "duration": 294,
    "start_time": "2023-05-11T14:34:17.316Z"
   },
   {
    "duration": 1502,
    "start_time": "2023-05-12T11:35:23.284Z"
   },
   {
    "duration": 2934,
    "start_time": "2023-05-12T11:35:27.453Z"
   },
   {
    "duration": 5,
    "start_time": "2023-05-12T11:35:53.284Z"
   },
   {
    "duration": 2853,
    "start_time": "2023-05-12T11:35:55.118Z"
   },
   {
    "duration": 158,
    "start_time": "2023-05-12T11:55:21.542Z"
   },
   {
    "duration": 279,
    "start_time": "2023-05-12T11:55:26.193Z"
   },
   {
    "duration": 397,
    "start_time": "2023-05-12T11:55:31.732Z"
   },
   {
    "duration": 185,
    "start_time": "2023-05-12T11:55:35.046Z"
   },
   {
    "duration": 165,
    "start_time": "2023-05-12T11:56:51.280Z"
   },
   {
    "duration": 157,
    "start_time": "2023-05-12T11:57:11.815Z"
   },
   {
    "duration": 379,
    "start_time": "2023-05-12T11:57:17.696Z"
   },
   {
    "duration": 13,
    "start_time": "2023-05-12T11:57:31.239Z"
   },
   {
    "duration": 10,
    "start_time": "2023-05-12T11:57:36.147Z"
   },
   {
    "duration": 174,
    "start_time": "2023-05-12T11:57:50.684Z"
   },
   {
    "duration": 755,
    "start_time": "2023-05-12T11:58:00.551Z"
   },
   {
    "duration": 1493,
    "start_time": "2023-05-12T11:58:04.976Z"
   },
   {
    "duration": 994,
    "start_time": "2023-05-12T11:58:18.424Z"
   },
   {
    "duration": 168,
    "start_time": "2023-05-12T12:00:54.570Z"
   },
   {
    "duration": 814,
    "start_time": "2023-05-12T12:01:01.025Z"
   },
   {
    "duration": 935,
    "start_time": "2023-05-12T12:01:14.945Z"
   },
   {
    "duration": 769,
    "start_time": "2023-05-12T12:02:09.784Z"
   },
   {
    "duration": 4,
    "start_time": "2023-05-12T12:03:17.082Z"
   },
   {
    "duration": 1008,
    "start_time": "2023-05-12T12:04:02.799Z"
   },
   {
    "duration": 5,
    "start_time": "2023-05-12T12:09:34.166Z"
   },
   {
    "duration": 2741,
    "start_time": "2023-05-12T12:09:34.176Z"
   },
   {
    "duration": 18,
    "start_time": "2023-05-12T12:09:36.919Z"
   },
   {
    "duration": 106,
    "start_time": "2023-05-12T12:09:36.939Z"
   },
   {
    "duration": 712,
    "start_time": "2023-05-12T12:09:37.057Z"
   },
   {
    "duration": 56,
    "start_time": "2023-05-12T12:09:37.771Z"
   },
   {
    "duration": 0,
    "start_time": "2023-05-12T12:09:37.829Z"
   },
   {
    "duration": 249,
    "start_time": "2023-05-12T12:09:44.068Z"
   },
   {
    "duration": 7,
    "start_time": "2023-05-12T12:10:31.685Z"
   },
   {
    "duration": 1445,
    "start_time": "2023-05-12T12:10:55.283Z"
   },
   {
    "duration": 2943,
    "start_time": "2023-05-12T12:10:56.730Z"
   },
   {
    "duration": 26,
    "start_time": "2023-05-12T12:10:59.675Z"
   },
   {
    "duration": 82,
    "start_time": "2023-05-12T12:10:59.704Z"
   },
   {
    "duration": 532,
    "start_time": "2023-05-12T12:10:59.789Z"
   },
   {
    "duration": 348,
    "start_time": "2023-05-12T12:11:00.324Z"
   },
   {
    "duration": 0,
    "start_time": "2023-05-12T12:11:00.675Z"
   },
   {
    "duration": 4,
    "start_time": "2023-05-12T12:13:04.098Z"
   },
   {
    "duration": 3083,
    "start_time": "2023-05-12T12:13:04.108Z"
   },
   {
    "duration": 23,
    "start_time": "2023-05-12T12:13:07.193Z"
   },
   {
    "duration": 97,
    "start_time": "2023-05-12T12:13:07.219Z"
   },
   {
    "duration": 215,
    "start_time": "2023-05-12T12:13:07.319Z"
   },
   {
    "duration": 95,
    "start_time": "2023-05-12T12:13:07.537Z"
   },
   {
    "duration": 0,
    "start_time": "2023-05-12T12:13:07.634Z"
   },
   {
    "duration": 4,
    "start_time": "2023-05-12T12:14:50.486Z"
   },
   {
    "duration": 2848,
    "start_time": "2023-05-12T12:14:50.501Z"
   },
   {
    "duration": 25,
    "start_time": "2023-05-12T12:14:53.351Z"
   },
   {
    "duration": 142,
    "start_time": "2023-05-12T12:14:53.378Z"
   },
   {
    "duration": 197,
    "start_time": "2023-05-12T12:14:53.523Z"
   },
   {
    "duration": 81,
    "start_time": "2023-05-12T12:14:53.724Z"
   },
   {
    "duration": 0,
    "start_time": "2023-05-12T12:14:53.807Z"
   },
   {
    "duration": 30,
    "start_time": "2023-05-12T12:15:10.286Z"
   },
   {
    "duration": 146,
    "start_time": "2023-05-12T12:19:07.499Z"
   },
   {
    "duration": 137,
    "start_time": "2023-05-12T12:19:33.680Z"
   },
   {
    "duration": 103,
    "start_time": "2023-05-12T12:19:36.030Z"
   },
   {
    "duration": 15,
    "start_time": "2023-05-12T12:20:11.182Z"
   },
   {
    "duration": 118,
    "start_time": "2023-05-12T12:20:16.201Z"
   },
   {
    "duration": 170,
    "start_time": "2023-05-12T12:20:26.970Z"
   },
   {
    "duration": 100,
    "start_time": "2023-05-12T12:20:28.920Z"
   },
   {
    "duration": 4,
    "start_time": "2023-05-12T12:20:49.378Z"
   },
   {
    "duration": 2921,
    "start_time": "2023-05-12T12:20:49.384Z"
   },
   {
    "duration": 18,
    "start_time": "2023-05-12T12:20:52.307Z"
   },
   {
    "duration": 97,
    "start_time": "2023-05-12T12:20:52.327Z"
   },
   {
    "duration": 174,
    "start_time": "2023-05-12T12:20:52.427Z"
   },
   {
    "duration": 103,
    "start_time": "2023-05-12T12:20:52.604Z"
   },
   {
    "duration": 143,
    "start_time": "2023-05-12T12:20:52.708Z"
   },
   {
    "duration": 38,
    "start_time": "2023-05-12T12:20:52.853Z"
   },
   {
    "duration": 4,
    "start_time": "2023-05-12T12:21:31.196Z"
   },
   {
    "duration": 2974,
    "start_time": "2023-05-12T12:21:31.206Z"
   },
   {
    "duration": 18,
    "start_time": "2023-05-12T12:21:34.182Z"
   },
   {
    "duration": 92,
    "start_time": "2023-05-12T12:21:34.202Z"
   },
   {
    "duration": 154,
    "start_time": "2023-05-12T12:21:34.296Z"
   },
   {
    "duration": 73,
    "start_time": "2023-05-12T12:21:34.452Z"
   },
   {
    "duration": 106,
    "start_time": "2023-05-12T12:21:34.527Z"
   },
   {
    "duration": 81,
    "start_time": "2023-05-12T12:21:34.635Z"
   },
   {
    "duration": 24,
    "start_time": "2023-05-12T12:21:57.791Z"
   },
   {
    "duration": 4,
    "start_time": "2023-05-12T12:22:20.851Z"
   },
   {
    "duration": 2988,
    "start_time": "2023-05-12T12:22:20.862Z"
   },
   {
    "duration": 24,
    "start_time": "2023-05-12T12:22:23.855Z"
   },
   {
    "duration": 97,
    "start_time": "2023-05-12T12:22:23.883Z"
   },
   {
    "duration": 181,
    "start_time": "2023-05-12T12:22:23.983Z"
   },
   {
    "duration": 61,
    "start_time": "2023-05-12T12:22:24.176Z"
   },
   {
    "duration": 132,
    "start_time": "2023-05-12T12:22:24.239Z"
   },
   {
    "duration": 70,
    "start_time": "2023-05-12T12:22:24.378Z"
   },
   {
    "duration": 8,
    "start_time": "2023-05-12T12:31:26.494Z"
   },
   {
    "duration": 26,
    "start_time": "2023-05-12T12:38:52.014Z"
   },
   {
    "duration": 407,
    "start_time": "2023-05-12T12:38:57.310Z"
   },
   {
    "duration": 64,
    "start_time": "2023-05-12T12:39:47.832Z"
   },
   {
    "duration": 21,
    "start_time": "2023-05-12T12:41:03.355Z"
   },
   {
    "duration": 25,
    "start_time": "2023-05-12T12:41:07.525Z"
   },
   {
    "duration": 123,
    "start_time": "2023-05-12T12:41:11.404Z"
   },
   {
    "duration": 703,
    "start_time": "2023-05-12T12:41:42.442Z"
   },
   {
    "duration": 36,
    "start_time": "2023-05-12T12:41:49.813Z"
   },
   {
    "duration": 28,
    "start_time": "2023-05-12T12:41:55.699Z"
   },
   {
    "duration": 32,
    "start_time": "2023-05-12T12:42:04.247Z"
   },
   {
    "duration": 29,
    "start_time": "2023-05-12T12:42:10.844Z"
   },
   {
    "duration": 54,
    "start_time": "2023-05-12T12:42:19.103Z"
   },
   {
    "duration": 11,
    "start_time": "2023-05-12T12:43:12.493Z"
   },
   {
    "duration": 91,
    "start_time": "2023-05-12T12:43:16.017Z"
   },
   {
    "duration": 7,
    "start_time": "2023-05-12T12:43:34.601Z"
   },
   {
    "duration": 92,
    "start_time": "2023-05-12T12:43:42.856Z"
   },
   {
    "duration": 183,
    "start_time": "2023-05-12T12:47:46.490Z"
   },
   {
    "duration": 4,
    "start_time": "2023-05-12T12:52:58.639Z"
   },
   {
    "duration": 5,
    "start_time": "2023-05-12T12:52:58.656Z"
   },
   {
    "duration": 2652,
    "start_time": "2023-05-12T12:52:58.690Z"
   },
   {
    "duration": 24,
    "start_time": "2023-05-12T12:53:01.345Z"
   },
   {
    "duration": 101,
    "start_time": "2023-05-12T12:53:01.371Z"
   },
   {
    "duration": 197,
    "start_time": "2023-05-12T12:53:01.473Z"
   },
   {
    "duration": 63,
    "start_time": "2023-05-12T12:53:01.673Z"
   },
   {
    "duration": 124,
    "start_time": "2023-05-12T12:53:01.739Z"
   },
   {
    "duration": 70,
    "start_time": "2023-05-12T12:53:01.865Z"
   },
   {
    "duration": 90,
    "start_time": "2023-05-12T12:53:01.936Z"
   },
   {
    "duration": 0,
    "start_time": "2023-05-12T12:53:02.029Z"
   },
   {
    "duration": 6,
    "start_time": "2023-05-12T12:53:42.645Z"
   },
   {
    "duration": 401,
    "start_time": "2023-05-12T12:53:46.300Z"
   },
   {
    "duration": 5,
    "start_time": "2023-05-12T12:56:30.426Z"
   },
   {
    "duration": 9826,
    "start_time": "2023-05-12T12:56:33.896Z"
   },
   {
    "duration": 6,
    "start_time": "2023-05-12T13:07:01.381Z"
   },
   {
    "duration": 9398,
    "start_time": "2023-05-12T13:07:06.244Z"
   },
   {
    "duration": 6,
    "start_time": "2023-05-12T13:13:33.205Z"
   },
   {
    "duration": 8985,
    "start_time": "2023-05-12T13:13:37.660Z"
   },
   {
    "duration": 5,
    "start_time": "2023-05-12T13:14:46.805Z"
   },
   {
    "duration": 12085,
    "start_time": "2023-05-12T13:14:50.319Z"
   },
   {
    "duration": 12075,
    "start_time": "2023-05-12T13:15:26.200Z"
   },
   {
    "duration": 5,
    "start_time": "2023-05-12T13:18:48.520Z"
   },
   {
    "duration": 11572,
    "start_time": "2023-05-12T13:18:57.118Z"
   },
   {
    "duration": 6,
    "start_time": "2023-05-12T13:25:22.423Z"
   },
   {
    "duration": 1335,
    "start_time": "2023-05-12T13:25:31.226Z"
   },
   {
    "duration": 1376,
    "start_time": "2023-05-12T13:27:40.747Z"
   },
   {
    "duration": 1361,
    "start_time": "2023-05-12T13:28:07.181Z"
   },
   {
    "duration": 2294,
    "start_time": "2023-05-12T13:45:42.248Z"
   },
   {
    "duration": 2271,
    "start_time": "2023-05-12T13:46:17.939Z"
   },
   {
    "duration": 15,
    "start_time": "2023-05-12T13:54:28.128Z"
   },
   {
    "duration": 23,
    "start_time": "2023-05-12T13:55:08.492Z"
   },
   {
    "duration": 17,
    "start_time": "2023-05-12T13:55:20.526Z"
   },
   {
    "duration": 12,
    "start_time": "2023-05-12T13:55:27.505Z"
   },
   {
    "duration": 5,
    "start_time": "2023-05-12T13:55:39.219Z"
   },
   {
    "duration": 4,
    "start_time": "2023-05-12T13:58:12.417Z"
   },
   {
    "duration": 4,
    "start_time": "2023-05-12T14:02:40.847Z"
   },
   {
    "duration": 4,
    "start_time": "2023-05-12T14:08:09.190Z"
   },
   {
    "duration": 9,
    "start_time": "2023-05-12T14:08:09.197Z"
   },
   {
    "duration": 2813,
    "start_time": "2023-05-12T14:08:09.208Z"
   },
   {
    "duration": 41,
    "start_time": "2023-05-12T14:08:12.024Z"
   },
   {
    "duration": 88,
    "start_time": "2023-05-12T14:08:12.068Z"
   },
   {
    "duration": 169,
    "start_time": "2023-05-12T14:08:12.158Z"
   },
   {
    "duration": 59,
    "start_time": "2023-05-12T14:08:12.329Z"
   },
   {
    "duration": 103,
    "start_time": "2023-05-12T14:08:12.390Z"
   },
   {
    "duration": 74,
    "start_time": "2023-05-12T14:08:12.495Z"
   },
   {
    "duration": 1740,
    "start_time": "2023-05-12T14:08:12.571Z"
   },
   {
    "duration": 70548,
    "start_time": "2023-05-12T14:08:14.313Z"
   },
   {
    "duration": 1755,
    "start_time": "2023-05-12T14:14:40.932Z"
   },
   {
    "duration": 67570,
    "start_time": "2023-05-12T14:14:42.689Z"
   },
   {
    "duration": 23180,
    "start_time": "2023-05-12T14:20:30.185Z"
   },
   {
    "duration": 2448,
    "start_time": "2023-05-14T13:18:06.816Z"
   },
   {
    "duration": 1650,
    "start_time": "2023-05-14T13:18:09.266Z"
   },
   {
    "duration": 6,
    "start_time": "2023-05-14T13:18:10.918Z"
   },
   {
    "duration": 144,
    "start_time": "2023-05-14T13:18:10.926Z"
   },
   {
    "duration": 0,
    "start_time": "2023-05-14T13:18:11.073Z"
   },
   {
    "duration": 0,
    "start_time": "2023-05-14T13:18:11.078Z"
   },
   {
    "duration": 0,
    "start_time": "2023-05-14T13:18:11.079Z"
   },
   {
    "duration": 0,
    "start_time": "2023-05-14T13:18:11.080Z"
   },
   {
    "duration": 0,
    "start_time": "2023-05-14T13:18:11.081Z"
   },
   {
    "duration": 0,
    "start_time": "2023-05-14T13:18:11.082Z"
   },
   {
    "duration": 0,
    "start_time": "2023-05-14T13:18:11.083Z"
   },
   {
    "duration": 0,
    "start_time": "2023-05-14T13:18:11.084Z"
   },
   {
    "duration": 0,
    "start_time": "2023-05-14T13:18:11.086Z"
   },
   {
    "duration": 0,
    "start_time": "2023-05-14T13:18:11.087Z"
   },
   {
    "duration": 0,
    "start_time": "2023-05-14T13:18:11.088Z"
   },
   {
    "duration": 0,
    "start_time": "2023-05-14T13:18:11.089Z"
   },
   {
    "duration": 0,
    "start_time": "2023-05-14T13:18:11.090Z"
   },
   {
    "duration": 0,
    "start_time": "2023-05-14T13:18:11.091Z"
   },
   {
    "duration": 0,
    "start_time": "2023-05-14T13:18:11.092Z"
   },
   {
    "duration": 0,
    "start_time": "2023-05-14T13:18:11.093Z"
   },
   {
    "duration": 0,
    "start_time": "2023-05-14T13:18:11.094Z"
   },
   {
    "duration": 0,
    "start_time": "2023-05-14T13:18:11.095Z"
   },
   {
    "duration": 0,
    "start_time": "2023-05-14T13:18:11.096Z"
   },
   {
    "duration": 0,
    "start_time": "2023-05-14T13:18:11.098Z"
   },
   {
    "duration": 0,
    "start_time": "2023-05-14T13:18:11.098Z"
   },
   {
    "duration": 0,
    "start_time": "2023-05-14T13:18:11.100Z"
   },
   {
    "duration": 0,
    "start_time": "2023-05-14T13:18:11.101Z"
   },
   {
    "duration": 0,
    "start_time": "2023-05-14T13:18:11.102Z"
   },
   {
    "duration": 0,
    "start_time": "2023-05-14T13:18:11.103Z"
   },
   {
    "duration": 0,
    "start_time": "2023-05-14T13:18:11.104Z"
   },
   {
    "duration": 0,
    "start_time": "2023-05-14T13:18:11.105Z"
   },
   {
    "duration": 0,
    "start_time": "2023-05-14T13:18:11.106Z"
   },
   {
    "duration": 0,
    "start_time": "2023-05-14T13:18:11.107Z"
   },
   {
    "duration": 0,
    "start_time": "2023-05-14T13:18:11.108Z"
   },
   {
    "duration": 0,
    "start_time": "2023-05-14T13:18:11.109Z"
   },
   {
    "duration": 0,
    "start_time": "2023-05-14T13:18:11.110Z"
   },
   {
    "duration": 0,
    "start_time": "2023-05-14T13:18:11.111Z"
   },
   {
    "duration": 0,
    "start_time": "2023-05-14T13:18:11.113Z"
   },
   {
    "duration": 0,
    "start_time": "2023-05-14T13:18:11.178Z"
   },
   {
    "duration": 1958,
    "start_time": "2023-05-14T13:20:51.759Z"
   },
   {
    "duration": 5,
    "start_time": "2023-05-14T13:20:53.719Z"
   },
   {
    "duration": 15,
    "start_time": "2023-05-14T13:20:53.726Z"
   },
   {
    "duration": 5383,
    "start_time": "2023-05-14T13:20:53.743Z"
   },
   {
    "duration": 25,
    "start_time": "2023-05-14T13:20:59.128Z"
   },
   {
    "duration": 86,
    "start_time": "2023-05-14T13:20:59.155Z"
   },
   {
    "duration": 156,
    "start_time": "2023-05-14T13:20:59.243Z"
   },
   {
    "duration": 55,
    "start_time": "2023-05-14T13:20:59.401Z"
   },
   {
    "duration": 104,
    "start_time": "2023-05-14T13:20:59.458Z"
   },
   {
    "duration": 1644,
    "start_time": "2023-05-14T13:20:59.566Z"
   },
   {
    "duration": 2080,
    "start_time": "2023-05-14T13:21:01.212Z"
   },
   {
    "duration": 6,
    "start_time": "2023-05-14T13:21:03.294Z"
   },
   {
    "duration": 3,
    "start_time": "2023-05-14T13:21:03.302Z"
   },
   {
    "duration": 31985,
    "start_time": "2023-05-14T13:21:03.306Z"
   },
   {
    "duration": 106,
    "start_time": "2023-05-14T13:21:35.379Z"
   },
   {
    "duration": 108,
    "start_time": "2023-05-14T13:21:35.487Z"
   },
   {
    "duration": 2946727,
    "start_time": "2023-05-14T13:21:35.598Z"
   },
   {
    "duration": 383981,
    "start_time": "2023-05-14T14:10:42.326Z"
   },
   {
    "duration": 288,
    "start_time": "2023-05-14T14:17:06.309Z"
   },
   {
    "duration": 5,
    "start_time": "2023-05-14T14:17:06.599Z"
   },
   {
    "duration": 6,
    "start_time": "2023-05-14T14:17:06.605Z"
   },
   {
    "duration": 220,
    "start_time": "2023-05-14T14:17:06.613Z"
   },
   {
    "duration": 3,
    "start_time": "2023-05-14T14:17:06.835Z"
   },
   {
    "duration": 599168,
    "start_time": "2023-05-14T14:17:06.840Z"
   },
   {
    "duration": 5,
    "start_time": "2023-05-14T14:27:06.010Z"
   },
   {
    "duration": 139472,
    "start_time": "2023-05-14T14:27:06.017Z"
   },
   {
    "duration": 482,
    "start_time": "2023-05-14T14:29:25.496Z"
   },
   {
    "duration": 12,
    "start_time": "2023-05-14T14:29:25.982Z"
   },
   {
    "duration": 3,
    "start_time": "2023-05-14T14:29:25.996Z"
   },
   {
    "duration": 10206103,
    "start_time": "2023-05-14T14:29:26.001Z"
   },
   {
    "duration": 5,
    "start_time": "2023-05-14T17:19:32.106Z"
   },
   {
    "duration": 372674,
    "start_time": "2023-05-14T17:19:32.113Z"
   },
   {
    "duration": 10118,
    "start_time": "2023-05-14T17:25:44.789Z"
   },
   {
    "duration": 5,
    "start_time": "2023-05-14T17:25:54.908Z"
   },
   {
    "duration": 539019,
    "start_time": "2023-05-14T17:25:54.915Z"
   },
   {
    "duration": 6988,
    "start_time": "2023-05-14T17:34:53.936Z"
   },
   {
    "duration": 82,
    "start_time": "2023-05-14T17:35:00.926Z"
   },
   {
    "duration": 4,
    "start_time": "2023-05-14T17:35:01.010Z"
   },
   {
    "duration": 21,
    "start_time": "2023-05-14T17:35:01.016Z"
   },
   {
    "duration": 2134,
    "start_time": "2023-05-14T19:26:13.307Z"
   },
   {
    "duration": 283518,
    "start_time": "2023-05-14T19:26:23.949Z"
   },
   {
    "duration": 398,
    "start_time": "2023-05-14T19:35:26.888Z"
   },
   {
    "duration": 5,
    "start_time": "2023-05-14T19:35:38.960Z"
   },
   {
    "duration": 10,
    "start_time": "2023-05-14T19:37:42.891Z"
   },
   {
    "duration": 1946,
    "start_time": "2023-05-17T14:10:44.414Z"
   },
   {
    "duration": 7,
    "start_time": "2023-05-17T14:10:46.362Z"
   },
   {
    "duration": 6,
    "start_time": "2023-05-17T14:10:51.296Z"
   },
   {
    "duration": 4,
    "start_time": "2023-05-17T14:12:19.742Z"
   },
   {
    "duration": 3325,
    "start_time": "2023-05-17T14:12:20.351Z"
   },
   {
    "duration": 213,
    "start_time": "2023-05-17T14:12:23.679Z"
   },
   {
    "duration": 111,
    "start_time": "2023-05-17T14:12:41.401Z"
   },
   {
    "duration": 176,
    "start_time": "2023-05-17T14:20:05.125Z"
   },
   {
    "duration": 14,
    "start_time": "2023-05-17T14:20:16.880Z"
   },
   {
    "duration": 10,
    "start_time": "2023-05-17T14:32:13.215Z"
   },
   {
    "duration": 95,
    "start_time": "2023-05-17T14:32:35.897Z"
   },
   {
    "duration": 29,
    "start_time": "2023-05-17T14:35:10.493Z"
   },
   {
    "duration": 580,
    "start_time": "2023-05-17T14:35:59.235Z"
   },
   {
    "duration": 88,
    "start_time": "2023-05-17T14:36:23.596Z"
   },
   {
    "duration": 141,
    "start_time": "2023-05-17T14:41:35.623Z"
   },
   {
    "duration": 206,
    "start_time": "2023-05-17T14:41:58.701Z"
   },
   {
    "duration": 1132,
    "start_time": "2023-05-17T14:42:16.904Z"
   },
   {
    "duration": 139,
    "start_time": "2023-05-17T14:42:30.835Z"
   },
   {
    "duration": 196,
    "start_time": "2023-05-17T14:42:33.318Z"
   },
   {
    "duration": 1289,
    "start_time": "2023-05-17T14:42:52.633Z"
   },
   {
    "duration": 330,
    "start_time": "2023-05-17T14:42:58.913Z"
   },
   {
    "duration": 273,
    "start_time": "2023-05-17T14:43:00.882Z"
   },
   {
    "duration": 145,
    "start_time": "2023-05-17T14:43:15.713Z"
   },
   {
    "duration": 275,
    "start_time": "2023-05-17T14:43:30.080Z"
   },
   {
    "duration": 137,
    "start_time": "2023-05-17T14:43:32.134Z"
   },
   {
    "duration": 88,
    "start_time": "2023-05-17T14:43:34.670Z"
   },
   {
    "duration": 111,
    "start_time": "2023-05-17T14:43:46.973Z"
   },
   {
    "duration": 110,
    "start_time": "2023-05-17T14:43:54.284Z"
   },
   {
    "duration": 9,
    "start_time": "2023-05-17T14:44:12.489Z"
   },
   {
    "duration": 20,
    "start_time": "2023-05-17T14:45:43.502Z"
   },
   {
    "duration": 3138,
    "start_time": "2023-05-17T14:47:09.596Z"
   },
   {
    "duration": 5,
    "start_time": "2023-05-17T14:47:12.738Z"
   },
   {
    "duration": 9,
    "start_time": "2023-05-17T14:47:12.746Z"
   },
   {
    "duration": 88,
    "start_time": "2023-05-17T14:47:12.758Z"
   },
   {
    "duration": 975,
    "start_time": "2023-05-17T14:47:12.850Z"
   },
   {
    "duration": 200,
    "start_time": "2023-05-17T14:47:13.827Z"
   },
   {
    "duration": 2083,
    "start_time": "2023-05-17T14:47:14.029Z"
   },
   {
    "duration": 3424,
    "start_time": "2023-05-17T14:47:16.114Z"
   },
   {
    "duration": 15,
    "start_time": "2023-05-17T14:47:19.540Z"
   },
   {
    "duration": 21,
    "start_time": "2023-05-17T14:47:19.557Z"
   },
   {
    "duration": 18,
    "start_time": "2023-05-17T14:47:30.615Z"
   },
   {
    "duration": 11,
    "start_time": "2023-05-17T14:47:41.308Z"
   },
   {
    "duration": 42,
    "start_time": "2023-05-17T14:47:58.592Z"
   },
   {
    "duration": 255,
    "start_time": "2023-05-17T14:48:42.819Z"
   },
   {
    "duration": 17,
    "start_time": "2023-05-17T14:48:47.944Z"
   },
   {
    "duration": 142,
    "start_time": "2023-05-17T14:48:57.290Z"
   },
   {
    "duration": 74,
    "start_time": "2023-05-17T14:49:12.199Z"
   },
   {
    "duration": 64,
    "start_time": "2023-05-17T14:49:32.532Z"
   },
   {
    "duration": 14,
    "start_time": "2023-05-17T15:22:28.310Z"
   },
   {
    "duration": 72,
    "start_time": "2023-05-17T15:22:43.131Z"
   },
   {
    "duration": 340,
    "start_time": "2023-05-17T15:26:01.530Z"
   },
   {
    "duration": 53,
    "start_time": "2023-05-17T15:26:15.392Z"
   },
   {
    "duration": 303,
    "start_time": "2023-05-17T15:27:22.904Z"
   },
   {
    "duration": 63,
    "start_time": "2023-05-17T15:27:45.784Z"
   },
   {
    "duration": 9,
    "start_time": "2023-05-17T15:29:17.219Z"
   },
   {
    "duration": 252,
    "start_time": "2023-05-17T15:29:58.910Z"
   },
   {
    "duration": 379,
    "start_time": "2023-05-17T15:30:30.280Z"
   },
   {
    "duration": 13,
    "start_time": "2023-05-17T15:30:59.588Z"
   },
   {
    "duration": 14,
    "start_time": "2023-05-17T15:31:11.823Z"
   },
   {
    "duration": 10,
    "start_time": "2023-05-17T15:31:16.296Z"
   },
   {
    "duration": 8,
    "start_time": "2023-05-17T15:31:20.602Z"
   },
   {
    "duration": 10,
    "start_time": "2023-05-17T15:31:26.407Z"
   },
   {
    "duration": 3,
    "start_time": "2023-05-17T15:31:32.610Z"
   },
   {
    "duration": 5,
    "start_time": "2023-05-17T15:31:40.500Z"
   },
   {
    "duration": 9,
    "start_time": "2023-05-17T15:31:48.720Z"
   },
   {
    "duration": 270,
    "start_time": "2023-05-17T15:32:21.039Z"
   },
   {
    "duration": 23,
    "start_time": "2023-05-17T15:33:13.909Z"
   },
   {
    "duration": 72,
    "start_time": "2023-05-17T15:33:32.684Z"
   },
   {
    "duration": 280,
    "start_time": "2023-05-17T15:33:35.608Z"
   },
   {
    "duration": 9,
    "start_time": "2023-05-17T15:33:43.828Z"
   },
   {
    "duration": 2700,
    "start_time": "2023-05-17T15:34:09.007Z"
   },
   {
    "duration": 6,
    "start_time": "2023-05-17T15:34:11.709Z"
   },
   {
    "duration": 9,
    "start_time": "2023-05-17T15:34:11.717Z"
   },
   {
    "duration": 6,
    "start_time": "2023-05-17T15:34:11.729Z"
   },
   {
    "duration": 966,
    "start_time": "2023-05-17T15:34:11.738Z"
   },
   {
    "duration": 190,
    "start_time": "2023-05-17T15:34:12.706Z"
   },
   {
    "duration": 1878,
    "start_time": "2023-05-17T15:34:12.899Z"
   },
   {
    "duration": 3829,
    "start_time": "2023-05-17T15:34:14.779Z"
   },
   {
    "duration": 29,
    "start_time": "2023-05-17T15:34:18.610Z"
   },
   {
    "duration": 97,
    "start_time": "2023-05-17T15:34:18.642Z"
   },
   {
    "duration": 114,
    "start_time": "2023-05-17T15:34:18.741Z"
   },
   {
    "duration": 244,
    "start_time": "2023-05-17T15:34:18.857Z"
   },
   {
    "duration": 143,
    "start_time": "2023-05-17T15:34:19.103Z"
   },
   {
    "duration": 109,
    "start_time": "2023-05-17T15:34:19.250Z"
   },
   {
    "duration": 57,
    "start_time": "2023-05-17T15:35:16.347Z"
   },
   {
    "duration": 46,
    "start_time": "2023-05-17T15:35:28.199Z"
   },
   {
    "duration": 44,
    "start_time": "2023-05-17T15:36:04.229Z"
   },
   {
    "duration": 173,
    "start_time": "2023-05-17T15:38:54.573Z"
   },
   {
    "duration": 8,
    "start_time": "2023-05-17T15:39:02.593Z"
   },
   {
    "duration": 8,
    "start_time": "2023-05-17T15:41:18.145Z"
   },
   {
    "duration": 9,
    "start_time": "2023-05-17T15:43:33.184Z"
   },
   {
    "duration": 78,
    "start_time": "2023-05-17T15:44:47.476Z"
   },
   {
    "duration": 13,
    "start_time": "2023-05-17T15:45:28.776Z"
   },
   {
    "duration": 9,
    "start_time": "2023-05-17T15:46:29.594Z"
   },
   {
    "duration": 903,
    "start_time": "2023-05-17T15:46:53.329Z"
   },
   {
    "duration": 44,
    "start_time": "2023-05-17T15:48:55.276Z"
   },
   {
    "duration": 2746,
    "start_time": "2023-05-17T15:50:10.228Z"
   },
   {
    "duration": 7,
    "start_time": "2023-05-17T15:50:12.978Z"
   },
   {
    "duration": 13,
    "start_time": "2023-05-17T15:50:12.987Z"
   },
   {
    "duration": 19,
    "start_time": "2023-05-17T15:50:13.003Z"
   },
   {
    "duration": 1360,
    "start_time": "2023-05-17T15:50:13.024Z"
   },
   {
    "duration": 163,
    "start_time": "2023-05-17T15:50:14.387Z"
   },
   {
    "duration": 1818,
    "start_time": "2023-05-17T15:50:14.552Z"
   },
   {
    "duration": 3549,
    "start_time": "2023-05-17T15:50:16.372Z"
   },
   {
    "duration": 19,
    "start_time": "2023-05-17T15:50:19.927Z"
   },
   {
    "duration": 20,
    "start_time": "2023-05-17T15:50:19.949Z"
   },
   {
    "duration": 17,
    "start_time": "2023-05-17T15:50:19.972Z"
   },
   {
    "duration": 535,
    "start_time": "2023-05-17T15:50:19.992Z"
   },
   {
    "duration": 101,
    "start_time": "2023-05-17T15:50:20.529Z"
   },
   {
    "duration": 92,
    "start_time": "2023-05-17T15:50:20.633Z"
   },
   {
    "duration": 15,
    "start_time": "2023-05-17T15:50:30.195Z"
   },
   {
    "duration": 1001,
    "start_time": "2023-05-17T15:50:43.823Z"
   },
   {
    "duration": 7,
    "start_time": "2023-05-17T15:52:37.252Z"
   },
   {
    "duration": 890,
    "start_time": "2023-05-17T15:53:31.153Z"
   },
   {
    "duration": 2550,
    "start_time": "2023-05-17T15:53:44.277Z"
   },
   {
    "duration": 7,
    "start_time": "2023-05-17T15:53:46.830Z"
   },
   {
    "duration": 172,
    "start_time": "2023-05-17T15:53:46.839Z"
   },
   {
    "duration": 12,
    "start_time": "2023-05-17T15:53:47.013Z"
   },
   {
    "duration": 997,
    "start_time": "2023-05-17T15:53:47.028Z"
   },
   {
    "duration": 161,
    "start_time": "2023-05-17T15:53:48.027Z"
   },
   {
    "duration": 1964,
    "start_time": "2023-05-17T15:53:48.190Z"
   },
   {
    "duration": 3156,
    "start_time": "2023-05-17T15:53:50.156Z"
   },
   {
    "duration": 25,
    "start_time": "2023-05-17T15:53:53.314Z"
   },
   {
    "duration": 200,
    "start_time": "2023-05-17T15:53:53.341Z"
   },
   {
    "duration": 199,
    "start_time": "2023-05-17T15:53:53.545Z"
   },
   {
    "duration": 446,
    "start_time": "2023-05-17T15:53:53.746Z"
   },
   {
    "duration": 79,
    "start_time": "2023-05-17T15:53:54.194Z"
   },
   {
    "duration": 77,
    "start_time": "2023-05-17T15:53:54.276Z"
   },
   {
    "duration": 12,
    "start_time": "2023-05-17T15:53:54.355Z"
   },
   {
    "duration": 885,
    "start_time": "2023-05-17T15:55:06.013Z"
   },
   {
    "duration": 2720,
    "start_time": "2023-05-17T15:55:40.942Z"
   },
   {
    "duration": 1716,
    "start_time": "2023-05-17T15:55:43.665Z"
   },
   {
    "duration": 6,
    "start_time": "2023-05-17T15:55:45.383Z"
   },
   {
    "duration": 14,
    "start_time": "2023-05-17T15:55:45.392Z"
   },
   {
    "duration": 1073,
    "start_time": "2023-05-17T15:55:45.408Z"
   },
   {
    "duration": 194,
    "start_time": "2023-05-17T15:55:46.485Z"
   },
   {
    "duration": 2018,
    "start_time": "2023-05-17T15:55:46.682Z"
   },
   {
    "duration": 3752,
    "start_time": "2023-05-17T15:55:48.702Z"
   },
   {
    "duration": 20,
    "start_time": "2023-05-17T15:55:52.456Z"
   },
   {
    "duration": 32,
    "start_time": "2023-05-17T15:55:52.480Z"
   },
   {
    "duration": 32,
    "start_time": "2023-05-17T15:55:52.514Z"
   },
   {
    "duration": 579,
    "start_time": "2023-05-17T15:55:52.549Z"
   },
   {
    "duration": 99,
    "start_time": "2023-05-17T15:55:53.131Z"
   },
   {
    "duration": 145,
    "start_time": "2023-05-17T15:55:53.235Z"
   },
   {
    "duration": 266,
    "start_time": "2023-05-17T15:55:53.383Z"
   },
   {
    "duration": 1150,
    "start_time": "2023-05-17T15:56:10.396Z"
   },
   {
    "duration": 6,
    "start_time": "2023-05-17T15:57:04.988Z"
   },
   {
    "duration": 452,
    "start_time": "2023-05-17T15:57:14.208Z"
   },
   {
    "duration": 22,
    "start_time": "2023-05-17T16:06:36.811Z"
   },
   {
    "duration": 12,
    "start_time": "2023-05-17T16:06:40.456Z"
   },
   {
    "duration": 2863,
    "start_time": "2023-05-17T16:07:08.913Z"
   },
   {
    "duration": 6,
    "start_time": "2023-05-17T16:07:11.779Z"
   },
   {
    "duration": 13,
    "start_time": "2023-05-17T16:07:11.788Z"
   },
   {
    "duration": 11,
    "start_time": "2023-05-17T16:07:11.804Z"
   },
   {
    "duration": 1169,
    "start_time": "2023-05-17T16:07:11.817Z"
   },
   {
    "duration": 198,
    "start_time": "2023-05-17T16:07:12.988Z"
   },
   {
    "duration": 1838,
    "start_time": "2023-05-17T16:07:13.187Z"
   },
   {
    "duration": 4104,
    "start_time": "2023-05-17T16:07:15.028Z"
   },
   {
    "duration": 20,
    "start_time": "2023-05-17T16:07:19.136Z"
   },
   {
    "duration": 84,
    "start_time": "2023-05-17T16:07:19.159Z"
   },
   {
    "duration": 19,
    "start_time": "2023-05-17T16:07:19.245Z"
   },
   {
    "duration": 588,
    "start_time": "2023-05-17T16:07:19.266Z"
   },
   {
    "duration": 101,
    "start_time": "2023-05-17T16:07:19.856Z"
   },
   {
    "duration": 107,
    "start_time": "2023-05-17T16:07:19.959Z"
   },
   {
    "duration": 91,
    "start_time": "2023-05-17T16:07:20.069Z"
   },
   {
    "duration": 83,
    "start_time": "2023-05-17T16:07:20.162Z"
   },
   {
    "duration": 9,
    "start_time": "2023-05-17T16:07:47.034Z"
   },
   {
    "duration": 11,
    "start_time": "2023-05-17T16:07:49.557Z"
   },
   {
    "duration": 10,
    "start_time": "2023-05-17T16:07:52.382Z"
   },
   {
    "duration": 11,
    "start_time": "2023-05-17T16:07:57.417Z"
   },
   {
    "duration": 2774,
    "start_time": "2023-05-17T16:08:25.695Z"
   },
   {
    "duration": 6,
    "start_time": "2023-05-17T16:08:28.472Z"
   },
   {
    "duration": 171,
    "start_time": "2023-05-17T16:08:28.480Z"
   },
   {
    "duration": 385,
    "start_time": "2023-05-17T16:08:28.654Z"
   },
   {
    "duration": 1213,
    "start_time": "2023-05-17T16:08:29.042Z"
   },
   {
    "duration": 192,
    "start_time": "2023-05-17T16:08:30.257Z"
   },
   {
    "duration": 2031,
    "start_time": "2023-05-17T16:08:30.451Z"
   },
   {
    "duration": 3554,
    "start_time": "2023-05-17T16:08:32.487Z"
   },
   {
    "duration": 18,
    "start_time": "2023-05-17T16:08:36.043Z"
   },
   {
    "duration": 22,
    "start_time": "2023-05-17T16:08:36.063Z"
   },
   {
    "duration": 19,
    "start_time": "2023-05-17T16:08:36.087Z"
   },
   {
    "duration": 496,
    "start_time": "2023-05-17T16:08:36.107Z"
   },
   {
    "duration": 78,
    "start_time": "2023-05-17T16:08:36.605Z"
   },
   {
    "duration": 86,
    "start_time": "2023-05-17T16:08:36.687Z"
   },
   {
    "duration": 76,
    "start_time": "2023-05-17T16:08:39.032Z"
   },
   {
    "duration": 7,
    "start_time": "2023-05-17T16:09:18.594Z"
   },
   {
    "duration": 5,
    "start_time": "2023-05-17T16:09:26.612Z"
   },
   {
    "duration": 91,
    "start_time": "2023-05-17T16:09:35.891Z"
   },
   {
    "duration": 5,
    "start_time": "2023-05-17T16:09:58.117Z"
   },
   {
    "duration": 29,
    "start_time": "2023-05-17T16:10:22.197Z"
   },
   {
    "duration": 6,
    "start_time": "2023-05-17T16:11:54.209Z"
   },
   {
    "duration": 188,
    "start_time": "2023-05-17T16:12:32.801Z"
   },
   {
    "duration": 49,
    "start_time": "2023-05-17T16:12:49.686Z"
   },
   {
    "duration": 84,
    "start_time": "2023-05-17T16:12:55.289Z"
   },
   {
    "duration": 549,
    "start_time": "2023-05-17T16:13:16.316Z"
   },
   {
    "duration": 7,
    "start_time": "2023-05-17T16:14:57.429Z"
   },
   {
    "duration": 17,
    "start_time": "2023-05-17T16:15:03.780Z"
   },
   {
    "duration": 9,
    "start_time": "2023-05-17T16:15:15.427Z"
   },
   {
    "duration": 646,
    "start_time": "2023-05-17T16:15:19.242Z"
   },
   {
    "duration": 9,
    "start_time": "2023-05-17T16:18:35.422Z"
   },
   {
    "duration": 536,
    "start_time": "2023-05-17T16:18:51.640Z"
   },
   {
    "duration": 11,
    "start_time": "2023-05-17T16:19:49.197Z"
   },
   {
    "duration": 603,
    "start_time": "2023-05-17T16:19:55.098Z"
   },
   {
    "duration": 6,
    "start_time": "2023-05-17T16:20:38.390Z"
   },
   {
    "duration": 558,
    "start_time": "2023-05-17T16:20:45.457Z"
   },
   {
    "duration": 522,
    "start_time": "2023-05-17T16:20:54.892Z"
   },
   {
    "duration": 615,
    "start_time": "2023-05-17T16:20:59.690Z"
   },
   {
    "duration": 12,
    "start_time": "2023-05-17T16:21:17.592Z"
   },
   {
    "duration": 533,
    "start_time": "2023-05-17T16:25:08.461Z"
   },
   {
    "duration": 64840,
    "start_time": "2023-05-17T16:25:41.034Z"
   },
   {
    "duration": 566,
    "start_time": "2023-05-17T16:27:24.269Z"
   },
   {
    "duration": 6,
    "start_time": "2023-05-17T16:28:12.540Z"
   },
   {
    "duration": 13,
    "start_time": "2023-05-17T16:32:39.160Z"
   },
   {
    "duration": 63554,
    "start_time": "2023-05-17T16:33:40.098Z"
   },
   {
    "duration": 6,
    "start_time": "2023-05-17T17:30:15.596Z"
   },
   {
    "duration": 465,
    "start_time": "2023-05-17T17:30:24.805Z"
   },
   {
    "duration": 6,
    "start_time": "2023-05-17T17:30:53.207Z"
   },
   {
    "duration": 6,
    "start_time": "2023-05-17T17:31:33.509Z"
   },
   {
    "duration": 551,
    "start_time": "2023-05-17T17:31:41.656Z"
   },
   {
    "duration": 66327,
    "start_time": "2023-05-17T17:31:49.022Z"
   },
   {
    "duration": 593,
    "start_time": "2023-05-17T17:37:19.517Z"
   },
   {
    "duration": 2463,
    "start_time": "2023-05-17T17:38:01.943Z"
   },
   {
    "duration": 6,
    "start_time": "2023-05-17T17:38:04.409Z"
   },
   {
    "duration": 14,
    "start_time": "2023-05-17T17:38:04.417Z"
   },
   {
    "duration": 5,
    "start_time": "2023-05-17T17:38:04.434Z"
   },
   {
    "duration": 891,
    "start_time": "2023-05-17T17:38:04.441Z"
   },
   {
    "duration": 139,
    "start_time": "2023-05-17T17:38:05.334Z"
   },
   {
    "duration": 1618,
    "start_time": "2023-05-17T17:38:05.474Z"
   },
   {
    "duration": 3090,
    "start_time": "2023-05-17T17:38:07.093Z"
   },
   {
    "duration": 15,
    "start_time": "2023-05-17T17:38:10.185Z"
   },
   {
    "duration": 24,
    "start_time": "2023-05-17T17:38:10.203Z"
   },
   {
    "duration": 16,
    "start_time": "2023-05-17T17:38:10.230Z"
   },
   {
    "duration": 250,
    "start_time": "2023-05-17T17:38:10.248Z"
   },
   {
    "duration": 0,
    "start_time": "2023-05-17T17:38:10.500Z"
   },
   {
    "duration": 0,
    "start_time": "2023-05-17T17:38:10.501Z"
   },
   {
    "duration": 0,
    "start_time": "2023-05-17T17:38:10.502Z"
   },
   {
    "duration": 0,
    "start_time": "2023-05-17T17:38:10.504Z"
   },
   {
    "duration": 408,
    "start_time": "2023-05-17T17:38:35.709Z"
   },
   {
    "duration": 63,
    "start_time": "2023-05-17T17:38:38.192Z"
   },
   {
    "duration": 60,
    "start_time": "2023-05-17T17:38:40.401Z"
   },
   {
    "duration": 31,
    "start_time": "2023-05-17T17:38:45.316Z"
   },
   {
    "duration": 13,
    "start_time": "2023-05-17T17:38:47.061Z"
   },
   {
    "duration": 661,
    "start_time": "2023-05-17T17:39:10.256Z"
   },
   {
    "duration": 45,
    "start_time": "2023-05-17T17:41:58.851Z"
   },
   {
    "duration": 641,
    "start_time": "2023-05-17T17:42:00.926Z"
   },
   {
    "duration": 35,
    "start_time": "2023-05-17T17:42:17.806Z"
   },
   {
    "duration": 37,
    "start_time": "2023-05-17T17:42:25.221Z"
   },
   {
    "duration": 36,
    "start_time": "2023-05-17T17:42:37.208Z"
   },
   {
    "duration": 691,
    "start_time": "2023-05-17T17:42:39.821Z"
   },
   {
    "duration": 184,
    "start_time": "2023-05-17T17:44:24.998Z"
   },
   {
    "duration": 1203,
    "start_time": "2023-05-17T17:44:38.700Z"
   },
   {
    "duration": 280594,
    "start_time": "2023-05-17T17:44:59.036Z"
   },
   {
    "duration": 432718,
    "start_time": "2023-05-17T17:52:37.539Z"
   },
   {
    "duration": 2586,
    "start_time": "2023-05-18T06:18:51.654Z"
   },
   {
    "duration": 1764,
    "start_time": "2023-05-18T06:18:54.242Z"
   },
   {
    "duration": 7,
    "start_time": "2023-05-18T06:18:56.008Z"
   },
   {
    "duration": 11,
    "start_time": "2023-05-18T06:18:56.024Z"
   },
   {
    "duration": 1472,
    "start_time": "2023-05-18T06:18:56.037Z"
   },
   {
    "duration": 198,
    "start_time": "2023-05-18T06:18:57.517Z"
   },
   {
    "duration": 1743,
    "start_time": "2023-05-18T06:18:57.718Z"
   },
   {
    "duration": 2999,
    "start_time": "2023-05-18T06:18:59.463Z"
   },
   {
    "duration": 17,
    "start_time": "2023-05-18T06:19:02.464Z"
   },
   {
    "duration": 19,
    "start_time": "2023-05-18T06:19:02.484Z"
   },
   {
    "duration": 20,
    "start_time": "2023-05-18T06:19:02.505Z"
   },
   {
    "duration": 504,
    "start_time": "2023-05-18T06:19:02.528Z"
   },
   {
    "duration": 70,
    "start_time": "2023-05-18T06:19:03.039Z"
   },
   {
    "duration": 93,
    "start_time": "2023-05-18T06:19:03.113Z"
   },
   {
    "duration": 39,
    "start_time": "2023-05-18T06:19:03.208Z"
   },
   {
    "duration": 15,
    "start_time": "2023-05-18T06:19:03.249Z"
   },
   {
    "duration": 52,
    "start_time": "2023-05-18T06:19:03.266Z"
   },
   {
    "duration": 246,
    "start_time": "2023-05-18T06:19:03.319Z"
   },
   {
    "duration": 1039,
    "start_time": "2023-05-18T06:19:03.566Z"
   },
   {
    "duration": 5,
    "start_time": "2023-05-18T06:19:04.606Z"
   },
   {
    "duration": 427668,
    "start_time": "2023-05-18T06:19:04.613Z"
   },
   {
    "duration": 467384,
    "start_time": "2023-05-18T06:42:47.680Z"
   },
   {
    "duration": 1034887,
    "start_time": "2023-05-18T07:04:18.720Z"
   },
   {
    "duration": 8,
    "start_time": "2023-05-18T07:37:27.800Z"
   },
   {
    "duration": 5,
    "start_time": "2023-05-18T08:30:16.618Z"
   },
   {
    "duration": 204,
    "start_time": "2023-05-18T08:31:05.100Z"
   },
   {
    "duration": 27279,
    "start_time": "2023-05-18T08:31:28.622Z"
   },
   {
    "duration": 87611,
    "start_time": "2023-05-18T08:31:57.975Z"
   },
   {
    "duration": 11,
    "start_time": "2023-05-18T08:34:50.848Z"
   },
   {
    "duration": 13356,
    "start_time": "2023-05-18T08:35:33.080Z"
   },
   {
    "duration": 28924,
    "start_time": "2023-05-18T08:35:55.912Z"
   },
   {
    "duration": 2022,
    "start_time": "2023-05-18T08:36:42.005Z"
   },
   {
    "duration": 2109,
    "start_time": "2023-05-18T08:36:57.788Z"
   },
   {
    "duration": 137544,
    "start_time": "2023-05-18T08:37:13.692Z"
   },
   {
    "duration": 18594,
    "start_time": "2023-05-18T08:41:42.266Z"
   },
   {
    "duration": 2531,
    "start_time": "2023-05-18T08:42:11.161Z"
   },
   {
    "duration": 12,
    "start_time": "2023-05-18T08:42:57.955Z"
   },
   {
    "duration": 975065,
    "start_time": "2023-05-18T08:45:16.302Z"
   },
   {
    "duration": 19124,
    "start_time": "2023-05-18T09:01:51.883Z"
   },
   {
    "duration": 1019514,
    "start_time": "2023-05-18T09:04:02.198Z"
   },
   {
    "duration": 32150,
    "start_time": "2023-05-18T09:26:51.132Z"
   },
   {
    "duration": 33427,
    "start_time": "2023-05-18T09:27:57.294Z"
   },
   {
    "duration": 60247,
    "start_time": "2023-05-18T09:29:13.305Z"
   },
   {
    "duration": 17109,
    "start_time": "2023-05-18T09:37:54.022Z"
   },
   {
    "duration": 13749,
    "start_time": "2023-05-18T09:38:24.891Z"
   },
   {
    "duration": 35768,
    "start_time": "2023-05-18T09:38:51.081Z"
   },
   {
    "duration": 20424,
    "start_time": "2023-05-18T09:41:16.481Z"
   },
   {
    "duration": 64360,
    "start_time": "2023-05-18T09:41:43.552Z"
   },
   {
    "duration": 27078,
    "start_time": "2023-05-18T09:42:52.656Z"
   },
   {
    "duration": 26306,
    "start_time": "2023-05-18T09:43:40.025Z"
   },
   {
    "duration": 51980,
    "start_time": "2023-05-18T09:44:16.453Z"
   },
   {
    "duration": 10,
    "start_time": "2023-05-18T09:45:27.518Z"
   },
   {
    "duration": 32,
    "start_time": "2023-05-18T09:45:35.486Z"
   },
   {
    "duration": 31,
    "start_time": "2023-05-18T09:45:54.225Z"
   },
   {
    "duration": 127,
    "start_time": "2023-05-18T10:00:14.664Z"
   },
   {
    "duration": 144,
    "start_time": "2023-05-18T10:00:17.808Z"
   },
   {
    "duration": 206,
    "start_time": "2023-05-18T10:01:50.471Z"
   },
   {
    "duration": 187,
    "start_time": "2023-05-18T10:01:55.602Z"
   },
   {
    "duration": 195,
    "start_time": "2023-05-18T10:02:13.341Z"
   },
   {
    "duration": 159,
    "start_time": "2023-05-18T10:02:16.519Z"
   },
   {
    "duration": 96,
    "start_time": "2023-05-18T10:02:49.224Z"
   },
   {
    "duration": 224,
    "start_time": "2023-05-18T10:02:51.000Z"
   },
   {
    "duration": 17682,
    "start_time": "2023-05-18T10:02:56.122Z"
   },
   {
    "duration": 1833,
    "start_time": "2023-05-18T10:03:19.587Z"
   },
   {
    "duration": 5,
    "start_time": "2023-05-18T10:08:24.714Z"
   },
   {
    "duration": 17,
    "start_time": "2023-05-18T10:10:01.323Z"
   },
   {
    "duration": 52,
    "start_time": "2023-05-18T10:10:13.589Z"
   },
   {
    "duration": 205,
    "start_time": "2023-05-18T10:10:15.053Z"
   },
   {
    "duration": 1386,
    "start_time": "2023-05-18T10:10:18.992Z"
   },
   {
    "duration": 1447,
    "start_time": "2023-05-18T10:10:30.398Z"
   },
   {
    "duration": 73852,
    "start_time": "2023-05-18T10:10:47.189Z"
   },
   {
    "duration": 49779,
    "start_time": "2023-05-18T10:12:18.856Z"
   },
   {
    "duration": 49484,
    "start_time": "2023-05-18T10:13:25.311Z"
   },
   {
    "duration": 3165,
    "start_time": "2023-05-18T19:45:22.445Z"
   },
   {
    "duration": 1789,
    "start_time": "2023-05-18T19:45:25.613Z"
   },
   {
    "duration": 11,
    "start_time": "2023-05-18T19:45:27.404Z"
   },
   {
    "duration": 15,
    "start_time": "2023-05-18T19:45:27.418Z"
   },
   {
    "duration": 1121,
    "start_time": "2023-05-18T19:45:27.436Z"
   },
   {
    "duration": 142,
    "start_time": "2023-05-18T19:45:28.559Z"
   },
   {
    "duration": 1736,
    "start_time": "2023-05-18T19:45:28.704Z"
   },
   {
    "duration": 2792,
    "start_time": "2023-05-18T19:45:30.441Z"
   },
   {
    "duration": 13,
    "start_time": "2023-05-18T19:45:33.234Z"
   },
   {
    "duration": 11,
    "start_time": "2023-05-18T19:45:33.249Z"
   },
   {
    "duration": 37,
    "start_time": "2023-05-18T19:45:33.262Z"
   },
   {
    "duration": 407,
    "start_time": "2023-05-18T19:45:33.302Z"
   },
   {
    "duration": 155,
    "start_time": "2023-05-18T19:45:33.710Z"
   },
   {
    "duration": 192,
    "start_time": "2023-05-18T19:45:33.867Z"
   },
   {
    "duration": 58,
    "start_time": "2023-05-18T19:45:34.060Z"
   },
   {
    "duration": 47,
    "start_time": "2023-05-18T19:45:34.120Z"
   },
   {
    "duration": 54,
    "start_time": "2023-05-18T19:45:34.168Z"
   },
   {
    "duration": 13,
    "start_time": "2023-05-18T19:45:34.223Z"
   },
   {
    "duration": 23,
    "start_time": "2023-05-18T19:45:46.344Z"
   },
   {
    "duration": 4,
    "start_time": "2023-05-18T19:48:41.792Z"
   },
   {
    "duration": 163,
    "start_time": "2023-05-18T19:49:56.575Z"
   },
   {
    "duration": 46,
    "start_time": "2023-05-18T19:53:17.145Z"
   },
   {
    "duration": 84,
    "start_time": "2023-05-18T19:53:36.762Z"
   },
   {
    "duration": 214,
    "start_time": "2023-05-18T19:54:17.089Z"
   },
   {
    "duration": 1054,
    "start_time": "2023-05-18T19:54:21.460Z"
   },
   {
    "duration": 13618,
    "start_time": "2023-05-18T19:54:26.592Z"
   },
   {
    "duration": 13903,
    "start_time": "2023-05-18T20:13:23.013Z"
   },
   {
    "duration": 16654,
    "start_time": "2023-05-18T20:16:07.060Z"
   },
   {
    "duration": 54,
    "start_time": "2023-05-19T06:26:26.127Z"
   },
   {
    "duration": 2504,
    "start_time": "2023-05-19T06:26:30.664Z"
   },
   {
    "duration": 1586,
    "start_time": "2023-05-19T06:26:33.171Z"
   },
   {
    "duration": 7,
    "start_time": "2023-05-19T06:26:34.760Z"
   },
   {
    "duration": 31,
    "start_time": "2023-05-19T06:26:34.770Z"
   },
   {
    "duration": 1106,
    "start_time": "2023-05-19T06:26:34.804Z"
   },
   {
    "duration": 127,
    "start_time": "2023-05-19T06:26:35.912Z"
   },
   {
    "duration": 1648,
    "start_time": "2023-05-19T06:26:36.041Z"
   },
   {
    "duration": 2853,
    "start_time": "2023-05-19T06:26:37.691Z"
   },
   {
    "duration": 16,
    "start_time": "2023-05-19T06:26:40.546Z"
   },
   {
    "duration": 16,
    "start_time": "2023-05-19T06:26:40.563Z"
   },
   {
    "duration": 24,
    "start_time": "2023-05-19T06:26:40.580Z"
   },
   {
    "duration": 424,
    "start_time": "2023-05-19T06:26:40.625Z"
   },
   {
    "duration": 174,
    "start_time": "2023-05-19T06:26:41.051Z"
   },
   {
    "duration": 207,
    "start_time": "2023-05-19T06:26:41.228Z"
   },
   {
    "duration": 63,
    "start_time": "2023-05-19T06:26:41.436Z"
   },
   {
    "duration": 66,
    "start_time": "2023-05-19T06:26:41.501Z"
   },
   {
    "duration": 38,
    "start_time": "2023-05-19T06:26:41.569Z"
   },
   {
    "duration": 20,
    "start_time": "2023-05-19T06:26:41.609Z"
   },
   {
    "duration": 19,
    "start_time": "2023-05-19T06:26:44.311Z"
   },
   {
    "duration": 72,
    "start_time": "2023-05-19T06:28:38.720Z"
   },
   {
    "duration": 66,
    "start_time": "2023-05-19T06:29:24.550Z"
   },
   {
    "duration": 1722,
    "start_time": "2023-05-19T06:29:26.922Z"
   },
   {
    "duration": 20,
    "start_time": "2023-05-19T06:30:21.784Z"
   },
   {
    "duration": 34,
    "start_time": "2023-05-19T06:31:07.820Z"
   },
   {
    "duration": 105,
    "start_time": "2023-05-19T06:31:23.044Z"
   },
   {
    "duration": 33,
    "start_time": "2023-05-19T06:31:45.638Z"
   },
   {
    "duration": 31,
    "start_time": "2023-05-19T06:32:24.660Z"
   },
   {
    "duration": 24,
    "start_time": "2023-05-19T06:32:36.936Z"
   },
   {
    "duration": 19,
    "start_time": "2023-05-19T06:32:46.502Z"
   },
   {
    "duration": 14,
    "start_time": "2023-05-19T06:37:26.243Z"
   },
   {
    "duration": 6,
    "start_time": "2023-05-19T06:40:12.021Z"
   },
   {
    "duration": 7,
    "start_time": "2023-05-19T06:41:07.606Z"
   },
   {
    "duration": 5,
    "start_time": "2023-05-19T06:47:56.372Z"
   },
   {
    "duration": 1015,
    "start_time": "2023-05-19T06:53:07.689Z"
   },
   {
    "duration": 852,
    "start_time": "2023-05-19T06:54:17.491Z"
   },
   {
    "duration": 186,
    "start_time": "2023-05-19T06:58:25.337Z"
   },
   {
    "duration": 8,
    "start_time": "2023-05-19T07:03:40.711Z"
   },
   {
    "duration": 7,
    "start_time": "2023-05-19T07:04:48.894Z"
   },
   {
    "duration": 6,
    "start_time": "2023-05-19T07:05:16.879Z"
   },
   {
    "duration": 25,
    "start_time": "2023-05-19T07:10:05.189Z"
   },
   {
    "duration": 45,
    "start_time": "2023-05-19T07:10:57.331Z"
   },
   {
    "duration": 20,
    "start_time": "2023-05-19T07:14:18.119Z"
   },
   {
    "duration": 19,
    "start_time": "2023-05-19T07:14:21.914Z"
   },
   {
    "duration": 20,
    "start_time": "2023-05-19T07:14:45.600Z"
   },
   {
    "duration": 26,
    "start_time": "2023-05-19T07:15:04.499Z"
   },
   {
    "duration": 82,
    "start_time": "2023-05-19T07:15:50.686Z"
   },
   {
    "duration": 84,
    "start_time": "2023-05-19T07:16:07.517Z"
   },
   {
    "duration": 4271,
    "start_time": "2023-05-19T07:16:26.983Z"
   },
   {
    "duration": 7008,
    "start_time": "2023-05-19T07:18:44.792Z"
   },
   {
    "duration": 71530,
    "start_time": "2023-05-19T10:35:43.801Z"
   },
   {
    "duration": 5943,
    "start_time": "2023-05-19T10:37:07.025Z"
   },
   {
    "duration": 28407,
    "start_time": "2023-05-19T10:37:16.934Z"
   },
   {
    "duration": 29620,
    "start_time": "2023-05-19T10:37:53.927Z"
   },
   {
    "duration": 612,
    "start_time": "2023-05-19T10:41:23.457Z"
   },
   {
    "duration": 734,
    "start_time": "2023-05-19T10:41:29.779Z"
   },
   {
    "duration": 678,
    "start_time": "2023-05-19T10:41:37.378Z"
   },
   {
    "duration": 18,
    "start_time": "2023-05-19T10:41:46.443Z"
   },
   {
    "duration": 33,
    "start_time": "2023-05-19T10:42:08.501Z"
   },
   {
    "duration": 32,
    "start_time": "2023-05-19T10:42:19.941Z"
   },
   {
    "duration": 36,
    "start_time": "2023-05-19T10:42:26.412Z"
   },
   {
    "duration": 10,
    "start_time": "2023-05-19T10:42:40.151Z"
   },
   {
    "duration": 5669,
    "start_time": "2023-05-19T10:42:45.156Z"
   },
   {
    "duration": 244,
    "start_time": "2023-05-19T10:42:56.445Z"
   },
   {
    "duration": 243,
    "start_time": "2023-05-19T10:43:02.234Z"
   },
   {
    "duration": 244,
    "start_time": "2023-05-19T10:43:06.270Z"
   },
   {
    "duration": 268,
    "start_time": "2023-05-19T10:43:12.642Z"
   },
   {
    "duration": 43,
    "start_time": "2023-05-19T10:43:16.800Z"
   },
   {
    "duration": 1227,
    "start_time": "2023-05-19T11:04:43.414Z"
   },
   {
    "duration": 999,
    "start_time": "2023-05-19T11:05:00.258Z"
   },
   {
    "duration": 1216,
    "start_time": "2023-05-19T11:08:30.145Z"
   },
   {
    "duration": 10,
    "start_time": "2023-05-19T11:27:23.750Z"
   },
   {
    "duration": 80,
    "start_time": "2023-05-19T11:31:54.660Z"
   },
   {
    "duration": 75,
    "start_time": "2023-05-19T11:32:09.556Z"
   },
   {
    "duration": 2411,
    "start_time": "2023-05-19T11:54:41.774Z"
   },
   {
    "duration": 6,
    "start_time": "2023-05-19T11:54:44.188Z"
   },
   {
    "duration": 24,
    "start_time": "2023-05-19T11:54:44.196Z"
   },
   {
    "duration": 23,
    "start_time": "2023-05-19T11:54:44.223Z"
   },
   {
    "duration": 820,
    "start_time": "2023-05-19T11:54:44.247Z"
   },
   {
    "duration": 134,
    "start_time": "2023-05-19T11:54:45.069Z"
   },
   {
    "duration": 1603,
    "start_time": "2023-05-19T11:54:45.205Z"
   },
   {
    "duration": 2882,
    "start_time": "2023-05-19T11:54:46.810Z"
   },
   {
    "duration": 14,
    "start_time": "2023-05-19T11:54:49.694Z"
   },
   {
    "duration": 19,
    "start_time": "2023-05-19T11:54:49.728Z"
   },
   {
    "duration": 19,
    "start_time": "2023-05-19T11:54:49.749Z"
   },
   {
    "duration": 424,
    "start_time": "2023-05-19T11:54:49.770Z"
   },
   {
    "duration": 142,
    "start_time": "2023-05-19T11:54:50.196Z"
   },
   {
    "duration": 147,
    "start_time": "2023-05-19T11:54:50.339Z"
   },
   {
    "duration": 103,
    "start_time": "2023-05-19T11:54:50.488Z"
   },
   {
    "duration": 1809,
    "start_time": "2023-05-19T11:54:50.593Z"
   },
   {
    "duration": 58,
    "start_time": "2023-05-19T11:54:52.404Z"
   },
   {
    "duration": 40,
    "start_time": "2023-05-19T11:54:52.463Z"
   },
   {
    "duration": 38,
    "start_time": "2023-05-19T11:54:52.505Z"
   },
   {
    "duration": 55,
    "start_time": "2023-05-19T11:54:52.545Z"
   },
   {
    "duration": 6392,
    "start_time": "2023-05-19T11:54:52.602Z"
   },
   {
    "duration": 6095,
    "start_time": "2023-05-19T11:54:58.996Z"
   },
   {
    "duration": 326,
    "start_time": "2023-05-19T11:55:05.092Z"
   },
   {
    "duration": 57,
    "start_time": "2023-05-19T11:55:05.420Z"
   },
   {
    "duration": 17,
    "start_time": "2023-05-19T11:55:05.478Z"
   },
   {
    "duration": 496,
    "start_time": "2023-05-19T11:55:05.496Z"
   },
   {
    "duration": 6,
    "start_time": "2023-05-19T11:55:05.994Z"
   },
   {
    "duration": 45,
    "start_time": "2023-05-19T11:55:06.004Z"
   },
   {
    "duration": 181,
    "start_time": "2023-05-19T11:55:06.050Z"
   },
   {
    "duration": 11,
    "start_time": "2023-05-19T11:55:06.235Z"
   },
   {
    "duration": 198,
    "start_time": "2023-05-19T11:55:06.248Z"
   },
   {
    "duration": 130159,
    "start_time": "2023-05-19T11:55:06.449Z"
   },
   {
    "duration": 12422,
    "start_time": "2023-05-19T11:57:16.610Z"
   },
   {
    "duration": 200,
    "start_time": "2023-05-19T11:57:29.037Z"
   },
   {
    "duration": 5,
    "start_time": "2023-05-19T11:57:29.239Z"
   },
   {
    "duration": 12,
    "start_time": "2023-05-19T11:57:29.245Z"
   },
   {
    "duration": 142,
    "start_time": "2023-05-19T11:57:29.258Z"
   },
   {
    "duration": 3,
    "start_time": "2023-05-19T11:57:29.401Z"
   },
   {
    "duration": 112447,
    "start_time": "2023-05-19T11:57:29.406Z"
   },
   {
    "duration": 81,
    "start_time": "2023-05-19T11:59:21.855Z"
   },
   {
    "duration": 40607,
    "start_time": "2023-05-19T11:59:21.938Z"
   },
   {
    "duration": 482,
    "start_time": "2023-05-19T12:00:02.547Z"
   },
   {
    "duration": 8,
    "start_time": "2023-05-19T12:00:03.030Z"
   },
   {
    "duration": 33,
    "start_time": "2023-05-19T12:00:03.040Z"
   },
   {
    "duration": 442975,
    "start_time": "2023-05-19T12:00:03.074Z"
   },
   {
    "duration": 74,
    "start_time": "2023-05-19T12:07:26.051Z"
   },
   {
    "duration": 35014,
    "start_time": "2023-05-19T12:07:26.127Z"
   },
   {
    "duration": 9391,
    "start_time": "2023-05-19T12:08:01.143Z"
   },
   {
    "duration": 5,
    "start_time": "2023-05-19T12:08:10.536Z"
   },
   {
    "duration": 426368,
    "start_time": "2023-05-19T12:08:10.542Z"
   },
   {
    "duration": 5477,
    "start_time": "2023-05-19T12:15:16.911Z"
   },
   {
    "duration": 54,
    "start_time": "2023-05-19T12:15:22.389Z"
   },
   {
    "duration": 5,
    "start_time": "2023-05-19T12:15:22.445Z"
   },
   {
    "duration": 12,
    "start_time": "2023-05-19T12:15:22.452Z"
   },
   {
    "duration": 2157,
    "start_time": "2023-05-19T12:52:36.194Z"
   },
   {
    "duration": 7,
    "start_time": "2023-05-19T12:52:38.353Z"
   },
   {
    "duration": 62,
    "start_time": "2023-05-19T12:52:38.361Z"
   },
   {
    "duration": 29,
    "start_time": "2023-05-19T12:52:38.426Z"
   },
   {
    "duration": 776,
    "start_time": "2023-05-19T12:52:38.458Z"
   },
   {
    "duration": 148,
    "start_time": "2023-05-19T12:52:39.236Z"
   },
   {
    "duration": 1467,
    "start_time": "2023-05-19T12:52:39.386Z"
   },
   {
    "duration": 2560,
    "start_time": "2023-05-19T12:52:40.855Z"
   },
   {
    "duration": 19,
    "start_time": "2023-05-19T12:52:43.417Z"
   },
   {
    "duration": 13,
    "start_time": "2023-05-19T12:52:43.439Z"
   },
   {
    "duration": 37,
    "start_time": "2023-05-19T12:52:43.454Z"
   },
   {
    "duration": 411,
    "start_time": "2023-05-19T12:52:43.493Z"
   },
   {
    "duration": 142,
    "start_time": "2023-05-19T12:52:43.906Z"
   },
   {
    "duration": 162,
    "start_time": "2023-05-19T12:52:44.050Z"
   },
   {
    "duration": 95,
    "start_time": "2023-05-19T12:52:44.214Z"
   },
   {
    "duration": 2006,
    "start_time": "2023-05-19T12:52:44.311Z"
   },
   {
    "duration": 47,
    "start_time": "2023-05-19T12:52:46.319Z"
   },
   {
    "duration": 51,
    "start_time": "2023-05-19T12:52:46.368Z"
   },
   {
    "duration": 25,
    "start_time": "2023-05-19T12:52:46.421Z"
   },
   {
    "duration": 43,
    "start_time": "2023-05-19T12:53:03.205Z"
   },
   {
    "duration": 4,
    "start_time": "2023-05-19T12:53:08.804Z"
   },
   {
    "duration": 7154,
    "start_time": "2023-05-19T14:52:15.549Z"
   },
   {
    "duration": 119612,
    "start_time": "2023-05-19T14:52:29.798Z"
   },
   {
    "duration": 207,
    "start_time": "2023-05-19T14:54:31.679Z"
   },
   {
    "duration": 5,
    "start_time": "2023-05-19T14:54:34.818Z"
   },
   {
    "duration": 6016,
    "start_time": "2023-05-19T14:55:03.179Z"
   },
   {
    "duration": 52,
    "start_time": "2023-05-19T14:55:11.442Z"
   },
   {
    "duration": 5,
    "start_time": "2023-05-19T14:55:13.767Z"
   },
   {
    "duration": 10,
    "start_time": "2023-05-19T15:01:02.812Z"
   },
   {
    "duration": 2341,
    "start_time": "2023-05-19T15:08:20.333Z"
   },
   {
    "duration": 5,
    "start_time": "2023-05-19T15:08:22.677Z"
   },
   {
    "duration": 10,
    "start_time": "2023-05-19T15:08:22.684Z"
   },
   {
    "duration": 11,
    "start_time": "2023-05-19T15:08:22.695Z"
   },
   {
    "duration": 754,
    "start_time": "2023-05-19T15:08:22.709Z"
   },
   {
    "duration": 126,
    "start_time": "2023-05-19T15:08:23.465Z"
   },
   {
    "duration": 1503,
    "start_time": "2023-05-19T15:08:23.593Z"
   },
   {
    "duration": 2473,
    "start_time": "2023-05-19T15:08:25.098Z"
   },
   {
    "duration": 12,
    "start_time": "2023-05-19T15:08:27.573Z"
   },
   {
    "duration": 36,
    "start_time": "2023-05-19T15:08:27.587Z"
   },
   {
    "duration": 32,
    "start_time": "2023-05-19T15:08:27.625Z"
   },
   {
    "duration": 392,
    "start_time": "2023-05-19T15:08:27.658Z"
   },
   {
    "duration": 127,
    "start_time": "2023-05-19T15:08:28.051Z"
   },
   {
    "duration": 142,
    "start_time": "2023-05-19T15:08:28.181Z"
   },
   {
    "duration": 83,
    "start_time": "2023-05-19T15:08:28.325Z"
   },
   {
    "duration": 1846,
    "start_time": "2023-05-19T15:08:28.410Z"
   },
   {
    "duration": 42,
    "start_time": "2023-05-19T15:08:30.258Z"
   },
   {
    "duration": 48,
    "start_time": "2023-05-19T15:08:30.302Z"
   },
   {
    "duration": 41,
    "start_time": "2023-05-19T15:08:30.352Z"
   },
   {
    "duration": 71,
    "start_time": "2023-05-19T15:08:30.395Z"
   },
   {
    "duration": 5860,
    "start_time": "2023-05-19T15:08:30.468Z"
   },
   {
    "duration": 5351,
    "start_time": "2023-05-19T15:08:36.330Z"
   },
   {
    "duration": 241,
    "start_time": "2023-05-19T15:08:41.683Z"
   },
   {
    "duration": 41,
    "start_time": "2023-05-19T15:08:41.926Z"
   },
   {
    "duration": 5,
    "start_time": "2023-05-19T15:08:41.968Z"
   },
   {
    "duration": 472,
    "start_time": "2023-05-19T15:08:41.974Z"
   },
   {
    "duration": 6,
    "start_time": "2023-05-19T15:08:42.448Z"
   },
   {
    "duration": 5,
    "start_time": "2023-05-19T15:08:42.456Z"
   },
   {
    "duration": 169,
    "start_time": "2023-05-19T15:08:42.462Z"
   },
   {
    "duration": 96,
    "start_time": "2023-05-19T15:08:42.633Z"
   },
   {
    "duration": 105,
    "start_time": "2023-05-19T15:08:42.731Z"
   },
   {
    "duration": 124900,
    "start_time": "2023-05-19T15:08:42.838Z"
   },
   {
    "duration": 13220,
    "start_time": "2023-05-19T15:10:47.740Z"
   },
   {
    "duration": 283,
    "start_time": "2023-05-19T15:11:00.964Z"
   },
   {
    "duration": 5,
    "start_time": "2023-05-19T15:11:01.249Z"
   },
   {
    "duration": 105,
    "start_time": "2023-05-19T15:11:01.257Z"
   },
   {
    "duration": 207,
    "start_time": "2023-05-19T15:11:01.364Z"
   },
   {
    "duration": 5,
    "start_time": "2023-05-19T15:11:01.573Z"
   },
   {
    "duration": 224064,
    "start_time": "2023-05-19T15:11:01.580Z"
   },
   {
    "duration": 0,
    "start_time": "2023-05-19T15:14:45.650Z"
   },
   {
    "duration": 0,
    "start_time": "2023-05-19T15:14:45.651Z"
   },
   {
    "duration": 0,
    "start_time": "2023-05-19T15:14:45.652Z"
   },
   {
    "duration": 0,
    "start_time": "2023-05-19T15:14:45.653Z"
   },
   {
    "duration": 0,
    "start_time": "2023-05-19T15:14:45.654Z"
   },
   {
    "duration": 0,
    "start_time": "2023-05-19T15:14:45.655Z"
   },
   {
    "duration": 0,
    "start_time": "2023-05-19T15:14:45.656Z"
   },
   {
    "duration": 0,
    "start_time": "2023-05-19T15:14:45.725Z"
   },
   {
    "duration": 0,
    "start_time": "2023-05-19T15:14:45.726Z"
   },
   {
    "duration": 0,
    "start_time": "2023-05-19T15:14:45.727Z"
   },
   {
    "duration": 0,
    "start_time": "2023-05-19T15:14:45.728Z"
   },
   {
    "duration": 0,
    "start_time": "2023-05-19T15:14:45.729Z"
   },
   {
    "duration": 0,
    "start_time": "2023-05-19T15:14:45.730Z"
   },
   {
    "duration": 0,
    "start_time": "2023-05-19T15:14:45.731Z"
   },
   {
    "duration": 0,
    "start_time": "2023-05-19T15:14:45.732Z"
   },
   {
    "duration": 2393,
    "start_time": "2023-05-19T16:01:08.987Z"
   },
   {
    "duration": 1479,
    "start_time": "2023-05-19T16:01:11.382Z"
   },
   {
    "duration": 5,
    "start_time": "2023-05-19T16:01:12.863Z"
   },
   {
    "duration": 9,
    "start_time": "2023-05-19T16:01:12.871Z"
   },
   {
    "duration": 1220,
    "start_time": "2023-05-19T16:01:12.882Z"
   },
   {
    "duration": 361,
    "start_time": "2023-05-19T16:01:14.104Z"
   },
   {
    "duration": 1469,
    "start_time": "2023-05-19T16:01:14.467Z"
   },
   {
    "duration": 2719,
    "start_time": "2023-05-19T16:01:15.938Z"
   },
   {
    "duration": 15,
    "start_time": "2023-05-19T16:01:18.659Z"
   },
   {
    "duration": 12,
    "start_time": "2023-05-19T16:01:18.677Z"
   },
   {
    "duration": 19,
    "start_time": "2023-05-19T16:01:18.691Z"
   },
   {
    "duration": 621,
    "start_time": "2023-05-19T16:01:18.712Z"
   },
   {
    "duration": 159,
    "start_time": "2023-05-19T16:01:19.335Z"
   },
   {
    "duration": 155,
    "start_time": "2023-05-19T16:01:19.496Z"
   },
   {
    "duration": 85,
    "start_time": "2023-05-19T16:01:19.653Z"
   },
   {
    "duration": 2871,
    "start_time": "2023-05-19T16:01:19.739Z"
   },
   {
    "duration": 134,
    "start_time": "2023-05-19T16:01:22.612Z"
   },
   {
    "duration": 35,
    "start_time": "2023-05-19T16:01:22.748Z"
   },
   {
    "duration": 38,
    "start_time": "2023-05-19T16:01:22.784Z"
   },
   {
    "duration": 47,
    "start_time": "2023-05-19T16:01:22.824Z"
   },
   {
    "duration": 7526,
    "start_time": "2023-05-19T16:01:22.873Z"
   },
   {
    "duration": 6260,
    "start_time": "2023-05-19T16:01:30.401Z"
   },
   {
    "duration": 310,
    "start_time": "2023-05-19T16:01:36.663Z"
   },
   {
    "duration": 128,
    "start_time": "2023-05-19T16:01:36.975Z"
   },
   {
    "duration": 10,
    "start_time": "2023-05-19T16:01:37.104Z"
   },
   {
    "duration": 481,
    "start_time": "2023-05-19T16:01:37.117Z"
   },
   {
    "duration": 15,
    "start_time": "2023-05-19T16:03:43.798Z"
   },
   {
    "duration": 15,
    "start_time": "2023-05-19T16:03:53.794Z"
   },
   {
    "duration": 1697,
    "start_time": "2023-05-19T16:44:41.469Z"
   },
   {
    "duration": 5,
    "start_time": "2023-05-19T16:44:46.237Z"
   },
   {
    "duration": 1208,
    "start_time": "2023-05-19T17:00:57.011Z"
   },
   {
    "duration": 3,
    "start_time": "2023-05-19T17:01:00.568Z"
   },
   {
    "duration": 915,
    "start_time": "2023-05-19T17:01:01.181Z"
   },
   {
    "duration": 16,
    "start_time": "2023-05-19T17:01:10.295Z"
   },
   {
    "duration": 3008,
    "start_time": "2023-05-19T17:02:41.230Z"
   },
   {
    "duration": 4,
    "start_time": "2023-05-19T17:02:44.240Z"
   },
   {
    "duration": 9,
    "start_time": "2023-05-19T17:02:44.246Z"
   },
   {
    "duration": 13,
    "start_time": "2023-05-19T17:02:44.257Z"
   },
   {
    "duration": 835,
    "start_time": "2023-05-19T17:02:44.272Z"
   },
   {
    "duration": 128,
    "start_time": "2023-05-19T17:02:45.109Z"
   },
   {
    "duration": 1485,
    "start_time": "2023-05-19T17:02:45.239Z"
   },
   {
    "duration": 2570,
    "start_time": "2023-05-19T17:02:46.728Z"
   },
   {
    "duration": 34,
    "start_time": "2023-05-19T17:02:49.300Z"
   },
   {
    "duration": 13,
    "start_time": "2023-05-19T17:02:49.335Z"
   },
   {
    "duration": 26,
    "start_time": "2023-05-19T17:02:49.350Z"
   },
   {
    "duration": 454,
    "start_time": "2023-05-19T17:02:49.378Z"
   },
   {
    "duration": 155,
    "start_time": "2023-05-19T17:02:49.834Z"
   },
   {
    "duration": 178,
    "start_time": "2023-05-19T17:02:49.993Z"
   },
   {
    "duration": 92,
    "start_time": "2023-05-19T17:02:50.173Z"
   },
   {
    "duration": 1822,
    "start_time": "2023-05-19T17:02:50.267Z"
   },
   {
    "duration": 62,
    "start_time": "2023-05-19T17:02:52.090Z"
   },
   {
    "duration": 39,
    "start_time": "2023-05-19T17:02:52.159Z"
   },
   {
    "duration": 36,
    "start_time": "2023-05-19T17:02:52.200Z"
   },
   {
    "duration": 55,
    "start_time": "2023-05-19T17:02:52.238Z"
   },
   {
    "duration": 6847,
    "start_time": "2023-05-19T17:02:52.294Z"
   },
   {
    "duration": 6394,
    "start_time": "2023-05-19T17:02:59.143Z"
   },
   {
    "duration": 297,
    "start_time": "2023-05-19T17:03:05.538Z"
   },
   {
    "duration": 41,
    "start_time": "2023-05-19T17:03:05.837Z"
   },
   {
    "duration": 4,
    "start_time": "2023-05-19T17:03:05.880Z"
   },
   {
    "duration": 49,
    "start_time": "2023-05-19T17:03:05.885Z"
   },
   {
    "duration": 502,
    "start_time": "2023-05-19T17:03:05.936Z"
   },
   {
    "duration": 6,
    "start_time": "2023-05-19T17:03:06.440Z"
   },
   {
    "duration": 11,
    "start_time": "2023-05-19T17:03:06.448Z"
   },
   {
    "duration": 79,
    "start_time": "2023-05-19T17:03:06.461Z"
   },
   {
    "duration": 92,
    "start_time": "2023-05-19T17:03:06.542Z"
   },
   {
    "duration": 107,
    "start_time": "2023-05-19T17:03:06.635Z"
   },
   {
    "duration": 127150,
    "start_time": "2023-05-19T17:03:06.744Z"
   },
   {
    "duration": 0,
    "start_time": "2023-05-19T17:05:13.897Z"
   },
   {
    "duration": 0,
    "start_time": "2023-05-19T17:05:13.898Z"
   },
   {
    "duration": 0,
    "start_time": "2023-05-19T17:05:13.899Z"
   },
   {
    "duration": 0,
    "start_time": "2023-05-19T17:05:13.900Z"
   },
   {
    "duration": 0,
    "start_time": "2023-05-19T17:05:13.901Z"
   },
   {
    "duration": 0,
    "start_time": "2023-05-19T17:05:13.902Z"
   },
   {
    "duration": 0,
    "start_time": "2023-05-19T17:05:13.904Z"
   },
   {
    "duration": 0,
    "start_time": "2023-05-19T17:05:13.905Z"
   },
   {
    "duration": 0,
    "start_time": "2023-05-19T17:05:13.906Z"
   },
   {
    "duration": 0,
    "start_time": "2023-05-19T17:05:13.907Z"
   },
   {
    "duration": 0,
    "start_time": "2023-05-19T17:05:13.919Z"
   },
   {
    "duration": 0,
    "start_time": "2023-05-19T17:05:13.920Z"
   },
   {
    "duration": 0,
    "start_time": "2023-05-19T17:05:13.921Z"
   },
   {
    "duration": 0,
    "start_time": "2023-05-19T17:05:13.922Z"
   },
   {
    "duration": 0,
    "start_time": "2023-05-19T17:05:13.923Z"
   },
   {
    "duration": 0,
    "start_time": "2023-05-19T17:05:13.924Z"
   },
   {
    "duration": 0,
    "start_time": "2023-05-19T17:05:13.926Z"
   },
   {
    "duration": 0,
    "start_time": "2023-05-19T17:05:13.927Z"
   },
   {
    "duration": 0,
    "start_time": "2023-05-19T17:05:13.928Z"
   },
   {
    "duration": 0,
    "start_time": "2023-05-19T17:05:13.929Z"
   },
   {
    "duration": 0,
    "start_time": "2023-05-19T17:05:13.930Z"
   },
   {
    "duration": 0,
    "start_time": "2023-05-19T17:05:13.931Z"
   },
   {
    "duration": 2204,
    "start_time": "2023-05-19T17:06:06.586Z"
   },
   {
    "duration": 5,
    "start_time": "2023-05-19T17:06:08.792Z"
   },
   {
    "duration": 9,
    "start_time": "2023-05-19T17:06:08.799Z"
   },
   {
    "duration": 32,
    "start_time": "2023-05-19T17:06:08.811Z"
   },
   {
    "duration": 784,
    "start_time": "2023-05-19T17:06:08.844Z"
   },
   {
    "duration": 123,
    "start_time": "2023-05-19T17:06:09.630Z"
   },
   {
    "duration": 1559,
    "start_time": "2023-05-19T17:06:09.755Z"
   },
   {
    "duration": 2516,
    "start_time": "2023-05-19T17:06:11.317Z"
   },
   {
    "duration": 12,
    "start_time": "2023-05-19T17:06:13.835Z"
   },
   {
    "duration": 14,
    "start_time": "2023-05-19T17:06:13.849Z"
   },
   {
    "duration": 30,
    "start_time": "2023-05-19T17:06:13.864Z"
   },
   {
    "duration": 406,
    "start_time": "2023-05-19T17:06:13.895Z"
   },
   {
    "duration": 158,
    "start_time": "2023-05-19T17:06:14.303Z"
   },
   {
    "duration": 169,
    "start_time": "2023-05-19T17:06:14.462Z"
   },
   {
    "duration": 116,
    "start_time": "2023-05-19T17:06:14.634Z"
   },
   {
    "duration": 1851,
    "start_time": "2023-05-19T17:06:14.752Z"
   },
   {
    "duration": 56,
    "start_time": "2023-05-19T17:06:16.605Z"
   },
   {
    "duration": 37,
    "start_time": "2023-05-19T17:06:16.662Z"
   },
   {
    "duration": 43,
    "start_time": "2023-05-19T17:06:16.700Z"
   },
   {
    "duration": 56,
    "start_time": "2023-05-19T17:06:16.744Z"
   },
   {
    "duration": 6530,
    "start_time": "2023-05-19T17:06:16.802Z"
   },
   {
    "duration": 5771,
    "start_time": "2023-05-19T17:06:23.333Z"
   },
   {
    "duration": 292,
    "start_time": "2023-05-19T17:06:29.106Z"
   },
   {
    "duration": 46,
    "start_time": "2023-05-19T17:06:29.399Z"
   },
   {
    "duration": 4,
    "start_time": "2023-05-19T17:06:29.447Z"
   },
   {
    "duration": 13,
    "start_time": "2023-05-19T17:06:29.452Z"
   },
   {
    "duration": 438,
    "start_time": "2023-05-19T17:06:29.467Z"
   },
   {
    "duration": 24,
    "start_time": "2023-05-19T17:06:29.909Z"
   },
   {
    "duration": 3,
    "start_time": "2023-05-19T17:06:29.935Z"
   },
   {
    "duration": 91,
    "start_time": "2023-05-19T17:06:29.940Z"
   },
   {
    "duration": 112,
    "start_time": "2023-05-19T17:06:30.033Z"
   },
   {
    "duration": 199,
    "start_time": "2023-05-19T17:06:30.147Z"
   },
   {
    "duration": 140190,
    "start_time": "2023-05-19T17:06:30.348Z"
   },
   {
    "duration": 13834,
    "start_time": "2023-05-19T17:08:50.540Z"
   },
   {
    "duration": 81,
    "start_time": "2023-05-19T17:09:04.376Z"
   },
   {
    "duration": 4,
    "start_time": "2023-05-19T17:09:04.459Z"
   },
   {
    "duration": 6,
    "start_time": "2023-05-19T17:09:04.465Z"
   },
   {
    "duration": 144,
    "start_time": "2023-05-19T17:09:04.472Z"
   },
   {
    "duration": 6,
    "start_time": "2023-05-19T17:09:04.629Z"
   },
   {
    "duration": 1032688,
    "start_time": "2023-05-19T17:09:04.638Z"
   },
   {
    "duration": 10,
    "start_time": "2023-05-19T17:26:17.328Z"
   },
   {
    "duration": 210602,
    "start_time": "2023-05-19T17:26:17.340Z"
   },
   {
    "duration": 503,
    "start_time": "2023-05-19T17:29:48.031Z"
   },
   {
    "duration": 8,
    "start_time": "2023-05-19T17:29:48.536Z"
   },
   {
    "duration": 80,
    "start_time": "2023-05-19T17:29:48.546Z"
   },
   {
    "duration": 482391,
    "start_time": "2023-05-19T17:29:48.633Z"
   },
   {
    "duration": 0,
    "start_time": "2023-05-19T17:37:51.028Z"
   },
   {
    "duration": 0,
    "start_time": "2023-05-19T17:37:51.029Z"
   },
   {
    "duration": 0,
    "start_time": "2023-05-19T17:37:51.030Z"
   },
   {
    "duration": 0,
    "start_time": "2023-05-19T17:37:51.031Z"
   },
   {
    "duration": 0,
    "start_time": "2023-05-19T17:37:51.032Z"
   },
   {
    "duration": 0,
    "start_time": "2023-05-19T17:37:51.032Z"
   },
   {
    "duration": 0,
    "start_time": "2023-05-19T17:37:51.033Z"
   },
   {
    "duration": 0,
    "start_time": "2023-05-19T17:37:51.034Z"
   },
   {
    "duration": 0,
    "start_time": "2023-05-19T17:37:51.035Z"
   },
   {
    "duration": 2454,
    "start_time": "2023-05-19T18:05:57.602Z"
   },
   {
    "duration": 16,
    "start_time": "2023-05-19T18:06:00.060Z"
   },
   {
    "duration": 101,
    "start_time": "2023-05-19T18:06:00.078Z"
   },
   {
    "duration": 70,
    "start_time": "2023-05-19T18:06:00.182Z"
   },
   {
    "duration": 1003,
    "start_time": "2023-05-19T18:06:00.254Z"
   },
   {
    "duration": 134,
    "start_time": "2023-05-19T18:06:01.260Z"
   },
   {
    "duration": 1773,
    "start_time": "2023-05-19T18:06:01.396Z"
   },
   {
    "duration": 3146,
    "start_time": "2023-05-19T18:06:03.171Z"
   },
   {
    "duration": 25,
    "start_time": "2023-05-19T18:06:06.328Z"
   },
   {
    "duration": 9,
    "start_time": "2023-05-19T18:06:06.356Z"
   },
   {
    "duration": 28,
    "start_time": "2023-05-19T18:06:06.366Z"
   },
   {
    "duration": 472,
    "start_time": "2023-05-19T18:06:06.396Z"
   },
   {
    "duration": 140,
    "start_time": "2023-05-19T18:06:06.870Z"
   },
   {
    "duration": 169,
    "start_time": "2023-05-19T18:06:07.012Z"
   },
   {
    "duration": 109,
    "start_time": "2023-05-19T18:06:07.183Z"
   },
   {
    "duration": 2373,
    "start_time": "2023-05-19T18:06:07.294Z"
   },
   {
    "duration": 39,
    "start_time": "2023-05-19T18:06:09.669Z"
   },
   {
    "duration": 63,
    "start_time": "2023-05-19T18:06:09.725Z"
   },
   {
    "duration": 34,
    "start_time": "2023-05-19T18:06:09.790Z"
   },
   {
    "duration": 97,
    "start_time": "2023-05-19T18:06:09.826Z"
   },
   {
    "duration": 7530,
    "start_time": "2023-05-19T18:06:09.925Z"
   },
   {
    "duration": 7885,
    "start_time": "2023-05-19T18:06:17.457Z"
   },
   {
    "duration": 345,
    "start_time": "2023-05-19T18:06:25.343Z"
   },
   {
    "duration": 47,
    "start_time": "2023-05-19T18:06:25.690Z"
   },
   {
    "duration": 25,
    "start_time": "2023-05-19T18:06:25.739Z"
   },
   {
    "duration": 6,
    "start_time": "2023-05-19T18:06:25.766Z"
   },
   {
    "duration": 494,
    "start_time": "2023-05-19T18:06:25.773Z"
   },
   {
    "duration": 6,
    "start_time": "2023-05-19T18:06:26.270Z"
   },
   {
    "duration": 11,
    "start_time": "2023-05-19T18:06:26.278Z"
   },
   {
    "duration": 69,
    "start_time": "2023-05-19T18:06:26.290Z"
   },
   {
    "duration": 198,
    "start_time": "2023-05-19T18:06:26.361Z"
   },
   {
    "duration": 67,
    "start_time": "2023-05-19T18:06:26.561Z"
   },
   {
    "duration": 150150,
    "start_time": "2023-05-19T18:06:26.633Z"
   },
   {
    "duration": 3,
    "start_time": "2023-05-19T18:08:56.785Z"
   },
   {
    "duration": 14976,
    "start_time": "2023-05-19T18:08:56.789Z"
   },
   {
    "duration": 95,
    "start_time": "2023-05-19T18:09:11.767Z"
   },
   {
    "duration": 5,
    "start_time": "2023-05-19T18:09:11.864Z"
   },
   {
    "duration": 7,
    "start_time": "2023-05-19T18:09:11.872Z"
   },
   {
    "duration": 178,
    "start_time": "2023-05-19T18:09:11.881Z"
   },
   {
    "duration": 3,
    "start_time": "2023-05-19T18:09:12.061Z"
   },
   {
    "duration": 1581964,
    "start_time": "2023-05-19T18:09:12.065Z"
   },
   {
    "duration": 0,
    "start_time": "2023-05-19T18:35:34.035Z"
   },
   {
    "duration": 0,
    "start_time": "2023-05-19T18:35:34.040Z"
   },
   {
    "duration": 0,
    "start_time": "2023-05-19T18:35:34.041Z"
   },
   {
    "duration": 0,
    "start_time": "2023-05-19T18:35:34.042Z"
   },
   {
    "duration": 0,
    "start_time": "2023-05-19T18:35:34.044Z"
   },
   {
    "duration": 0,
    "start_time": "2023-05-19T18:35:34.045Z"
   },
   {
    "duration": 0,
    "start_time": "2023-05-19T18:35:34.046Z"
   },
   {
    "duration": 0,
    "start_time": "2023-05-19T18:35:34.047Z"
   },
   {
    "duration": 0,
    "start_time": "2023-05-19T18:35:34.048Z"
   },
   {
    "duration": 0,
    "start_time": "2023-05-19T18:35:34.049Z"
   },
   {
    "duration": 0,
    "start_time": "2023-05-19T18:35:34.049Z"
   },
   {
    "duration": 0,
    "start_time": "2023-05-19T18:35:34.050Z"
   },
   {
    "duration": 0,
    "start_time": "2023-05-19T18:35:34.051Z"
   },
   {
    "duration": 0,
    "start_time": "2023-05-19T18:35:34.052Z"
   },
   {
    "duration": 0,
    "start_time": "2023-05-19T18:35:34.053Z"
   },
   {
    "duration": 0,
    "start_time": "2023-05-19T18:35:34.054Z"
   },
   {
    "duration": 3675,
    "start_time": "2023-05-19T18:40:05.765Z"
   },
   {
    "duration": 1794,
    "start_time": "2023-05-19T18:40:09.443Z"
   },
   {
    "duration": 7,
    "start_time": "2023-05-19T18:40:11.238Z"
   },
   {
    "duration": 5,
    "start_time": "2023-05-19T18:40:11.248Z"
   },
   {
    "duration": 1235,
    "start_time": "2023-05-19T18:40:11.254Z"
   },
   {
    "duration": 138,
    "start_time": "2023-05-19T18:40:12.490Z"
   },
   {
    "duration": 1547,
    "start_time": "2023-05-19T18:40:12.630Z"
   },
   {
    "duration": 2767,
    "start_time": "2023-05-19T18:40:14.178Z"
   },
   {
    "duration": 21,
    "start_time": "2023-05-19T18:40:16.947Z"
   },
   {
    "duration": 15,
    "start_time": "2023-05-19T18:40:16.972Z"
   },
   {
    "duration": 55,
    "start_time": "2023-05-19T18:40:16.989Z"
   },
   {
    "duration": 438,
    "start_time": "2023-05-19T18:40:17.045Z"
   },
   {
    "duration": 173,
    "start_time": "2023-05-19T18:40:17.485Z"
   },
   {
    "duration": 223,
    "start_time": "2023-05-19T18:40:17.660Z"
   },
   {
    "duration": 110,
    "start_time": "2023-05-19T18:40:17.884Z"
   },
   {
    "duration": 2003,
    "start_time": "2023-05-19T18:40:17.995Z"
   },
   {
    "duration": 61,
    "start_time": "2023-05-19T18:40:19.999Z"
   },
   {
    "duration": 36,
    "start_time": "2023-05-19T18:40:20.062Z"
   },
   {
    "duration": 44,
    "start_time": "2023-05-19T18:40:20.100Z"
   },
   {
    "duration": 77,
    "start_time": "2023-05-19T18:40:20.146Z"
   },
   {
    "duration": 6789,
    "start_time": "2023-05-19T18:40:20.225Z"
   },
   {
    "duration": 6218,
    "start_time": "2023-05-19T18:40:27.016Z"
   },
   {
    "duration": 351,
    "start_time": "2023-05-19T18:40:33.237Z"
   },
   {
    "duration": 69,
    "start_time": "2023-05-19T18:40:33.590Z"
   },
   {
    "duration": 4,
    "start_time": "2023-05-19T18:40:33.662Z"
   },
   {
    "duration": 11,
    "start_time": "2023-05-19T18:40:33.668Z"
   },
   {
    "duration": 428,
    "start_time": "2023-05-19T18:40:33.681Z"
   },
   {
    "duration": 24,
    "start_time": "2023-05-19T18:40:34.117Z"
   },
   {
    "duration": 6,
    "start_time": "2023-05-19T18:40:34.143Z"
   },
   {
    "duration": 43,
    "start_time": "2023-05-19T18:40:34.151Z"
   },
   {
    "duration": 47,
    "start_time": "2023-05-19T18:40:34.196Z"
   },
   {
    "duration": 173,
    "start_time": "2023-05-19T18:40:34.245Z"
   },
   {
    "duration": 145069,
    "start_time": "2023-05-19T18:40:34.421Z"
   },
   {
    "duration": 3,
    "start_time": "2023-05-19T18:42:59.491Z"
   },
   {
    "duration": 14320,
    "start_time": "2023-05-19T18:42:59.495Z"
   },
   {
    "duration": 74,
    "start_time": "2023-05-19T18:43:13.817Z"
   },
   {
    "duration": 4,
    "start_time": "2023-05-19T18:43:13.893Z"
   },
   {
    "duration": 22,
    "start_time": "2023-05-19T18:43:13.899Z"
   },
   {
    "duration": 149,
    "start_time": "2023-05-19T18:43:13.922Z"
   },
   {
    "duration": 4,
    "start_time": "2023-05-19T18:43:14.073Z"
   },
   {
    "duration": 5,
    "start_time": "2023-05-19T18:43:14.079Z"
   },
   {
    "duration": 155,
    "start_time": "2023-05-19T18:43:14.085Z"
   },
   {
    "duration": 0,
    "start_time": "2023-05-19T18:43:14.242Z"
   },
   {
    "duration": 0,
    "start_time": "2023-05-19T18:43:14.244Z"
   },
   {
    "duration": 0,
    "start_time": "2023-05-19T18:43:14.246Z"
   },
   {
    "duration": 0,
    "start_time": "2023-05-19T18:43:14.246Z"
   },
   {
    "duration": 0,
    "start_time": "2023-05-19T18:43:14.247Z"
   },
   {
    "duration": 0,
    "start_time": "2023-05-19T18:43:14.248Z"
   },
   {
    "duration": 0,
    "start_time": "2023-05-19T18:43:14.249Z"
   },
   {
    "duration": 0,
    "start_time": "2023-05-19T18:43:14.250Z"
   },
   {
    "duration": 0,
    "start_time": "2023-05-19T18:43:14.251Z"
   },
   {
    "duration": 0,
    "start_time": "2023-05-19T18:43:14.252Z"
   },
   {
    "duration": 0,
    "start_time": "2023-05-19T18:43:14.253Z"
   },
   {
    "duration": 0,
    "start_time": "2023-05-19T18:43:14.254Z"
   },
   {
    "duration": 0,
    "start_time": "2023-05-19T18:43:14.254Z"
   },
   {
    "duration": 0,
    "start_time": "2023-05-19T18:43:14.256Z"
   },
   {
    "duration": 0,
    "start_time": "2023-05-19T18:43:14.257Z"
   },
   {
    "duration": 2,
    "start_time": "2023-05-19T18:44:58.188Z"
   },
   {
    "duration": 415142,
    "start_time": "2023-05-19T18:44:58.193Z"
   },
   {
    "duration": 514,
    "start_time": "2023-05-19T18:51:53.337Z"
   },
   {
    "duration": 11,
    "start_time": "2023-05-19T18:51:53.926Z"
   },
   {
    "duration": 10,
    "start_time": "2023-05-19T18:51:53.940Z"
   },
   {
    "duration": 8,
    "start_time": "2023-05-19T18:51:53.952Z"
   },
   {
    "duration": 20,
    "start_time": "2023-05-19T18:51:53.961Z"
   },
   {
    "duration": 0,
    "start_time": "2023-05-19T18:51:53.984Z"
   },
   {
    "duration": 0,
    "start_time": "2023-05-19T18:51:53.985Z"
   },
   {
    "duration": 0,
    "start_time": "2023-05-19T18:51:53.987Z"
   },
   {
    "duration": 0,
    "start_time": "2023-05-19T18:51:53.988Z"
   },
   {
    "duration": 0,
    "start_time": "2023-05-19T18:51:53.990Z"
   },
   {
    "duration": 0,
    "start_time": "2023-05-19T18:51:53.992Z"
   },
   {
    "duration": 0,
    "start_time": "2023-05-19T18:51:53.993Z"
   },
   {
    "duration": 0,
    "start_time": "2023-05-19T18:51:53.995Z"
   },
   {
    "duration": 0,
    "start_time": "2023-05-19T18:51:53.997Z"
   },
   {
    "duration": 4,
    "start_time": "2023-05-19T18:57:17.354Z"
   },
   {
    "duration": 785475,
    "start_time": "2023-05-19T18:57:17.360Z"
   },
   {
    "duration": 685,
    "start_time": "2023-05-19T19:10:22.842Z"
   },
   {
    "duration": 9,
    "start_time": "2023-05-19T19:10:23.531Z"
   },
   {
    "duration": 203,
    "start_time": "2023-05-19T19:10:23.543Z"
   },
   {
    "duration": 3,
    "start_time": "2023-05-19T19:10:23.747Z"
   },
   {
    "duration": 6004,
    "start_time": "2023-05-19T19:10:23.752Z"
   },
   {
    "duration": 52,
    "start_time": "2023-05-19T19:10:29.757Z"
   },
   {
    "duration": 5,
    "start_time": "2023-05-19T19:10:29.811Z"
   },
   {
    "duration": 19,
    "start_time": "2023-05-19T19:10:29.832Z"
   },
   {
    "duration": 2419,
    "start_time": "2023-05-19T19:16:11.517Z"
   },
   {
    "duration": 5,
    "start_time": "2023-05-19T19:16:13.938Z"
   },
   {
    "duration": 14,
    "start_time": "2023-05-19T19:16:13.944Z"
   },
   {
    "duration": 6,
    "start_time": "2023-05-19T19:16:13.960Z"
   },
   {
    "duration": 825,
    "start_time": "2023-05-19T19:16:13.967Z"
   },
   {
    "duration": 173,
    "start_time": "2023-05-19T19:16:14.794Z"
   },
   {
    "duration": 1566,
    "start_time": "2023-05-19T19:16:14.969Z"
   },
   {
    "duration": 2571,
    "start_time": "2023-05-19T19:16:16.538Z"
   },
   {
    "duration": 15,
    "start_time": "2023-05-19T19:16:19.125Z"
   },
   {
    "duration": 27,
    "start_time": "2023-05-19T19:16:19.144Z"
   },
   {
    "duration": 20,
    "start_time": "2023-05-19T19:16:19.172Z"
   },
   {
    "duration": 421,
    "start_time": "2023-05-19T19:16:19.194Z"
   },
   {
    "duration": 142,
    "start_time": "2023-05-19T19:16:19.617Z"
   },
   {
    "duration": 148,
    "start_time": "2023-05-19T19:16:19.761Z"
   },
   {
    "duration": 94,
    "start_time": "2023-05-19T19:16:19.911Z"
   },
   {
    "duration": 1871,
    "start_time": "2023-05-19T19:16:20.006Z"
   },
   {
    "duration": 58,
    "start_time": "2023-05-19T19:16:21.879Z"
   },
   {
    "duration": 62,
    "start_time": "2023-05-19T19:16:21.940Z"
   },
   {
    "duration": 37,
    "start_time": "2023-05-19T19:16:22.004Z"
   },
   {
    "duration": 60,
    "start_time": "2023-05-19T19:16:22.043Z"
   },
   {
    "duration": 7079,
    "start_time": "2023-05-19T19:16:22.105Z"
   },
   {
    "duration": 6107,
    "start_time": "2023-05-19T19:16:29.185Z"
   },
   {
    "duration": 283,
    "start_time": "2023-05-19T19:16:35.293Z"
   },
   {
    "duration": 57,
    "start_time": "2023-05-19T19:16:35.578Z"
   },
   {
    "duration": 5,
    "start_time": "2023-05-19T19:16:35.637Z"
   },
   {
    "duration": 9,
    "start_time": "2023-05-19T19:16:35.644Z"
   },
   {
    "duration": 410,
    "start_time": "2023-05-19T19:16:35.656Z"
   },
   {
    "duration": 6,
    "start_time": "2023-05-19T19:16:36.071Z"
   },
   {
    "duration": 7,
    "start_time": "2023-05-19T19:16:36.079Z"
   },
   {
    "duration": 63,
    "start_time": "2023-05-19T19:16:36.088Z"
   },
   {
    "duration": 190,
    "start_time": "2023-05-19T19:16:36.154Z"
   },
   {
    "duration": 173,
    "start_time": "2023-05-19T19:16:36.346Z"
   },
   {
    "duration": 143552,
    "start_time": "2023-05-19T19:16:36.521Z"
   },
   {
    "duration": 3,
    "start_time": "2023-05-19T19:19:00.075Z"
   },
   {
    "duration": 14204,
    "start_time": "2023-05-19T19:19:00.080Z"
   },
   {
    "duration": 74,
    "start_time": "2023-05-19T19:19:14.286Z"
   },
   {
    "duration": 6,
    "start_time": "2023-05-19T19:19:14.362Z"
   },
   {
    "duration": 17,
    "start_time": "2023-05-19T19:19:14.369Z"
   },
   {
    "duration": 139,
    "start_time": "2023-05-19T19:19:14.388Z"
   },
   {
    "duration": 3,
    "start_time": "2023-05-19T19:19:14.529Z"
   },
   {
    "duration": 1748397,
    "start_time": "2023-05-19T19:19:14.536Z"
   },
   {
    "duration": 11,
    "start_time": "2023-05-19T19:48:22.934Z"
   },
   {
    "duration": 421289,
    "start_time": "2023-05-19T19:48:22.946Z"
   },
   {
    "duration": 500,
    "start_time": "2023-05-19T19:55:24.242Z"
   },
   {
    "duration": 77,
    "start_time": "2023-05-19T19:55:24.744Z"
   },
   {
    "duration": 33,
    "start_time": "2023-05-19T19:55:24.823Z"
   },
   {
    "duration": 15700,
    "start_time": "2023-05-20T13:13:59.208Z"
   },
   {
    "duration": 9111,
    "start_time": "2023-05-20T13:14:14.910Z"
   },
   {
    "duration": 84,
    "start_time": "2023-05-20T13:14:24.023Z"
   },
   {
    "duration": 6,
    "start_time": "2023-05-20T13:14:24.109Z"
   },
   {
    "duration": 6596,
    "start_time": "2023-05-20T13:14:24.209Z"
   },
   {
    "duration": 2904,
    "start_time": "2023-05-20T13:14:30.810Z"
   },
   {
    "duration": 10397,
    "start_time": "2023-05-20T13:14:33.717Z"
   },
   {
    "duration": 20299,
    "start_time": "2023-05-20T13:14:44.206Z"
   },
   {
    "duration": 291,
    "start_time": "2023-05-20T13:15:04.514Z"
   },
   {
    "duration": 107,
    "start_time": "2023-05-20T13:15:04.811Z"
   },
   {
    "duration": 191,
    "start_time": "2023-05-20T13:15:04.919Z"
   },
   {
    "duration": 3692,
    "start_time": "2023-05-20T13:15:05.114Z"
   },
   {
    "duration": 1097,
    "start_time": "2023-05-20T13:15:08.808Z"
   },
   {
    "duration": 1089,
    "start_time": "2023-05-20T13:15:09.917Z"
   },
   {
    "duration": 697,
    "start_time": "2023-05-20T13:15:11.008Z"
   },
   {
    "duration": 12601,
    "start_time": "2023-05-20T13:15:11.709Z"
   },
   {
    "duration": 1204,
    "start_time": "2023-05-20T13:15:24.312Z"
   },
   {
    "duration": 309,
    "start_time": "2023-05-20T13:15:25.607Z"
   },
   {
    "duration": 194,
    "start_time": "2023-05-20T13:15:25.920Z"
   },
   {
    "duration": 303,
    "start_time": "2023-05-20T13:15:26.116Z"
   },
   {
    "duration": 44594,
    "start_time": "2023-05-20T13:15:26.421Z"
   },
   {
    "duration": 36233,
    "start_time": "2023-05-20T13:16:11.107Z"
   },
   {
    "duration": 466,
    "start_time": "2023-05-20T13:16:47.341Z"
   },
   {
    "duration": 141,
    "start_time": "2023-05-20T13:16:47.809Z"
   },
   {
    "duration": 56,
    "start_time": "2023-05-20T13:16:47.952Z"
   },
   {
    "duration": 3,
    "start_time": "2023-05-20T13:16:48.011Z"
   },
   {
    "duration": 686,
    "start_time": "2023-05-20T13:16:48.016Z"
   },
   {
    "duration": 10,
    "start_time": "2023-05-20T13:16:48.704Z"
   },
   {
    "duration": 9,
    "start_time": "2023-05-20T13:16:48.716Z"
   },
   {
    "duration": 68,
    "start_time": "2023-05-20T13:16:48.727Z"
   },
   {
    "duration": 12,
    "start_time": "2023-05-20T13:16:48.797Z"
   },
   {
    "duration": 95,
    "start_time": "2023-05-20T13:16:48.812Z"
   },
   {
    "duration": 109784,
    "start_time": "2023-05-20T13:16:48.909Z"
   },
   {
    "duration": 3,
    "start_time": "2023-05-20T13:18:38.694Z"
   },
   {
    "duration": 10017,
    "start_time": "2023-05-20T13:18:38.698Z"
   },
   {
    "duration": 69,
    "start_time": "2023-05-20T13:18:48.717Z"
   },
   {
    "duration": 19,
    "start_time": "2023-05-20T13:18:48.788Z"
   },
   {
    "duration": 2,
    "start_time": "2023-05-20T13:18:48.809Z"
   },
   {
    "duration": 121,
    "start_time": "2023-05-20T13:18:48.812Z"
   },
   {
    "duration": 3,
    "start_time": "2023-05-20T13:18:48.935Z"
   },
   {
    "duration": 18578,
    "start_time": "2023-05-20T13:18:48.942Z"
   },
   {
    "duration": 5,
    "start_time": "2023-05-20T13:19:07.522Z"
   },
   {
    "duration": 8484,
    "start_time": "2023-05-20T13:19:07.529Z"
   },
   {
    "duration": 391,
    "start_time": "2023-05-20T13:19:16.014Z"
   },
   {
    "duration": 5,
    "start_time": "2023-05-20T13:19:16.407Z"
   },
   {
    "duration": 14,
    "start_time": "2023-05-20T13:19:16.413Z"
   },
   {
    "duration": 23493,
    "start_time": "2023-05-20T13:19:16.429Z"
   },
   {
    "duration": 5,
    "start_time": "2023-05-20T13:19:39.924Z"
   },
   {
    "duration": 5578,
    "start_time": "2023-05-20T13:19:39.931Z"
   },
   {
    "duration": 398,
    "start_time": "2023-05-20T13:19:45.511Z"
   },
   {
    "duration": 5,
    "start_time": "2023-05-20T13:19:45.911Z"
   },
   {
    "duration": 37439,
    "start_time": "2023-05-20T13:19:45.917Z"
   },
   {
    "duration": 3,
    "start_time": "2023-05-20T13:20:23.358Z"
   },
   {
    "duration": 4815,
    "start_time": "2023-05-20T13:20:23.363Z"
   },
   {
    "duration": 42,
    "start_time": "2023-05-20T13:20:28.179Z"
   },
   {
    "duration": 5,
    "start_time": "2023-05-20T13:20:28.223Z"
   },
   {
    "duration": 20,
    "start_time": "2023-05-20T13:20:28.230Z"
   }
  ],
  "colab": {
   "gpuType": "T4",
   "provenance": []
  },
  "gpuClass": "standard",
  "kernelspec": {
   "display_name": "Python 3 (ipykernel)",
   "language": "python",
   "name": "python3"
  },
  "language_info": {
   "codemirror_mode": {
    "name": "ipython",
    "version": 3
   },
   "file_extension": ".py",
   "mimetype": "text/x-python",
   "name": "python",
   "nbconvert_exporter": "python",
   "pygments_lexer": "ipython3",
   "version": "3.10.9"
  },
  "toc": {
   "base_numbering": 1,
   "nav_menu": {},
   "number_sections": true,
   "sideBar": true,
   "skip_h1_title": true,
   "title_cell": "Table of Contents",
   "title_sidebar": "Contents",
   "toc_cell": false,
   "toc_position": {
    "height": "calc(100% - 180px)",
    "left": "10px",
    "top": "150px",
    "width": "371px"
   },
   "toc_section_display": true,
   "toc_window_display": true
  }
 },
 "nbformat": 4,
 "nbformat_minor": 4
}
